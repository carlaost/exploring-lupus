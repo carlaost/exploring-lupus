{
 "cells": [
  {
   "cell_type": "code",
   "execution_count": null,
   "id": "6fba5835",
   "metadata": {},
   "outputs": [],
   "source": [
    "#!/usr/bin/env\n"
   ]
  },
  {
   "cell_type": "markdown",
   "id": "26045fb2",
   "metadata": {},
   "source": [
    "\"\"\"\n"
   ]
  },
  {
   "cell_type": "markdown",
   "id": "33571c4a",
   "metadata": {},
   "source": []
  },
  {
   "cell_type": "markdown",
   "id": "87b0b89b",
   "metadata": {},
   "source": [
    "make line datacubes and integrated maps\n",
    "and compare applying continuum selfcal\n",
    "NOTE: this is intended to be an interactive, iterative process\n",
    "      so this is more a log that should be run by cutting and\n",
    "      pasting into casa rather than as an executable script\n",
    "      search \"CHANGEME\" for variables to be changed\n",
    "10/9/15 MCA\n",
    "\"\"\"\n"
   ]
  },
  {
   "cell_type": "markdown",
   "id": "5bc379c0",
   "metadata": {},
   "source": [
    "#  Setup "
   ]
  },
  {
   "cell_type": "markdown",
   "id": "abddaddf",
   "metadata": {},
   "source": [
    "III_57    M0.5      II\n"
   ]
  },
  {
   "cell_type": "code",
   "execution_count": null,
   "id": "af16b752",
   "metadata": {},
   "outputs": [],
   "source": [
    "field = 8\n",
    "fitspw    = '2,3,4,7,8,9'                                   # line-free channels for fitting continuum\n",
    "linespw   = '0,1,3,5,6,8'                                   # line spectral windows (C18O, 13CO, CN)\n",
    "robust     = 0.5                                            # CHANGEME\n",
    "imsize     = [640,640]\n",
    "cell       = '0.03arcsec'\n",
    "imagermode = 'csclean'\n",
    "outframe   = 'lsrk'\n",
    "veltype    = 'radio'\n",
    "width      = '1.0km/s'\n",
    "start      = '-3km/s'\n",
    "nchan      = 16\n",
    "xc         = 326                               # CHANGEME\n",
    "yc         = 306                               # CHANGEME\n",
    "in_a       = 80\n",
    "out_a      = 120\n",
    "aper       = 0.5\n",
    "boxwidth = 300.\n",
    "box = rg.box([xc-boxwidth,yc-boxwidth],[xc+boxwidth,yc+boxwidth])\n"
   ]
  },
  {
   "cell_type": "markdown",
   "id": "61ec5f9d",
   "metadata": {},
   "source": [
    "#  Create continuum subtracted line datasets "
   ]
  },
  {
   "cell_type": "code",
   "execution_count": null,
   "id": "ab133653",
   "metadata": {},
   "outputs": [],
   "source": [
    "uvcontsub(vis       = 'f'+str(field)+'.vis',                # full vis file for this field\n",
    "          spw       = linespw,                              # line spw (for cont subtraction)\n",
    "          fitspw    = fitspw,                               # cont spw\n",
    "          combine   = 'spw',\n",
    "          solint    = 'int',\n",
    "          fitorder  = 1,\n",
    "          want_cont = False)                                # should not be changed.\n"
   ]
  },
  {
   "cell_type": "markdown",
   "id": "425a04a3",
   "metadata": {},
   "source": [
    "#  13CO line "
   ]
  },
  {
   "cell_type": "markdown",
   "id": "7a5f2717",
   "metadata": {},
   "source": [
    "first try on 13CO line as thats going to be the brightest\n",
    "os.system('rm -rf f'+str(field)+'_13co32*')\n"
   ]
  },
  {
   "cell_type": "code",
   "execution_count": null,
   "id": "4079f971",
   "metadata": {},
   "outputs": [],
   "source": [
    "clean(vis           = 'f'+str(field)+'.vis.contsub',\n",
    "      imagename     = 'f'+str(field)+'_13co32',\n",
    "      mode          = 'velocity',\n",
    "      start         = start,\n",
    "      width         = width,\n",
    "      nchan         = nchan,\n",
    "      outframe      = outframe,\n",
    "      veltype       = veltype,\n",
    "      restfreq      = '330.58797GHz',\n",
    "      niter         = 500,\n",
    "      threshold     = 0,\n",
    "      interactive   = False,\n",
    "      mask          = 'f08_cont_mask.crtf',\n",
    "      imsize        = imsize,\n",
    "      cell          = cell,\n",
    "      weighting     ='briggs',\n",
    "      robust        = robust,\n",
    "      imagermode    = imagermode)\n"
   ]
  },
  {
   "cell_type": "markdown",
   "id": "8ea175c6",
   "metadata": {},
   "source": [
    "used continuum region in automated mode\n",
    "can't see emission\n",
    "export cube to fits file    \n"
   ]
  },
  {
   "cell_type": "code",
   "execution_count": null,
   "id": "a262eb33",
   "metadata": {},
   "outputs": [],
   "source": [
    "fbase = 'f'+str(field)+'_13co32'\n",
    "os.system('rm -rf '+fbase+'.cube.fits')\n",
    "exportfits(imagename=fbase+'.image',fitsimage=fbase+'.cube.fits')\n"
   ]
  },
  {
   "cell_type": "markdown",
   "id": "7528029d",
   "metadata": {},
   "source": [
    "use viewer to check channel maps and spectrum\n",
    "make sure that velocity range is adequate and continuum subtraction ok\n"
   ]
  },
  {
   "cell_type": "code",
   "execution_count": null,
   "id": "23af244a",
   "metadata": {},
   "outputs": [],
   "source": [
    "imview(raster   = [{'file':'f'+str(field)+'_13co32.image'}],\n",
    "        contour = [{'file':'f'+str(field)+'_cont.fits'}])\n"
   ]
  },
  {
   "cell_type": "markdown",
   "id": "1aeacb14",
   "metadata": {},
   "source": [
    "can't see peaks\n",
    "redo moment0 maps (now excluding noisy first channel!!)\n",
    "os.system('rm -rf f'+str(field)+'_13co32.mom0*')\n"
   ]
  },
  {
   "cell_type": "code",
   "execution_count": null,
   "id": "5a93f93f",
   "metadata": {},
   "outputs": [],
   "source": [
    "immoments(imagename  = 'f'+str(field)+'_13co32.image',            # CHANGEME (based on above analysis!!)\n",
    "          outfile    = 'f'+str(field)+'_13co32.mom0',\n",
    "          moments    = [0],\n",
    "          includepix = [-10.0,100.0],\n",
    "          chans      = ('range=[2km/s,6km/s]'))                        # CHANGEME (based on above analysis!!)\n"
   ]
  },
  {
   "cell_type": "markdown",
   "id": "434b69b9",
   "metadata": {},
   "source": [
    "can't see peaks\n",
    "export to fits file    \n"
   ]
  },
  {
   "cell_type": "code",
   "execution_count": null,
   "id": "37cd49bb",
   "metadata": {},
   "outputs": [],
   "source": [
    "fbase = 'f'+str(field)+'_13co32.mom0'\n",
    "os.system('rm -rf '+fbase+'.fits')\n",
    "exportfits(imagename=fbase,fitsimage=fbase+'.fits')\n"
   ]
  },
  {
   "cell_type": "markdown",
   "id": "59cc4167",
   "metadata": {},
   "source": [
    "measure flux\n",
    "imview(raster=[{'file':'f'+str(field)+'_13co32.mom0'}])\n"
   ]
  },
  {
   "cell_type": "code",
   "execution_count": null,
   "id": "3afa9b9b",
   "metadata": {},
   "outputs": [],
   "source": [
    "im_max = imstat(imagename = 'f'+str(field)+'_13co32.mom0')['max'][0]\n",
    "im_rms = imstat(imagename = 'f'+str(field)+'_13co32.mom0',\n",
    "                region='annulus[['+str(xc)+'pix,'+str(yc)+'pix],['+str(in_a)+'pix,'+str(out_a)+'pix]]')['rms'][0]\n",
    "im_flux = imstat(imagename = 'f'+str(field)+'_13co32.mom0',\n",
    "                 region='circle[['+str(xc)+'pix,'+str(yc)+'pix],'+str(aper)+'arcsec]')['flux'][0]\n",
    "print 'Flux = {0:.2f} mJy, rms = {1:.2f} mJy, S/N = {2:.1f}'.format(1000*im_flux, 1000*im_rms, im_flux/im_rms)\n"
   ]
  },
  {
   "cell_type": "markdown",
   "id": "a6e38d81",
   "metadata": {},
   "source": [
    "Flux = 69.30 mJy, rms = 30.76 mJy, S/N = 2.3\n",
    "view continuum and gas\n"
   ]
  },
  {
   "cell_type": "code",
   "execution_count": null,
   "id": "b2136f02",
   "metadata": {},
   "outputs": [],
   "source": [
    "imview(raster=[{'file':'f'+str(field)+'_13co32.mom0'}],\n",
    "       contour = [{'file':'f'+str(field)+'_cont.fits'}])\n"
   ]
  },
  {
   "cell_type": "markdown",
   "id": "e93a782b",
   "metadata": {},
   "source": [
    "re-center image on source and use measure.py to get COG flux\n",
    "os.system('rm -rf f'+str(field)+'_13co32.mom0_cropped*')\n"
   ]
  },
  {
   "cell_type": "code",
   "execution_count": null,
   "id": "971f0e79",
   "metadata": {},
   "outputs": [],
   "source": [
    "ia.fromimage(outfile = 'f'+str(field)+'_13co32.mom0_cropped.image',\n",
    "             infile  = 'f'+str(field)+'_13co32.mom0.fits',\n",
    "             region  = box )\n",
    "ia.close() \n",
    "exportfits(imagename = 'f'+str(field)+'_13co32.mom0_cropped.image',\n",
    "           fitsimage = 'f'+str(field)+'_13co32.mom0_cropped.fits')\n"
   ]
  },
  {
   "cell_type": "code",
   "execution_count": null,
   "id": "a38445dd",
   "metadata": {},
   "outputs": [],
   "source": [
    "Measuring COG for M/f8_13co32.mom0_cropped.fits\n",
    "Assuming object center (300.0,300.0)\n",
    "Background: -0.09 mJy/beam km/s\n",
    "RMS in annulus 4.0-6.0 arcsec = 32.26 mJy/beam km/s\n",
    "   i   radius    flux      err       snr\n",
    "       (asec)    (mJy)     (mJy)\n",
    "   0     0.10    17.80    10.15      1.8\n",
    "   1     0.20    46.95    25.96      1.8\n",
    "   2     0.30    66.99    39.37      1.7 <-- ND\n",
    "   3     0.40    77.75    46.58      1.7\n",
    "   4     0.50    69.30    57.07      1.2\n",
    "   5     0.60    36.74    90.31      0.4\n",
    "   6     0.70    23.12    72.57      0.3\n",
    "   7     0.80    39.39    79.92      0.5\n",
    "F = 77.75 mJy\n",
    "E = 46.58 mJy\n",
    "S = 1.67\n",
    "D = 0.80 arcsec\n"
   ]
  },
  {
   "cell_type": "markdown",
   "id": "2dddfa63",
   "metadata": {},
   "source": [
    "#  C18O line  "
   ]
  },
  {
   "cell_type": "markdown",
   "id": "45791bb5",
   "metadata": {},
   "source": [
    "don't bother with selfcal as it doesn't help...\n",
    "os.system('rm -rf f'+str(field)+'_c18o32*')\n"
   ]
  },
  {
   "cell_type": "code",
   "execution_count": null,
   "id": "24c70291",
   "metadata": {},
   "outputs": [],
   "source": [
    "clean(vis           = 'f'+str(field)+'.vis.contsub',\n",
    "      imagename     = 'f'+str(field)+'_c18o32',\n",
    "      mode          = 'velocity',\n",
    "      start         = start,\n",
    "      width         = width,\n",
    "      nchan         = nchan,\n",
    "      outframe      = outframe,\n",
    "      veltype       = veltype,\n",
    "      restfreq      = '329.33055GHz',\n",
    "      niter         = 500,\n",
    "      threshold     = 0,\n",
    "      interactive   = False,\n",
    "      mask          = 'f08_cont_mask.crtf',\n",
    "      imsize        = imsize,\n",
    "      cell          = cell,\n",
    "      weighting     ='briggs',\n",
    "      robust        = robust,\n",
    "      imagermode    = imagermode)\n"
   ]
  },
  {
   "cell_type": "markdown",
   "id": "894b23a3",
   "metadata": {},
   "source": [
    "use viewer to check channel maps and spectrum\n",
    "make sure that velocity range is adequate and continuum subtraction ok\n"
   ]
  },
  {
   "cell_type": "code",
   "execution_count": null,
   "id": "92563602",
   "metadata": {},
   "outputs": [],
   "source": [
    "imview(raster   = [{'file':'f'+str(field)+'_c18o32_b4sc.image'}],\n",
    "        contour = [{'file':'f'+str(field)+'_cont.fits'}])\n"
   ]
  },
  {
   "cell_type": "markdown",
   "id": "b413f967",
   "metadata": {},
   "source": [
    "export cube to fits file    \n"
   ]
  },
  {
   "cell_type": "code",
   "execution_count": null,
   "id": "452e24c6",
   "metadata": {},
   "outputs": [],
   "source": [
    "fbase = 'f'+str(field)+'_c18o32'\n",
    "os.system('rm -rf '+fbase+'.cube.fits')\n",
    "exportfits(imagename=fbase+'.image',fitsimage=fbase+'.cube.fits')\n"
   ]
  },
  {
   "cell_type": "markdown",
   "id": "289ff9e7",
   "metadata": {},
   "source": [
    "redo moment0 maps (now excluding noisy first channel!!)\n",
    "os.system('rm -rf f'+str(field)+'_c18o32.mom0*')\n"
   ]
  },
  {
   "cell_type": "code",
   "execution_count": null,
   "id": "c43669f6",
   "metadata": {},
   "outputs": [],
   "source": [
    "immoments(imagename  = 'f'+str(field)+'_c18o32.image',            # CHANGEME (based on above analysis!!)\n",
    "          outfile    = 'f'+str(field)+'_c18o32.mom0',\n",
    "          moments    = [0],\n",
    "          includepix = [-10.0,100.0],\n",
    "          chans      = ('range=[2km/s,6km/s]'))\n"
   ]
  },
  {
   "cell_type": "markdown",
   "id": "1df06961",
   "metadata": {},
   "source": [
    "can see emission\n",
    "export to fits file    \n"
   ]
  },
  {
   "cell_type": "code",
   "execution_count": null,
   "id": "937c3c4f",
   "metadata": {},
   "outputs": [],
   "source": [
    "fbase = 'f'+str(field)+'_c18o32.mom0'\n",
    "os.system('rm -rf '+fbase+'.fits')\n",
    "exportfits(imagename=fbase,fitsimage=fbase+'.fits')\n"
   ]
  },
  {
   "cell_type": "markdown",
   "id": "e6b5efc5",
   "metadata": {},
   "source": [
    "measure flux\n"
   ]
  },
  {
   "cell_type": "code",
   "execution_count": null,
   "id": "786ddc8c",
   "metadata": {},
   "outputs": [],
   "source": [
    "im_rms = imstat(imagename = 'f'+str(field)+'_c18o32.mom0',\n",
    "                region='annulus[['+str(xc)+'pix,'+str(yc)+'pix],['+str(in_a)+'pix,'+str(out_a)+'pix]]')['rms'][0]\n",
    "im_flux = imstat(imagename = 'f'+str(field)+'_c18o32.mom0',\n",
    "                 region='circle[['+str(xc)+'pix,'+str(yc)+'pix],'+str(aper)+'arcsec]')['flux'][0]\n",
    "print 'Flux = {0:.2f} mJy, rms = {1:.2f} mJy, S/N = {2:.1f}'.format(1000*im_flux, 1000*im_rms, im_flux/im_rms)\n"
   ]
  },
  {
   "cell_type": "markdown",
   "id": "6b1fe646",
   "metadata": {},
   "source": [
    "Flux = 79.89 mJy, rms = 40.14 mJy, S/N = 2.0\n",
    "view continuum and gas\n"
   ]
  },
  {
   "cell_type": "code",
   "execution_count": null,
   "id": "3ba60539",
   "metadata": {},
   "outputs": [],
   "source": [
    "imview(raster=[{'file':'f'+str(field)+'_c18o32.mom0'}],\n",
    "       contour = [{'file':'f'+str(field)+'_cont.fits'}])\n"
   ]
  },
  {
   "cell_type": "markdown",
   "id": "e7704f1b",
   "metadata": {},
   "source": [
    "re-center image on source and use measure.py to get COG flux\n",
    "os.system('rm -rf f'+str(field)+'_c18o32.mom0_cropped*')\n"
   ]
  },
  {
   "cell_type": "code",
   "execution_count": null,
   "id": "f9a149b5",
   "metadata": {},
   "outputs": [],
   "source": [
    "ia.fromimage(outfile = 'f'+str(field)+'_c18o32.mom0_cropped.image',\n",
    "             infile  = 'f'+str(field)+'_c18o32.mom0.fits',\n",
    "             region  = box )\n",
    "ia.close() \n",
    "exportfits(imagename = 'f'+str(field)+'_c18o32.mom0_cropped.image',\n",
    "           fitsimage = 'f'+str(field)+'_c18o32.mom0_cropped.fits')\n"
   ]
  },
  {
   "cell_type": "code",
   "execution_count": null,
   "id": "46ec56e7",
   "metadata": {},
   "outputs": [],
   "source": [
    "Measuring COG for M/f8_c18o32.mom0_cropped.fits\n",
    "Assuming object center (300.0,300.0)\n",
    "Background: -0.77 mJy/beam km/s\n",
    "RMS in annulus 4.0-6.0 arcsec = 40.24 mJy/beam km/s\n",
    "   i   radius    flux      err       snr\n",
    "       (asec)    (mJy)     (mJy)\n",
    "   0     0.10     7.29    11.18      0.7\n",
    "   1     0.20    13.44    35.74      0.4\n",
    "   2     0.30    14.37    44.65      0.3 <-- ND\n",
    "   3     0.40    34.02    58.76      0.6\n",
    "   4     0.50    79.89    72.43      1.1\n",
    "   5     0.60   136.25    89.73      1.5\n",
    "   6     0.70   170.45    89.05      1.9\n",
    "   7     0.80   193.75    90.72      2.1\n",
    "F = 193.75 mJy\n",
    "E = 90.72 mJy\n",
    "S = 2.14\n",
    "D = 1.60 arcsec\n"
   ]
  },
  {
   "cell_type": "markdown",
   "id": "feba8828",
   "metadata": {},
   "source": [
    "#  Image CN  "
   ]
  },
  {
   "cell_type": "markdown",
   "id": "10f1f37d",
   "metadata": {},
   "source": [
    "don't bother with selfcal as it doesn't help...\n",
    "os.system('rm -rf f'+str(field)+'_cn32_b4sc*')\n"
   ]
  },
  {
   "cell_type": "code",
   "execution_count": null,
   "id": "0b2139b1",
   "metadata": {},
   "outputs": [],
   "source": [
    "clean(vis           = 'f'+str(field)+'.vis.contsub',\n",
    "      imagename     = 'f'+str(field)+'_cn32_b4sc',\n",
    "      mode          = 'velocity',\n",
    "      start         = start,\n",
    "      width         = width,\n",
    "      nchan         = nchan,\n",
    "      outframe      = outframe,\n",
    "      veltype       = veltype,\n",
    "      restfreq      = '340.24777GHz',\n",
    "      niter         = 500,\n",
    "      threshold     = 0,\n",
    "      interactive   = False,\n",
    "      mask          = 'f08_cont_mask.crtf',\n",
    "      imsize        = imsize,\n",
    "      cell          = cell,\n",
    "      weighting     ='briggs',\n",
    "      robust        = robust,\n",
    "      imagermode    = imagermode)\n"
   ]
  },
  {
   "cell_type": "markdown",
   "id": "89346cf9",
   "metadata": {},
   "source": [
    "emission very extended, cleaned conservatively\n",
    "use viewer to check channel maps and spectrum\n",
    "make sure that velocity range is adequate and continuum subtraction ok\n"
   ]
  },
  {
   "cell_type": "code",
   "execution_count": null,
   "id": "5884829e",
   "metadata": {},
   "outputs": [],
   "source": [
    "imview(raster   = [{'file':'f'+str(field)+'_cn32_b4sc.image'}],\n",
    "        contour = [{'file':'f'+str(field)+'_cont.fits'}])\n"
   ]
  },
  {
   "cell_type": "markdown",
   "id": "ee9bdea8",
   "metadata": {},
   "source": [
    "redo moment0 maps (now excluding noisy first channel!!)\n",
    "os.system('rm -rf f'+str(field)+'_cn32.mom0*')\n"
   ]
  },
  {
   "cell_type": "code",
   "execution_count": null,
   "id": "14d106da",
   "metadata": {},
   "outputs": [],
   "source": [
    "immoments(imagename  = 'f'+str(field)+'_cn32_b4sc.image',            # CHANGEME (based on above analysis!!)\n",
    "          outfile    = 'f'+str(field)+'_cn32.mom0',\n",
    "          moments    = [0],\n",
    "          includepix = [-10.0,100.0],\n",
    "          chans      = ('range=[1km/s,7km/s]'))                      # CHANGEME (based on above analysis!!)\n"
   ]
  },
  {
   "cell_type": "markdown",
   "id": "fc946eda",
   "metadata": {},
   "source": [
    "cannot see emission\n",
    "export to fits file    \n"
   ]
  },
  {
   "cell_type": "code",
   "execution_count": null,
   "id": "9771cc76",
   "metadata": {},
   "outputs": [],
   "source": [
    "fbase = 'f'+str(field)+'_cn32.mom0'\n",
    "os.system('rm -rf '+fbase+'.fits')\n",
    "exportfits(imagename=fbase,fitsimage=fbase+'.fits')\n"
   ]
  },
  {
   "cell_type": "markdown",
   "id": "06afaffb",
   "metadata": {},
   "source": [
    "measure flux\n"
   ]
  },
  {
   "cell_type": "code",
   "execution_count": null,
   "id": "ab27a870",
   "metadata": {},
   "outputs": [],
   "source": [
    "im_rms = imstat(imagename = 'f'+str(field)+'_cn32.mom0',\n",
    "                region='annulus[['+str(xc)+'pix,'+str(yc)+'pix],['+str(in_a)+'pix,'+str(out_a)+'pix]]')['rms'][0]\n",
    "im_flux = imstat(imagename = 'f'+str(field)+'_cn32.mom0',\n",
    "                 region='circle[['+str(xc)+'pix,'+str(yc)+'pix],'+str(aper)+'arcsec]')['flux'][0]\n",
    "print 'Flux = {0:.2f} mJy, rms = {1:.2f} mJy, S/N = {2:.1f}'.format(1000*im_flux, 1000*im_rms, im_flux/im_rms)\n"
   ]
  },
  {
   "cell_type": "markdown",
   "id": "bd8ec241",
   "metadata": {},
   "source": [
    "Flux = 10.74 mJy, rms = 31.93 mJy, S/N = 0.3\n",
    "view continuum and gas\n"
   ]
  },
  {
   "cell_type": "code",
   "execution_count": null,
   "id": "c07fb645",
   "metadata": {},
   "outputs": [],
   "source": [
    "imview(raster=[{'file':'f'+str(field)+'_cn32.mom0'}],\n",
    "       contour = [{'file':'f'+str(field)+'_cont.fits'}])\n"
   ]
  },
  {
   "cell_type": "markdown",
   "id": "e29ad25e",
   "metadata": {},
   "source": [
    "re-center image on source and use measure.py to get COG flux\n",
    "os.system('rm -rf f'+str(field)+'_cn32.mom0_cropped*')\n"
   ]
  },
  {
   "cell_type": "code",
   "execution_count": null,
   "id": "9a29ec14",
   "metadata": {},
   "outputs": [],
   "source": [
    "ia.fromimage(outfile = 'f'+str(field)+'_cn32.mom0_cropped.image',\n",
    "             infile  = 'f'+str(field)+'_cn32.mom0.fits',\n",
    "             region  = box )\n",
    "ia.close() \n",
    "exportfits(imagename = 'f'+str(field)+'_cn32.mom0_cropped.image',\n",
    "           fitsimage = 'f'+str(field)+'_cn32.mom0_cropped.fits')\n"
   ]
  },
  {
   "cell_type": "markdown",
   "id": "ad4aca40",
   "metadata": {},
   "source": [
    "CAN'T SEE GAS SO JUST USING 1\" APER\n",
    "   5    0.500     877     9.85   66.796     0.1    65.63   30.611     2.1   0.999\n"
   ]
  }
 ],
 "metadata": {},
 "nbformat": 4,
 "nbformat_minor": 5
}
