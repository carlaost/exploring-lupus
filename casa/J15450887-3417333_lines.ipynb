{
 "cells": [
  {
   "cell_type": "code",
   "execution_count": null,
   "id": "a974c7b5",
   "metadata": {},
   "outputs": [],
   "source": [
    "#!/usr/bin/env\n"
   ]
  },
  {
   "cell_type": "markdown",
   "id": "8200192b",
   "metadata": {},
   "source": [
    "\"\"\"\n"
   ]
  },
  {
   "cell_type": "markdown",
   "id": "aab5c509",
   "metadata": {},
   "source": []
  },
  {
   "cell_type": "markdown",
   "id": "d61642eb",
   "metadata": {},
   "source": [
    "make line datacubes and integrated maps\n",
    "and compare applying continuum selfcal\n",
    "NOTE: this is intended to be an interactive, iterative process\n",
    "      so this is more a log that should be run by cutting and\n",
    "      pasting into casa rather than as an executable script\n",
    "      search \"CHANGEME\" for variables to be changed\n",
    "10/9/15 MCA\n",
    "\"\"\"\n"
   ]
  },
  {
   "cell_type": "markdown",
   "id": "ede9df2a",
   "metadata": {},
   "source": [
    "#  Setup "
   ]
  },
  {
   "cell_type": "markdown",
   "id": "25cdce2e",
   "metadata": {},
   "source": [
    "Lupus I_14 15:45:08.88 -34:17:33.7\n",
    "Class II, K0\n"
   ]
  },
  {
   "cell_type": "code",
   "execution_count": null,
   "id": "a394c5df",
   "metadata": {},
   "outputs": [],
   "source": [
    "field = 6                                                   # CHANGEME \n",
    "fitspw    = '2,3,4'                                         # line-free channels for fitting continuum\n",
    "linespw   = '0,1,3'                                         # line spectral windows (C18O, 13CO, CN)\n",
    "robust     = 0.5                                            # CHANGEME\n",
    "imsize     = [640,640]\n",
    "cell       = '0.03arcsec'\n",
    "imagermode = 'csclean'\n",
    "outframe   = 'lsrk'\n",
    "veltype    = 'radio'\n",
    "width      = '0.5km/s'\n",
    "start      = '0km/s'\n",
    "nchan      = 17\n",
    "xc         = 331                               # CHANGEME\n",
    "yc         = 316                               # CHANGEME\n",
    "in_a       = 80\n",
    "out_a      = 120\n",
    "aper       = 0.5                               # CHANGEME\n",
    "boxwidth = 300.\n",
    "box = rg.box([xc-boxwidth,yc-boxwidth],[xc+boxwidth,yc+boxwidth])\n"
   ]
  },
  {
   "cell_type": "markdown",
   "id": "2e0e3f91",
   "metadata": {},
   "source": [
    "#  Create continuum subtracted line datasets "
   ]
  },
  {
   "cell_type": "code",
   "execution_count": null,
   "id": "89d07e26",
   "metadata": {},
   "outputs": [],
   "source": [
    "uvcontsub(vis       = 'f'+str(field)+'.vis',                # full vis file for this field\n",
    "          spw       = linespw,                              # line spw (for cont subtraction)\n",
    "          fitspw    = fitspw,                               # cont spw\n",
    "          combine   = 'spw',\n",
    "          solint    = 'int',\n",
    "          fitorder  = 1,\n",
    "          want_cont = False)                                # should not be changed.\n"
   ]
  },
  {
   "cell_type": "markdown",
   "id": "64484fcf",
   "metadata": {},
   "source": [
    "#  13CO line "
   ]
  },
  {
   "cell_type": "markdown",
   "id": "fc1a11b1",
   "metadata": {},
   "source": [
    "first try on 13CO line as thats going to be the brightest\n",
    "os.system('rm -rf test_f'+str(field)+'_13co32*')\n"
   ]
  },
  {
   "cell_type": "code",
   "execution_count": null,
   "id": "c9b14d32",
   "metadata": {},
   "outputs": [],
   "source": [
    "clean(vis           = 'f'+str(field)+'.vis.contsub',\n",
    "      imagename     = 'test_f'+str(field)+'_13co32',\n",
    "      mode          = 'velocity',\n",
    "      start         = start,\n",
    "      width         = width,\n",
    "      nchan         = nchan,\n",
    "      outframe      = outframe,\n",
    "      veltype       = veltype,\n",
    "      restfreq      = '330.58797GHz',\n",
    "      niter         = 500,\n",
    "      interactive   = True,\n",
    "      threshold     = 0,\n",
    "      imsize        = imsize,\n",
    "      cell          = cell,\n",
    "      weighting     ='briggs',\n",
    "      robust        = robust,\n",
    "      imagermode    = imagermode)\n"
   ]
  },
  {
   "cell_type": "markdown",
   "id": "59acbb78",
   "metadata": {},
   "source": [
    "export cube to fits file    \n"
   ]
  },
  {
   "cell_type": "code",
   "execution_count": null,
   "id": "05b41504",
   "metadata": {},
   "outputs": [],
   "source": [
    "fbase = 'test_f'+str(field)+'_13co32'\n",
    "os.system('rm -rf '+fbase+'.cube.fits')\n",
    "exportfits(imagename=fbase+'.image',fitsimage=fbase+'.cube.fits')\n"
   ]
  },
  {
   "cell_type": "markdown",
   "id": "3fcada9a",
   "metadata": {},
   "source": [
    "use viewer to check channel maps and spectrum\n",
    "make sure that velocity range is adequate and continuum subtraction ok\n"
   ]
  },
  {
   "cell_type": "code",
   "execution_count": null,
   "id": "75dc6e23",
   "metadata": {},
   "outputs": [],
   "source": [
    "imview(raster   = [{'file':'test_f'+str(field)+'_13co32.image'}],\n",
    "        contour = [{'file':'f'+str(field)+'_cont.fits'}])\n"
   ]
  },
  {
   "cell_type": "markdown",
   "id": "b10350a6",
   "metadata": {},
   "source": [
    "redo moment0 maps (now excluding noisy first channel!!)\n",
    "os.system('rm -rf f'+str(field)+'_13co32.mom0*')\n"
   ]
  },
  {
   "cell_type": "code",
   "execution_count": null,
   "id": "3c9337a9",
   "metadata": {},
   "outputs": [],
   "source": [
    "immoments(imagename  = 'test_f'+str(field)+'_13co32.image',            # CHANGEME (based on above analysis!!)\n",
    "          outfile    = 'test_f'+str(field)+'_13co32.mom0',\n",
    "          moments    = [0],\n",
    "          includepix = [-10.0,100.0],\n",
    "          chans      = ('range=[3km/s,6km/s]'))\n"
   ]
  },
  {
   "cell_type": "markdown",
   "id": "a23eb0da",
   "metadata": {},
   "source": [
    "can see emission, gives highest snr\n",
    "first moment map\n"
   ]
  },
  {
   "cell_type": "code",
   "execution_count": null,
   "id": "0c46ee67",
   "metadata": {},
   "outputs": [],
   "source": [
    "sigma = 30e-3  # Jy/beam in peak velocity channel\n",
    "os.system('rm -rf test_f6_13co32_mom1.image')\n",
    "immoments(imagename  = 'test_f6_13co32.cube.fits',\n",
    "          outfile    = 'test_f6_13co32_mom1.image',\n",
    "          moments    = [1],\n",
    "          includepix = [3.0*sigma,100.0],\n",
    "          chans      = ('range=[3km/s,6km/s]'))\n",
    "os.system('rm -rf test_f6_13co32_mom1.fits')\n",
    "exportfits(imagename='test_f6_13co32_mom1.image',fitsimage='test_f6_13co32_mom1.fits')\n",
    "os.system('rm -rf test_f6_13co32_mom1.image')\n"
   ]
  },
  {
   "cell_type": "markdown",
   "id": "fb3f752e",
   "metadata": {},
   "source": [
    "export to fits file    \n"
   ]
  },
  {
   "cell_type": "code",
   "execution_count": null,
   "id": "145fa108",
   "metadata": {},
   "outputs": [],
   "source": [
    "fbase = 'f'+str(field)+'_13co32.mom0'\n",
    "os.system('rm -rf '+fbase+'.fits')\n",
    "exportfits(imagename=fbase,fitsimage=fbase+'.fits')\n"
   ]
  },
  {
   "cell_type": "markdown",
   "id": "8330c18f",
   "metadata": {},
   "source": [
    "measure flux\n"
   ]
  },
  {
   "cell_type": "code",
   "execution_count": null,
   "id": "0a1000e9",
   "metadata": {},
   "outputs": [],
   "source": [
    "im_rms = imstat(imagename = 'f'+str(field)+'_13co32.mom0',\n",
    "                region='annulus[['+str(xc)+'pix,'+str(yc)+'pix],['+str(in_a)+'pix,'+str(out_a)+'pix]]')['rms'][0]\n",
    "im_flux = imstat(imagename = 'f'+str(field)+'_13co32.mom0',\n",
    "                 region='circle[['+str(xc)+'pix,'+str(yc)+'pix],'+str(aper)+'arcsec]')['flux'][0]\n",
    "print 'Flux = {0:.2f} mJy, rms = {1:.2f} mJy, S/N = {2:.1f}'.format(1000*im_flux, 1000*im_rms, im_flux/im_rms)\n"
   ]
  },
  {
   "cell_type": "markdown",
   "id": "d05a29d2",
   "metadata": {},
   "source": [
    "Flux = 739.23 mJy, rms = 45.14 mJy, S/N = 16.4\n"
   ]
  },
  {
   "cell_type": "code",
   "execution_count": null,
   "id": "f597fc89",
   "metadata": {},
   "outputs": [],
   "source": [
    "imview(raster=[{'file':'f'+str(field)+'_13co32.mom0'}],\n",
    "       contour = [{'file':'f'+str(field)+'_cont.fits'}])\n"
   ]
  },
  {
   "cell_type": "markdown",
   "id": "e559e1bc",
   "metadata": {},
   "source": [
    "re-center image on source and use measure.py to get COG flux\n",
    "os.system('rm -rf f'+str(field)+'_13co32.mom0_cropped*')\n"
   ]
  },
  {
   "cell_type": "code",
   "execution_count": null,
   "id": "cf521bda",
   "metadata": {},
   "outputs": [],
   "source": [
    "ia.fromimage(outfile = 'f'+str(field)+'_13co32.mom0_cropped.image',\n",
    "             infile  = 'f'+str(field)+'_13co32.mom0.fits',\n",
    "             region  = box )\n",
    "ia.close() \n",
    "exportfits(imagename = 'f'+str(field)+'_13co32.mom0_cropped.image',\n",
    "           fitsimage = 'f'+str(field)+'_13co32.mom0_cropped.fits')\n"
   ]
  },
  {
   "cell_type": "code",
   "execution_count": null,
   "id": "bde4aaf1",
   "metadata": {},
   "outputs": [],
   "source": [
    "Measuring COG for G/f6_13co32.mom0_cropped.fits\n",
    "Assuming object center (300.0,300.0)\n",
    "Background: -0.26 mJy/beam km/s\n",
    "RMS in annulus 4.0-6.0 arcsec = 49.67 mJy/beam km/s\n",
    "   i   radius    flux      err       snr\n",
    "       (asec)    (mJy)     (mJy)\n",
    "   0     0.10    51.56    11.20      4.6\n",
    "   1     0.20   177.60    31.99      5.6\n",
    "   2     0.30   381.18    45.61      8.4\n",
    "   3     0.40   591.31    63.59      9.3\n",
    "   4     0.50   739.23    84.64      8.7\n",
    "   5     0.60   758.95    87.34      8.7\n",
    "   6     0.70   694.70    86.16      8.1\n",
    "   7     0.80   608.69   124.18      4.9\n",
    "   8     0.90   576.47   129.47      4.5\n",
    "   9     1.00   622.20   114.85      5.4\n",
    "F = 758.95 mJy\n",
    "E = 87.34 mJy\n",
    "S = 8.69\n",
    "D = 1.20 arcsec\n"
   ]
  },
  {
   "cell_type": "markdown",
   "id": "f1a217ad",
   "metadata": {},
   "source": [
    "#  C18O line  "
   ]
  },
  {
   "cell_type": "markdown",
   "id": "6700975d",
   "metadata": {},
   "source": [
    "don't bother with selfcal as it doesn't help...\n",
    "os.system('rm -rf f'+str(field)+'_c18o32*')\n"
   ]
  },
  {
   "cell_type": "code",
   "execution_count": null,
   "id": "25b29a4a",
   "metadata": {},
   "outputs": [],
   "source": [
    "clean(vis           = 'f'+str(field)+'.vis.contsub',\n",
    "      imagename     = 'f'+str(field)+'_c18o32',\n",
    "      mode          = 'velocity',\n",
    "      start         = start,\n",
    "      width         = width,\n",
    "      nchan         = nchan,\n",
    "      outframe      = outframe,\n",
    "      veltype       = veltype,\n",
    "      restfreq      = '329.33055GHz',\n",
    "      niter         = 500,\n",
    "      threshold     = 0,\n",
    "      interactive   = False,\n",
    "      mask          = 'f6_cont_mask.crtf',\n",
    "      imsize        = imsize,\n",
    "      cell          = cell,\n",
    "      weighting     ='briggs',\n",
    "      robust        = robust,\n",
    "      imagermode    = imagermode)\n"
   ]
  },
  {
   "cell_type": "markdown",
   "id": "d976ac6c",
   "metadata": {},
   "source": [
    "could not see line, so just cleaned lightly \n",
    "within continuum region for all channels at once\n",
    "use viewer to check channel maps and spectrum\n",
    "make sure that velocity range is adequate and continuum subtraction ok\n"
   ]
  },
  {
   "cell_type": "code",
   "execution_count": null,
   "id": "3d3e2016",
   "metadata": {},
   "outputs": [],
   "source": [
    "imview(raster   = [{'file':'f'+str(field)+'_c18o32.image'}],\n",
    "        contour = [{'file':'f'+str(field)+'_cont.fits'}])\n"
   ]
  },
  {
   "cell_type": "markdown",
   "id": "72100e6a",
   "metadata": {},
   "source": [
    "export cube to fits file    \n"
   ]
  },
  {
   "cell_type": "code",
   "execution_count": null,
   "id": "7ca46272",
   "metadata": {},
   "outputs": [],
   "source": [
    "fbase = 'f'+str(field)+'_c18o32'\n",
    "os.system('rm -rf '+fbase+'.cube.fits')\n",
    "exportfits(imagename=fbase+'.image',fitsimage=fbase+'.cube.fits')\n"
   ]
  },
  {
   "cell_type": "markdown",
   "id": "2c726703",
   "metadata": {},
   "source": [
    "redo moment0 maps (now excluding noisy first channel!!)\n",
    "os.system('rm -rf f'+str(field)+'_c18o32.mom0*')\n"
   ]
  },
  {
   "cell_type": "code",
   "execution_count": null,
   "id": "7307ad56",
   "metadata": {},
   "outputs": [],
   "source": [
    "immoments(imagename  = 'f'+str(field)+'_c18o32.image',            # CHANGEME (based on above analysis!!)\n",
    "          outfile    = 'f'+str(field)+'_c18o32.mom0',\n",
    "          moments    = [0],\n",
    "          includepix = [-10.0,100.0],\n",
    "          chans      = ('range=[3km/s,6km/s]'))\n"
   ]
  },
  {
   "cell_type": "markdown",
   "id": "57f8420c",
   "metadata": {},
   "source": [
    "emission not clear, used same as 13CO\n",
    "export to fits file    \n"
   ]
  },
  {
   "cell_type": "code",
   "execution_count": null,
   "id": "180f5aa7",
   "metadata": {},
   "outputs": [],
   "source": [
    "fbase = 'f'+str(field)+'_c18o32.mom0'\n",
    "os.system('rm -rf '+fbase+'.fits')\n",
    "exportfits(imagename=fbase,fitsimage=fbase+'.fits')\n"
   ]
  },
  {
   "cell_type": "markdown",
   "id": "c7891f3f",
   "metadata": {},
   "source": [
    "measure flux\n"
   ]
  },
  {
   "cell_type": "code",
   "execution_count": null,
   "id": "df365e62",
   "metadata": {},
   "outputs": [],
   "source": [
    "im_rms = imstat(imagename = 'f'+str(field)+'_c18o32.mom0',\n",
    "                region='annulus[['+str(xc)+'pix,'+str(yc)+'pix],['+str(in_a)+'pix,'+str(out_a)+'pix]]')['rms'][0]\n",
    "im_flux = imstat(imagename = 'f'+str(field)+'_c18o32.mom0',\n",
    "                 region='circle[['+str(xc)+'pix,'+str(yc)+'pix],'+str(aper)+'arcsec]')['flux'][0]\n",
    "print 'Flux = {0:.2f} mJy, rms = {1:.2f} mJy, S/N = {2:.1f}'.format(1000*im_flux, 1000*im_rms, im_flux/im_rms)\n"
   ]
  },
  {
   "cell_type": "markdown",
   "id": "661a7b69",
   "metadata": {},
   "source": [
    "Flux = 358.91 mJy, rms = 59.33 mJy, S/N = 6.0\n",
    "view continuum and gas\n"
   ]
  },
  {
   "cell_type": "code",
   "execution_count": null,
   "id": "fab4867c",
   "metadata": {},
   "outputs": [],
   "source": [
    "imview(raster=[{'file':'f'+str(field)+'_c18o32.mom0'}],\n",
    "       contour = [{'file':'f'+str(field)+'_cont.fits'}])\n"
   ]
  },
  {
   "cell_type": "markdown",
   "id": "9afb4362",
   "metadata": {},
   "source": [
    "re-center image on source and use measure.py to get COG flux\n",
    "os.system('rm -rf f'+str(field)+'_c18o32.mom0_cropped*')\n"
   ]
  },
  {
   "cell_type": "code",
   "execution_count": null,
   "id": "1931ba77",
   "metadata": {},
   "outputs": [],
   "source": [
    "ia.fromimage(outfile = 'f'+str(field)+'_c18o32.mom0_cropped.image',\n",
    "             infile  = 'f'+str(field)+'_c18o32.mom0.fits',\n",
    "             region  = box )\n",
    "ia.close() \n",
    "exportfits(imagename = 'f'+str(field)+'_c18o32.mom0_cropped.image',\n",
    "           fitsimage = 'f'+str(field)+'_c18o32.mom0_cropped.fits')\n"
   ]
  },
  {
   "cell_type": "code",
   "execution_count": null,
   "id": "c59e65f7",
   "metadata": {},
   "outputs": [],
   "source": [
    "Measuring COG for G/f6_c18o32.mom0_cropped.fits\n",
    "Assuming object center (300.0,300.0)\n",
    "Background: 0.20 mJy/beam km/s\n",
    "RMS in annulus 4.0-6.0 arcsec = 60.72 mJy/beam km/s\n",
    "   i   radius    flux      err       snr\n",
    "       (asec)    (mJy)     (mJy)\n",
    "   0     0.10    29.32    15.72      1.9\n",
    "   1     0.20   112.83    35.83      3.1\n",
    "   2     0.30   231.04    61.38      3.8\n",
    "   3     0.40   308.17    81.73      3.8\n",
    "   4     0.50   358.91   127.24      2.8\n",
    "   5     0.60   421.55   129.92      3.2\n",
    "   6     0.70   509.85   127.93      4.0\n",
    "   7     0.80   573.33   145.52      3.9 <--where levels off\n",
    "   8     0.90   580.29   165.97      3.5\n",
    "   9     1.00   518.74   150.03      3.5\n",
    "  10     1.10   418.38   164.57      2.5\n",
    "  11     1.20   345.35   184.34      1.9\n",
    "  12     1.30   344.91   224.90      1.5\n",
    "  13     1.40   338.75   195.50      1.7\n",
    "  14     1.50   255.58   181.82      1.4\n",
    "F = 580.29 mJy\n",
    "E = 165.97 mJy\n",
    "S = 3.50\n",
    "D = 1.80 arcsec\n"
   ]
  },
  {
   "cell_type": "markdown",
   "id": "bf222129",
   "metadata": {},
   "source": [
    "#  Image CN  "
   ]
  },
  {
   "cell_type": "markdown",
   "id": "088c9c68",
   "metadata": {},
   "source": [
    "don't bother with selfcal as it doesn't help...\n",
    "os.system('rm -rf f'+str(field)+'_cn32_b4sc*')\n"
   ]
  },
  {
   "cell_type": "code",
   "execution_count": null,
   "id": "44039aca",
   "metadata": {},
   "outputs": [],
   "source": [
    "clean(vis           = 'f'+str(field)+'.vis.contsub',\n",
    "      imagename     = 'f'+str(field)+'_cn32_b4sc',\n",
    "      mode          = 'velocity',\n",
    "      start         = start,\n",
    "      width         = width,\n",
    "      nchan         = nchan,\n",
    "      outframe      = outframe,\n",
    "      veltype       = veltype,\n",
    "      restfreq      = '340.24777GHz',\n",
    "      niter         = 500,\n",
    "      threshold     = 0,\n",
    "      interactive   = False,\n",
    "      mask          = 'f6_cont_mask.crtf',\n",
    "      imsize        = imsize,\n",
    "      cell          = cell,\n",
    "      weighting     ='briggs',\n",
    "      robust        = robust,\n",
    "      imagermode    = imagermode)\n"
   ]
  },
  {
   "cell_type": "markdown",
   "id": "b95316f3",
   "metadata": {},
   "source": [
    "could not see line, so just cleaned lightly \n",
    "within continuum region for all channels at once\n",
    "use viewer to check channel maps and spectrum\n",
    "make sure that velocity range is adequate and continuum subtraction ok\n"
   ]
  },
  {
   "cell_type": "code",
   "execution_count": null,
   "id": "582c8a02",
   "metadata": {},
   "outputs": [],
   "source": [
    "imview(raster   = [{'file':'f'+str(field)+'_cn32_b4sc.image'}],\n",
    "        contour = [{'file':'f'+str(field)+'_cont.fits'}])\n"
   ]
  },
  {
   "cell_type": "markdown",
   "id": "7077ef84",
   "metadata": {},
   "source": [
    "redo moment0 maps (now excluding noisy first channel!!)\n",
    "os.system('rm -rf f'+str(field)+'_cn32.mom0*')\n"
   ]
  },
  {
   "cell_type": "code",
   "execution_count": null,
   "id": "3014f115",
   "metadata": {},
   "outputs": [],
   "source": [
    "immoments(imagename  = 'f'+str(field)+'_cn32_b4sc.image',            # CHANGEME (based on above analysis!!)\n",
    "          outfile    = 'f'+str(field)+'_cn32.mom0',\n",
    "          moments    = [0],\n",
    "          includepix = [-10.0,100.0],\n",
    "          chans      = ('range=[2km/s,6km/s]'))                        # CHANGEME (based on above analysis!!)\n"
   ]
  },
  {
   "cell_type": "markdown",
   "id": "bc01e33a",
   "metadata": {},
   "source": [
    "can't see line, max snr\n",
    "export to fits file    \n"
   ]
  },
  {
   "cell_type": "code",
   "execution_count": null,
   "id": "7bffc784",
   "metadata": {},
   "outputs": [],
   "source": [
    "fbase = 'f'+str(field)+'_cn32.mom0'\n",
    "os.system('rm -rf '+fbase+'.fits')\n",
    "exportfits(imagename=fbase,fitsimage=fbase+'.fits')\n"
   ]
  },
  {
   "cell_type": "markdown",
   "id": "0fdb6715",
   "metadata": {},
   "source": [
    "measure flux\n"
   ]
  },
  {
   "cell_type": "code",
   "execution_count": null,
   "id": "74c6236a",
   "metadata": {},
   "outputs": [],
   "source": [
    "im_rms = imstat(imagename = 'f'+str(field)+'_cn32.mom0',\n",
    "                region='annulus[['+str(xc)+'pix,'+str(yc)+'pix],['+str(in_a)+'pix,'+str(out_a)+'pix]]')['rms'][0]\n",
    "im_flux = imstat(imagename = 'f'+str(field)+'_cn32.mom0',\n",
    "                 region='circle[['+str(xc)+'pix,'+str(yc)+'pix],'+str(aper)+'arcsec]')['flux'][0]\n",
    "print 'Flux = {0:.2f} mJy, rms = {1:.2f} mJy, S/N = {2:.1f}'.format(1000*im_flux, 1000*im_rms, im_flux/im_rms)\n"
   ]
  },
  {
   "cell_type": "markdown",
   "id": "b3171c7e",
   "metadata": {},
   "source": [
    "Flux = 778.89 mJy, rms = 37.84 mJy, S/N = 20.6\n",
    "view continuum and gas\n"
   ]
  },
  {
   "cell_type": "code",
   "execution_count": null,
   "id": "afddc654",
   "metadata": {},
   "outputs": [],
   "source": [
    "imview(raster=[{'file':'f'+str(field)+'_cn32.mom0'}],\n",
    "       contour = [{'file':'f'+str(field)+'_cont.fits'}])\n"
   ]
  },
  {
   "cell_type": "markdown",
   "id": "37e3dfe2",
   "metadata": {},
   "source": [
    "re-center image on source and use measure.py to get COG flux\n",
    "os.system('rm -rf f'+str(field)+'_cn32.mom0_cropped*')\n"
   ]
  },
  {
   "cell_type": "code",
   "execution_count": null,
   "id": "ed7a0454",
   "metadata": {},
   "outputs": [],
   "source": [
    "ia.fromimage(outfile = 'f'+str(field)+'_cn32.mom0_cropped.image',\n",
    "             infile  = 'f'+str(field)+'_cn32.mom0.fits',\n",
    "             region  = box )\n",
    "ia.close() \n",
    "exportfits(imagename = 'f'+str(field)+'_cn32.mom0_cropped.image',\n",
    "           fitsimage = 'f'+str(field)+'_cn32.mom0_cropped.fits')\n"
   ]
  },
  {
   "cell_type": "code",
   "execution_count": null,
   "id": "f4366f7f",
   "metadata": {},
   "outputs": [],
   "source": [
    "Measuring COG for G/f6_cn32.mom0_cropped.fits\n",
    "Assuming object center (300.0,300.0)\n",
    "Background: 0.07 mJy/beam km/s\n",
    "RMS in annulus 4.0-9.0 arcsec = 39.86 mJy/beam km/s\n",
    "   i   radius    flux      err       snr\n",
    "       (asec)    (mJy)     (mJy)\n",
    "   0      0.1     39.1      9.1      4.3\n",
    "   1      0.2    135.0     24.6      5.5\n",
    "   2      0.3    269.7     40.1      6.7\n",
    "   3      0.4    391.1     50.7      7.7\n",
    "   4      0.5    480.2     75.8      6.3\n",
    "   5      0.6    515.9    102.2      5.0 <-- used this (flux levels off; looks best in CASA)\n",
    "   6      0.7    544.9     96.2      5.7\n",
    "   7      0.8    589.4    119.3      4.9\n",
    "   8      0.9    624.8    120.0      5.2\n",
    "   9      1.0    655.5    127.3      5.2\n",
    "  10      1.1    716.0    152.5      4.7\n",
    "  11      1.2    776.4    193.5      4.0\n",
    "F = 776.4 mJy\n",
    "E = 193.5 mJy\n",
    "S = 4.0\n",
    "D = 2.4 arcsec\n"
   ]
  }
 ],
 "metadata": {},
 "nbformat": 4,
 "nbformat_minor": 5
}
