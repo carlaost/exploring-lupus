{
 "cells": [
  {
   "cell_type": "code",
   "execution_count": null,
   "id": "bfa49cd6",
   "metadata": {},
   "outputs": [],
   "source": [
    "#!/usr/bin/env\n"
   ]
  },
  {
   "cell_type": "markdown",
   "id": "9519ba8d",
   "metadata": {},
   "source": [
    "\"\"\"\n"
   ]
  },
  {
   "cell_type": "markdown",
   "id": "cc5fcc4f",
   "metadata": {},
   "source": []
  },
  {
   "cell_type": "markdown",
   "id": "620f052a",
   "metadata": {},
   "source": [
    "split, clean, and self-cal continuum and line data\n",
    "NOTE: this is intended to be an interactive, iterative process\n",
    "      so this is more a log that should be run by cutting and\n",
    "      pasting into casa rather than as an executable script\n",
    "      search \"CHANGEME\" for variables to be changed\n",
    "10/9/15 MCA\n",
    "\"\"\"\n"
   ]
  },
  {
   "cell_type": "markdown",
   "id": "cc336e0d",
   "metadata": {},
   "source": [
    "#  Setup "
   ]
  },
  {
   "cell_type": "markdown",
   "id": "e9660224",
   "metadata": {},
   "source": [
    "III_114 M4.0 II        3.9\n",
    "16:10:19.840 -38:36:06.800\n"
   ]
  },
  {
   "cell_type": "code",
   "execution_count": null,
   "id": "113a828d",
   "metadata": {},
   "outputs": [],
   "source": [
    "field = 57                                     # CHANGEME \n",
    "file_ms = '../science_calibrated.ms'\n",
    "contspw   = '2,3,4,7,8,9'                      # continuum spectral windows\n",
    "contspw_w = [128,3840,1920,128,3840,1920]      # continuum spw widths\n",
    "robust     = 0.5                               # CHANGEME\n",
    "imsize     = [640,640]\n",
    "cell       = '0.03arcsec'\n",
    "imagermode = 'csclean'\n",
    "refant     = 'DA52'                            # CHANGEME\n",
    "xc         = 320                               # CHANGEME\n",
    "yc         = 320                               # CHANGEME\n",
    "in_a       = 80\n",
    "out_a      = 120\n",
    "aper       = 0.5\n",
    "boxwidth = 300.\n",
    "box = rg.box([xc-boxwidth,yc-boxwidth],[xc+boxwidth,yc+boxwidth])\n"
   ]
  },
  {
   "cell_type": "markdown",
   "id": "154b8c46",
   "metadata": {},
   "source": [
    "#  Split Off Continuum "
   ]
  },
  {
   "cell_type": "markdown",
   "id": "e1234117",
   "metadata": {},
   "source": [
    "split off field from full ms\n"
   ]
  },
  {
   "cell_type": "code",
   "execution_count": null,
   "id": "3ed3e72c",
   "metadata": {},
   "outputs": [],
   "source": [
    "split(vis = file_ms,\n",
    "      outputvis = 'f'+str(field)+'.vis',\n",
    "      field = field,\n",
    "      datacolumn = 'data')\n"
   ]
  },
  {
   "cell_type": "markdown",
   "id": "0ad966a2",
   "metadata": {},
   "source": [
    "split off continuum (take the large bw spw and average\n"
   ]
  },
  {
   "cell_type": "code",
   "execution_count": null,
   "id": "91e45b75",
   "metadata": {},
   "outputs": [],
   "source": [
    "split(vis = 'f'+str(field)+'.vis',\n",
    "      outputvis = 'f'+str(field)+'_cont.vis',\n",
    "      spw = contspw,\n",
    "      width = contspw_w,\n",
    "      datacolumn = 'data')\n"
   ]
  },
  {
   "cell_type": "markdown",
   "id": "d680b80a",
   "metadata": {},
   "source": [
    "plot uv-distance vs. amplitude\n"
   ]
  },
  {
   "cell_type": "code",
   "execution_count": null,
   "id": "05cbce81",
   "metadata": {},
   "outputs": [],
   "source": [
    "plotms(vis='f'+str(field)+'_cont.vis',\n",
    "       xaxis='uvdist',yaxis='amp',\n",
    "       coloraxis='spw')\n",
    "       # plotfile='f'+str(field)+'_ampuv_orig.png'\n",
    "       # showgui=False,\n",
    "       # highres=True,\n",
    "       # overwrite=True)\n"
   ]
  },
  {
   "cell_type": "markdown",
   "id": "d6363a12",
   "metadata": {},
   "source": [
    "source is unresolved\n",
    "find antenna close to center of configuration\n",
    "check pipeline log that this ant is OK\n"
   ]
  },
  {
   "cell_type": "code",
   "execution_count": null,
   "id": "263c8b81",
   "metadata": {},
   "outputs": [],
   "source": [
    "plotants(vis='f'+str(field)+'_cont.vis') #, figfile='f'+str(field)+'_ants.png')\n"
   ]
  },
  {
   "cell_type": "markdown",
   "id": "69c1b4e4",
   "metadata": {},
   "source": [
    "#  Clean continuum before selfcal "
   ]
  },
  {
   "cell_type": "markdown",
   "id": "463ce396",
   "metadata": {},
   "source": [
    "light clean (100 iterations) to set the mask around the main peaks\n",
    "os.system('rm -rf f'+str(field)+'_cont_best*')\n"
   ]
  },
  {
   "cell_type": "code",
   "execution_count": null,
   "id": "dc4ffaa1",
   "metadata": {},
   "outputs": [],
   "source": [
    "clean(vis = 'f'+str(field)+'_cont.vis',\n",
    "      imagename = 'f'+str(field)+'_cont_best',\n",
    "      mode = 'mfs',\n",
    "      psfmode = 'clark',\n",
    "      niter = 100,\n",
    "      threshold = '0.0mJy',\n",
    "      interactive = False,\n",
    "      mask = '',\n",
    "      cell = cell,\n",
    "      imsize = imsize,\n",
    "      weighting = 'briggs',\n",
    "      robust = robust,\n",
    "      imagermode = imagermode)\n"
   ]
  },
  {
   "cell_type": "markdown",
   "id": "598b978a",
   "metadata": {},
   "source": [
    "no source seen\n",
    "cleaned in automated mode without mask\n"
   ]
  },
  {
   "cell_type": "code",
   "execution_count": null,
   "id": "b62a12d9",
   "metadata": {},
   "outputs": [],
   "source": [
    "im_max = imstat(imagename = 'f'+str(field)+'_cont_best.image')['max'][0]\n",
    "im_rms = imstat(imagename = 'f'+str(field)+'_cont_best.image',\n",
    "                region='annulus[['+str(xc)+'pix,'+str(yc)+'pix],['+str(in_a)+'pix,'+str(out_a)+'pix]]')['rms'][0]\n",
    "bmaj = imhead(imagename = 'f'+str(field)+'_cont_best.image', mode=\"get\", hdkey=\"beammajor\")\n",
    "bmin = imhead(imagename = 'f'+str(field)+'_cont_best.image', mode=\"get\", hdkey=\"beamminor\")\n",
    "print 'Peak = {0:.2f} mJy, rms = {1:.2f} mJy, S/N = {2:.1f}'.format(1000*im_max, 1000*im_rms, im_max/im_rms)\n",
    "print 'Beam = {0:.2f} x {1:.2f} arcsec'.format(bmaj.get('value'),bmin.get('value'))\n"
   ]
  },
  {
   "cell_type": "markdown",
   "id": "ce786640",
   "metadata": {},
   "source": [
    "robust = 0.5\n",
    "Peak = 1.49 mJy, rms = 0.22 mJy, S/N = 6.6\n",
    "Beam = 0.35 x 0.28 arcsec\n",
    "save this to a fits file\n"
   ]
  },
  {
   "cell_type": "code",
   "execution_count": null,
   "id": "1427c8bc",
   "metadata": {},
   "outputs": [],
   "source": [
    "exportfits(imagename='f'+str(field)+'_cont_best.image', fitsimage='f'+str(field)+'_cont.fits')\n"
   ]
  },
  {
   "cell_type": "markdown",
   "id": "31f9e0ce",
   "metadata": {},
   "source": [
    "measure flux\n",
    "imview(raster=[{'file':'f'+str(field)+'_cont_best.image'}])\n"
   ]
  },
  {
   "cell_type": "code",
   "execution_count": null,
   "id": "f96597cc",
   "metadata": {},
   "outputs": [],
   "source": [
    "im_rms = imstat(imagename = 'f'+str(field)+'_cont_best.image',\n",
    "                region='annulus[['+str(xc)+'pix,'+str(yc)+'pix],['+str(in_a)+'pix,'+str(out_a)+'pix]]')['rms'][0]\n",
    "im_flux = imstat(imagename = 'f'+str(field)+'_cont_best.image',\n",
    "                 region='circle[['+str(xc)+'pix,'+str(yc)+'pix],'+str(aper)+'arcsec]')['flux'][0]\n",
    "print 'Flux = {0:.2f} mJy, rms = {1:.2f} mJy, S/N = {2:.1f}'.format(1000*im_flux, 1000*im_rms, im_flux/im_rms)\n"
   ]
  },
  {
   "cell_type": "markdown",
   "id": "1ca63669",
   "metadata": {},
   "source": [
    "Flux = 0.69 mJy, rms = 0.23 mJy, S/N = 3.0\n"
   ]
  },
  {
   "cell_type": "markdown",
   "id": "cbf6c5e4",
   "metadata": {},
   "source": [
    "#  Measure flux with UVMODELFIT "
   ]
  },
  {
   "cell_type": "markdown",
   "id": "281b3ead",
   "metadata": {},
   "source": [
    "calculate offset from phase center in arcsec\n"
   ]
  },
  {
   "cell_type": "code",
   "execution_count": null,
   "id": "76025414",
   "metadata": {},
   "outputs": [],
   "source": [
    "pixscale = 0.03             # must match 'cell'                 \n",
    "dx = pixscale*(320.0-xc)    # offset to east (left)\n",
    "dy = pixscale*(yc-320.0)    # offset to north (up)\n"
   ]
  },
  {
   "cell_type": "markdown",
   "id": "f8933c2a",
   "metadata": {},
   "source": [
    "measure flux as point source\n"
   ]
  },
  {
   "cell_type": "code",
   "execution_count": null,
   "id": "c85da952",
   "metadata": {},
   "outputs": [],
   "source": [
    "uvmodelfit(vis       = 'f'+str(field)+'_cont.vis',\n",
    "           comptype  = 'P',\n",
    "           sourcepar = [im_flux,dx,dy],\n",
    "           varypar   = [T,F,F],\n",
    "           niter     = 10)\n"
   ]
  },
  {
   "cell_type": "code",
   "execution_count": null,
   "id": "5a77ec8d",
   "metadata": {},
   "outputs": [],
   "source": [
    "reduced chi2=1.38438\n",
    "I = 0.000554866 +/- 0.000191511\n",
    "x = 0 +/- 0 arcsec\n",
    "y = 0 +/- 0 arcsec\n",
    "consistent with than aperture method\n"
   ]
  }
 ],
 "metadata": {},
 "nbformat": 4,
 "nbformat_minor": 5
}
