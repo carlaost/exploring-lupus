{
 "cells": [
  {
   "cell_type": "code",
   "execution_count": null,
   "id": "82a0ea88",
   "metadata": {},
   "outputs": [],
   "source": [
    "#!/usr/bin/env\n"
   ]
  },
  {
   "cell_type": "markdown",
   "id": "9f693493",
   "metadata": {},
   "source": [
    "\"\"\"\n"
   ]
  },
  {
   "cell_type": "markdown",
   "id": "5a0eddd0",
   "metadata": {},
   "source": []
  },
  {
   "cell_type": "markdown",
   "id": "f8a082ff",
   "metadata": {},
   "source": [
    "split, clean, and self-cal continuum and line data\n",
    "NOTE: this is intended to be an interactive, iterative process\n",
    "      so this is more a log that should be run by cutting and\n",
    "      pasting into casa rather than as an executable script\n",
    "      search \"CHANGEME\" for variables to be changed\n",
    "10/9/15 MCA\n",
    "\"\"\"\n"
   ]
  },
  {
   "cell_type": "markdown",
   "id": "0fa506a4",
   "metadata": {},
   "source": [
    "#  Setup "
   ]
  },
  {
   "cell_type": "markdown",
   "id": "4a152811",
   "metadata": {},
   "source": [
    "LupusIV_159  +16:12:43.75 -38:15:03.2\n",
    "Class II, K2\n"
   ]
  },
  {
   "cell_type": "code",
   "execution_count": null,
   "id": "a1953a6c",
   "metadata": {},
   "outputs": [],
   "source": [
    "field = 12                                     # CHANGEME \n",
    "file_ms = '../science_calibrated.ms'\n",
    "contspw   = '2,3,4'\n",
    "contspw_w = [128,3840,1920] \n",
    "robust     = 0.5\n",
    "imsize     = [640,640]\n",
    "cell       = '0.03arcsec'\n",
    "imagermode = 'csclean'\n",
    "refant     = 'DA52'                            # CHANGEME\n",
    "xc         = 333                               # CHANGEME\n",
    "yc         = 338                               # CHANGEME\n",
    "in_a       = 80\n",
    "out_a      = 120\n",
    "aper       = 1.25\n",
    "boxwidth = 300.\n",
    "box = rg.box([xc-boxwidth,yc-boxwidth],[xc+boxwidth,yc+boxwidth])\n"
   ]
  },
  {
   "cell_type": "markdown",
   "id": "5bd3f477",
   "metadata": {},
   "source": [
    "#  Split Off Continuum "
   ]
  },
  {
   "cell_type": "markdown",
   "id": "ae19af76",
   "metadata": {},
   "source": [
    "split off field from full ms\n"
   ]
  },
  {
   "cell_type": "code",
   "execution_count": null,
   "id": "55c89465",
   "metadata": {},
   "outputs": [],
   "source": [
    "split(vis = file_ms,\n",
    "      outputvis = 'f'+str(field)+'.vis',\n",
    "      field = field,\n",
    "      datacolumn = 'data')\n"
   ]
  },
  {
   "cell_type": "markdown",
   "id": "12af760e",
   "metadata": {},
   "source": [
    "split off continuum (take the large bw spw and average\n"
   ]
  },
  {
   "cell_type": "code",
   "execution_count": null,
   "id": "889e0087",
   "metadata": {},
   "outputs": [],
   "source": [
    "split(vis = 'f'+str(field)+'.vis',\n",
    "      outputvis = 'f'+str(field)+'_cont.vis',\n",
    "      spw = contspw,\n",
    "      width = contspw_w,\n",
    "      datacolumn = 'data')\n"
   ]
  },
  {
   "cell_type": "markdown",
   "id": "1d8d16e1",
   "metadata": {},
   "source": [
    "plot uv-distance vs. amplitude\n"
   ]
  },
  {
   "cell_type": "code",
   "execution_count": null,
   "id": "85c071cc",
   "metadata": {},
   "outputs": [],
   "source": [
    "plotms(vis='f'+str(field)+'_cont.vis',\n",
    "       xaxis='uvdist',yaxis='amp',\n",
    "       coloraxis='spw')\n",
    "       # plotfile='f'+str(field)+'_ampuv_orig.png'\n",
    "       # showgui=False,\n",
    "       # highres=True,\n",
    "       # overwrite=True)\n"
   ]
  },
  {
   "cell_type": "markdown",
   "id": "beaa5504",
   "metadata": {},
   "source": [
    "source is resolved?\n",
    "find antenna close to center of configuration\n",
    "check pipeline log that this ant is OK\n"
   ]
  },
  {
   "cell_type": "code",
   "execution_count": null,
   "id": "0d51edd5",
   "metadata": {},
   "outputs": [],
   "source": [
    "plotants(vis='f'+str(field)+'_cont.vis') #, figfile='f'+str(field)+'_ants.png')\n"
   ]
  },
  {
   "cell_type": "markdown",
   "id": "aa12995a",
   "metadata": {},
   "source": [
    "#  Clean continuum before selfcal "
   ]
  },
  {
   "cell_type": "markdown",
   "id": "38014972",
   "metadata": {},
   "source": [
    "os.system('rm -rf f'+str(field)+'_cont_b4sc*')\n",
    "light clean (100 iterations) \n"
   ]
  },
  {
   "cell_type": "code",
   "execution_count": null,
   "id": "2db74aa4",
   "metadata": {},
   "outputs": [],
   "source": [
    "clean(vis = 'f'+str(field)+'_cont.vis',\n",
    "      imagename = 'f'+str(field)+'_cont_b4sc',\n",
    "      mode = 'mfs',\n",
    "      psfmode = 'clark',\n",
    "      niter = 100,\n",
    "      threshold = '0.0mJy',\n",
    "      interactive = True,\n",
    "      mask = '',\n",
    "      cell = cell,\n",
    "      imsize = imsize,\n",
    "      weighting = 'briggs',\n",
    "      robust = robust,\n",
    "      imagermode = imagermode)\n",
    "im_max = imstat(imagename = 'f'+str(field)+'_cont_b4sc.image')['max'][0]\n",
    "im_rms = imstat(imagename = 'f'+str(field)+'_cont_b4sc.image',\n",
    "                region='annulus[['+str(xc)+'pix,'+str(yc)+'pix],['+str(in_a)+'pix,'+str(out_a)+'pix]]')['rms'][0]\n",
    "print 'Peak = {0:.2f} mJy, rms = {1:.2f} mJy, S/N = {2:.1f}'.format(1000*im_max, 1000*im_rms, im_max/im_rms)\n"
   ]
  },
  {
   "cell_type": "markdown",
   "id": "515bfb51",
   "metadata": {},
   "source": [
    "Peak = 27.01 mJy, rms = 0.41 mJy, S/N = 65.1\n"
   ]
  },
  {
   "cell_type": "markdown",
   "id": "12e5cae3",
   "metadata": {},
   "source": [
    "#  Self-Calibrate 1 "
   ]
  },
  {
   "cell_type": "markdown",
   "id": "9d3c37f2",
   "metadata": {},
   "source": [
    "first combine all the data by time (solint = inf)\n",
    "i.e., phase self-cal over entire integration time\n"
   ]
  },
  {
   "cell_type": "code",
   "execution_count": null,
   "id": "4e1fa5ee",
   "metadata": {},
   "outputs": [],
   "source": [
    "gaincal(vis = 'f'+str(field)+'_cont.vis',\n",
    "        caltable = 'f'+str(field)+'_cont_pcal1',\n",
    "        refant = refant,\n",
    "        solint = 'inf',\n",
    "        combine = 'spw',\n",
    "        gaintype = 'T',\n",
    "        spw = '',\n",
    "        calmode = 'p',\n",
    "        minblperant = 4,\n",
    "        minsnr = 3)\n"
   ]
  },
  {
   "cell_type": "markdown",
   "id": "e1cfe52c",
   "metadata": {},
   "source": [
    "1 of 40 solutions flagged due to SNR < 3 in spw=0 at 2015/06/14/05:00:54.2\n",
    "plot phase for each antenna\n"
   ]
  },
  {
   "cell_type": "code",
   "execution_count": null,
   "id": "40b4e035",
   "metadata": {},
   "outputs": [],
   "source": [
    "plotcal(caltable = 'f'+str(field)+'_cont_pcal1',\n",
    "        xaxis = 'time',\n",
    "        yaxis = 'phase',\n",
    "        spw = '',\n",
    "        iteration = 'antenna',\n",
    "        subplot = 421,\n",
    "        plotrange = [0,0,-200,200]) # narrow yrange phases close to zero\n"
   ]
  },
  {
   "cell_type": "markdown",
   "id": "14d877af",
   "metadata": {},
   "source": [
    "no variation between integration times (expected since solin=inf)\n",
    "note DV02 has no data (100% flagged in pipeline calibration)\n",
    "apply calibration to data\n"
   ]
  },
  {
   "cell_type": "code",
   "execution_count": null,
   "id": "8399861c",
   "metadata": {},
   "outputs": [],
   "source": [
    "applycal(vis = 'f'+str(field)+'_cont.vis',\n",
    "        spw = '',\n",
    "        gaintable = ['f'+str(field)+'_cont_pcal1'],\n",
    "        spwmap = [0,0,0],\n",
    "        calwt = T,\n",
    "        flagbackup = F)\n"
   ]
  },
  {
   "cell_type": "markdown",
   "id": "149dd700",
   "metadata": {},
   "source": [
    "clean self-calibrated data\n"
   ]
  },
  {
   "cell_type": "code",
   "execution_count": null,
   "id": "5b464d7e",
   "metadata": {},
   "outputs": [],
   "source": [
    "clean(vis = 'f'+str(field)+'_cont.vis',\n",
    "      imagename = 'f'+str(field)+'_cont_pcal1_clean',\n",
    "      mode = 'mfs',\n",
    "      psfmode = 'clark',\n",
    "      niter = 100,\n",
    "      threshold   = '0.0mJy',\n",
    "      interactive = False,\n",
    "      mask = 'f'+str(field)+'_cont_b4sc.mask',\n",
    "      cell        = cell,\n",
    "      imsize      = imsize,\n",
    "      weighting   = 'briggs',\n",
    "      robust      = robust,\n",
    "      imagermode  = imagermode)\n",
    "im_max = imstat(imagename = 'f'+str(field)+'_cont_pcal1_clean.image')['max'][0]\n",
    "im_rms = imstat(imagename = 'f'+str(field)+'_cont_pcal1_clean.image',\n",
    "                region='annulus[['+str(xc)+'pix,'+str(yc)+'pix],['+str(in_a)+'pix,'+str(out_a)+'pix]]')['rms'][0]\n",
    "print 'Peak = {0:.2f} mJy, rms = {1:.2f} mJy, S/N = {2:.1f}'.format(1000*im_max, 1000*im_rms, im_max/im_rms)\n"
   ]
  },
  {
   "cell_type": "markdown",
   "id": "64acff58",
   "metadata": {},
   "source": [
    "Peak = 28.98 mJy, rms = 0.41 mJy, S/N = 71.4 (slight improvement)\n",
    "inspect images\n"
   ]
  },
  {
   "cell_type": "code",
   "execution_count": null,
   "id": "c6f02b20",
   "metadata": {},
   "outputs": [],
   "source": [
    "imview(raster=[{'file':'f'+str(field)+'_cont_b4sc.image'},\n",
    "               {'file':'f'+str(field)+'_cont_pcal1_clean.image'}])\n"
   ]
  },
  {
   "cell_type": "markdown",
   "id": "da03defd",
   "metadata": {},
   "source": [
    "source looks much more defined in pcal1\n"
   ]
  },
  {
   "cell_type": "markdown",
   "id": "2349e093",
   "metadata": {},
   "source": [
    "#  Self-Calibrate 2 "
   ]
  },
  {
   "cell_type": "markdown",
   "id": "fff74257",
   "metadata": {},
   "source": [
    "decrease phase self-cal solution interval to a few times integration time\n",
    "int = 6s (from X125.log)\n"
   ]
  },
  {
   "cell_type": "code",
   "execution_count": null,
   "id": "3a7409c4",
   "metadata": {},
   "outputs": [],
   "source": [
    "gaincal(vis = 'f'+str(field)+'_cont.vis',\n",
    "        caltable = 'f'+str(field)+'_cont_pcal2',\n",
    "        refant = refant,\n",
    "        solint = '20s',                           # CHANGEME\n",
    "        combine = 'spw',\n",
    "        gaintype = 'T',\n",
    "        spw = '',\n",
    "        calmode = 'p',\n",
    "        minblperant = 4,\n",
    "        minsnr = 3)\n"
   ]
  },
  {
   "cell_type": "markdown",
   "id": "8341b623",
   "metadata": {},
   "source": [
    "1 of 40 solutions flagged due to SNR < 3 in spw=0 at 2015/06/14/04:30:50.9\n"
   ]
  },
  {
   "cell_type": "code",
   "execution_count": null,
   "id": "bc6d3e31",
   "metadata": {},
   "outputs": [],
   "source": [
    "plotcal(caltable = 'f'+str(field)+'_cont_pcal2',\n",
    "        xaxis = 'time',\n",
    "        yaxis = 'phase',\n",
    "        spw = '',\n",
    "        iteration = 'antenna',\n",
    "        subplot = 421,\n",
    "        plotrange = [0,0,-200,200])\n",
    "applycal(vis = 'f'+str(field)+'_cont.vis',\n",
    "        spw = '',\n",
    "        gaintable = ['f'+str(field)+'_cont_pcal2'],\n",
    "        spwmap = [0,0,0],\n",
    "        calwt = T,\n",
    "        flagbackup = F)\n",
    "clean(vis = 'f'+str(field)+'_cont.vis',\n",
    "      imagename = 'f'+str(field)+'_cont_pcal2_clean',\n",
    "      mode = 'mfs',\n",
    "      psfmode = 'clark',\n",
    "      niter = 100,\n",
    "      threshold   = '0.0mJy',\n",
    "      interactive = False,\n",
    "      mask = 'f'+str(field)+'_cont_b4sc.mask',\n",
    "      cell        = cell,\n",
    "      imsize      = imsize,\n",
    "      weighting   = 'briggs',\n",
    "      robust      = robust,\n",
    "      imagermode  = imagermode)\n",
    "im_max = imstat(imagename = 'f'+str(field)+'_cont_pcal2_clean.image')['max'][0]\n",
    "im_rms = imstat(imagename = 'f'+str(field)+'_cont_pcal2_clean.image',\n",
    "                region='annulus[['+str(xc)+'pix,'+str(yc)+'pix],['+str(in_a)+'pix,'+str(out_a)+'pix]]')['rms'][0]\n",
    "print 'Peak = {0:.2f} mJy, rms = {1:.2f} mJy, S/N = {2:.1f}'.format(1000*im_max, 1000*im_rms, im_max/im_rms)\n"
   ]
  },
  {
   "cell_type": "markdown",
   "id": "2c1d4f55",
   "metadata": {},
   "source": [
    "Peak = 29.54 mJy, rms = 0.41 mJy, S/N = 72.7 (same as pcal1)\n",
    "inspection of the image shows no change from pcal1\n"
   ]
  },
  {
   "cell_type": "code",
   "execution_count": null,
   "id": "13ffe863",
   "metadata": {},
   "outputs": [],
   "source": [
    "imview(raster=[{'file':'f'+str(field)+'_cont_b4sc.image'},\n",
    "               {'file':'f'+str(field)+'_cont_pcal1_clean.image'},\n",
    "               {'file':'f'+str(field)+'_cont_pcal2_clean.image'}])\n"
   ]
  },
  {
   "cell_type": "markdown",
   "id": "dc2df87d",
   "metadata": {},
   "source": [
    "looks the same, will stop here.\n"
   ]
  },
  {
   "cell_type": "markdown",
   "id": "036e012c",
   "metadata": {},
   "source": [
    "#  Best Continuum Map "
   ]
  },
  {
   "cell_type": "markdown",
   "id": "8cc9a786",
   "metadata": {},
   "source": [
    "so now run the same applycal but with flagbackup = T,\n"
   ]
  },
  {
   "cell_type": "code",
   "execution_count": null,
   "id": "b661fb0f",
   "metadata": {},
   "outputs": [],
   "source": [
    "applycal(vis = 'f'+str(field)+'_cont.vis',\n",
    "        spw = '',\n",
    "        gaintable = ['f'+str(field)+'_cont_pcal1'],         # CHANGEME\n",
    "        spwmap = [0,0,0],\n",
    "        calwt = T,\n",
    "        flagbackup = T)\n"
   ]
  },
  {
   "cell_type": "markdown",
   "id": "1282ac59",
   "metadata": {},
   "source": [
    "deep clean, trying different robust weights\n"
   ]
  },
  {
   "cell_type": "code",
   "execution_count": null,
   "id": "a1256210",
   "metadata": {},
   "outputs": [],
   "source": [
    "clean(vis = 'f'+str(field)+'_cont.vis',\n",
    "      imagename = 'f'+str(field)+'_cont_best',\n",
    "      mode = 'mfs',\n",
    "      psfmode = 'clark',\n",
    "      niter = 2000,\n",
    "      threshold   = '0.0mJy',\n",
    "      interactive = True,\n",
    "      mask = '',\n",
    "      cell        = cell,\n",
    "      imsize      = imsize,\n",
    "      weighting   = 'briggs',\n",
    "      robust      = -1.0,                                      # CHANGEME\n",
    "      imagermode  = imagermode)\n"
   ]
  },
  {
   "cell_type": "markdown",
   "id": "20731a5a",
   "metadata": {},
   "source": [
    "placed mask around outer continuum contour\n",
    "stopped after 300 iterations once the inside became green\n"
   ]
  },
  {
   "cell_type": "code",
   "execution_count": null,
   "id": "0ea3bd64",
   "metadata": {},
   "outputs": [],
   "source": [
    "im_max = imstat(imagename = 'f'+str(field)+'_cont_best.image')['max'][0]\n",
    "im_rms = imstat(imagename = 'f'+str(field)+'_cont_best.image',\n",
    "                region='annulus[['+str(xc)+'pix,'+str(yc)+'pix],['+str(in_a)+'pix,'+str(out_a)+'pix]]')['rms'][0]\n",
    "bmaj = imhead(imagename = 'f'+str(field)+'_cont_best.image', mode=\"get\", hdkey=\"beammajor\")\n",
    "bmin = imhead(imagename = 'f'+str(field)+'_cont_best.image', mode=\"get\", hdkey=\"beamminor\")\n",
    "print 'Peak = {0:.2f} mJy, rms = {1:.2f} mJy, S/N = {2:.1f}'.format(1000*im_max, 1000*im_rms, im_max/im_rms)\n",
    "print 'Beam = {0:.2f} x {1:.2f} arcsec'.format(bmaj.get('value'),bmin.get('value'))\n"
   ]
  },
  {
   "cell_type": "markdown",
   "id": "e0075915",
   "metadata": {},
   "source": [
    "robust = -1\n",
    "Peak = 28.38 mJy, rms = 0.55 mJy, S/N = 51.7\n",
    "Beam = 0.34 x 0.28 arcsec\n",
    "save this to a fits file\n"
   ]
  },
  {
   "cell_type": "code",
   "execution_count": null,
   "id": "10e10a02",
   "metadata": {},
   "outputs": [],
   "source": [
    "exportfits(imagename='f'+str(field)+'_cont_best.image', fitsimage='f'+str(field)+'_cont.fits')\n"
   ]
  },
  {
   "cell_type": "markdown",
   "id": "0efa8ed9",
   "metadata": {},
   "source": [
    "compare to before self-cal\n"
   ]
  },
  {
   "cell_type": "code",
   "execution_count": null,
   "id": "6282ee4f",
   "metadata": {},
   "outputs": [],
   "source": [
    "imview(raster=[{'file':'f'+str(field)+'_cont_b4sc.image'},\n",
    "               {'file':'f'+str(field)+'_cont_best.image'}])\n"
   ]
  },
  {
   "cell_type": "markdown",
   "id": "26c5a1da",
   "metadata": {},
   "source": [
    "measure flux\n"
   ]
  },
  {
   "cell_type": "code",
   "execution_count": null,
   "id": "a03b8448",
   "metadata": {},
   "outputs": [],
   "source": [
    "im_rms = imstat(imagename = 'f'+str(field)+'_cont_best.image',\n",
    "                region='annulus[['+str(xc)+'pix,'+str(yc)+'pix],['+str(in_a)+'pix,'+str(out_a)+'pix]]')['rms'][0]\n",
    "im_flux = imstat(imagename = 'f'+str(field)+'_cont_best.image',\n",
    "                 region='circle[['+str(xc)+'pix,'+str(yc)+'pix],'+str(aper)+'arcsec]')['flux'][0]\n",
    "print 'Flux = {0:.2f} mJy, rms = {1:.2f} mJy, S/N = {2:.1f}'.format(1000*im_flux, 1000*im_rms, im_flux/im_rms)\n"
   ]
  },
  {
   "cell_type": "markdown",
   "id": "99bb3e99",
   "metadata": {},
   "source": [
    "Flux = 68.13 mJy, rms = 0.55 mJy, S/N = 124.1\n",
    "re-center image on source and use measure.py to get COG flux\n"
   ]
  },
  {
   "cell_type": "code",
   "execution_count": null,
   "id": "7061c6b5",
   "metadata": {},
   "outputs": [],
   "source": [
    "ia.fromimage(outfile = 'f'+str(field)+'_cont_cropped.image',\n",
    "             infile  = 'f'+str(field)+'_cont.fits',\n",
    "             region  = box )\n",
    "ia.close() \n",
    "exportfits(imagename = 'f'+str(field)+'_cont_cropped.image',\n",
    "           fitsimage = 'f'+str(field)+'_cont_cropped.fits')\n"
   ]
  },
  {
   "cell_type": "markdown",
   "id": "06bdb026",
   "metadata": {},
   "source": [
    "#  Measure flux with UVMODELFIT "
   ]
  },
  {
   "cell_type": "markdown",
   "id": "a7d2af3a",
   "metadata": {},
   "source": [
    "calculate offset from phase center in arcsec\n"
   ]
  },
  {
   "cell_type": "code",
   "execution_count": null,
   "id": "e054c41a",
   "metadata": {},
   "outputs": [],
   "source": [
    "pixscale = 0.03             # must match 'cell'                 \n",
    "dx = pixscale*(320.0-xc)    # offset to east (left)\n",
    "dy = pixscale*(yc-320.0)    # offset to north (up)\n"
   ]
  },
  {
   "cell_type": "markdown",
   "id": "d88aca7c",
   "metadata": {},
   "source": [
    "measure flux as gaussian\n"
   ]
  },
  {
   "cell_type": "code",
   "execution_count": null,
   "id": "b2fdcebb",
   "metadata": {},
   "outputs": [],
   "source": [
    "uvmodelfit(vis       = 'f'+str(field)+'_cont.vis',\n",
    "           comptype  = 'G',\n",
    "           sourcepar = [im_flux,dx,dy,0.5,0.5,-45],\n",
    "           varypar   = [T,T,T,T,T,T],\n",
    "           niter     = 5)\n"
   ]
  },
  {
   "cell_type": "code",
   "execution_count": null,
   "id": "edd15198",
   "metadata": {},
   "outputs": [],
   "source": [
    "reduced chi2=1.40296\n",
    "I = 0.0690529 +/- 0.000771832\n",
    "x = -0.396878 +/- 0.0029336 arcsec\n",
    "y = 0.558171 +/- 0.00224707 arcsec\n",
    "a = 0.673271 +/- 0.00885103 arcsec\n",
    "r = 0.203029 +/- 0.0103744\n",
    "p = -53.4636 +/- 0.421967 deg\n",
    "consistent with aperture/COG method\n"
   ]
  }
 ],
 "metadata": {},
 "nbformat": 4,
 "nbformat_minor": 5
}
