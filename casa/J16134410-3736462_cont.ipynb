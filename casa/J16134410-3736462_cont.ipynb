{
 "cells": [
  {
   "cell_type": "code",
   "execution_count": null,
   "id": "868eccd7",
   "metadata": {},
   "outputs": [],
   "source": [
    "#!/usr/bin/env\n"
   ]
  },
  {
   "cell_type": "markdown",
   "id": "4d4a04a2",
   "metadata": {},
   "source": [
    "\"\"\"\n"
   ]
  },
  {
   "cell_type": "markdown",
   "id": "74f7fc66",
   "metadata": {},
   "source": []
  },
  {
   "cell_type": "markdown",
   "id": "33fc22d0",
   "metadata": {},
   "source": [
    "split, clean, and self-cal continuum and line data\n",
    "NOTE: this is intended to be an interactive, iterative process\n",
    "      so this is more a log that should be run by cutting and\n",
    "      pasting into casa rather than as an executable script\n",
    "      search \"CHANGEME\" for variables to be changed\n",
    "10/9/15 MCA\n",
    "\"\"\"\n"
   ]
  },
  {
   "cell_type": "markdown",
   "id": "cdabbb88",
   "metadata": {},
   "source": [
    "#  Setup "
   ]
  },
  {
   "cell_type": "markdown",
   "id": "05f80dad",
   "metadata": {},
   "source": [
    "LupusIII_141\n",
    "16:13:44.110 -37:36:46.400\n"
   ]
  },
  {
   "cell_type": "code",
   "execution_count": null,
   "id": "db7b4b47",
   "metadata": {},
   "outputs": [],
   "source": [
    "field = 24                                     # CHANGEME \n",
    "file_ms = '../science_calibrated.ms'\n",
    "contspw   = '2,3,4'\n",
    "contspw_w = [128,3840,1920] \n",
    "robust     = 0.5\n",
    "imsize     = [640,640]\n",
    "cell       = '0.03arcsec'\n",
    "imagermode = 'csclean'\n",
    "refant     = 'DA52'                            # CHANGEME\n",
    "xc         = 334                               # CHANGEME\n",
    "yc         = 313                               # CHANGEME\n",
    "in_a       = 80\n",
    "out_a      = 120\n",
    "aper       = 0.5                               # CHANGEME\n",
    "boxwidth = 300.\n",
    "box = rg.box([xc-boxwidth,yc-boxwidth],[xc+boxwidth,yc+boxwidth])\n"
   ]
  },
  {
   "cell_type": "markdown",
   "id": "caeccd8c",
   "metadata": {},
   "source": [
    "#  Split Off Continuum "
   ]
  },
  {
   "cell_type": "markdown",
   "id": "13a2de9d",
   "metadata": {},
   "source": [
    "split off field from full ms\n"
   ]
  },
  {
   "cell_type": "code",
   "execution_count": null,
   "id": "c89b2912",
   "metadata": {},
   "outputs": [],
   "source": [
    "split(vis = file_ms,\n",
    "      outputvis = 'f'+str(field)+'.vis',\n",
    "      field = field,\n",
    "      datacolumn = 'data')\n"
   ]
  },
  {
   "cell_type": "markdown",
   "id": "bb91e8de",
   "metadata": {},
   "source": [
    "split off continuum (take the large bw spw and average\n"
   ]
  },
  {
   "cell_type": "code",
   "execution_count": null,
   "id": "088c2d47",
   "metadata": {},
   "outputs": [],
   "source": [
    "split(vis = 'f'+str(field)+'.vis',\n",
    "      outputvis = 'f'+str(field)+'_cont.vis',\n",
    "      spw = contspw,\n",
    "      width = contspw_w,\n",
    "      datacolumn = 'data')\n"
   ]
  },
  {
   "cell_type": "markdown",
   "id": "7dd5b5cb",
   "metadata": {},
   "source": [
    "plot uv-distance vs. amplitude\n"
   ]
  },
  {
   "cell_type": "code",
   "execution_count": null,
   "id": "da2e142b",
   "metadata": {},
   "outputs": [],
   "source": [
    "plotms(vis='f'+str(field)+'_cont.vis',\n",
    "       xaxis='uvdist',yaxis='amp',\n",
    "       coloraxis='spw')\n",
    "       # plotfile='f'+str(field)+'_ampuv_orig.png'\n",
    "       # showgui=False,\n",
    "       # highres=True,\n",
    "       # overwrite=True)\n"
   ]
  },
  {
   "cell_type": "markdown",
   "id": "f5466fc9",
   "metadata": {},
   "source": [
    "source is resolved?\n",
    "find antenna close to center of configuration\n",
    "check pipeline log that this ant is OK\n"
   ]
  },
  {
   "cell_type": "code",
   "execution_count": null,
   "id": "f0ff7205",
   "metadata": {},
   "outputs": [],
   "source": [
    "plotants(vis='f'+str(field)+'_cont.vis') #, figfile='f'+str(field)+'_ants.png')\n"
   ]
  },
  {
   "cell_type": "markdown",
   "id": "9f3b6a2e",
   "metadata": {},
   "source": [
    "#  Clean continuum before selfcal "
   ]
  },
  {
   "cell_type": "markdown",
   "id": "ed15b04f",
   "metadata": {},
   "source": [
    "light clean (100 iterations) around BOTH sources\n",
    "os.system('rm -rf f'+str(field)+'_cont_b4sc*')\n"
   ]
  },
  {
   "cell_type": "code",
   "execution_count": null,
   "id": "bf1cef79",
   "metadata": {},
   "outputs": [],
   "source": [
    "clean(vis = 'f'+str(field)+'_cont.vis',\n",
    "      imagename = 'f'+str(field)+'_cont_b4sc',\n",
    "      mode = 'mfs',\n",
    "      psfmode = 'clark',\n",
    "      niter = 100,\n",
    "      threshold = '0.0mJy',\n",
    "      interactive = True,\n",
    "      mask = '',\n",
    "      cell = cell,\n",
    "      imsize = imsize,\n",
    "      weighting = 'briggs',\n",
    "      robust = robust,\n",
    "      imagermode = imagermode)\n",
    "im_max = imstat(imagename = 'f'+str(field)+'_cont_b4sc.image')['max'][0]\n",
    "im_rms = imstat(imagename = 'f'+str(field)+'_cont_b4sc.image',\n",
    "                region='annulus[['+str(xc)+'pix,'+str(yc)+'pix],['+str(in_a)+'pix,'+str(out_a)+'pix]]')['rms'][0]\n",
    "print 'Peak = {0:.2f} mJy, rms = {1:.2f} mJy, S/N = {2:.1f}'.format(1000*im_max, 1000*im_rms, im_max/im_rms)\n"
   ]
  },
  {
   "cell_type": "markdown",
   "id": "396e1fbd",
   "metadata": {},
   "source": [
    "Peak = 2.06 mJy, rms = 0.40 mJy, S/N = 5.1\n"
   ]
  },
  {
   "cell_type": "markdown",
   "id": "c263b163",
   "metadata": {},
   "source": [
    "#  Self-Calibrate 1 "
   ]
  },
  {
   "cell_type": "markdown",
   "id": "8f8989bd",
   "metadata": {},
   "source": [
    "first combine all the data by time (solint = inf)\n",
    "i.e., phase self-cal over entire integration time\n"
   ]
  },
  {
   "cell_type": "code",
   "execution_count": null,
   "id": "ecacf079",
   "metadata": {},
   "outputs": [],
   "source": [
    "gaincal(vis = 'f'+str(field)+'_cont.vis',\n",
    "        caltable = 'f'+str(field)+'_cont_pcal1',\n",
    "        refant = refant,\n",
    "        solint = 'inf',\n",
    "        combine = 'spw',\n",
    "        gaintype = 'T',\n",
    "        spw = '',\n",
    "        calmode = 'p',\n",
    "        minblperant = 4,\n",
    "        minsnr = 3)\n"
   ]
  },
  {
   "cell_type": "markdown",
   "id": "d31db16c",
   "metadata": {},
   "source": [
    "33 of 40 solutions flagged due to SNR < 3 in spw=0 at 2015/06/14/04:38:27.0\n",
    "33 of 40 solutions flagged due to SNR < 3 in spw=0 at 2015/06/14/05:12:12.0\n",
    "TOO MANY SOLUTIONS FLAGGED, SKIPPING SELF-CAL\n"
   ]
  },
  {
   "cell_type": "markdown",
   "id": "bdc2de55",
   "metadata": {},
   "source": [
    "#  Best Continuum Map "
   ]
  },
  {
   "cell_type": "markdown",
   "id": "769a8e7c",
   "metadata": {},
   "source": [
    "deep clean, trying different robust weights\n",
    "os.system('rm -rf f'+str(field)+'_cont_best*')\n"
   ]
  },
  {
   "cell_type": "code",
   "execution_count": null,
   "id": "c85b2adf",
   "metadata": {},
   "outputs": [],
   "source": [
    "clean(vis = 'f'+str(field)+'_cont.vis',\n",
    "      imagename = 'f'+str(field)+'_cont_best',\n",
    "      mode = 'mfs',\n",
    "      psfmode = 'clark',\n",
    "      niter = 2000,\n",
    "      threshold   = '0.0mJy',\n",
    "      interactive = True,\n",
    "      mask = '',\n",
    "      cell        = cell,\n",
    "      imsize      = imsize,\n",
    "      weighting   = 'briggs',\n",
    "      robust      = 0.5,                                      # CHANGEME\n",
    "      imagermode  = imagermode)\n"
   ]
  },
  {
   "cell_type": "markdown",
   "id": "d2c51709",
   "metadata": {},
   "source": [
    "placed mask around smaller continuum contour \n",
    "stopped after 200 iterations once the inside became green\n"
   ]
  },
  {
   "cell_type": "code",
   "execution_count": null,
   "id": "148ecbf8",
   "metadata": {},
   "outputs": [],
   "source": [
    "im_max = imstat(imagename = 'f'+str(field)+'_cont_best.image')['max'][0]\n",
    "im_rms = imstat(imagename = 'f'+str(field)+'_cont_best.image',\n",
    "                region='annulus[['+str(xc)+'pix,'+str(yc)+'pix],['+str(in_a)+'pix,'+str(out_a)+'pix]]')['rms'][0]\n",
    "bmaj = imhead(imagename = 'f'+str(field)+'_cont_best.image', mode=\"get\", hdkey=\"beammajor\")\n",
    "bmin = imhead(imagename = 'f'+str(field)+'_cont_best.image', mode=\"get\", hdkey=\"beamminor\")\n",
    "print 'Peak = {0:.2f} mJy, rms = {1:.2f} mJy, S/N = {2:.1f}'.format(1000*im_max, 1000*im_rms, im_max/im_rms)\n",
    "print 'Beam = {0:.2f} x {1:.2f} arcsec'.format(bmaj.get('value'),bmin.get('value'))\n"
   ]
  },
  {
   "cell_type": "markdown",
   "id": "0cbc7902",
   "metadata": {},
   "source": [
    "robust = 0.5\n",
    "Peak = 2.06 mJy, rms = 0.40 mJy, S/N = 5.1\n",
    "Beam = 0.34 x 0.29 arcsec\n",
    "save this to a fits file\n"
   ]
  },
  {
   "cell_type": "code",
   "execution_count": null,
   "id": "435d0524",
   "metadata": {},
   "outputs": [],
   "source": [
    "exportfits(imagename='f'+str(field)+'_cont_best.image', fitsimage='f'+str(field)+'_cont.fits')\n"
   ]
  },
  {
   "cell_type": "markdown",
   "id": "5e80ad28",
   "metadata": {},
   "source": [
    "measure flux\n",
    "imview(raster=[{'file':'f'+str(field)+'_cont_best.image'}])\n"
   ]
  },
  {
   "cell_type": "code",
   "execution_count": null,
   "id": "1603338c",
   "metadata": {},
   "outputs": [],
   "source": [
    "im_rms = imstat(imagename = 'f'+str(field)+'_cont_best.image',\n",
    "                region='annulus[['+str(xc)+'pix,'+str(yc)+'pix],['+str(in_a)+'pix,'+str(out_a)+'pix]]')['rms'][0]\n",
    "im_flux = imstat(imagename = 'f'+str(field)+'_cont_best.image',\n",
    "                 region='circle[['+str(xc)+'pix,'+str(yc)+'pix],'+str(aper)+'arcsec]')['flux'][0]\n",
    "print 'Flux = {0:.2f} mJy, rms = {1:.2f} mJy, S/N = {2:.1f}'.format(1000*im_flux, 1000*im_rms, im_flux/im_rms)\n"
   ]
  },
  {
   "cell_type": "markdown",
   "id": "536e1ffe",
   "metadata": {},
   "source": [
    "Flux = 1.81 mJy, rms = 0.39 mJy, S/N = 4.7\n"
   ]
  },
  {
   "cell_type": "markdown",
   "id": "3eadf0fd",
   "metadata": {},
   "source": [
    "#  Measure flux with UVMODELFIT "
   ]
  },
  {
   "cell_type": "markdown",
   "id": "0924d659",
   "metadata": {},
   "source": [
    "calculate offset from phase center in arcsec\n"
   ]
  },
  {
   "cell_type": "code",
   "execution_count": null,
   "id": "e786b857",
   "metadata": {},
   "outputs": [],
   "source": [
    "pixscale = 0.03             # must match 'cell'                 \n",
    "dx = pixscale*(320.0-xc)    # offset to east (left)\n",
    "dy = pixscale*(yc-320.0)    # offset to north (up)\n"
   ]
  },
  {
   "cell_type": "markdown",
   "id": "5c69c3e0",
   "metadata": {},
   "source": [
    "measure flux as point source\n"
   ]
  },
  {
   "cell_type": "code",
   "execution_count": null,
   "id": "4dc481d6",
   "metadata": {},
   "outputs": [],
   "source": [
    "uvmodelfit(vis       = 'f'+str(field)+'_cont.vis',\n",
    "           comptype  = 'P',\n",
    "           sourcepar = [im_flux,dx,dy],\n",
    "           varypar   = [T,T,T],\n",
    "           niter     = 10)\n"
   ]
  },
  {
   "cell_type": "code",
   "execution_count": null,
   "id": "dca5a212",
   "metadata": {},
   "outputs": [],
   "source": [
    "reduced chi2=1.38275\n",
    "I = 0.00213953 +/- 0.000301619\n",
    "x = -0.404516 +/- 0.0223679 arcsec\n",
    "y = -0.206608 +/- 0.0196803 arcsec\n",
    "higher than aperture method\n"
   ]
  },
  {
   "cell_type": "markdown",
   "id": "6c310187",
   "metadata": {},
   "source": [
    "measure flux as gaussian\n"
   ]
  },
  {
   "cell_type": "code",
   "execution_count": null,
   "id": "a477719f",
   "metadata": {},
   "outputs": [],
   "source": [
    "uvmodelfit(vis       = 'f'+str(field)+'_cont.vis',\n",
    "           comptype  = 'G',\n",
    "           sourcepar = [im_flux,dx,dy,0.5,1,0],\n",
    "           varypar   = [T,T,T,T,T,T],\n",
    "           niter     = 10)\n"
   ]
  },
  {
   "cell_type": "code",
   "execution_count": null,
   "id": "c493afa4",
   "metadata": {},
   "outputs": [],
   "source": [
    "reduced chi2=1.38282\n",
    "I = 0.00218331 +/- 0.0004478\n",
    "x = -0.403609 +/- 0.0228613 arcsec\n",
    "y = -0.203876 +/- 0.021878 arcsec\n",
    "a = 0.100056 +/- 0.131809 arcsec\n",
    "r = 1.57686e-10 +/- 9.20592e+09\n",
    "p = -2.92245 +/- 110.918 deg\n",
    "a/e_a < 2 so used point source method\n"
   ]
  }
 ],
 "metadata": {},
 "nbformat": 4,
 "nbformat_minor": 5
}
