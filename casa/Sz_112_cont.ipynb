{
 "cells": [
  {
   "cell_type": "code",
   "execution_count": null,
   "id": "8548a310",
   "metadata": {},
   "outputs": [],
   "source": [
    "#!/usr/bin/env\n"
   ]
  },
  {
   "cell_type": "markdown",
   "id": "70bf2243",
   "metadata": {},
   "source": [
    "\"\"\"\n"
   ]
  },
  {
   "cell_type": "markdown",
   "id": "bbc7ff3e",
   "metadata": {},
   "source": []
  },
  {
   "cell_type": "markdown",
   "id": "8056bc7c",
   "metadata": {},
   "source": [
    "split, clean, and self-cal continuum and line data\n",
    "NOTE: this is intended to be an interactive, iterative process\n",
    "      so this is more a log that should be run by cutting and\n",
    "      pasting into casa rather than as an executable script\n",
    "      search \"CHANGEME\" for variables to be changed\n",
    "10/9/15 MCA\n",
    "\"\"\"\n"
   ]
  },
  {
   "cell_type": "markdown",
   "id": "7f7f3fd0",
   "metadata": {},
   "source": [
    "#  Setup "
   ]
  },
  {
   "cell_type": "markdown",
   "id": "5ac49b51",
   "metadata": {},
   "source": [
    "III_73 M5.0 II\n",
    "16:08:55.520 -39:02:33.900\n"
   ]
  },
  {
   "cell_type": "code",
   "execution_count": null,
   "id": "bb05f01b",
   "metadata": {},
   "outputs": [],
   "source": [
    "field = 45                                     # CHANGEME \n",
    "file_ms = '../science_calibrated.ms'\n",
    "contspw   = '2,3,4,7,8,9'                      # continuum spectral windows\n",
    "contspw_w = [128,3840,1920,128,3840,1920]      # continuum spw widths\n",
    "robust     = 0.5                               # CHANGEME\n",
    "imsize     = [640,640]\n",
    "cell       = '0.03arcsec'\n",
    "imagermode = 'csclean'\n",
    "refant     = 'DA52'                            # CHANGEME\n",
    "xc         = 321                               # CHANGEME\n",
    "yc         = 306                               # CHANGEME\n",
    "in_a       = 80\n",
    "out_a      = 120\n",
    "aper       = 0.5\n",
    "boxwidth = 300.\n",
    "box = rg.box([xc-boxwidth,yc-boxwidth],[xc+boxwidth,yc+boxwidth])\n"
   ]
  },
  {
   "cell_type": "markdown",
   "id": "1150f09f",
   "metadata": {},
   "source": [
    "#  Split Off Continuum "
   ]
  },
  {
   "cell_type": "markdown",
   "id": "fb9c1624",
   "metadata": {},
   "source": [
    "split off field from full ms\n"
   ]
  },
  {
   "cell_type": "code",
   "execution_count": null,
   "id": "2f171e98",
   "metadata": {},
   "outputs": [],
   "source": [
    "split(vis = file_ms,\n",
    "      outputvis = 'f'+str(field)+'.vis',\n",
    "      field = field,\n",
    "      datacolumn = 'data')\n"
   ]
  },
  {
   "cell_type": "markdown",
   "id": "dfc81e68",
   "metadata": {},
   "source": [
    "split off continuum (take the large bw spw and average\n"
   ]
  },
  {
   "cell_type": "code",
   "execution_count": null,
   "id": "ca835369",
   "metadata": {},
   "outputs": [],
   "source": [
    "split(vis = 'f'+str(field)+'.vis',\n",
    "      outputvis = 'f'+str(field)+'_cont.vis',\n",
    "      spw = contspw,\n",
    "      width = contspw_w,\n",
    "      datacolumn = 'data')\n"
   ]
  },
  {
   "cell_type": "markdown",
   "id": "d549a84e",
   "metadata": {},
   "source": [
    "plot uv-distance vs. amplitude\n"
   ]
  },
  {
   "cell_type": "code",
   "execution_count": null,
   "id": "ccce7d8f",
   "metadata": {},
   "outputs": [],
   "source": [
    "plotms(vis='f'+str(field)+'_cont.vis',\n",
    "       xaxis='uvdist',yaxis='amp',\n",
    "       coloraxis='spw')\n",
    "       # plotfile='f'+str(field)+'_ampuv_orig.png'\n",
    "       # showgui=False,\n",
    "       # highres=True,\n",
    "       # overwrite=True)\n"
   ]
  },
  {
   "cell_type": "markdown",
   "id": "b79f85fd",
   "metadata": {},
   "source": [
    "source is unresolved\n",
    "find antenna close to center of configuration\n",
    "check pipeline log that this ant is OK\n"
   ]
  },
  {
   "cell_type": "code",
   "execution_count": null,
   "id": "c814fb5e",
   "metadata": {},
   "outputs": [],
   "source": [
    "plotants(vis='f'+str(field)+'_cont.vis') #, figfile='f'+str(field)+'_ants.png')\n"
   ]
  },
  {
   "cell_type": "markdown",
   "id": "2e75f430",
   "metadata": {},
   "source": [
    "#  Clean continuum before selfcal "
   ]
  },
  {
   "cell_type": "markdown",
   "id": "66a01dd1",
   "metadata": {},
   "source": [
    "light clean (100 iterations) to set the mask around the main peaks\n",
    "os.system('rm -rf f'+str(field)+'_cont_b4sc*')\n"
   ]
  },
  {
   "cell_type": "code",
   "execution_count": null,
   "id": "5b55061c",
   "metadata": {},
   "outputs": [],
   "source": [
    "clean(vis = 'f'+str(field)+'_cont.vis',\n",
    "      imagename = 'f'+str(field)+'_cont_b4sc',\n",
    "      mode = 'mfs',\n",
    "      psfmode = 'clark',\n",
    "      niter = 100,\n",
    "      threshold = '0.0mJy',\n",
    "      interactive = True,\n",
    "      mask = '',\n",
    "      cell = cell,\n",
    "      imsize = imsize,\n",
    "      weighting = 'briggs',\n",
    "      robust = robust,\n",
    "      imagermode = imagermode)\n",
    "im_max = imstat(imagename = 'f'+str(field)+'_cont_b4sc.image')['max'][0]\n",
    "im_rms = imstat(imagename = 'f'+str(field)+'_cont_b4sc.image',\n",
    "                region='annulus[['+str(xc)+'pix,'+str(yc)+'pix],['+str(in_a)+'pix,'+str(out_a)+'pix]]')['rms'][0]\n",
    "print 'Peak = {0:.2f} mJy, rms = {1:.2f} mJy, S/N = {2:.1f}'.format(1000*im_max, 1000*im_rms, im_max/im_rms)\n"
   ]
  },
  {
   "cell_type": "markdown",
   "id": "d112fec3",
   "metadata": {},
   "source": [
    "Peak = 3.79 mJy, rms = 0.21 mJy, S/N = 17.7\n"
   ]
  },
  {
   "cell_type": "markdown",
   "id": "2eba7256",
   "metadata": {},
   "source": [
    "#  Self-Calibrate 1 "
   ]
  },
  {
   "cell_type": "markdown",
   "id": "1303a431",
   "metadata": {},
   "source": [
    "first combine all the data by time (solint = inf)\n",
    "i.e., phase self-cal over entire integration time\n"
   ]
  },
  {
   "cell_type": "code",
   "execution_count": null,
   "id": "d942a26d",
   "metadata": {},
   "outputs": [],
   "source": [
    "gaincal(vis = 'f'+str(field)+'_cont.vis',\n",
    "        caltable = 'f'+str(field)+'_cont_pcal1',\n",
    "        refant = refant,\n",
    "        solint = 'inf',\n",
    "        combine = 'spw',\n",
    "        gaintype = 'T',\n",
    "        spw = '',\n",
    "        calmode = 'p',\n",
    "        minblperant = 4,\n",
    "        minsnr = 3)\n"
   ]
  },
  {
   "cell_type": "markdown",
   "id": "98bcfac8",
   "metadata": {},
   "source": [
    "12 of 32 solutions flagged due to SNR < 3 in spw=0 at 2015/06/15/02:39:36.7\n",
    "7 of 31 solutions flagged due to SNR < 3 in spw=0 at 2015/06/15/04:51:29.0\n"
   ]
  },
  {
   "cell_type": "markdown",
   "id": "797bc012",
   "metadata": {},
   "source": [
    "#  Best Continuum Map "
   ]
  },
  {
   "cell_type": "markdown",
   "id": "839db8f9",
   "metadata": {},
   "source": [
    "deep clean, trying different robust weights\n",
    "os.system('rm -rf f'+str(field)+'_cont_best*')\n"
   ]
  },
  {
   "cell_type": "code",
   "execution_count": null,
   "id": "9155ebb2",
   "metadata": {},
   "outputs": [],
   "source": [
    "clean(vis = 'f'+str(field)+'_cont.vis',\n",
    "      imagename = 'f'+str(field)+'_cont_best',\n",
    "      mode = 'mfs',\n",
    "      psfmode = 'clark',\n",
    "      niter = 2000,\n",
    "      threshold   = '0.0mJy',\n",
    "      interactive = True,\n",
    "      mask = '',\n",
    "      cell        = cell,\n",
    "      imsize      = imsize,\n",
    "      weighting   = 'briggs',\n",
    "      robust      = 0.5,                                      # CHANGEME\n",
    "      imagermode  = imagermode)\n"
   ]
  },
  {
   "cell_type": "markdown",
   "id": "c327332c",
   "metadata": {},
   "source": [
    "placed mask around outer continuum contour\n",
    "stopped after 200 iterations once the inside became green\n"
   ]
  },
  {
   "cell_type": "code",
   "execution_count": null,
   "id": "e3ce47b6",
   "metadata": {},
   "outputs": [],
   "source": [
    "im_max = imstat(imagename = 'f'+str(field)+'_cont_best.image')['max'][0]\n",
    "im_rms = imstat(imagename = 'f'+str(field)+'_cont_best.image',\n",
    "                region='annulus[['+str(xc)+'pix,'+str(yc)+'pix],['+str(in_a)+'pix,'+str(out_a)+'pix]]')['rms'][0]\n",
    "bmaj = imhead(imagename = 'f'+str(field)+'_cont_best.image', mode=\"get\", hdkey=\"beammajor\")\n",
    "bmin = imhead(imagename = 'f'+str(field)+'_cont_best.image', mode=\"get\", hdkey=\"beamminor\")\n",
    "print 'Peak = {0:.2f} mJy, rms = {1:.2f} mJy, S/N = {2:.1f}'.format(1000*im_max, 1000*im_rms, im_max/im_rms)\n",
    "print 'Beam = {0:.2f} x {1:.2f} arcsec'.format(bmaj.get('value'),bmin.get('value'))\n"
   ]
  },
  {
   "cell_type": "markdown",
   "id": "ab2b735c",
   "metadata": {},
   "source": [
    "robust = 0.5\n",
    "Peak = 3.78 mJy, rms = 0.21 mJy, S/N = 17.7\n",
    "Beam = 0.34 x 0.28 arcsec\n",
    "save this to a fits file\n"
   ]
  },
  {
   "cell_type": "code",
   "execution_count": null,
   "id": "cacb62bc",
   "metadata": {},
   "outputs": [],
   "source": [
    "exportfits(imagename='f'+str(field)+'_cont_best.image', fitsimage='f'+str(field)+'_cont.fits')\n"
   ]
  },
  {
   "cell_type": "markdown",
   "id": "7462a931",
   "metadata": {},
   "source": [
    "measure flux\n",
    "imview(raster=[{'file':'f'+str(field)+'_cont_best.image'}])\n"
   ]
  },
  {
   "cell_type": "code",
   "execution_count": null,
   "id": "c7a1d551",
   "metadata": {},
   "outputs": [],
   "source": [
    "im_rms = imstat(imagename = 'f'+str(field)+'_cont_best.image',\n",
    "                region='annulus[['+str(xc)+'pix,'+str(yc)+'pix],['+str(in_a)+'pix,'+str(out_a)+'pix]]')['rms'][0]\n",
    "im_flux = imstat(imagename = 'f'+str(field)+'_cont_best.image',\n",
    "                 region='circle[['+str(xc)+'pix,'+str(yc)+'pix],'+str(aper)+'arcsec]')['flux'][0]\n",
    "print 'Flux = {0:.2f} mJy, rms = {1:.2f} mJy, S/N = {2:.1f}'.format(1000*im_flux, 1000*im_rms, im_flux/im_rms)\n"
   ]
  },
  {
   "cell_type": "markdown",
   "id": "1020d79d",
   "metadata": {},
   "source": [
    "Flux = 3.78 mJy, rms = 0.21 mJy, S/N = 17.7\n",
    "re-center image on source and use get_flux.py to get COG flux\n"
   ]
  },
  {
   "cell_type": "code",
   "execution_count": null,
   "id": "8ea20511",
   "metadata": {},
   "outputs": [],
   "source": [
    "ia.fromimage(outfile = 'f'+str(field)+'_cont_cropped.image',\n",
    "             infile  = 'f'+str(field)+'_cont.fits',\n",
    "             region  = box )\n",
    "ia.close() \n",
    "exportfits(imagename = 'f'+str(field)+'_cont_cropped.image',\n",
    "           fitsimage = 'f'+str(field)+'_cont_cropped.fits')\n"
   ]
  },
  {
   "cell_type": "markdown",
   "id": "6f4e4a34",
   "metadata": {},
   "source": [
    "#  Measure flux with UVMODELFIT "
   ]
  },
  {
   "cell_type": "markdown",
   "id": "8187e82d",
   "metadata": {},
   "source": [
    "calculate offset from phase center in arcsec\n"
   ]
  },
  {
   "cell_type": "code",
   "execution_count": null,
   "id": "31c1b321",
   "metadata": {},
   "outputs": [],
   "source": [
    "pixscale = 0.03             # must match 'cell'                 \n",
    "dx = pixscale*(320.0-xc)    # offset to east (left)\n",
    "dy = pixscale*(yc-320.0)    # offset to north (up)\n"
   ]
  },
  {
   "cell_type": "markdown",
   "id": "363c6f20",
   "metadata": {},
   "source": [
    "measure flux as gaussian\n"
   ]
  },
  {
   "cell_type": "code",
   "execution_count": null,
   "id": "1015a024",
   "metadata": {},
   "outputs": [],
   "source": [
    "uvmodelfit(vis       = 'f'+str(field)+'_cont.vis',\n",
    "           comptype  = 'G',\n",
    "           sourcepar = [im_flux,dx,dy,0.5,1,0],\n",
    "           varypar   = [T,T,T,T,T,T],\n",
    "           niter     = 10)\n"
   ]
  },
  {
   "cell_type": "code",
   "execution_count": null,
   "id": "5a0720d8",
   "metadata": {},
   "outputs": [],
   "source": [
    "reduced chi2=1.38272\n",
    "I = 0.00411948 +/- 0.000259824\n",
    "x = -0.0387433 +/- 0.00727389 arcsec\n",
    "y = -0.421546 +/- 0.00630418 arcsec\n",
    "a = 0.0926411 +/- 0.0384574 arcsec\n",
    "r = 0.750554 +/- 0.720239\n",
    "p = 18.1733 +/- 95.1054 deg\n",
    "a/e_a only 2.4 so using point source\n"
   ]
  },
  {
   "cell_type": "markdown",
   "id": "cee86922",
   "metadata": {},
   "source": [
    "measure flux as point source\n"
   ]
  },
  {
   "cell_type": "code",
   "execution_count": null,
   "id": "e3c644e9",
   "metadata": {},
   "outputs": [],
   "source": [
    "uvmodelfit(vis       = 'f'+str(field)+'_cont.vis',\n",
    "           comptype  = 'P',\n",
    "           sourcepar = [im_flux,dx,dy],\n",
    "           varypar   = [T,T,T],\n",
    "           niter     = 10)\n"
   ]
  },
  {
   "cell_type": "code",
   "execution_count": null,
   "id": "873190e9",
   "metadata": {},
   "outputs": [],
   "source": [
    "reduced chi2=1.38271\n",
    "I = 0.00387804 +/- 0.000172965\n",
    "x = -0.0383699 +/- 0.00704348 arcsec\n",
    "y = -0.422183 +/- 0.00584828 arcsec\n",
    "consistent with than aperture method\n",
    "16:08:55.517 -39:02:34.322\n"
   ]
  }
 ],
 "metadata": {},
 "nbformat": 4,
 "nbformat_minor": 5
}
