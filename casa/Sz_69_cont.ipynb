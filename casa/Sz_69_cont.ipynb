{
 "cells": [
  {
   "cell_type": "code",
   "execution_count": null,
   "id": "5722c028",
   "metadata": {},
   "outputs": [],
   "source": [
    "#!/usr/bin/env\n"
   ]
  },
  {
   "cell_type": "markdown",
   "id": "c34373ee",
   "metadata": {},
   "source": [
    "\"\"\"\n"
   ]
  },
  {
   "cell_type": "markdown",
   "id": "d8f03494",
   "metadata": {},
   "source": []
  },
  {
   "cell_type": "markdown",
   "id": "a0c38735",
   "metadata": {},
   "source": [
    "split, clean, and self-cal continuum and line data\n",
    "NOTE: this is intended to be an interactive, iterative process\n",
    "      so this is more a log that should be run by cutting and\n",
    "      pasting into casa rather than as an executable script\n",
    "      search \"CHANGEME\" for variables to be changed\n",
    "10/9/15 MCA\n",
    "\"\"\"\n"
   ]
  },
  {
   "cell_type": "markdown",
   "id": "4f227690",
   "metadata": {},
   "source": [
    "#  Setup "
   ]
  },
  {
   "cell_type": "markdown",
   "id": "787f75ad",
   "metadata": {},
   "source": [
    "I_16 M4.5 II\n",
    "15:45:17.420 -34:18:28.501\n"
   ]
  },
  {
   "cell_type": "code",
   "execution_count": null,
   "id": "4576fe00",
   "metadata": {},
   "outputs": [],
   "source": [
    "field = 35                                     # CHANGEME \n",
    "file_ms = '../science_calibrated.ms'\n",
    "contspw   = '2,3,4,7,8,9'                      # continuum spectral windows\n",
    "contspw_w = [128,3840,1920,128,3840,1920]      # continuum spw widths\n",
    "robust     = 0.5                               # CHANGEME\n",
    "imsize     = [640,640]\n",
    "cell       = '0.03arcsec'\n",
    "imagermode = 'csclean'\n",
    "refant     = 'DA52'                            # CHANGEME\n",
    "xc         = 331                               # CHANGEME\n",
    "yc         = 314                               # CHANGEME\n",
    "in_a       = 80\n",
    "out_a      = 120\n",
    "aper       = 0.5\n",
    "boxwidth = 300.\n",
    "box = rg.box([xc-boxwidth,yc-boxwidth],[xc+boxwidth,yc+boxwidth])\n"
   ]
  },
  {
   "cell_type": "markdown",
   "id": "5289ff07",
   "metadata": {},
   "source": [
    "#  Split Off Continuum "
   ]
  },
  {
   "cell_type": "markdown",
   "id": "63b6719b",
   "metadata": {},
   "source": [
    "split off field from full ms\n"
   ]
  },
  {
   "cell_type": "code",
   "execution_count": null,
   "id": "29baa56d",
   "metadata": {},
   "outputs": [],
   "source": [
    "split(vis = file_ms,\n",
    "      outputvis = 'f'+str(field)+'.vis',\n",
    "      field = field,\n",
    "      datacolumn = 'data')\n"
   ]
  },
  {
   "cell_type": "markdown",
   "id": "5783d27b",
   "metadata": {},
   "source": [
    "split off continuum (take the large bw spw and average\n"
   ]
  },
  {
   "cell_type": "code",
   "execution_count": null,
   "id": "639c98ad",
   "metadata": {},
   "outputs": [],
   "source": [
    "split(vis = 'f'+str(field)+'.vis',\n",
    "      outputvis = 'f'+str(field)+'_cont.vis',\n",
    "      spw = contspw,\n",
    "      width = contspw_w,\n",
    "      datacolumn = 'data')\n"
   ]
  },
  {
   "cell_type": "markdown",
   "id": "34eb9781",
   "metadata": {},
   "source": [
    "plot uv-distance vs. amplitude\n"
   ]
  },
  {
   "cell_type": "code",
   "execution_count": null,
   "id": "e3a97a6f",
   "metadata": {},
   "outputs": [],
   "source": [
    "plotms(vis='f'+str(field)+'_cont.vis',\n",
    "       xaxis='uvdist',yaxis='amp',\n",
    "       coloraxis='spw')\n",
    "       # plotfile='f'+str(field)+'_ampuv_orig.png'\n",
    "       # showgui=False,\n",
    "       # highres=True,\n",
    "       # overwrite=True)\n"
   ]
  },
  {
   "cell_type": "markdown",
   "id": "65350d0e",
   "metadata": {},
   "source": [
    "source is unresolved\n",
    "find antenna close to center of configuration\n",
    "check pipeline log that this ant is OK\n"
   ]
  },
  {
   "cell_type": "code",
   "execution_count": null,
   "id": "49d35f0f",
   "metadata": {},
   "outputs": [],
   "source": [
    "plotants(vis='f'+str(field)+'_cont.vis') #, figfile='f'+str(field)+'_ants.png')\n"
   ]
  },
  {
   "cell_type": "markdown",
   "id": "d65ea421",
   "metadata": {},
   "source": [
    "#  Clean continuum before selfcal "
   ]
  },
  {
   "cell_type": "markdown",
   "id": "ee6a2403",
   "metadata": {},
   "source": [
    "light clean (100 iterations) to set the mask around the main peaks\n",
    "os.system('rm -rf f'+str(field)+'_cont_b4sc*')\n"
   ]
  },
  {
   "cell_type": "code",
   "execution_count": null,
   "id": "40c8b45d",
   "metadata": {},
   "outputs": [],
   "source": [
    "clean(vis = 'f'+str(field)+'_cont.vis',\n",
    "      imagename = 'f'+str(field)+'_cont_b4sc',\n",
    "      mode = 'mfs',\n",
    "      psfmode = 'clark',\n",
    "      niter = 100,\n",
    "      threshold = '0.0mJy',\n",
    "      interactive = True,\n",
    "      mask = '',\n",
    "      cell = cell,\n",
    "      imsize = imsize,\n",
    "      weighting = 'briggs',\n",
    "      robust = robust,\n",
    "      imagermode = imagermode)\n",
    "im_max = imstat(imagename = 'f'+str(field)+'_cont_b4sc.image')['max'][0]\n",
    "im_rms = imstat(imagename = 'f'+str(field)+'_cont_b4sc.image',\n",
    "                region='annulus[['+str(xc)+'pix,'+str(yc)+'pix],['+str(in_a)+'pix,'+str(out_a)+'pix]]')['rms'][0]\n",
    "print 'Peak = {0:.2f} mJy, rms = {1:.2f} mJy, S/N = {2:.1f}'.format(1000*im_max, 1000*im_rms, im_max/im_rms)\n"
   ]
  },
  {
   "cell_type": "markdown",
   "id": "59966c16",
   "metadata": {},
   "source": [
    "Peak = 14.74 mJy, rms = 0.27 mJy, S/N = 53.6\n"
   ]
  },
  {
   "cell_type": "markdown",
   "id": "0c887b40",
   "metadata": {},
   "source": [
    "#  Self-Calibrate 1 "
   ]
  },
  {
   "cell_type": "markdown",
   "id": "aa78c280",
   "metadata": {},
   "source": [
    "first combine all the data by time (solint = inf)\n",
    "i.e., phase self-cal over entire integration time\n"
   ]
  },
  {
   "cell_type": "code",
   "execution_count": null,
   "id": "e37626ee",
   "metadata": {},
   "outputs": [],
   "source": [
    "gaincal(vis = 'f'+str(field)+'_cont.vis',\n",
    "        caltable = 'f'+str(field)+'_cont_pcal1',\n",
    "        refant = refant,\n",
    "        solint = 'inf',\n",
    "        combine = 'spw',\n",
    "        gaintype = 'T',\n",
    "        spw = '',\n",
    "        calmode = 'p',\n",
    "        minblperant = 4,\n",
    "        minsnr = 3)\n"
   ]
  },
  {
   "cell_type": "markdown",
   "id": "476fa471",
   "metadata": {},
   "source": [
    "plot phase for each antenna\n"
   ]
  },
  {
   "cell_type": "code",
   "execution_count": null,
   "id": "213cef63",
   "metadata": {},
   "outputs": [],
   "source": [
    "plotcal(caltable = 'f'+str(field)+'_cont_pcal1',\n",
    "        xaxis = 'time',\n",
    "        yaxis = 'phase',\n",
    "        spw = '',\n",
    "        iteration = 'antenna',\n",
    "        subplot = 421,\n",
    "        plotrange = [0,0,-200,200]) \n"
   ]
  },
  {
   "cell_type": "markdown",
   "id": "26e0ce9f",
   "metadata": {},
   "source": [
    "apply calibration to data\n"
   ]
  },
  {
   "cell_type": "code",
   "execution_count": null,
   "id": "31c68484",
   "metadata": {},
   "outputs": [],
   "source": [
    "applycal(vis = 'f'+str(field)+'_cont.vis',\n",
    "        spw = '',\n",
    "        gaintable = ['f'+str(field)+'_cont_pcal1'],\n",
    "        spwmap = [0,0,0,0,0,0],\n",
    "        calwt = T,\n",
    "        flagbackup = F)\n"
   ]
  },
  {
   "cell_type": "markdown",
   "id": "b5167638",
   "metadata": {},
   "source": [
    "clean self-calibrated data\n"
   ]
  },
  {
   "cell_type": "code",
   "execution_count": null,
   "id": "57649ae7",
   "metadata": {},
   "outputs": [],
   "source": [
    "clean(vis = 'f'+str(field)+'_cont.vis',\n",
    "      imagename = 'f'+str(field)+'_cont_pcal1_clean',\n",
    "      mode = 'mfs',\n",
    "      psfmode = 'clark',\n",
    "      niter = 100,\n",
    "      threshold   = '0.0mJy',\n",
    "      interactive = False,\n",
    "      mask = 'f'+str(field)+'_cont_b4sc.mask',\n",
    "      cell        = cell,\n",
    "      imsize      = imsize,\n",
    "      weighting   = 'briggs',\n",
    "      robust      = robust,\n",
    "      imagermode  = imagermode)\n",
    "im_max = imstat(imagename = 'f'+str(field)+'_cont_pcal1_clean.image')['max'][0]\n",
    "im_rms = imstat(imagename = 'f'+str(field)+'_cont_pcal1_clean.image',\n",
    "                region='annulus[['+str(xc)+'pix,'+str(yc)+'pix],['+str(in_a)+'pix,'+str(out_a)+'pix]]')['rms'][0]\n",
    "print 'Peak = {0:.2f} mJy, rms = {1:.2f} mJy, S/N = {2:.1f}'.format(1000*im_max, 1000*im_rms, im_max/im_rms)\n"
   ]
  },
  {
   "cell_type": "markdown",
   "id": "0cbfd4d8",
   "metadata": {},
   "source": [
    "Peak = 16.07 mJy, rms = 0.24 mJy, S/N = 66.2 (better)\n",
    "inspect images\n"
   ]
  },
  {
   "cell_type": "code",
   "execution_count": null,
   "id": "8eebd189",
   "metadata": {},
   "outputs": [],
   "source": [
    "imview(raster=[{'file':'f'+str(field)+'_cont_b4sc.image'},\n",
    "               {'file':'f'+str(field)+'_cont_pcal1_clean.image'}])\n"
   ]
  },
  {
   "cell_type": "markdown",
   "id": "2c85710d",
   "metadata": {},
   "source": [
    "slightly less background noise in pcal1, more defined\n"
   ]
  },
  {
   "cell_type": "markdown",
   "id": "43e80b97",
   "metadata": {},
   "source": [
    "#  Best Continuum Map "
   ]
  },
  {
   "cell_type": "markdown",
   "id": "19e9ece1",
   "metadata": {},
   "source": [
    "so now run the same applycal but with flagbackup = T,\n"
   ]
  },
  {
   "cell_type": "code",
   "execution_count": null,
   "id": "b2340ba1",
   "metadata": {},
   "outputs": [],
   "source": [
    "applycal(vis = 'f'+str(field)+'_cont.vis',\n",
    "        spw = '',\n",
    "        gaintable = ['f'+str(field)+'_cont_pcal1'],         # CHANGEME\n",
    "        spwmap = [0,0,0,0,0,0],\n",
    "        calwt = T,\n",
    "        flagbackup = T)\n"
   ]
  },
  {
   "cell_type": "markdown",
   "id": "ab9b5257",
   "metadata": {},
   "source": [
    "deep clean, trying different robust weights\n",
    "os.system('rm -rf f'+str(field)+'_cont_best*')\n"
   ]
  },
  {
   "cell_type": "code",
   "execution_count": null,
   "id": "c3a06d16",
   "metadata": {},
   "outputs": [],
   "source": [
    "clean(vis = 'f'+str(field)+'_cont.vis',\n",
    "      imagename = 'f'+str(field)+'_cont_best',\n",
    "      mode = 'mfs',\n",
    "      psfmode = 'clark',\n",
    "      niter = 2000,\n",
    "      threshold   = '0.0mJy',\n",
    "      interactive = True,\n",
    "      mask = '',\n",
    "      cell        = cell,\n",
    "      imsize      = imsize,\n",
    "      weighting   = 'briggs',\n",
    "      robust      = robust,                                      # CHANGEME\n",
    "      imagermode  = imagermode)\n"
   ]
  },
  {
   "cell_type": "markdown",
   "id": "471d098d",
   "metadata": {},
   "source": [
    "placed mask around outer continuum contour\n",
    "stopped after 300 iterations once the inside became green\n"
   ]
  },
  {
   "cell_type": "code",
   "execution_count": null,
   "id": "b8403753",
   "metadata": {},
   "outputs": [],
   "source": [
    "im_max = imstat(imagename = 'f'+str(field)+'_cont_best.image')['max'][0]\n",
    "im_rms = imstat(imagename = 'f'+str(field)+'_cont_best.image',\n",
    "                region='annulus[['+str(xc)+'pix,'+str(yc)+'pix],['+str(in_a)+'pix,'+str(out_a)+'pix]]')['rms'][0]\n",
    "bmaj = imhead(imagename = 'f'+str(field)+'_cont_best.image', mode=\"get\", hdkey=\"beammajor\")\n",
    "bmin = imhead(imagename = 'f'+str(field)+'_cont_best.image', mode=\"get\", hdkey=\"beamminor\")\n",
    "print 'Peak = {0:.2f} mJy, rms = {1:.2f} mJy, S/N = {2:.1f}'.format(1000*im_max, 1000*im_rms, im_max/im_rms)\n",
    "print 'Beam = {0:.2f} x {1:.2f} arcsec'.format(bmaj.get('value'),bmin.get('value'))\n"
   ]
  },
  {
   "cell_type": "markdown",
   "id": "3e7091d4",
   "metadata": {},
   "source": [
    "robust = +0.5\n",
    "Peak = 16.06 mJy, rms = 0.24 mJy, S/N = 66.3\n",
    "Beam = 0.35 x 0.27 arcsec\n",
    "save this to a fits file\n",
    "os.system('rm -rf f'+str(field)+'_cont.fits*')\n"
   ]
  },
  {
   "cell_type": "code",
   "execution_count": null,
   "id": "57e0d7a9",
   "metadata": {},
   "outputs": [],
   "source": [
    "exportfits(imagename='f'+str(field)+'_cont_best.image', fitsimage='f'+str(field)+'_cont.fits')\n"
   ]
  },
  {
   "cell_type": "markdown",
   "id": "6b74864d",
   "metadata": {},
   "source": [
    "compare to before self-cal\n"
   ]
  },
  {
   "cell_type": "code",
   "execution_count": null,
   "id": "c964bd76",
   "metadata": {},
   "outputs": [],
   "source": [
    "imview(raster=[{'file':'f'+str(field)+'_cont_b4sc.image'},\n",
    "               {'file':'f'+str(field)+'_cont_best.image'}])\n"
   ]
  },
  {
   "cell_type": "markdown",
   "id": "b7d0cd59",
   "metadata": {},
   "source": [
    "measure flux\n",
    "imview(raster=[{'file':'f'+str(field)+'_cont_best.image'}])\n"
   ]
  },
  {
   "cell_type": "code",
   "execution_count": null,
   "id": "533d8cd3",
   "metadata": {},
   "outputs": [],
   "source": [
    "im_rms = imstat(imagename = 'f'+str(field)+'_cont_best.image',\n",
    "                region='annulus[['+str(xc)+'pix,'+str(yc)+'pix],['+str(in_a)+'pix,'+str(out_a)+'pix]]')['rms'][0]\n",
    "im_flux = imstat(imagename = 'f'+str(field)+'_cont_best.image',\n",
    "                 region='circle[['+str(xc)+'pix,'+str(yc)+'pix],'+str(aper)+'arcsec]')['flux'][0]\n",
    "print 'Flux = {0:.2f} mJy, rms = {1:.2f} mJy, S/N = {2:.1f}'.format(1000*im_flux, 1000*im_rms, im_flux/im_rms)\n"
   ]
  },
  {
   "cell_type": "markdown",
   "id": "ed8ec465",
   "metadata": {},
   "source": [
    "Flux = 16.72 mJy, rms = 0.24 mJy, S/N = 69.0\n",
    "re-center image on source and use get_flux.py to get COG flux\n"
   ]
  },
  {
   "cell_type": "code",
   "execution_count": null,
   "id": "3e99e56b",
   "metadata": {},
   "outputs": [],
   "source": [
    "ia.fromimage(outfile = 'f'+str(field)+'_cont_cropped.image',\n",
    "             infile  = 'f'+str(field)+'_cont.fits',\n",
    "             region  = box )\n",
    "ia.close() \n",
    "exportfits(imagename = 'f'+str(field)+'_cont_cropped.image',\n",
    "           fitsimage = 'f'+str(field)+'_cont_cropped.fits')\n"
   ]
  },
  {
   "cell_type": "markdown",
   "id": "788d1c03",
   "metadata": {},
   "source": [
    "#  Measure flux with UVMODELFIT "
   ]
  },
  {
   "cell_type": "markdown",
   "id": "d3e400ae",
   "metadata": {},
   "source": [
    "calculate offset from phase center in arcsec\n"
   ]
  },
  {
   "cell_type": "code",
   "execution_count": null,
   "id": "a8cd9d60",
   "metadata": {},
   "outputs": [],
   "source": [
    "pixscale = 0.03             # must match 'cell'                 \n",
    "dx = pixscale*(320.0-xc)    # offset to east (left)\n",
    "dy = pixscale*(yc-320.0)    # offset to north (up)\n"
   ]
  },
  {
   "cell_type": "markdown",
   "id": "ce3e3a27",
   "metadata": {},
   "source": [
    "measure flux as gaussian\n"
   ]
  },
  {
   "cell_type": "code",
   "execution_count": null,
   "id": "d675a397",
   "metadata": {},
   "outputs": [],
   "source": [
    "uvmodelfit(vis       = 'f'+str(field)+'_cont.vis',\n",
    "           comptype  = 'G',\n",
    "           sourcepar = [im_flux,dx,dy,0.5,1,0],\n",
    "           varypar   = [T,T,T,T,T,T],\n",
    "           niter     = 10)\n"
   ]
  },
  {
   "cell_type": "code",
   "execution_count": null,
   "id": "7bd3ed88",
   "metadata": {},
   "outputs": [],
   "source": [
    "reduced chi2=1.39235\n",
    "I = 0.016961 +/- 0.000283862\n",
    "x = -0.319612 +/- 0.0019422 arcsec\n",
    "y = -0.165012 +/- 0.00160381 arcsec\n",
    "a = 0.0922822 +/- 0.0122796 arcsec\n",
    "r = 0.355692 +/- 0.349097\n",
    "p = -38.795 +/- 10.9759 deg\n",
    "consistent with aperture and point-source mehtods\n",
    "15:45:17.394 -34:18:28.665\n"
   ]
  }
 ],
 "metadata": {},
 "nbformat": 4,
 "nbformat_minor": 5
}
