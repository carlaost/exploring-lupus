{
 "cells": [
  {
   "cell_type": "code",
   "execution_count": null,
   "id": "baa15be3",
   "metadata": {},
   "outputs": [],
   "source": [
    "#!/usr/bin/env\n"
   ]
  },
  {
   "cell_type": "markdown",
   "id": "61a3861a",
   "metadata": {},
   "source": [
    "\"\"\"\n"
   ]
  },
  {
   "cell_type": "markdown",
   "id": "d07ff3a8",
   "metadata": {},
   "source": []
  },
  {
   "cell_type": "markdown",
   "id": "2c955396",
   "metadata": {},
   "source": [
    "make line datacubes and integrated maps\n",
    "and compare applying continuum selfcal\n",
    "NOTE: this is intended to be an interactive, iterative process\n",
    "      so this is more a log that should be run by cutting and\n",
    "      pasting into casa rather than as an executable script\n",
    "      search \"CHANGEME\" for variables to be changed\n",
    "10/9/15 MCA\n",
    "\"\"\"\n"
   ]
  },
  {
   "cell_type": "markdown",
   "id": "f1cf4066",
   "metadata": {},
   "source": [
    "#  Setup "
   ]
  },
  {
   "cell_type": "markdown",
   "id": "a41e98ab",
   "metadata": {},
   "source": [
    "IV_145 K7.0 II\n",
    "16:00:02.38 -42:22:15.6\n"
   ]
  },
  {
   "cell_type": "code",
   "execution_count": null,
   "id": "9790657d",
   "metadata": {},
   "outputs": [],
   "source": [
    "field = 27                                     # CHANGEME \n",
    "fitspw    = '2,3,4,7,8,9'                      # line-free channels for fitting continuum\n",
    "linespw   = '0,1,3,5,6,8'                      # line spectral windows (C18O, 13CO, CN)\n",
    "robust     = 0.5                               # CHANGEME\n",
    "imsize     = [640,640]\n",
    "cell       = '0.03arcsec'\n",
    "imagermode = 'csclean'\n",
    "outframe   = 'lsrk'\n",
    "veltype    = 'radio'\n",
    "width      = '1.0km/s'\n",
    "start      = '-1km/s'\n",
    "nchan      = 11\n",
    "xc         = 331                               # CHANGEME\n",
    "yc         = 337                               # CHANGEME\n",
    "in_a       = 80\n",
    "out_a      = 120\n",
    "aper       = 1.25\n",
    "boxwidth = 300.\n",
    "box = rg.box([xc-boxwidth,yc-boxwidth],[xc+boxwidth,yc+boxwidth])\n"
   ]
  },
  {
   "cell_type": "markdown",
   "id": "d20cee70",
   "metadata": {},
   "source": [
    "#  Create continuum subtracted line datasets "
   ]
  },
  {
   "cell_type": "code",
   "execution_count": null,
   "id": "6c23556b",
   "metadata": {},
   "outputs": [],
   "source": [
    "uvcontsub(vis       = 'f'+str(field)+'.vis',                # full vis file for this field\n",
    "          spw       = linespw,                              # line spw (for cont subtraction)\n",
    "          fitspw    = fitspw,                               # cont spw\n",
    "          combine   = 'spw',\n",
    "          solint    = 'int',\n",
    "          fitorder  = 1,\n",
    "          want_cont = False)                                # should not be changed.\n"
   ]
  },
  {
   "cell_type": "markdown",
   "id": "f7af4141",
   "metadata": {},
   "source": [
    "#  13CO line "
   ]
  },
  {
   "cell_type": "markdown",
   "id": "aef9ec7e",
   "metadata": {},
   "source": [
    "first try on 13CO line as thats going to be the brightest\n",
    "os.system('rm -rf test_f'+str(field)+'_13co32*')\n"
   ]
  },
  {
   "cell_type": "code",
   "execution_count": null,
   "id": "8d05803f",
   "metadata": {},
   "outputs": [],
   "source": [
    "clean(vis           = 'f'+str(field)+'.vis.contsub',\n",
    "      imagename     = 'test_f'+str(field)+'_13co32',\n",
    "      mode          = 'velocity',\n",
    "      start         = start,\n",
    "      width         = width,\n",
    "      nchan         = nchan,\n",
    "      outframe      = outframe,\n",
    "      veltype       = veltype,\n",
    "      restfreq      = '330.58797GHz',\n",
    "      niter         = 2000,\n",
    "      threshold     = 0,\n",
    "      interactive   = True,\n",
    "      imsize        = imsize,\n",
    "      cell          = cell,\n",
    "      weighting     ='briggs',\n",
    "      robust        = robust,\n",
    "      imagermode    = imagermode)\n"
   ]
  },
  {
   "cell_type": "markdown",
   "id": "1477154d",
   "metadata": {},
   "source": [
    "export cube to fits file    \n"
   ]
  },
  {
   "cell_type": "code",
   "execution_count": null,
   "id": "55c07c56",
   "metadata": {},
   "outputs": [],
   "source": [
    "fbase = 'test_f'+str(field)+'_13co32'\n",
    "os.system('rm -rf '+fbase+'.cube.fits')\n",
    "exportfits(imagename=fbase+'.image',fitsimage=fbase+'.cube.fits')\n"
   ]
  },
  {
   "cell_type": "markdown",
   "id": "d7a3d3c0",
   "metadata": {},
   "source": [
    "use viewer to check channel maps and spectrum\n",
    "make sure that velocity range is adequate and continuum subtraction ok\n"
   ]
  },
  {
   "cell_type": "code",
   "execution_count": null,
   "id": "33adf185",
   "metadata": {},
   "outputs": [],
   "source": [
    "imview(raster   = [{'file':'test_f'+str(field)+'_13co32.image'}],\n",
    "        contour = [{'file':'f'+str(field)+'_cont.fits'}])\n"
   ]
  },
  {
   "cell_type": "markdown",
   "id": "8b0b2e26",
   "metadata": {},
   "source": [
    "redo moment0 maps (now excluding noisy first channel!!)\n",
    "os.system('rm -rf test_f'+str(field)+'_13co32_mom0*')\n"
   ]
  },
  {
   "cell_type": "code",
   "execution_count": null,
   "id": "70d5c79a",
   "metadata": {},
   "outputs": [],
   "source": [
    "immoments(imagename  = 'test_f'+str(field)+'_13co32.image',              # CHANGEME (based on above analysis!!)\n",
    "          outfile    = 'test_f'+str(field)+'_13co32_mom0.image',\n",
    "          moments    = [0],\n",
    "          includepix = [-10.0,100.0],\n",
    "          chans      = ('range=[2km/s,6km/s]'))                      # CHANGEME (based on above analysis!!)\n",
    "fbase = 'test_f'+str(field)+'_13co32_mom0'\n",
    "os.system('rm -rf '+fbase+'.fits')\n",
    "exportfits(imagename=fbase+'.image',fitsimage=fbase+'.fits')\n"
   ]
  },
  {
   "cell_type": "markdown",
   "id": "8004d6f8",
   "metadata": {},
   "source": [
    "###FIRST MOMENT MAP\n"
   ]
  },
  {
   "cell_type": "code",
   "execution_count": null,
   "id": "cf17bca0",
   "metadata": {},
   "outputs": [],
   "source": [
    "sigma = 14e-3  # Jy/beam in peak velocity channel\n",
    "os.system('rm -rf test_f27_13co32_mom1.image')\n",
    "immoments(imagename  = 'test_f27_13co32.cube.fits',\n",
    "          outfile    = 'test_f27_13co32_mom1.image',\n",
    "          moments    = [1],\n",
    "          includepix = [3.0*sigma,100.0],\n",
    "          chans      = ('range=[2km/s,6km/s]'))\n",
    "os.system('rm -rf test_f27_13co32_mom1.fits')\n",
    "exportfits(imagename='test_f27_13co32_mom1.image',fitsimage='test_f27_13co32_mom1.fits')\n",
    "os.system('rm -rf f27_13co32_mom1.image')\n"
   ]
  },
  {
   "cell_type": "markdown",
   "id": "487738a6",
   "metadata": {},
   "source": [
    "export to fits file    \n"
   ]
  },
  {
   "cell_type": "code",
   "execution_count": null,
   "id": "271206c0",
   "metadata": {},
   "outputs": [],
   "source": [
    "fbase = 'f'+str(field)+'_13co32.mom0'\n",
    "os.system('rm -rf '+fbase+'.fits')\n",
    "exportfits(imagename=fbase,fitsimage=fbase+'.fits')\n"
   ]
  },
  {
   "cell_type": "markdown",
   "id": "01acf0d0",
   "metadata": {},
   "source": [
    "measure flux\n"
   ]
  },
  {
   "cell_type": "code",
   "execution_count": null,
   "id": "f5606b90",
   "metadata": {},
   "outputs": [],
   "source": [
    "im_max = imstat(imagename = 'f'+str(field)+'_13co32.mom0')['max'][0]\n",
    "im_rms = imstat(imagename = 'f'+str(field)+'_13co32.mom0',\n",
    "                region='annulus[['+str(xc)+'pix,'+str(yc)+'pix],['+str(in_a)+'pix,'+str(out_a)+'pix]]')['rms'][0]\n",
    "im_flux = imstat(imagename = 'f'+str(field)+'_13co32.mom0',\n",
    "                 region='circle[['+str(xc)+'pix,'+str(yc)+'pix],'+str(aper)+'arcsec]')['flux'][0]\n",
    "print 'Flux = {0:.2f} mJy, rms = {1:.2f} mJy, S/N = {2:.1f}'.format(1000*im_flux, 1000*im_rms, im_flux/im_rms)\n"
   ]
  },
  {
   "cell_type": "markdown",
   "id": "19e3a80a",
   "metadata": {},
   "source": [
    "Flux = 1838.36 mJy, rms = 32.14 mJy, S/N = 57.2\n",
    "view continuum and gas\n"
   ]
  },
  {
   "cell_type": "code",
   "execution_count": null,
   "id": "398e57bf",
   "metadata": {},
   "outputs": [],
   "source": [
    "imview(raster=[{'file':'f'+str(field)+'_13co32.mom0'}],\n",
    "       contour = [{'file':'f'+str(field)+'_cont.fits'}])\n"
   ]
  },
  {
   "cell_type": "markdown",
   "id": "d10171c9",
   "metadata": {},
   "source": [
    "re-center image on source and use measure.py to get COG flux\n",
    "os.system('rm -rf f'+str(field)+'_13co32.mom0_cropped*')\n"
   ]
  },
  {
   "cell_type": "code",
   "execution_count": null,
   "id": "4bd83595",
   "metadata": {},
   "outputs": [],
   "source": [
    "ia.fromimage(outfile = 'f'+str(field)+'_13co32.mom0_cropped.image',\n",
    "             infile  = 'f'+str(field)+'_13co32.mom0.fits',\n",
    "             region  = box )\n",
    "ia.close() \n",
    "exportfits(imagename = 'f'+str(field)+'_13co32.mom0_cropped.image',\n",
    "           fitsimage = 'f'+str(field)+'_13co32.mom0_cropped.fits')\n"
   ]
  },
  {
   "cell_type": "code",
   "execution_count": null,
   "id": "8b27e694",
   "metadata": {},
   "outputs": [],
   "source": [
    "Measuring COG for M/f27_13co32.mom0_cropped.fits\n",
    "Assuming object center (300.0,300.0)\n",
    "Background: 0.92 mJy/beam km/s\n",
    "RMS in annulus 4.0-6.0 arcsec = 32.79 mJy/beam km/s\n",
    "   i   radius    flux      err       snr\n",
    "       (asec)    (mJy)     (mJy)\n",
    "   0     0.10    68.66     8.47      8.1\n",
    "   1     0.20   229.58    24.34      9.4\n",
    "   2     0.30   462.08    35.94     12.9\n",
    "   3     0.40   698.59    47.70     14.6\n",
    "   4     0.50   943.94    56.09     16.8\n",
    "   5     0.60  1166.67    78.93     14.8\n",
    "   6     0.70  1393.08    62.69     22.2\n",
    "   7     0.80  1584.87    76.78     20.6\n",
    "   8     0.90  1735.30    90.11     19.3\n",
    "   9     1.00  1849.28   123.08     15.0\n",
    "  10     1.10  1889.94   124.45     15.2\n",
    "  11     1.20  1857.02   119.94     15.5\n",
    "  12     1.30  1828.11   166.51     11.0\n",
    "F = 1889.94 mJy\n",
    "E = 124.45 mJy\n",
    "S = 15.2\n",
    "D = 2.20 arcsec\n"
   ]
  },
  {
   "cell_type": "markdown",
   "id": "b11df5fe",
   "metadata": {},
   "source": [
    "#  C18O line  "
   ]
  },
  {
   "cell_type": "markdown",
   "id": "3edda90c",
   "metadata": {},
   "source": [
    "don't bother with selfcal as it doesn't help...\n",
    "os.system('rm -rf f'+str(field)+'_c18o32*')\n"
   ]
  },
  {
   "cell_type": "code",
   "execution_count": null,
   "id": "ed0f00f2",
   "metadata": {},
   "outputs": [],
   "source": [
    "clean(vis           = 'f'+str(field)+'.vis.contsub',\n",
    "      imagename     = 'f'+str(field)+'_c18o32',\n",
    "      mode          = 'velocity',\n",
    "      start         = start,\n",
    "      width         = width,\n",
    "      nchan         = nchan,\n",
    "      outframe      = outframe,\n",
    "      veltype       = veltype,\n",
    "      restfreq      = '329.33055GHz',\n",
    "      niter         = 500,\n",
    "      threshold     = 0,\n",
    "      interactive   = False,\n",
    "      mask          = 'f27_cont_mask.crtf',\n",
    "      imsize        = imsize,\n",
    "      cell          = cell,\n",
    "      weighting     ='briggs',\n",
    "      robust        = robust,\n",
    "      imagermode    = imagermode)\n"
   ]
  },
  {
   "cell_type": "markdown",
   "id": "60aeae60",
   "metadata": {},
   "source": [
    "couldn't see line, just cleaned in automated mode\n",
    "in continuum region for all channels\n",
    "export cube to fits file    \n"
   ]
  },
  {
   "cell_type": "code",
   "execution_count": null,
   "id": "10548f67",
   "metadata": {},
   "outputs": [],
   "source": [
    "fbase = 'f'+str(field)+'_c18o32'\n",
    "os.system('rm -rf '+fbase+'.cube.fits')\n",
    "exportfits(imagename=fbase+'.image',fitsimage=fbase+'.cube.fits')\n"
   ]
  },
  {
   "cell_type": "markdown",
   "id": "e68ba6a6",
   "metadata": {},
   "source": [
    "use viewer to check channel maps and spectrum\n",
    "make sure that velocity range is adequate and continuum subtraction ok\n"
   ]
  },
  {
   "cell_type": "code",
   "execution_count": null,
   "id": "3fe762c6",
   "metadata": {},
   "outputs": [],
   "source": [
    "imview(raster   = [{'file':'f'+str(field)+'_c18o32.image'}],\n",
    "        contour = [{'file':'f'+str(field)+'_cont.fits'}])\n"
   ]
  },
  {
   "cell_type": "markdown",
   "id": "3f245cae",
   "metadata": {},
   "source": [
    "redo moment0 maps (now excluding noisy first channel!!)\n",
    "os.system('rm -rf f'+str(field)+'_c18o32.mom0*')\n"
   ]
  },
  {
   "cell_type": "code",
   "execution_count": null,
   "id": "c8217da1",
   "metadata": {},
   "outputs": [],
   "source": [
    "immoments(imagename  = 'f'+str(field)+'_c18o32_b4sc.image',            # CHANGEME (based on above analysis!!)\n",
    "          outfile    = 'f'+str(field)+'_c18o32.mom0',\n",
    "          moments    = [0],\n",
    "          includepix = [-10.0,100.0],\n",
    "          chans      = ('range=[2km/s,6km/s]'))\n"
   ]
  },
  {
   "cell_type": "markdown",
   "id": "7a33ea02",
   "metadata": {},
   "source": [
    "can't see emission, using same velocity range as 13CO\n",
    "export to fits file    \n"
   ]
  },
  {
   "cell_type": "code",
   "execution_count": null,
   "id": "b72d056a",
   "metadata": {},
   "outputs": [],
   "source": [
    "fbase = 'f'+str(field)+'_c18o32.mom0'\n",
    "os.system('rm -rf '+fbase+'.fits')\n",
    "exportfits(imagename=fbase,fitsimage=fbase+'.fits')\n"
   ]
  },
  {
   "cell_type": "markdown",
   "id": "00480235",
   "metadata": {},
   "source": [
    "measure flux\n"
   ]
  },
  {
   "cell_type": "code",
   "execution_count": null,
   "id": "994cb921",
   "metadata": {},
   "outputs": [],
   "source": [
    "im_rms = imstat(imagename = 'f'+str(field)+'_c18o32.mom0',\n",
    "                region='annulus[['+str(xc)+'pix,'+str(yc)+'pix],['+str(in_a)+'pix,'+str(out_a)+'pix]]')['rms'][0]\n",
    "im_flux = imstat(imagename = 'f'+str(field)+'_c18o32.mom0',\n",
    "                 region='circle[['+str(xc)+'pix,'+str(yc)+'pix],'+str(aper)+'arcsec]')['flux'][0]\n",
    "print 'Flux = {0:.2f} mJy, rms = {1:.2f} mJy, S/N = {2:.1f}'.format(1000*im_flux, 1000*im_rms, im_flux/im_rms)\n"
   ]
  },
  {
   "cell_type": "markdown",
   "id": "be3488c2",
   "metadata": {},
   "source": [
    "Flux = 405.97 mJy, rms = 37.55 mJy, S/N = 10.8\n",
    "view continuum and gas\n"
   ]
  },
  {
   "cell_type": "code",
   "execution_count": null,
   "id": "6f29ba6d",
   "metadata": {},
   "outputs": [],
   "source": [
    "imview(raster=[{'file':'f'+str(field)+'_c18o32.mom0'}],\n",
    "       contour = [{'file':'f'+str(field)+'_cont.fits'}])\n"
   ]
  },
  {
   "cell_type": "markdown",
   "id": "713bd88e",
   "metadata": {},
   "source": [
    "re-center image on source and use measure.py to get COG flux\n",
    "os.system('rm -rf f'+str(field)+'_c18o32.mom0_cropped*')\n"
   ]
  },
  {
   "cell_type": "code",
   "execution_count": null,
   "id": "4965cdb5",
   "metadata": {},
   "outputs": [],
   "source": [
    "ia.fromimage(outfile = 'f'+str(field)+'_c18o32.mom0_cropped.image',\n",
    "             infile  = 'f'+str(field)+'_c18o32.mom0.fits',\n",
    "             region  = box )\n",
    "ia.close() \n",
    "exportfits(imagename = 'f'+str(field)+'_c18o32.mom0_cropped.image',\n",
    "           fitsimage = 'f'+str(field)+'_c18o32.mom0_cropped.fits')\n"
   ]
  },
  {
   "cell_type": "code",
   "execution_count": null,
   "id": "c8d6e1e1",
   "metadata": {},
   "outputs": [],
   "source": [
    "Measuring COG for M/f27_c18o32.mom0_cropped.fits\n",
    "Assuming object center (300.0,300.0)\n",
    "Background: 1.79 mJy/beam km/s\n",
    "RMS in annulus 4.0-6.0 arcsec = 36.67 mJy/beam km/s\n",
    "   i   radius    flux      err       snr\n",
    "       (asec)    (mJy)     (mJy)\n",
    "   0     0.10    -3.65    10.85     -0.3\n",
    "   1     0.20    -5.85    27.97     -0.2\n",
    "   2     0.30    -2.30    40.52     -0.1 <-- ND\n",
    "   3     0.40     2.28    57.08      0.0\n",
    "   4     0.50    33.14    64.92      0.5\n",
    "   5     0.60   110.60    74.79      1.5\n",
    "   6     0.70   193.91    80.76      2.4\n",
    "   7     0.80   261.53   108.99      2.4\n",
    "   8     0.90   302.25    85.78      3.5\n",
    "   9     1.00   318.97    81.88      3.9\n",
    "  10     1.10   343.00   110.37      3.1\n",
    "  11     1.20   386.08    97.11      4.0\n",
    "  12     1.30   425.37   113.94      3.7\n",
    "F = 425.37 mJy\n",
    "E = 113.94 mJy\n",
    "S = 3.73\n",
    "D = 2.60 arcsec\n",
    "Doesn't look real, just looks like noise spike to the side\n",
    "Doesn't have 13CO in the same location\n"
   ]
  },
  {
   "cell_type": "markdown",
   "id": "42af67e0",
   "metadata": {},
   "source": [
    "#  Image CN  "
   ]
  },
  {
   "cell_type": "markdown",
   "id": "da49ee5d",
   "metadata": {},
   "source": [
    "don't bother with selfcal as it doesn't help...\n",
    "os.system('rm -rf f'+str(field)+'_cn32_b4sc*')\n"
   ]
  },
  {
   "cell_type": "code",
   "execution_count": null,
   "id": "1ec118e3",
   "metadata": {},
   "outputs": [],
   "source": [
    "clean(vis           = 'f'+str(field)+'.vis.contsub',\n",
    "      imagename     = 'f'+str(field)+'_cn32_b4sc',\n",
    "      mode          = 'velocity',\n",
    "      start         = start,\n",
    "      width         = width,\n",
    "      nchan         = nchan,\n",
    "      outframe      = outframe,\n",
    "      veltype       = veltype,\n",
    "      restfreq      = '340.24777GHz',\n",
    "      niter         = 2000,\n",
    "      threshold     = 0,\n",
    "      interactive   = True,\n",
    "      imsize        = imsize,\n",
    "      cell          = cell,\n",
    "      weighting     ='briggs',\n",
    "      robust        = robust,\n",
    "      imagermode    = imagermode)\n"
   ]
  },
  {
   "cell_type": "markdown",
   "id": "67f4ec9b",
   "metadata": {},
   "source": [
    "use viewer to check channel maps and spectrum\n",
    "make sure that velocity range is adequate and continuum subtraction ok\n"
   ]
  },
  {
   "cell_type": "code",
   "execution_count": null,
   "id": "a40d0326",
   "metadata": {},
   "outputs": [],
   "source": [
    "imview(raster   = [{'file':'f'+str(field)+'_cn32_b4sc.image'}],\n",
    "        contour = [{'file':'f'+str(field)+'_cont.fits'}])\n"
   ]
  },
  {
   "cell_type": "markdown",
   "id": "f5325ebe",
   "metadata": {},
   "source": [
    "redo moment0 maps (now excluding noisy first channel!!)\n",
    "os.system('rm -rf f'+str(field)+'_cn32.mom0*')\n"
   ]
  },
  {
   "cell_type": "code",
   "execution_count": null,
   "id": "0ce1c2e2",
   "metadata": {},
   "outputs": [],
   "source": [
    "immoments(imagename  = 'f'+str(field)+'_cn32_b4sc.image',            # CHANGEME (based on above analysis!!)\n",
    "          outfile    = 'f'+str(field)+'_cn32.mom0',\n",
    "          moments    = [0],\n",
    "          includepix = [-10.0,100.0],\n",
    "          chans      = ('range=[2km/s,6km/s]'))                      # CHANGEME (based on above analysis!!)\n"
   ]
  },
  {
   "cell_type": "markdown",
   "id": "56673fd5",
   "metadata": {},
   "source": [
    "can see clear emission\n",
    "export to fits file    \n"
   ]
  },
  {
   "cell_type": "code",
   "execution_count": null,
   "id": "7e64f331",
   "metadata": {},
   "outputs": [],
   "source": [
    "fbase = 'f'+str(field)+'_cn32.mom0'\n",
    "os.system('rm -rf '+fbase+'.fits')\n",
    "exportfits(imagename=fbase,fitsimage=fbase+'.fits')\n"
   ]
  },
  {
   "cell_type": "markdown",
   "id": "08b1452e",
   "metadata": {},
   "source": [
    "measure flux\n"
   ]
  },
  {
   "cell_type": "code",
   "execution_count": null,
   "id": "4e61d89f",
   "metadata": {},
   "outputs": [],
   "source": [
    "im_rms = imstat(imagename = 'f'+str(field)+'_cn32.mom0',\n",
    "                region='annulus[['+str(xc)+'pix,'+str(yc)+'pix],['+str(in_a)+'pix,'+str(out_a)+'pix]]')['rms'][0]\n",
    "im_flux = imstat(imagename = 'f'+str(field)+'_cn32.mom0',\n",
    "                 region='circle[['+str(xc)+'pix,'+str(yc)+'pix],'+str(aper)+'arcsec]')['flux'][0]\n",
    "print 'Flux = {0:.2f} mJy, rms = {1:.2f} mJy, S/N = {2:.1f}'.format(1000*im_flux, 1000*im_rms, im_flux/im_rms)\n"
   ]
  },
  {
   "cell_type": "markdown",
   "id": "4fee0a0e",
   "metadata": {},
   "source": [
    "Flux = 2387.74 mJy, rms = 25.21 mJy, S/N = 94.7\n",
    "view continuum and gas\n"
   ]
  },
  {
   "cell_type": "code",
   "execution_count": null,
   "id": "04c9eb54",
   "metadata": {},
   "outputs": [],
   "source": [
    "imview(raster=[{'file':'f'+str(field)+'_cn32.mom0'}],\n",
    "       contour = [{'file':'f'+str(field)+'_cont.fits'}])\n"
   ]
  },
  {
   "cell_type": "markdown",
   "id": "37478790",
   "metadata": {},
   "source": [
    "re-center image on source and use measure.py to get COG flux\n",
    "os.system('rm -rf f'+str(field)+'_cn32.mom0_cropped*')\n"
   ]
  },
  {
   "cell_type": "code",
   "execution_count": null,
   "id": "38b17452",
   "metadata": {},
   "outputs": [],
   "source": [
    "ia.fromimage(outfile = 'f'+str(field)+'_cn32.mom0_cropped.image',\n",
    "             infile  = 'f'+str(field)+'_cn32.mom0.fits',\n",
    "             region  = box )\n",
    "ia.close() \n",
    "exportfits(imagename = 'f'+str(field)+'_cn32.mom0_cropped.image',\n",
    "           fitsimage = 'f'+str(field)+'_cn32.mom0_cropped.fits')\n"
   ]
  },
  {
   "cell_type": "code",
   "execution_count": null,
   "id": "a522ba4a",
   "metadata": {},
   "outputs": [],
   "source": [
    "diameter     total     rms       snr\n",
    "     3.8    2701.22  106.096       25.5\n",
    "diameter     total     rms       snr\n",
    "     2.6    2438.20   82.613       29.5\n",
    "diameter      peak     rms       snr\n",
    "     1.4     198.39   25.511        7.8\n"
   ]
  },
  {
   "cell_type": "markdown",
   "id": "a70d8bf2",
   "metadata": {},
   "source": [
    "used diameter of 3.0\" instead since where flux first levels off\n",
    "  15    1.500    7845  2562.48  172.642    14.8   198.39   25.511     7.8   1.000\n"
   ]
  }
 ],
 "metadata": {},
 "nbformat": 4,
 "nbformat_minor": 5
}
