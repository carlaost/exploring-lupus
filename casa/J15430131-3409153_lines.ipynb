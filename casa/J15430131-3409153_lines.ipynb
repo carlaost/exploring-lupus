{
 "cells": [
  {
   "cell_type": "code",
   "execution_count": null,
   "id": "f0f34887",
   "metadata": {},
   "outputs": [],
   "source": [
    "#!/usr/bin/env\n"
   ]
  },
  {
   "cell_type": "markdown",
   "id": "109d5710",
   "metadata": {},
   "source": [
    "\"\"\"\n"
   ]
  },
  {
   "cell_type": "markdown",
   "id": "9d08bd55",
   "metadata": {},
   "source": []
  },
  {
   "cell_type": "markdown",
   "id": "e67b85f0",
   "metadata": {},
   "source": [
    "make line datacubes and integrated maps\n",
    "and compare applying continuum selfcal\n",
    "NOTE: this is intended to be an interactive, iterative process\n",
    "      so this is more a log that should be run by cutting and\n",
    "      pasting into casa rather than as an executable script\n",
    "      search \"CHANGEME\" for variables to be changed\n",
    "10/9/15 MCA\n",
    "\"\"\"\n"
   ]
  },
  {
   "cell_type": "markdown",
   "id": "10ca8e2c",
   "metadata": {},
   "source": [
    "#  Setup "
   ]
  },
  {
   "cell_type": "markdown",
   "id": "b211626d",
   "metadata": {},
   "source": [
    "LupusI_10   15:43:01.30 -34:09:15.5\n"
   ]
  },
  {
   "cell_type": "code",
   "execution_count": null,
   "id": "208239f1",
   "metadata": {},
   "outputs": [],
   "source": [
    "field = 25                                     # CHANGEME \n",
    "fitspw    = '2,3,4'                                         # line-free channels for fitting continuum\n",
    "linespw   = '0,1,3'                                         # line spectral windows (C18O, 13CO, CN)\n",
    "robust     = 0.5                                            # CHANGEME\n",
    "imsize     = [640,640]\n",
    "cell       = '0.03arcsec'\n",
    "imagermode = 'csclean'\n",
    "outframe   = 'lsrk'\n",
    "veltype    = 'radio'\n",
    "width      = '1.0km/s'\n",
    "start      = '-3km/s'\n",
    "nchan      = 16\n",
    "xc         = 316                               # CHANGEME\n",
    "yc         = 317                               # CHANGEME\n",
    "in_a       = 80\n",
    "out_a      = 120\n",
    "aper       = 0.5\n",
    "boxwidth = 300.\n",
    "box = rg.box([xc-boxwidth,yc-boxwidth],[xc+boxwidth,yc+boxwidth])\n"
   ]
  },
  {
   "cell_type": "markdown",
   "id": "5d7965a5",
   "metadata": {},
   "source": [
    "#  Create continuum subtracted line datasets "
   ]
  },
  {
   "cell_type": "code",
   "execution_count": null,
   "id": "4434182f",
   "metadata": {},
   "outputs": [],
   "source": [
    "uvcontsub(vis       = 'f'+str(field)+'.vis',                # full vis file for this field\n",
    "          spw       = linespw,                              # line spw (for cont subtraction)\n",
    "          fitspw    = fitspw,                               # cont spw\n",
    "          combine   = 'spw',\n",
    "          solint    = 'int',\n",
    "          fitorder  = 1,\n",
    "          want_cont = False)                                # should not be changed.\n"
   ]
  },
  {
   "cell_type": "markdown",
   "id": "1cfb365f",
   "metadata": {},
   "source": [
    "#  13CO line "
   ]
  },
  {
   "cell_type": "markdown",
   "id": "cd8c1040",
   "metadata": {},
   "source": [
    "first try on 13CO line as thats going to be the brightest\n",
    "os.system('rm -rf f'+str(field)+'_13co32*')\n"
   ]
  },
  {
   "cell_type": "code",
   "execution_count": null,
   "id": "4140eada",
   "metadata": {},
   "outputs": [],
   "source": [
    "clean(vis           = 'f'+str(field)+'.vis.contsub',\n",
    "      imagename     = 'f'+str(field)+'_13co32',\n",
    "      mode          = 'velocity',\n",
    "      start         = start,\n",
    "      width         = width,\n",
    "      nchan         = nchan,\n",
    "      outframe      = outframe,\n",
    "      veltype       = veltype,\n",
    "      restfreq      = '330.58797GHz',\n",
    "      niter         = 100,\n",
    "      threshold     = 0,\n",
    "      interactive   = False,\n",
    "      imsize        = imsize,\n",
    "      cell          = cell,\n",
    "      weighting     ='briggs',\n",
    "      robust        = robust,\n",
    "      imagermode    = imagermode)\n"
   ]
  },
  {
   "cell_type": "markdown",
   "id": "c52733ac",
   "metadata": {},
   "source": [
    "can't see gas or continuum emission\n",
    "cleaned in automated mode without mask\n",
    "export cube to fits file    \n"
   ]
  },
  {
   "cell_type": "code",
   "execution_count": null,
   "id": "abd18071",
   "metadata": {},
   "outputs": [],
   "source": [
    "fbase = 'f'+str(field)+'_13co32'\n",
    "os.system('rm -rf '+fbase+'.cube.fits')\n",
    "exportfits(imagename=fbase+'.image',fitsimage=fbase+'.cube.fits')\n"
   ]
  },
  {
   "cell_type": "markdown",
   "id": "a13c25ad",
   "metadata": {},
   "source": [
    "redo moment0 maps (now excluding noisy first channel!!)\n",
    "os.system('rm -rf f'+str(field)+'_13co32.mom0*')\n"
   ]
  },
  {
   "cell_type": "code",
   "execution_count": null,
   "id": "8bf73cbe",
   "metadata": {},
   "outputs": [],
   "source": [
    "immoments(imagename  = 'f'+str(field)+'_13co32.image',          # CHANGEME (based on above analysis!!)\n",
    "          outfile    = 'f'+str(field)+'_13co32.mom0',\n",
    "          moments    = [0],\n",
    "          includepix = [-10.0,100.0],\n",
    "          chans      = ('range=[2km/s,6km/s]'))                      # CHANGEME (based on above analysis!!)\n"
   ]
  },
  {
   "cell_type": "markdown",
   "id": "d32353ec",
   "metadata": {},
   "source": [
    "export to fits file    \n"
   ]
  },
  {
   "cell_type": "code",
   "execution_count": null,
   "id": "3b86bb14",
   "metadata": {},
   "outputs": [],
   "source": [
    "fbase = 'f'+str(field)+'_13co32.mom0'\n",
    "os.system('rm -rf '+fbase+'.fits')\n",
    "exportfits(imagename=fbase,fitsimage=fbase+'.fits')\n"
   ]
  },
  {
   "cell_type": "markdown",
   "id": "720a4547",
   "metadata": {},
   "source": [
    "measure flux\n"
   ]
  },
  {
   "cell_type": "code",
   "execution_count": null,
   "id": "0eac5cad",
   "metadata": {},
   "outputs": [],
   "source": [
    "im_max = imstat(imagename = 'f'+str(field)+'_13co32.mom0')['max'][0]\n",
    "im_rms = imstat(imagename = 'f'+str(field)+'_13co32.mom0',\n",
    "                region='annulus[['+str(xc)+'pix,'+str(yc)+'pix],['+str(in_a)+'pix,'+str(out_a)+'pix]]')['rms'][0]\n",
    "im_flux = imstat(imagename = 'f'+str(field)+'_13co32.mom0',\n",
    "                 region='circle[['+str(xc)+'pix,'+str(yc)+'pix],'+str(aper)+'arcsec]')['flux'][0]\n",
    "print 'Flux = {0:.2f} mJy, rms = {1:.2f} mJy, S/N = {2:.1f}'.format(1000*im_flux, 1000*im_rms, im_flux/im_rms)\n"
   ]
  },
  {
   "cell_type": "markdown",
   "id": "185204b2",
   "metadata": {},
   "source": [
    "Flux = 138.81 mJy, rms = 53.69 mJy, S/N = 2.6\n",
    "view gas (continuum not detected)\n"
   ]
  },
  {
   "cell_type": "code",
   "execution_count": null,
   "id": "3c83d822",
   "metadata": {},
   "outputs": [],
   "source": [
    "imview(raster=[{'file':'f'+str(field)+'_13co32.mom0'}])\n"
   ]
  },
  {
   "cell_type": "markdown",
   "id": "52477110",
   "metadata": {},
   "source": [
    "re-center image on source and use measure.py to get COG flux\n",
    "os.system('rm -rf f'+str(field)+'_13co32.mom0_cropped*')\n"
   ]
  },
  {
   "cell_type": "code",
   "execution_count": null,
   "id": "7c586356",
   "metadata": {},
   "outputs": [],
   "source": [
    "ia.fromimage(outfile = 'f'+str(field)+'_13co32.mom0_cropped.image',\n",
    "             infile  = 'f'+str(field)+'_13co32.mom0.fits',\n",
    "             region  = box )\n",
    "ia.close() \n",
    "exportfits(imagename = 'f'+str(field)+'_13co32.mom0_cropped.image',\n",
    "           fitsimage = 'f'+str(field)+'_13co32.mom0_cropped.fits')\n"
   ]
  },
  {
   "cell_type": "code",
   "execution_count": null,
   "id": "74ba4660",
   "metadata": {},
   "outputs": [],
   "source": [
    "Measuring COG for G/f25_13co32.mom0_cropped.fits\n",
    "Assuming object center (300.0,300.0)\n",
    "Background: -6.86 mJy/beam km/s\n",
    "RMS in annulus 4.0-6.0 arcsec = 54.44 mJy/beam km/s\n",
    "   i   radius    flux      err       snr\n",
    "       (asec)    (mJy)     (mJy)\n",
    "   0     0.10     4.82    12.99      0.4\n",
    "   1     0.20    33.10    39.90      0.8\n",
    "   2     0.30    98.79    66.98      1.5 <-- ND\n",
    "   3     0.40   144.60    90.41      1.6\n",
    "   4     0.50   138.81   139.96      1.0\n",
    "   5     0.60   126.08   130.73      1.0\n",
    "   6     0.70   140.04   205.81      0.7\n",
    "   7     0.80   158.73   241.95      0.7\n"
   ]
  },
  {
   "cell_type": "markdown",
   "id": "912e43d5",
   "metadata": {},
   "source": [
    "#  C18O line  "
   ]
  },
  {
   "cell_type": "markdown",
   "id": "3b61d147",
   "metadata": {},
   "source": [
    "don't bother with selfcal as it doesn't help...\n",
    "os.system('rm -rf f'+str(field)+'_c18o32*')\n"
   ]
  },
  {
   "cell_type": "code",
   "execution_count": null,
   "id": "c186bd6a",
   "metadata": {},
   "outputs": [],
   "source": [
    "clean(vis           = 'f'+str(field)+'.vis.contsub',\n",
    "      imagename     = 'f'+str(field)+'_c18o32',\n",
    "      mode          = 'velocity',\n",
    "      start         = start,\n",
    "      width         = width,\n",
    "      nchan         = nchan,\n",
    "      outframe      = outframe,\n",
    "      veltype       = veltype,\n",
    "      restfreq      = '329.33055GHz',\n",
    "      niter         = 100,\n",
    "      threshold     = 0,\n",
    "      interactive   = False,\n",
    "      imsize        = imsize,\n",
    "      cell          = cell,\n",
    "      weighting     ='briggs',\n",
    "      robust        = robust,\n",
    "      imagermode    = imagermode)\n"
   ]
  },
  {
   "cell_type": "markdown",
   "id": "b7657088",
   "metadata": {},
   "source": [
    "can't see gas or continuum emission\n",
    "cleaned in automated mode without mask\n",
    "export cube to fits file    \n"
   ]
  },
  {
   "cell_type": "code",
   "execution_count": null,
   "id": "c5d2e9ad",
   "metadata": {},
   "outputs": [],
   "source": [
    "fbase = 'f'+str(field)+'_c18o32'\n",
    "os.system('rm -rf '+fbase+'.cube.fits')\n",
    "exportfits(imagename=fbase+'.image',fitsimage=fbase+'.cube.fits')\n"
   ]
  },
  {
   "cell_type": "markdown",
   "id": "c1a1ba0f",
   "metadata": {},
   "source": [
    "redo moment0 maps (now excluding noisy first channel!!)\n",
    "os.system('rm -rf f'+str(field)+'_c18o32.mom0*')\n"
   ]
  },
  {
   "cell_type": "code",
   "execution_count": null,
   "id": "82ce734b",
   "metadata": {},
   "outputs": [],
   "source": [
    "immoments(imagename  = 'f'+str(field)+'_c18o32.image',            # CHANGEME (based on above analysis!!)\n",
    "          outfile    = 'f'+str(field)+'_c18o32.mom0',\n",
    "          moments    = [0],\n",
    "          includepix = [-10.0,100.0],\n",
    "          chans      = ('range=[2km/s,6km/s]'))\n"
   ]
  },
  {
   "cell_type": "markdown",
   "id": "92b01c57",
   "metadata": {},
   "source": [
    "export to fits file    \n"
   ]
  },
  {
   "cell_type": "code",
   "execution_count": null,
   "id": "3926828a",
   "metadata": {},
   "outputs": [],
   "source": [
    "fbase = 'f'+str(field)+'_c18o32.mom0'\n",
    "os.system('rm -rf '+fbase+'.fits')\n",
    "exportfits(imagename=fbase,fitsimage=fbase+'.fits')\n"
   ]
  },
  {
   "cell_type": "markdown",
   "id": "9fc9c77c",
   "metadata": {},
   "source": [
    "measure flux\n"
   ]
  },
  {
   "cell_type": "code",
   "execution_count": null,
   "id": "5debf1fa",
   "metadata": {},
   "outputs": [],
   "source": [
    "im_rms = imstat(imagename = 'f'+str(field)+'_c18o32.mom0',\n",
    "                region='annulus[['+str(xc)+'pix,'+str(yc)+'pix],['+str(in_a)+'pix,'+str(out_a)+'pix]]')['rms'][0]\n",
    "im_flux = imstat(imagename = 'f'+str(field)+'_c18o32.mom0',\n",
    "                 region='circle[['+str(xc)+'pix,'+str(yc)+'pix],'+str(aper)+'arcsec]')['flux'][0]\n",
    "print 'Flux = {0:.2f} mJy, rms = {1:.2f} mJy, S/N = {2:.1f}'.format(1000*im_flux, 1000*im_rms, im_flux/im_rms)\n"
   ]
  },
  {
   "cell_type": "markdown",
   "id": "565a0db1",
   "metadata": {},
   "source": [
    "Flux = -19.43 mJy, rms = 64.43 mJy, S/N = -0.3\n",
    "view gas (continuum not detected)\n"
   ]
  },
  {
   "cell_type": "code",
   "execution_count": null,
   "id": "7fba5cbc",
   "metadata": {},
   "outputs": [],
   "source": [
    "imview(raster=[{'file':'f'+str(field)+'_c18o32.mom0'}])\n"
   ]
  },
  {
   "cell_type": "markdown",
   "id": "35b9b45f",
   "metadata": {},
   "source": [
    "re-center image on source and use measure.py to get COG flux\n",
    "os.system('rm -rf f'+str(field)+'_c18o32.mom0_cropped*')\n"
   ]
  },
  {
   "cell_type": "code",
   "execution_count": null,
   "id": "c6b70adb",
   "metadata": {},
   "outputs": [],
   "source": [
    "ia.fromimage(outfile = 'f'+str(field)+'_c18o32.mom0_cropped.image',\n",
    "             infile  = 'f'+str(field)+'_c18o32.mom0.fits',\n",
    "             region  = box )\n",
    "ia.close() \n",
    "exportfits(imagename = 'f'+str(field)+'_c18o32.mom0_cropped.image',\n",
    "           fitsimage = 'f'+str(field)+'_c18o32.mom0_cropped.fits')\n"
   ]
  },
  {
   "cell_type": "code",
   "execution_count": null,
   "id": "10321ba5",
   "metadata": {},
   "outputs": [],
   "source": [
    "Measuring COG for G/f25_c18o32.mom0_cropped.fits\n",
    "Assuming object center (300.0,300.0)\n",
    "Background: -0.95 mJy/beam km/s\n",
    "RMS in annulus 4.0-6.0 arcsec = 63.69 mJy/beam km/s\n",
    "   i   radius    flux      err       snr\n",
    "       (asec)    (mJy)     (mJy)\n",
    "   0     0.10    10.38    15.96      0.7\n",
    "   1     0.20    30.92    47.24      0.7\n",
    "   2     0.30    44.91    59.17      0.8 <--ND\n",
    "   3     0.40    31.64    95.20      0.3\n",
    "   4     0.50   -19.43   103.33     -0.2\n",
    "   5     0.60  -108.68   125.20     -0.9\n",
    "   6     0.70  -217.29   126.79     -1.7\n",
    "   7     0.80  -286.95   157.68     -1.8\n",
    "F = 44.91 mJy\n",
    "E = 59.17 mJy\n",
    "S = 0.76\n",
    "D = 0.60 arcsec\n"
   ]
  },
  {
   "cell_type": "markdown",
   "id": "12c30b04",
   "metadata": {},
   "source": [
    "#  Image CN  "
   ]
  },
  {
   "cell_type": "markdown",
   "id": "1eda2d1d",
   "metadata": {},
   "source": [
    "don't bother with selfcal as it doesn't help...\n",
    "os.system('rm -rf f'+str(field)+'_cn32_b4sc*')\n"
   ]
  },
  {
   "cell_type": "code",
   "execution_count": null,
   "id": "85422441",
   "metadata": {},
   "outputs": [],
   "source": [
    "clean(vis           = 'f'+str(field)+'.vis.contsub',\n",
    "      imagename     = 'f'+str(field)+'_cn32_b4sc',\n",
    "      mode          = 'velocity',\n",
    "      start         = start,\n",
    "      width         = width,\n",
    "      nchan         = nchan,\n",
    "      outframe      = outframe,\n",
    "      veltype       = veltype,\n",
    "      restfreq      = '340.24777GHz',\n",
    "      niter         = 100,\n",
    "      threshold     = 0,\n",
    "      interactive   = False,\n",
    "      imsize        = imsize,\n",
    "      cell          = cell,\n",
    "      weighting     ='briggs',\n",
    "      robust        = robust,\n",
    "      imagermode    = imagermode)\n"
   ]
  },
  {
   "cell_type": "markdown",
   "id": "c8c75474",
   "metadata": {},
   "source": [
    "can't see gas or continuum emission\n",
    "cleaned in automated mode without mask\n",
    "redo moment0 maps (now excluding noisy first channel!!)\n",
    "os.system('rm -rf f'+str(field)+'_cn32.mom0*')\n"
   ]
  },
  {
   "cell_type": "code",
   "execution_count": null,
   "id": "c6cc30e3",
   "metadata": {},
   "outputs": [],
   "source": [
    "immoments(imagename  = 'f'+str(field)+'_cn32_b4sc.image',            # CHANGEME (based on above analysis!!)\n",
    "          outfile    = 'f'+str(field)+'_cn32.mom0',\n",
    "          moments    = [0],\n",
    "          includepix = [-10.0,100.0],\n",
    "          chans      = ('range=[1km/s,7km/s]'))                      # CHANGEME (based on above analysis!!)\n"
   ]
  },
  {
   "cell_type": "markdown",
   "id": "c3790f9a",
   "metadata": {},
   "source": [
    "export to fits file    \n"
   ]
  },
  {
   "cell_type": "code",
   "execution_count": null,
   "id": "14158099",
   "metadata": {},
   "outputs": [],
   "source": [
    "fbase = 'f'+str(field)+'_cn32.mom0'\n",
    "os.system('rm -rf '+fbase+'.fits')\n",
    "exportfits(imagename=fbase,fitsimage=fbase+'.fits')\n"
   ]
  },
  {
   "cell_type": "markdown",
   "id": "2f99a286",
   "metadata": {},
   "source": [
    "measure flux\n"
   ]
  },
  {
   "cell_type": "code",
   "execution_count": null,
   "id": "ea0b0126",
   "metadata": {},
   "outputs": [],
   "source": [
    "im_rms = imstat(imagename = 'f'+str(field)+'_cn32.mom0',\n",
    "                region='annulus[['+str(xc)+'pix,'+str(yc)+'pix],['+str(in_a)+'pix,'+str(out_a)+'pix]]')['rms'][0]\n",
    "im_flux = imstat(imagename = 'f'+str(field)+'_cn32.mom0',\n",
    "                 region='circle[['+str(xc)+'pix,'+str(yc)+'pix],'+str(aper)+'arcsec]')['flux'][0]\n",
    "print 'Flux = {0:.2f} mJy, rms = {1:.2f} mJy, S/N = {2:.1f}'.format(1000*im_flux, 1000*im_rms, im_flux/im_rms)\n"
   ]
  },
  {
   "cell_type": "markdown",
   "id": "e7a1a281",
   "metadata": {},
   "source": [
    "Flux = 393.29 mJy, rms = 54.45 mJy, S/N = 7.2\n",
    "view gas (continuum not detected)\n"
   ]
  },
  {
   "cell_type": "code",
   "execution_count": null,
   "id": "0654d362",
   "metadata": {},
   "outputs": [],
   "source": [
    "imview(raster=[{'file':'f'+str(field)+'_cn32.mom0'}])\n"
   ]
  },
  {
   "cell_type": "markdown",
   "id": "70ba4c56",
   "metadata": {},
   "source": [
    "re-center image on source and use measure.py to get COG flux\n",
    "os.system('rm -rf f'+str(field)+'_cn32.mom0_cropped*')\n"
   ]
  },
  {
   "cell_type": "code",
   "execution_count": null,
   "id": "3c0b0f19",
   "metadata": {},
   "outputs": [],
   "source": [
    "ia.fromimage(outfile = 'f'+str(field)+'_cn32.mom0_cropped.image',\n",
    "             infile  = 'f'+str(field)+'_cn32.mom0.fits',\n",
    "             region  = box )\n",
    "ia.close() \n",
    "exportfits(imagename = 'f'+str(field)+'_cn32.mom0_cropped.image',\n",
    "           fitsimage = 'f'+str(field)+'_cn32.mom0_cropped.fits')\n"
   ]
  },
  {
   "cell_type": "markdown",
   "id": "09bb78ca",
   "metadata": {},
   "source": [
    "CANNOT SEE EMISSION\n",
    "BAD COG\n"
   ]
  }
 ],
 "metadata": {},
 "nbformat": 4,
 "nbformat_minor": 5
}
