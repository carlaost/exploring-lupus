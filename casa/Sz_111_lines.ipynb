{
 "cells": [
  {
   "cell_type": "code",
   "execution_count": null,
   "id": "36e137d7",
   "metadata": {},
   "outputs": [],
   "source": [
    "#!/usr/bin/env\n"
   ]
  },
  {
   "cell_type": "markdown",
   "id": "c45a85bd",
   "metadata": {},
   "source": [
    "\"\"\"\n"
   ]
  },
  {
   "cell_type": "markdown",
   "id": "42af7b37",
   "metadata": {},
   "source": []
  },
  {
   "cell_type": "markdown",
   "id": "afb8a9c3",
   "metadata": {},
   "source": [
    "make line datacubes and integrated maps\n",
    "and compare applying continuum selfcal\n",
    "NOTE: this is intended to be an interactive, iterative process\n",
    "      so this is more a log that should be run by cutting and\n",
    "      pasting into casa rather than as an executable script\n",
    "      search \"CHANGEME\" for variables to be changed\n",
    "10/9/15 MCA\n",
    "\"\"\"\n"
   ]
  },
  {
   "cell_type": "markdown",
   "id": "6b3c38b9",
   "metadata": {},
   "source": [
    "#  Setup "
   ]
  },
  {
   "cell_type": "markdown",
   "id": "cea1ebe5",
   "metadata": {},
   "source": [
    "LupusIII_71   16:08:54.68   -39:37:43.9\n",
    "Class II, M1\n"
   ]
  },
  {
   "cell_type": "code",
   "execution_count": null,
   "id": "d90d6350",
   "metadata": {},
   "outputs": [],
   "source": [
    "field = 10                                                  # CHANGEME \n",
    "fitspw    = '2,3,4,7,8,9'                                   # line-free channels for fitting continuum\n",
    "linespw   = '0,1,3,5,6,8'                                   # line spectral windows (C18O, 13CO, CN)\n",
    "robust     = 0.5                                            # CHANGEME\n",
    "imsize     = [640,640]\n",
    "cell       = '0.03arcsec'\n",
    "imagermode = 'csclean'\n",
    "outframe   = 'lsrk'\n",
    "veltype    = 'radio'\n",
    "width      = '1.0km/s'\n",
    "start      = '-1.0km/s'\n",
    "nchan      = 11\n",
    "xc         = 322                               # CHANGEME\n",
    "yc         = 333                               # CHANGEME\n",
    "in_a       = 80\n",
    "out_a      = 120\n",
    "aper       = 1.25\n",
    "boxwidth = 300.\n",
    "box = rg.box([xc-boxwidth,yc-boxwidth],[xc+boxwidth,yc+boxwidth])\n"
   ]
  },
  {
   "cell_type": "markdown",
   "id": "8dbf3ca5",
   "metadata": {},
   "source": [
    "#  Create continuum subtracted line datasets "
   ]
  },
  {
   "cell_type": "code",
   "execution_count": null,
   "id": "23101276",
   "metadata": {},
   "outputs": [],
   "source": [
    "uvcontsub(vis       = 'f'+str(field)+'.vis',                # full vis file for this field\n",
    "          spw       = linespw,                              # line spw (for cont subtraction)\n",
    "          fitspw    = fitspw,                               # cont spw\n",
    "          combine   = 'spw',\n",
    "          solint    = 'int',\n",
    "          fitorder  = 1,\n",
    "          want_cont = False)                                # should not be changed.\n"
   ]
  },
  {
   "cell_type": "markdown",
   "id": "4fc3f375",
   "metadata": {},
   "source": [
    "#  13CO line "
   ]
  },
  {
   "cell_type": "markdown",
   "id": "8ea0f551",
   "metadata": {},
   "source": [
    "first try on 13CO line as thats going to be the brightest\n",
    "os.system('rm -rf test_f'+str(field)+'_13co32*')\n"
   ]
  },
  {
   "cell_type": "code",
   "execution_count": null,
   "id": "e5f13ca4",
   "metadata": {},
   "outputs": [],
   "source": [
    "clean(vis           = 'f'+str(field)+'.vis.contsub',\n",
    "      imagename     = 'test_f'+str(field)+'_13co32',\n",
    "      mode          = 'velocity',\n",
    "      start         = start,\n",
    "      width         = width,\n",
    "      nchan         = nchan,\n",
    "      outframe      = outframe,\n",
    "      veltype       = veltype,\n",
    "      restfreq      = '330.58797GHz',\n",
    "      niter         = 2000,\n",
    "      threshold     = 0,\n",
    "      interactive   = True,\n",
    "      imsize        = imsize,\n",
    "      cell          = cell,\n",
    "      weighting     ='briggs',\n",
    "      robust        = robust,\n",
    "      imagermode    = imagermode)\n"
   ]
  },
  {
   "cell_type": "markdown",
   "id": "b744f49c",
   "metadata": {},
   "source": [
    "export cube to fits file    \n"
   ]
  },
  {
   "cell_type": "code",
   "execution_count": null,
   "id": "49913c6c",
   "metadata": {},
   "outputs": [],
   "source": [
    "fbase = 'test_f'+str(field)+'_13co32'\n",
    "os.system('rm -rf '+fbase+'.cube.fits')\n",
    "exportfits(imagename=fbase+'.image',fitsimage=fbase+'.cube.fits')\n"
   ]
  },
  {
   "cell_type": "markdown",
   "id": "1f6618cc",
   "metadata": {},
   "source": [
    "use viewer to check channel maps and spectrum\n",
    "make sure that velocity range is adequate and continuum subtraction ok\n"
   ]
  },
  {
   "cell_type": "code",
   "execution_count": null,
   "id": "d6098197",
   "metadata": {},
   "outputs": [],
   "source": [
    "imview(raster   = [{'file':'f'+str(field)+'_13co32.image'}],\n",
    "        contour = [{'file':'f'+str(field)+'_cont.fits'}])\n"
   ]
  },
  {
   "cell_type": "markdown",
   "id": "ebaacd74",
   "metadata": {},
   "source": [
    "clear peaks\n",
    "redo moment0 maps (now excluding noisy first channel!!)\n",
    "os.system('rm -rf f'+str(field)+'_13co32.mom0*')\n"
   ]
  },
  {
   "cell_type": "code",
   "execution_count": null,
   "id": "aaa7fece",
   "metadata": {},
   "outputs": [],
   "source": [
    "immoments(imagename  = 'test_f'+str(field)+'_13co32.image',\n",
    "          outfile    = 'test_f'+str(field)+'_13co32.mom0',\n",
    "          moments    = [0],\n",
    "          includepix = [-10.0,100.0],\n",
    "          chans      = ('range=[1km/s,7km/s]'))\n"
   ]
  },
  {
   "cell_type": "markdown",
   "id": "04274489",
   "metadata": {},
   "source": [
    "clear emission, gave best snr\n",
    "export to fits file    \n"
   ]
  },
  {
   "cell_type": "code",
   "execution_count": null,
   "id": "7e08a030",
   "metadata": {},
   "outputs": [],
   "source": [
    "fbase = 'test_f'+str(field)+'_13co32.mom0'\n",
    "os.system('rm -rf '+fbase+'.fits')\n",
    "exportfits(imagename=fbase,fitsimage=fbase+'.fits')\n"
   ]
  },
  {
   "cell_type": "markdown",
   "id": "628eb482",
   "metadata": {},
   "source": [
    "###FIRST MOMENT MAP\n"
   ]
  },
  {
   "cell_type": "code",
   "execution_count": null,
   "id": "1ac53c2b",
   "metadata": {},
   "outputs": [],
   "source": [
    "sigma = 15e-3  # Jy/beam in peak velocity channel\n",
    "os.system('rm -rf test_f10_13co32_mom1.image')\n",
    "immoments(imagename  = 'test_f10_13co32.cube.fits',\n",
    "          outfile    = 'test_f10_13co32_mom1.image',\n",
    "          moments    = [1],\n",
    "          includepix = [3.0*sigma,100.0],\n",
    "          chans      = ('range=[1km/s,7km/s]'))\n",
    "os.system('rm -rf test_f10_13co32_mom1.fits')\n",
    "exportfits(imagename='test_f10_13co32_mom1.image',fitsimage='test_f10_13co32_mom1.fits')\n",
    "os.system('rm -rf f10_13co32_mom1.image')\n"
   ]
  },
  {
   "cell_type": "markdown",
   "id": "9e35570a",
   "metadata": {},
   "source": [
    "measure flux\n"
   ]
  },
  {
   "cell_type": "code",
   "execution_count": null,
   "id": "191751bb",
   "metadata": {},
   "outputs": [],
   "source": [
    "im_max = imstat(imagename = 'f'+str(field)+'_13co32.mom0')['max'][0]\n",
    "im_rms = imstat(imagename = 'f'+str(field)+'_13co32.mom0',\n",
    "                region='annulus[['+str(xc)+'pix,'+str(yc)+'pix],['+str(in_a)+'pix,'+str(out_a)+'pix]]')['rms'][0]\n",
    "im_flux = imstat(imagename = 'f'+str(field)+'_13co32.mom0',\n",
    "                 region='circle[['+str(xc)+'pix,'+str(yc)+'pix],'+str(aper)+'arcsec]')['flux'][0]\n",
    "print 'Flux = {0:.2f} mJy, rms = {1:.2f} mJy, S/N = {2:.1f}'.format(1000*im_flux, 1000*im_rms, im_flux/im_rms)\n"
   ]
  },
  {
   "cell_type": "markdown",
   "id": "29a9d861",
   "metadata": {},
   "source": [
    "Flux = 2628.66 mJy, rms = 35.59 mJy, S/N = 73.9\n",
    "view continuum and gas\n"
   ]
  },
  {
   "cell_type": "code",
   "execution_count": null,
   "id": "330ce9fa",
   "metadata": {},
   "outputs": [],
   "source": [
    "imview(raster=[{'file':'f'+str(field)+'_13co32.mom0'}],\n",
    "       contour = [{'file':'f'+str(field)+'_cont.fits'}])\n"
   ]
  },
  {
   "cell_type": "markdown",
   "id": "2bba68a4",
   "metadata": {},
   "source": [
    "re-center image on source and use measure.py to get COG flux\n",
    "os.system('rm -rf f'+str(field)+'_13co32.mom0_cropped*')\n"
   ]
  },
  {
   "cell_type": "code",
   "execution_count": null,
   "id": "a237d0e5",
   "metadata": {},
   "outputs": [],
   "source": [
    "ia.fromimage(outfile = 'f'+str(field)+'_13co32.mom0_cropped.image',\n",
    "             infile  = 'f'+str(field)+'_13co32.mom0.fits',\n",
    "             region  = box )\n",
    "ia.close() \n",
    "exportfits(imagename = 'f'+str(field)+'_13co32.mom0_cropped.image',\n",
    "           fitsimage = 'f'+str(field)+'_13co32.mom0_cropped.fits')\n"
   ]
  },
  {
   "cell_type": "code",
   "execution_count": null,
   "id": "9dcd1e49",
   "metadata": {},
   "outputs": [],
   "source": [
    "Measuring COG for M/f10_13co32.mom0_cropped.fits\n",
    "Assuming object center (300.0,300.0)\n",
    "Background: -0.48 mJy/beam km/s\n",
    "RMS in annulus 4.0-6.0 arcsec = 38.06 mJy/beam km/s\n",
    "   i   radius    flux      err       snr\n",
    "       (asec)    (mJy)     (mJy)\n",
    "   0     0.10   114.44    11.58      9.9\n",
    "   1     0.20   416.99    27.11     15.4\n",
    "   2     0.30   867.86    42.14     20.6\n",
    "   3     0.40  1268.69    50.60     25.1\n",
    "   4     0.50  1595.60    86.03     18.5\n",
    "   5     0.60  1831.60   112.38     16.3\n",
    "   6     0.70  2035.94    99.39     20.5\n",
    "   7     0.80  2194.36   113.84     19.3\n",
    "   8     0.90  2300.63   118.48     19.4\n",
    "   9     1.00  2380.78   146.14     16.3 <-- used thi\n",
    "  10     1.10  2468.25   161.28     15.3\n",
    "  11     1.20  2581.21   179.28     14.4\n",
    "  12     1.30  2682.09   222.64     12.0\n",
    "  13     1.40  2768.42   226.82     12.2\n",
    "  14     1.50  2847.59   198.59     14.3\n",
    "F = 2847.59 mJy\n",
    "E = 198.59 mJy\n",
    "S = 14.34\n",
    "D = 3.00 arcsec\n",
    "COG continues to grow with aperture size\n",
    "but change of slope around 2\" diameter\n",
    "and in casa this looks like good aperture\n"
   ]
  },
  {
   "cell_type": "markdown",
   "id": "95401fe9",
   "metadata": {},
   "source": [
    "#  C18O line  "
   ]
  },
  {
   "cell_type": "markdown",
   "id": "c85f7047",
   "metadata": {},
   "source": [
    "don't bother with selfcal as it doesn't help...\n",
    "os.system('rm -rf f'+str(field)+'_c18o32*')\n"
   ]
  },
  {
   "cell_type": "code",
   "execution_count": null,
   "id": "b869c8fb",
   "metadata": {},
   "outputs": [],
   "source": [
    "clean(vis           = 'f'+str(field)+'.vis.contsub',\n",
    "      imagename     = 'f'+str(field)+'_c18o32',\n",
    "      mode          = 'velocity',\n",
    "      start         = start,\n",
    "      width         = width,\n",
    "      nchan         = nchan,\n",
    "      outframe      = outframe,\n",
    "      veltype       = veltype,\n",
    "      restfreq      = '329.33055GHz',\n",
    "      niter         = 2000,\n",
    "      threshold     = 0,\n",
    "      interactive   = True,\n",
    "      imsize        = imsize,\n",
    "      cell          = cell,\n",
    "      weighting     ='briggs',\n",
    "      robust        = robust,\n",
    "      imagermode    = imagermode)\n"
   ]
  },
  {
   "cell_type": "markdown",
   "id": "275ff1e1",
   "metadata": {},
   "source": [
    "use viewer to check channel maps and spectrum\n",
    "make sure that velocity range is adequate and continuum subtraction ok\n"
   ]
  },
  {
   "cell_type": "code",
   "execution_count": null,
   "id": "0cbb334f",
   "metadata": {},
   "outputs": [],
   "source": [
    "imview(raster   = [{'file':'f'+str(field)+'_c18o32_b4sc.image'}],\n",
    "        contour = [{'file':'f'+str(field)+'_cont.fits'}])\n"
   ]
  },
  {
   "cell_type": "markdown",
   "id": "1b605d53",
   "metadata": {},
   "source": [
    "export cube to fits file    \n"
   ]
  },
  {
   "cell_type": "code",
   "execution_count": null,
   "id": "701897f4",
   "metadata": {},
   "outputs": [],
   "source": [
    "fbase = 'f'+str(field)+'_c18o32'\n",
    "os.system('rm -rf '+fbase+'.cube.fits')\n",
    "exportfits(imagename=fbase+'.image',fitsimage=fbase+'.cube.fits')\n"
   ]
  },
  {
   "cell_type": "markdown",
   "id": "70fc01bb",
   "metadata": {},
   "source": [
    "redo moment0 maps (now excluding noisy first channel!!)\n",
    "os.system('rm -rf f'+str(field)+'_c18o32.mom0*')\n"
   ]
  },
  {
   "cell_type": "code",
   "execution_count": null,
   "id": "7f9a5765",
   "metadata": {},
   "outputs": [],
   "source": [
    "immoments(imagename  = 'f'+str(field)+'_c18o32_b4sc.image',            # CHANGEME (based on above analysis!!)\n",
    "          outfile    = 'f'+str(field)+'_c18o32.mom0',\n",
    "          moments    = [0],\n",
    "          includepix = [-10.0,100.0],\n",
    "          chans      = ('range=[1km/s,7km/s]'))\n"
   ]
  },
  {
   "cell_type": "markdown",
   "id": "29f78e02",
   "metadata": {},
   "source": [
    "can see emission, same as 13CO\n",
    "export to fits file    \n"
   ]
  },
  {
   "cell_type": "code",
   "execution_count": null,
   "id": "8f42c6b6",
   "metadata": {},
   "outputs": [],
   "source": [
    "fbase = 'f'+str(field)+'_c18o32.mom0'\n",
    "os.system('rm -rf '+fbase+'.fits')\n",
    "exportfits(imagename=fbase,fitsimage=fbase+'.fits')\n"
   ]
  },
  {
   "cell_type": "markdown",
   "id": "7640c3ed",
   "metadata": {},
   "source": [
    "measure flux\n"
   ]
  },
  {
   "cell_type": "code",
   "execution_count": null,
   "id": "99c750ec",
   "metadata": {},
   "outputs": [],
   "source": [
    "im_rms = imstat(imagename = 'f'+str(field)+'_c18o32.mom0',\n",
    "                region='annulus[['+str(xc)+'pix,'+str(yc)+'pix],['+str(in_a)+'pix,'+str(out_a)+'pix]]')['rms'][0]\n",
    "im_flux = imstat(imagename = 'f'+str(field)+'_c18o32.mom0',\n",
    "                 region='circle[['+str(xc)+'pix,'+str(yc)+'pix],'+str(aper)+'arcsec]')['flux'][0]\n",
    "print 'Flux = {0:.2f} mJy, rms = {1:.2f} mJy, S/N = {2:.1f}'.format(1000*im_flux, 1000*im_rms, im_flux/im_rms)\n"
   ]
  },
  {
   "cell_type": "markdown",
   "id": "fc19ef8c",
   "metadata": {},
   "source": [
    "Flux = 794.41 mJy, rms = 44.92 mJy, S/N = 17.7\n",
    "view continuum and gas\n"
   ]
  },
  {
   "cell_type": "code",
   "execution_count": null,
   "id": "e4f01459",
   "metadata": {},
   "outputs": [],
   "source": [
    "imview(raster=[{'file':'f'+str(field)+'_c18o32.mom0'}],\n",
    "       contour = [{'file':'f'+str(field)+'_cont.fits'}])\n"
   ]
  },
  {
   "cell_type": "markdown",
   "id": "e615f6ff",
   "metadata": {},
   "source": [
    "re-center image on source and use measure.py to get COG flux\n",
    "os.system('rm -rf f'+str(field)+'_c18o32.mom0_cropped*')\n"
   ]
  },
  {
   "cell_type": "code",
   "execution_count": null,
   "id": "732ca664",
   "metadata": {},
   "outputs": [],
   "source": [
    "ia.fromimage(outfile = 'f'+str(field)+'_c18o32.mom0_cropped.image',\n",
    "             infile  = 'f'+str(field)+'_c18o32.mom0.fits',\n",
    "             region  = box )\n",
    "ia.close() \n",
    "exportfits(imagename = 'f'+str(field)+'_c18o32.mom0_cropped.image',\n",
    "           fitsimage = 'f'+str(field)+'_c18o32.mom0_cropped.fits')\n"
   ]
  },
  {
   "cell_type": "code",
   "execution_count": null,
   "id": "8d55dd73",
   "metadata": {},
   "outputs": [],
   "source": [
    "Measuring COG for M/f10_c18o32.mom0_cropped.fits\n",
    "Assuming object center (300.0,300.0)\n",
    "Background: 0.25 mJy/beam km/s\n",
    "RMS in annulus 4.0-6.0 arcsec = 45.53 mJy/beam km/s\n",
    "   i   radius    flux      err       snr\n",
    "       (asec)    (mJy)     (mJy)\n",
    "   0     0.10    58.15    10.70      5.4\n",
    "   1     0.20   220.72    29.30      7.5\n",
    "   2     0.30   465.42    53.14      8.8\n",
    "   3     0.40   637.37    67.04      9.5\n",
    "   4     0.50   699.65    80.14      8.7\n",
    "   5     0.60   714.01    73.47      9.7 <--- used this\n",
    "   6     0.70   756.80   120.47      6.3\n",
    "   7     0.80   832.85   119.66      7.0\n",
    "   8     0.90   915.98   124.14      7.4\n",
    "   9     1.00   948.93   105.63      9.0\n",
    "  10     1.10   893.34   141.48      6.3\n",
    "  11     1.20   809.61   172.62      4.7\n",
    "  12     1.30   797.11   178.24      4.5\n",
    "  13     1.40   803.51   189.26      4.2\n",
    "  14     1.50   760.88   188.34      4.0\n",
    "F = 948.93 mJy\n",
    "E = 105.63 mJy\n",
    "S = 8.98\n",
    "D = 2.00 arcsec\n",
    "COG has bump after leveling off at 1.2\" diameter\n",
    "which is casa looks like a good aperture size\n"
   ]
  },
  {
   "cell_type": "markdown",
   "id": "c65a1622",
   "metadata": {},
   "source": [
    "#  Image CN  "
   ]
  },
  {
   "cell_type": "markdown",
   "id": "30425787",
   "metadata": {},
   "source": [
    "don't bother with selfcal as it doesn't help...\n",
    "os.system('rm -rf f'+str(field)+'_cn32_b4sc*')\n"
   ]
  },
  {
   "cell_type": "code",
   "execution_count": null,
   "id": "82ef6877",
   "metadata": {},
   "outputs": [],
   "source": [
    "clean(vis           = 'f'+str(field)+'.vis.contsub',\n",
    "      imagename     = 'f'+str(field)+'_cn32_b4sc',\n",
    "      mode          = 'velocity',\n",
    "      start         = start,\n",
    "      width         = width,\n",
    "      nchan         = nchan,\n",
    "      outframe      = outframe,\n",
    "      veltype       = veltype,\n",
    "      restfreq      = '340.24777GHz',\n",
    "      niter         = 2000,\n",
    "      threshold     = 0,\n",
    "      interactive   = True,\n",
    "      imsize        = imsize,\n",
    "      cell          = cell,\n",
    "      weighting     ='briggs',\n",
    "      robust        = robust,\n",
    "      imagermode    = imagermode)\n"
   ]
  },
  {
   "cell_type": "markdown",
   "id": "db4de61e",
   "metadata": {},
   "source": [
    "emission very extended, cleaned conservatively\n",
    "use viewer to check channel maps and spectrum\n",
    "make sure that velocity range is adequate and continuum subtraction ok\n"
   ]
  },
  {
   "cell_type": "code",
   "execution_count": null,
   "id": "1d3d4a77",
   "metadata": {},
   "outputs": [],
   "source": [
    "imview(raster   = [{'file':'f'+str(field)+'_cn32_b4sc.image'}],\n",
    "        contour = [{'file':'f'+str(field)+'_cont.fits'}])\n"
   ]
  },
  {
   "cell_type": "markdown",
   "id": "f22e16cd",
   "metadata": {},
   "source": [
    "redo moment0 maps (now excluding noisy first channel!!)\n",
    "os.system('rm -rf f'+str(field)+'_cn32.mom0*')\n"
   ]
  },
  {
   "cell_type": "code",
   "execution_count": null,
   "id": "3faab37b",
   "metadata": {},
   "outputs": [],
   "source": [
    "immoments(imagename  = 'f'+str(field)+'_cn32_b4sc.image',            # CHANGEME (based on above analysis!!)\n",
    "          outfile    = 'f'+str(field)+'_cn32.mom0',\n",
    "          moments    = [0],\n",
    "          includepix = [-10.0,100.0],\n",
    "          chans      = ('range=[1km/s,7km/s]'))                      # CHANGEME (based on above analysis!!)\n"
   ]
  },
  {
   "cell_type": "markdown",
   "id": "5d3e6129",
   "metadata": {},
   "source": [
    "clear emission, same as 13CO and C18O\n",
    "export to fits file    \n"
   ]
  },
  {
   "cell_type": "code",
   "execution_count": null,
   "id": "64ff5d19",
   "metadata": {},
   "outputs": [],
   "source": [
    "fbase = 'f'+str(field)+'_cn32.mom0'\n",
    "os.system('rm -rf '+fbase+'.fits')\n",
    "exportfits(imagename=fbase,fitsimage=fbase+'.fits')\n"
   ]
  },
  {
   "cell_type": "markdown",
   "id": "f3be12f2",
   "metadata": {},
   "source": [
    "measure flux\n"
   ]
  },
  {
   "cell_type": "code",
   "execution_count": null,
   "id": "7cd0055a",
   "metadata": {},
   "outputs": [],
   "source": [
    "im_rms = imstat(imagename = 'f'+str(field)+'_cn32.mom0',\n",
    "                region='annulus[['+str(xc)+'pix,'+str(yc)+'pix],['+str(in_a)+'pix,'+str(out_a)+'pix]]')['rms'][0]\n",
    "im_flux = imstat(imagename = 'f'+str(field)+'_cn32.mom0',\n",
    "                 region='circle[['+str(xc)+'pix,'+str(yc)+'pix],'+str(aper)+'arcsec]')['flux'][0]\n",
    "print 'Flux = {0:.2f} mJy, rms = {1:.2f} mJy, S/N = {2:.1f}'.format(1000*im_flux, 1000*im_rms, im_flux/im_rms)\n"
   ]
  },
  {
   "cell_type": "markdown",
   "id": "ed7534c7",
   "metadata": {},
   "source": [
    "Flux = 1834.72 mJy, rms = 31.98 mJy, S/N = 57.4\n",
    "view continuum and gas\n"
   ]
  },
  {
   "cell_type": "code",
   "execution_count": null,
   "id": "9d917452",
   "metadata": {},
   "outputs": [],
   "source": [
    "imview(raster=[{'file':'f'+str(field)+'_cn32.mom0'}],\n",
    "       contour = [{'file':'f'+str(field)+'_cont.fits'}])\n"
   ]
  },
  {
   "cell_type": "markdown",
   "id": "f7b51bea",
   "metadata": {},
   "source": [
    "re-center image on source and use measure.py to get COG flux\n",
    "os.system('rm -rf f'+str(field)+'_cn32.mom0_cropped*')\n"
   ]
  },
  {
   "cell_type": "code",
   "execution_count": null,
   "id": "1b637d4e",
   "metadata": {},
   "outputs": [],
   "source": [
    "ia.fromimage(outfile = 'f'+str(field)+'_cn32.mom0_cropped.image',\n",
    "             infile  = 'f'+str(field)+'_cn32.mom0.fits',\n",
    "             region  = box )\n",
    "ia.close() \n",
    "exportfits(imagename = 'f'+str(field)+'_cn32.mom0_cropped.image',\n",
    "           fitsimage = 'f'+str(field)+'_cn32.mom0_cropped.fits')\n"
   ]
  },
  {
   "cell_type": "code",
   "execution_count": null,
   "id": "6d2025ec",
   "metadata": {},
   "outputs": [],
   "source": [
    "diameter     total     rms       snr\n",
    "     3.4    2158.85  354.942        6.1\n",
    "diameter     total     rms       snr\n",
    "     0.8     632.64   47.037       13.4\n",
    "diameter      peak     rms       snr\n",
    "     0.4     276.87   30.539        9.1\n",
    "large aperture seems correct\n",
    "emission very extended\n"
   ]
  }
 ],
 "metadata": {},
 "nbformat": 4,
 "nbformat_minor": 5
}
