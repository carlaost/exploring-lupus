{
 "cells": [
  {
   "cell_type": "code",
   "execution_count": null,
   "id": "727f5b60",
   "metadata": {},
   "outputs": [],
   "source": [
    "#!/usr/bin/env\n"
   ]
  },
  {
   "cell_type": "markdown",
   "id": "f9faf5e3",
   "metadata": {},
   "source": [
    "\"\"\"\n"
   ]
  },
  {
   "cell_type": "markdown",
   "id": "b6f0c85f",
   "metadata": {},
   "source": []
  },
  {
   "cell_type": "markdown",
   "id": "86186a0b",
   "metadata": {},
   "source": [
    "make line datacubes and integrated maps\n",
    "and compare applying continuum selfcal\n",
    "NOTE: this is intended to be an interactive, iterative process\n",
    "      so this is more a log that should be run by cutting and\n",
    "      pasting into casa rather than as an executable script\n",
    "      search \"CHANGEME\" for variables to be changed\n",
    "10/9/15 MCA\n",
    "\"\"\"\n"
   ]
  },
  {
   "cell_type": "markdown",
   "id": "d870f0f0",
   "metadata": {},
   "source": [
    "#  Setup "
   ]
  },
  {
   "cell_type": "markdown",
   "id": "f0424ebe",
   "metadata": {},
   "source": [
    "LupusIII_1015 15:59:28.39 -40:21:51.30\n",
    "Class II, K4\n"
   ]
  },
  {
   "cell_type": "code",
   "execution_count": null,
   "id": "373def31",
   "metadata": {},
   "outputs": [],
   "source": [
    "field = 14                                                  # CHANGEME \n",
    "fitspw    = '2,3:0~2049;2151~2899;3051~3480,4'              # line-free channels for fitting continuum\n",
    "fitspw    = '2,3,4'                                         # line-free channels for fitting continuum\n",
    "linespw   = '0,1,3'                                         # line spectral windows (C18O, 13CO, CN)\n",
    "robust     = 0.5                                            # CHANGEME\n",
    "imsize     = [640,640]\n",
    "cell       = '0.03arcsec'\n",
    "imagermode = 'csclean'\n",
    "outframe   = 'lsrk'\n",
    "veltype    = 'radio'\n",
    "width      = '1.0km/s'\n",
    "start      = '-3.0km/s'\n",
    "nchan      = 15\n",
    "xc         = 327                                            # CHANGEME\n",
    "yc         = 311                                            # CHANGEME\n",
    "in_a       = 80\n",
    "out_a      = 120\n",
    "aper       = 1.25\n",
    "boxwidth = 300.\n",
    "box = rg.box([xc-boxwidth,yc-boxwidth],[xc+boxwidth,yc+boxwidth])\n"
   ]
  },
  {
   "cell_type": "markdown",
   "id": "a976ba89",
   "metadata": {},
   "source": [
    "#  Create continuum subtracted line datasets "
   ]
  },
  {
   "cell_type": "code",
   "execution_count": null,
   "id": "86086d61",
   "metadata": {},
   "outputs": [],
   "source": [
    "uvcontsub(vis       = 'f'+str(field)+'.vis',                # full vis file for this field\n",
    "          spw       = linespw,                              # line spw (for cont subtraction)\n",
    "          fitspw    = fitspw,                               # cont spw\n",
    "          combine   = 'spw',\n",
    "          solint    = 'int',\n",
    "          fitorder  = 1,\n",
    "          want_cont = False)                                # should not be changed.\n"
   ]
  },
  {
   "cell_type": "markdown",
   "id": "c05282ad",
   "metadata": {},
   "source": [
    "#  13CO line "
   ]
  },
  {
   "cell_type": "markdown",
   "id": "d24be7d7",
   "metadata": {},
   "source": [
    "first try on 13CO line as thats going to be the brightest\n",
    "os.system('rm -rf test_f'+str(field)+'_13co32*')\n"
   ]
  },
  {
   "cell_type": "code",
   "execution_count": null,
   "id": "89731b5b",
   "metadata": {},
   "outputs": [],
   "source": [
    "clean(vis           = 'f'+str(field)+'.vis.contsub',\n",
    "      imagename     = 'test_f'+str(field)+'_13co32',\n",
    "      mode          = 'velocity',\n",
    "      start         = start,\n",
    "      width         = width,\n",
    "      nchan         = nchan,\n",
    "      outframe      = outframe,\n",
    "      veltype       = veltype,\n",
    "      restfreq      = '330.58797GHz',\n",
    "      niter         = 2000,\n",
    "      threshold     = 0,\n",
    "      interactive   = True,\n",
    "      imsize        = imsize,\n",
    "      cell          = cell,\n",
    "      weighting     ='briggs',\n",
    "      robust        = robust,\n",
    "      imagermode    = imagermode)\n"
   ]
  },
  {
   "cell_type": "markdown",
   "id": "04fa3383",
   "metadata": {},
   "source": [
    "use viewer to check channel maps and spectrum\n",
    "make sure that velocity range is adequate and continuum subtraction ok\n"
   ]
  },
  {
   "cell_type": "code",
   "execution_count": null,
   "id": "3cee5269",
   "metadata": {},
   "outputs": [],
   "source": [
    "imview(raster   = [{'file':'test_f'+str(field)+'_13co32.image'}],\n",
    "        contour = [{'file':'f'+str(field)+'_cont.fits'}])\n"
   ]
  },
  {
   "cell_type": "markdown",
   "id": "196e5cd5",
   "metadata": {},
   "source": [
    "export cube to fits file    \n"
   ]
  },
  {
   "cell_type": "code",
   "execution_count": null,
   "id": "1bab51d6",
   "metadata": {},
   "outputs": [],
   "source": [
    "fbase = 'test_f'+str(field)+'_13co32'\n",
    "os.system('rm -rf '+fbase+'.cube.fits')\n",
    "exportfits(imagename=fbase+'.image',fitsimage=fbase+'.cube.fits')\n"
   ]
  },
  {
   "cell_type": "markdown",
   "id": "59d39fd8",
   "metadata": {},
   "source": [
    "os.system('rm -rf f'+str(field)+'_13co32.mom0*')\n"
   ]
  },
  {
   "cell_type": "code",
   "execution_count": null,
   "id": "05e86b3e",
   "metadata": {},
   "outputs": [],
   "source": [
    "immoments(imagename  = 'test_f'+str(field)+'_13co32.image',            # CHANGEME (based on above analysis!!)\n",
    "          outfile    = 'test_f'+str(field)+'_13co32.mom0',\n",
    "          moments    = [0],\n",
    "          includepix = [-10.0,100.0],\n",
    "          chans      = ('range=[0km/s,9km/s]'))                      # CHANGEME (based on above analysis!!)\n",
    "fbase = 'test_f'+str(field)+'_13co32.mom0'\n",
    "os.system('rm -rf '+fbase+'.fits')\n",
    "exportfits(imagename=fbase,\n",
    "           fitsimage=fbase+'.fits')\n"
   ]
  },
  {
   "cell_type": "markdown",
   "id": "82c08109",
   "metadata": {},
   "source": [
    "first moment map\n"
   ]
  },
  {
   "cell_type": "code",
   "execution_count": null,
   "id": "f62f1cca",
   "metadata": {},
   "outputs": [],
   "source": [
    "sigma = 30e-3  # Jy/beam in peak velocity channel\n",
    "os.system('rm -rf test_f14_13co32.mom1.image')\n",
    "immoments(imagename  = 'test_f14_13co32.cube.fits',\n",
    "          outfile    = 'test_f14_13co32.mom1.image',\n",
    "          moments    = [1],\n",
    "          includepix = [3.0*sigma,100.0],\n",
    "          chans      = ('range=[-1km/s,9km/s]'))\n",
    "os.system('rm -rf test_f14_13co32.mom1.fits')\n",
    "exportfits(imagename='test_f14_13co32.mom1.image',fitsimage='test_f14_13co32.mom1.fits')\n",
    "os.system('rm -rf f14_13co32.mom1.image')\n"
   ]
  },
  {
   "cell_type": "markdown",
   "id": "c4f3ff9a",
   "metadata": {},
   "source": [
    "crop first-moment map\n"
   ]
  },
  {
   "cell_type": "code",
   "execution_count": null,
   "id": "0edd728a",
   "metadata": {},
   "outputs": [],
   "source": [
    "ia.fromimage(outfile = 'test_0.5_f14_13co32.mom1.crop.image',\n",
    "             infile  = 'test_0.5_f14_13co32.mom1.fits',\n",
    "             region  = rg.box([320-50,320-50],[320+50,320+50]) )\n",
    "ia.close() \n",
    "exportfits(imagename = 'test_0.5_f14_13co32.mom1.crop.image',\n",
    "           fitsimage = 'test_0.5_f14_13co32.mom1.crop.fits')\n"
   ]
  },
  {
   "cell_type": "markdown",
   "id": "75e8d884",
   "metadata": {},
   "source": [
    "measure flux\n"
   ]
  },
  {
   "cell_type": "code",
   "execution_count": null,
   "id": "ac91f259",
   "metadata": {},
   "outputs": [],
   "source": [
    "im_max = imstat(imagename = 'f'+str(field)+'_13co32.mom0')['max'][0]\n",
    "im_rms = imstat(imagename = 'f'+str(field)+'_13co32.mom0',\n",
    "                region='annulus[['+str(xc)+'pix,'+str(yc)+'pix],['+str(in_a)+'pix,'+str(out_a)+'pix]]')['rms'][0]\n",
    "im_flux = imstat(imagename = 'f'+str(field)+'_13co32.mom0',\n",
    "                 region='circle[['+str(xc)+'pix,'+str(yc)+'pix],'+str(aper)+'arcsec]')['flux'][0]\n",
    "print 'Flux = {0:.2f} mJy, rms = {1:.2f} mJy, S/N = {2:.1f}'.format(1000*im_flux, 1000*im_rms, im_flux/im_rms)\n"
   ]
  },
  {
   "cell_type": "markdown",
   "id": "f2c6bace",
   "metadata": {},
   "source": [
    "Flux = 4595.72 mJy, rms = 72.09 mJy, S/N = 63.7\n",
    "view continuum and gas\n"
   ]
  },
  {
   "cell_type": "code",
   "execution_count": null,
   "id": "cd787dce",
   "metadata": {},
   "outputs": [],
   "source": [
    "imview(raster=[{'file':'f'+str(field)+'_13co32.mom0'}],\n",
    "       contour = [{'file':'f'+str(field)+'_cont.fits'}])\n"
   ]
  },
  {
   "cell_type": "markdown",
   "id": "2ea8fd28",
   "metadata": {},
   "source": [
    "re-center image on source and use measure.py to get COG flux\n",
    "os.system('rm -rf f'+str(field)+'_13co32.mom0_cropped.image*')\n"
   ]
  },
  {
   "cell_type": "code",
   "execution_count": null,
   "id": "b132e273",
   "metadata": {},
   "outputs": [],
   "source": [
    "ia.fromimage(outfile = 'f'+str(field)+'_13co32.mom0_cropped.image',\n",
    "             infile  = 'f'+str(field)+'_13co32.mom0.fits',\n",
    "             region  = box )\n",
    "ia.close() \n",
    "exportfits(imagename = 'f'+str(field)+'_13co32.mom0_cropped.image',\n",
    "           fitsimage = 'f'+str(field)+'_13co32.mom0_cropped.fits')\n"
   ]
  },
  {
   "cell_type": "code",
   "execution_count": null,
   "id": "31f10efc",
   "metadata": {},
   "outputs": [],
   "source": [
    "Measuring COG for G/f14_13co32.mom0_cropped.fits\n",
    "Assuming object center (300.0,300.0)\n",
    "Background: -0.92 mJy/beam km/s\n",
    "RMS in annulus 4.0-9.0 arcsec = 73.48 mJy/beam km/s\n",
    "   i   radius    flux      err       snr\n",
    "       (asec)    (mJy)     (mJy)\n",
    "   0     0.10   252.33    15.84     15.9\n",
    "   1     0.20   808.95    54.34     14.9\n",
    "   2     0.30  1531.45    64.75     23.7\n",
    "   3     0.40  2194.40    94.71     23.2\n",
    "   4     0.50  2795.33   137.81     20.3\n",
    "   5     0.60  3239.24   141.22     22.9\n",
    "   6     0.70  3593.30   175.71     20.4\n",
    "   7     0.80  3915.20   223.61     17.5\n",
    "   8     0.90  4238.46   208.20     20.4\n",
    "   9     1.00  4510.30   239.20     18.9\n",
    "  10     1.10  4624.38   224.93     20.6\n",
    "  11     1.20  4618.95   271.20     17.0\n",
    "  12     1.30  4570.59   225.59     20.3\n",
    "  13     1.40  4542.64   287.87     15.8\n",
    "F = 4624.38 mJy\n",
    "E = 224.93 mJy\n",
    "S = 20.6\n",
    "D = 2.2 arcsec\n"
   ]
  },
  {
   "cell_type": "markdown",
   "id": "ff7fbada",
   "metadata": {},
   "source": [
    "#  C18O line  "
   ]
  },
  {
   "cell_type": "markdown",
   "id": "a29f390e",
   "metadata": {},
   "source": [
    "don't bother with selfcal as it doesn't help...\n",
    "os.system('rm -rf f'+str(field)+'_c18o32*')\n"
   ]
  },
  {
   "cell_type": "code",
   "execution_count": null,
   "id": "c7cddc38",
   "metadata": {},
   "outputs": [],
   "source": [
    "clean(vis           = 'f'+str(field)+'.vis.contsub',\n",
    "      imagename     = 'f'+str(field)+'_c18o32',\n",
    "      mode          = 'velocity',\n",
    "      start         = start,\n",
    "      width         = width,\n",
    "      nchan         = nchan,\n",
    "      outframe      = outframe,\n",
    "      veltype       = veltype,\n",
    "      restfreq      = '329.33055GHz',\n",
    "      niter         = 500,\n",
    "      threshold     = 0,\n",
    "      interactive   = False,\n",
    "      mask          = 'f14_cont_mask.crtf',\n",
    "      imsize        = imsize,\n",
    "      cell          = cell,\n",
    "      weighting     ='briggs',\n",
    "      robust        = robust,\n",
    "      imagermode    = imagermode)\n"
   ]
  },
  {
   "cell_type": "markdown",
   "id": "31afdfb4",
   "metadata": {},
   "source": [
    "could not see line clearly, so just cleaned lightly \n",
    "within continuum region for all channels at once\n",
    "use viewer to check channel maps and spectrum\n",
    "make sure that velocity range is adequate and continuum subtraction ok\n"
   ]
  },
  {
   "cell_type": "code",
   "execution_count": null,
   "id": "d0d1ba31",
   "metadata": {},
   "outputs": [],
   "source": [
    "imview(raster   = [{'file':'f'+str(field)+'_c18o32.image'}],\n",
    "        contour = [{'file':'f'+str(field)+'_cont.fits'}])\n"
   ]
  },
  {
   "cell_type": "markdown",
   "id": "1e1131de",
   "metadata": {},
   "source": [
    "export cube to fits file    \n"
   ]
  },
  {
   "cell_type": "code",
   "execution_count": null,
   "id": "79ac4df0",
   "metadata": {},
   "outputs": [],
   "source": [
    "fbase = 'f'+str(field)+'_c18o32'\n",
    "os.system('rm -rf '+fbase+'.cube.fits')\n",
    "exportfits(imagename=fbase+'.image',fitsimage=fbase+'.cube.fits')\n"
   ]
  },
  {
   "cell_type": "markdown",
   "id": "5e3c9fbd",
   "metadata": {},
   "source": [
    "redo moment0 maps (now excluding noisy first channel!!)\n",
    "os.system('rm -rf f'+str(field)+'_c18o32.mom0*')\n"
   ]
  },
  {
   "cell_type": "code",
   "execution_count": null,
   "id": "1306a453",
   "metadata": {},
   "outputs": [],
   "source": [
    "immoments(imagename  = 'f'+str(field)+'_c18o32.image',            # CHANGEME (based on above analysis!!)\n",
    "          outfile    = 'f'+str(field)+'_c18o32.mom0',\n",
    "          moments    = [0],\n",
    "          includepix = [-10.0,100.0],\n",
    "          chans      = ('range=[0km/s,9km/s]'))                      # CHANGEME (based on above analysis!!)\n"
   ]
  },
  {
   "cell_type": "markdown",
   "id": "f3e7f309",
   "metadata": {},
   "source": [
    "can't see line clearly so will use same velocity range as 13co32\n",
    "export to fits file    \n"
   ]
  },
  {
   "cell_type": "code",
   "execution_count": null,
   "id": "0ed6267e",
   "metadata": {},
   "outputs": [],
   "source": [
    "fbase = 'f'+str(field)+'_c18o32.mom0'\n",
    "os.system('rm -rf '+fbase+'.fits')\n",
    "exportfits(imagename=fbase,fitsimage=fbase+'.fits')\n"
   ]
  },
  {
   "cell_type": "markdown",
   "id": "27bcea38",
   "metadata": {},
   "source": [
    "measure flux\n"
   ]
  },
  {
   "cell_type": "code",
   "execution_count": null,
   "id": "d5bd15f9",
   "metadata": {},
   "outputs": [],
   "source": [
    "im_rms = imstat(imagename = 'f'+str(field)+'_c18o32.mom0',\n",
    "                region='annulus[['+str(xc)+'pix,'+str(yc)+'pix],['+str(in_a)+'pix,'+str(out_a)+'pix]]')['rms'][0]\n",
    "im_flux = imstat(imagename = 'f'+str(field)+'_c18o32.mom0',\n",
    "                 region='circle[['+str(xc)+'pix,'+str(yc)+'pix],'+str(aper)+'arcsec]')['flux'][0]\n",
    "print 'Flux = {0:.2f} mJy, rms = {1:.2f} mJy, S/N = {2:.1f}'.format(1000*im_flux, 1000*im_rms, im_flux/im_rms)\n"
   ]
  },
  {
   "cell_type": "markdown",
   "id": "9d5dcbc4",
   "metadata": {},
   "source": [
    "Flux = 1653.70 mJy, rms = 80.42 mJy, S/N = 20.6\n",
    "view continuum and gas\n"
   ]
  },
  {
   "cell_type": "code",
   "execution_count": null,
   "id": "be2b8f41",
   "metadata": {},
   "outputs": [],
   "source": [
    "imview(raster=[{'file':'f'+str(field)+'_c18o32.mom0'}],\n",
    "       contour = [{'file':'f'+str(field)+'_cont.fits'}])\n"
   ]
  },
  {
   "cell_type": "markdown",
   "id": "f18ed1c0",
   "metadata": {},
   "source": [
    "re-center image on source and use measure.py to get COG flux\n"
   ]
  },
  {
   "cell_type": "code",
   "execution_count": null,
   "id": "8a1062a1",
   "metadata": {},
   "outputs": [],
   "source": [
    "ia.fromimage(outfile = 'f'+str(field)+'_c18o32.mom0_cropped.image',\n",
    "             infile  = 'f'+str(field)+'_c18o32.mom0.fits',\n",
    "             region  = box )\n",
    "ia.close() \n",
    "exportfits(imagename = 'f'+str(field)+'_c18o32.mom0_cropped.image',\n",
    "           fitsimage = 'f'+str(field)+'_c18o32.mom0_cropped.fits')\n"
   ]
  },
  {
   "cell_type": "code",
   "execution_count": null,
   "id": "b889c2a6",
   "metadata": {},
   "outputs": [],
   "source": [
    "Measuring COG for G/f14_c18o32.mom0_cropped.fits\n",
    "Assuming object center (300.0,300.0)\n",
    "Background: 0.29 mJy/beam km/s\n",
    "RMS in annulus 4.0-9.0 arcsec = 84.60 mJy/beam km/s\n",
    "   i   radius    flux      err       snr\n",
    "       (asec)    (mJy)     (mJy)\n",
    "   0     0.10   119.19    23.60      5.0\n",
    "   1     0.20   398.07    58.66      6.8\n",
    "   2     0.30   761.19    61.50     12.4\n",
    "   3     0.40  1030.14   107.08      9.6\n",
    "   4     0.50  1148.87   126.38      9.1\n",
    "   5     0.60  1143.10   146.67      7.8 <-- using this\n",
    "   6     0.70  1111.09   196.92      5.6\n",
    "   7     0.80  1121.06   236.92      4.7\n",
    "   8     0.90  1177.00   265.96      4.4\n",
    "   9     1.00  1268.24   240.62      5.3\n",
    "F = 1268.24 mJy\n",
    "E = 240.62 mJy\n",
    "S = 5.27\n",
    "D = 2.00 arcsec\n"
   ]
  },
  {
   "cell_type": "markdown",
   "id": "4bf524ba",
   "metadata": {},
   "source": [
    "#  Image CN  "
   ]
  },
  {
   "cell_type": "markdown",
   "id": "04bf77cf",
   "metadata": {},
   "source": [
    "don't bother with selfcal as it doesn't help...\n",
    "os.system('rm -rf f'+str(field)+'_cn32_b4sc*')\n"
   ]
  },
  {
   "cell_type": "code",
   "execution_count": null,
   "id": "0e100566",
   "metadata": {},
   "outputs": [],
   "source": [
    "clean(vis           = 'f'+str(field)+'.vis.contsub',\n",
    "      imagename     = 'f'+str(field)+'_cn32_b4sc',\n",
    "      mode          = 'velocity',\n",
    "      start         = start,\n",
    "      width         = width,\n",
    "      nchan         = nchan,\n",
    "      outframe      = outframe,\n",
    "      veltype       = veltype,\n",
    "      restfreq      = '340.24777GHz',\n",
    "      niter         = 500,\n",
    "      threshold     = 0,\n",
    "      interactive   = False,\n",
    "      mask          = 'f14_cont_mask.crtf',\n",
    "      imsize        = imsize,\n",
    "      cell          = cell,\n",
    "      weighting     ='briggs',\n",
    "      robust        = robust,\n",
    "      imagermode    = imagermode)\n"
   ]
  },
  {
   "cell_type": "markdown",
   "id": "3754bdae",
   "metadata": {},
   "source": [
    "could not see line clearly, so just cleaned lightly \n",
    "within continuum region for all channels at once\n",
    "use viewer to check channel maps and spectrum\n",
    "make sure that velocity range is adequate and continuum subtraction ok\n"
   ]
  },
  {
   "cell_type": "code",
   "execution_count": null,
   "id": "8931ba15",
   "metadata": {},
   "outputs": [],
   "source": [
    "imview(raster   = [{'file':'f'+str(field)+'_cn32_b4sc.image'}],\n",
    "        contour = [{'file':'f'+str(field)+'_cont.fits'}])\n"
   ]
  },
  {
   "cell_type": "markdown",
   "id": "7c8741dd",
   "metadata": {},
   "source": [
    "redo moment0 maps (now excluding noisy first channel!!)\n",
    "os.system('rm -rf f'+str(field)+'_cn32.mom0*')\n"
   ]
  },
  {
   "cell_type": "code",
   "execution_count": null,
   "id": "28148450",
   "metadata": {},
   "outputs": [],
   "source": [
    "immoments(imagename  = 'f'+str(field)+'_cn32_b4sc.image',            # CHANGEME (based on above analysis!!)\n",
    "          outfile    = 'f'+str(field)+'_cn32.mom0',\n",
    "          moments    = [0],\n",
    "          includepix = [-10.0,100.0],\n",
    "          chans      = ('range=[-1km/s,7km/s]'))                        # CHANGEME (based on above analysis!!)\n"
   ]
  },
  {
   "cell_type": "markdown",
   "id": "6c015b58",
   "metadata": {},
   "source": [
    "export to fits file    \n"
   ]
  },
  {
   "cell_type": "code",
   "execution_count": null,
   "id": "061766fb",
   "metadata": {},
   "outputs": [],
   "source": [
    "fbase = 'f'+str(field)+'_cn32.mom0'\n",
    "os.system('rm -rf '+fbase+'.fits')\n",
    "exportfits(imagename=fbase,fitsimage=fbase+'.fits')\n"
   ]
  },
  {
   "cell_type": "markdown",
   "id": "46985cc3",
   "metadata": {},
   "source": [
    "measure flux\n"
   ]
  },
  {
   "cell_type": "code",
   "execution_count": null,
   "id": "247b7b0d",
   "metadata": {},
   "outputs": [],
   "source": [
    "im_rms = imstat(imagename = 'f'+str(field)+'_cn32.mom0',\n",
    "                region='annulus[['+str(xc)+'pix,'+str(yc)+'pix],['+str(in_a)+'pix,'+str(out_a)+'pix]]')['rms'][0]\n",
    "im_flux = imstat(imagename = 'f'+str(field)+'_cn32.mom0',\n",
    "                 region='circle[['+str(xc)+'pix,'+str(yc)+'pix],'+str(aper)+'arcsec]')['flux'][0]\n",
    "print 'Flux = {0:.2f} mJy, rms = {1:.2f} mJy, S/N = {2:.1f}'.format(1000*im_flux, 1000*im_rms, im_flux/im_rms)\n"
   ]
  },
  {
   "cell_type": "markdown",
   "id": "40917e43",
   "metadata": {},
   "source": [
    "Flux = 1817.61 mJy, rms = 49.99 mJy, S/N = 36.4\n",
    "view continuum and gas\n"
   ]
  },
  {
   "cell_type": "code",
   "execution_count": null,
   "id": "2420f172",
   "metadata": {},
   "outputs": [],
   "source": [
    "imview(raster=[{'file':'f'+str(field)+'_cn32.mom0'}],\n",
    "       contour = [{'file':'f'+str(field)+'_cont.fits'}])\n"
   ]
  },
  {
   "cell_type": "markdown",
   "id": "1c5727da",
   "metadata": {},
   "source": [
    "re-center image on source and use measure.py to get COG flux\n"
   ]
  },
  {
   "cell_type": "code",
   "execution_count": null,
   "id": "7777ce25",
   "metadata": {},
   "outputs": [],
   "source": [
    "ia.fromimage(outfile = 'f'+str(field)+'_cn32.mom0_cropped.image',\n",
    "             infile  = 'f'+str(field)+'_cn32.mom0.fits',\n",
    "             region  = box )\n",
    "ia.close() \n",
    "exportfits(imagename = 'f'+str(field)+'_cn32.mom0_cropped.image',\n",
    "           fitsimage = 'f'+str(field)+'_cn32.mom0_cropped.fits')\n"
   ]
  },
  {
   "cell_type": "code",
   "execution_count": null,
   "id": "b44374b3",
   "metadata": {},
   "outputs": [],
   "source": [
    "Measuring COG for G/f14_cn32.mom0_cropped.fits\n",
    "Assuming object center (300.0,300.0)\n",
    "Background: 0.61 mJy/beam km/s\n",
    "RMS in annulus 4.0-9.0 arcsec = 51.44 mJy/beam km/s\n",
    "   i   radius    flux      err\n",
    "       (asec)    (mJy)     (mJy)\n",
    "   0      0.1     97.9     11.8\n",
    "   1      0.2    308.9     29.8\n",
    "   2      0.3    590.2     56.0\n",
    "   3      0.4    869.4     74.7\n",
    "   4      0.5   1139.6     89.3\n",
    "   5      0.6   1323.6    127.0\n",
    "   6      0.7   1433.4    107.8\n",
    "   7      0.8   1489.2    126.0\n",
    "   8      0.9   1529.6    160.0\n",
    "   9      1.0   1621.3    191.5\n",
    "  10      1.1   1752.1    170.4\n",
    "  11      1.2   1825.8    174.6\n",
    "  12      1.3   1764.6    221.1\n",
    "  13      1.4   1650.3    222.4\n",
    "  14      1.5   1592.1    250.0\n",
    "  15      1.6   1653.1    230.8\n",
    "  16      1.7   1767.0    249.3\n",
    "  17      1.8   1815.0    300.4\n",
    "  18      1.9   1775.2    313.4\n",
    "  19      2.0   1707.9    272.4\n",
    "F = 1825.8 mJy\n",
    "E = 174.6 mJy\n",
    "S = 10.5 mJy\n",
    "D = 2.4 arcsec\n"
   ]
  }
 ],
 "metadata": {},
 "nbformat": 4,
 "nbformat_minor": 5
}
