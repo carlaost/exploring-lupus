{
 "cells": [
  {
   "cell_type": "code",
   "execution_count": null,
   "id": "fdc848e2",
   "metadata": {},
   "outputs": [],
   "source": [
    "#!/usr/bin/env\n"
   ]
  },
  {
   "cell_type": "markdown",
   "id": "b74b2db7",
   "metadata": {},
   "source": [
    "\"\"\"\n"
   ]
  },
  {
   "cell_type": "markdown",
   "id": "d5179878",
   "metadata": {},
   "source": []
  },
  {
   "cell_type": "markdown",
   "id": "6d4c6080",
   "metadata": {},
   "source": [
    "make line datacubes and integrated maps\n",
    "and compare applying continuum selfcal\n",
    "NOTE: this is intended to be an interactive, iterative process\n",
    "      so this is more a log that should be run by cutting and\n",
    "      pasting into casa rather than as an executable script\n",
    "      search \"CHANGEME\" for variables to be changed\n",
    "10/9/15 MCA\n",
    "\"\"\"\n"
   ]
  },
  {
   "cell_type": "markdown",
   "id": "b8f2ff21",
   "metadata": {},
   "source": [
    "#  Setup "
   ]
  },
  {
   "cell_type": "markdown",
   "id": "13df34be",
   "metadata": {},
   "source": [
    "LupusIII_50  +16:08:30.69 -38:28:26.8\n",
    "Class II, K1\n"
   ]
  },
  {
   "cell_type": "code",
   "execution_count": null,
   "id": "5590ae32",
   "metadata": {},
   "outputs": [],
   "source": [
    "field = 9                                                   # CHANGEME \n",
    "fitspw    = '2,3:0~2049;2151~2899;3051~3480,4'              # line-free channels for fitting continuum\n",
    "fitspw    = '2,3,4'                                         # line-free channels for fitting continuum\n",
    "linespw   = '0,1,3'                                         # line spectral windows (C18O, 13CO, CN)\n",
    "robust     = 0.5                                            # CHANGEME\n",
    "imsize     = [640,640]\n",
    "cell       = '0.03arcsec'\n",
    "imagermode = 'csclean'\n",
    "outframe   = 'lsrk'\n",
    "veltype    = 'radio'\n",
    "width      = '1.0km/s'\n",
    "start      = '-2km/s'\n",
    "nchan      = 12\n",
    "xc         = 326                                            # CHANGEME\n",
    "yc         = 306                                            # CHANGEME\n",
    "in_a       = 80\n",
    "out_a      = 120\n",
    "aper       = 1.25\n",
    "boxwidth = 300.\n",
    "box = rg.box([xc-boxwidth,yc-boxwidth],[xc+boxwidth,yc+boxwidth])\n",
    "split(vis = visfile,\n",
    "      outputvis = fieldvis,\n",
    "      field = field,\n",
    "      datacolumn = 'data')\n"
   ]
  },
  {
   "cell_type": "markdown",
   "id": "8e3371a2",
   "metadata": {},
   "source": [
    "#  Create continuum subtracted line datasets "
   ]
  },
  {
   "cell_type": "code",
   "execution_count": null,
   "id": "e38bc817",
   "metadata": {},
   "outputs": [],
   "source": [
    "uvcontsub(vis       = 'f'+str(field)+'.vis',                # full vis file for this field\n",
    "          spw       = linespw,                              # line spw (for cont subtraction)\n",
    "          fitspw    = fitspw,                               # cont spw\n",
    "          combine   = 'spw',\n",
    "          solint    = 'int',\n",
    "          fitorder  = 1,\n",
    "          want_cont = False)                                # should not be changed.\n"
   ]
  },
  {
   "cell_type": "markdown",
   "id": "183261fe",
   "metadata": {},
   "source": [
    "#  13CO line "
   ]
  },
  {
   "cell_type": "markdown",
   "id": "95f903e3",
   "metadata": {},
   "source": [
    "first try on 13CO line as thats going to be the brightest\n",
    "os.system('rm -rf test_f'+str(field)+'_13co32*')\n"
   ]
  },
  {
   "cell_type": "code",
   "execution_count": null,
   "id": "14b15e6e",
   "metadata": {},
   "outputs": [],
   "source": [
    "clean(vis           = 'f'+str(field)+'.vis.contsub',\n",
    "      imagename     = 'test_f'+str(field)+'_13co32',\n",
    "      mode          = 'velocity',\n",
    "      start         = start,\n",
    "      width         = width,\n",
    "      nchan         = nchan,\n",
    "      outframe      = outframe,\n",
    "      veltype       = veltype,\n",
    "      restfreq      = '330.58797GHz',\n",
    "      niter         = 5000,\n",
    "      threshold     = 0,\n",
    "      interactive   = True,\n",
    "      imsize        = imsize,\n",
    "      cell          = cell,\n",
    "      weighting     ='briggs',\n",
    "      robust        = robust,\n",
    "      imagermode    = imagermode)\n"
   ]
  },
  {
   "cell_type": "markdown",
   "id": "ef1a1238",
   "metadata": {},
   "source": [
    "export cube to fits file    \n"
   ]
  },
  {
   "cell_type": "code",
   "execution_count": null,
   "id": "a4e04d4c",
   "metadata": {},
   "outputs": [],
   "source": [
    "fbase = 'test_f'+str(field)+'_13co32'\n",
    "os.system('rm -rf '+fbase+'.cube.fits')\n",
    "exportfits(imagename=fbase+'.image',fitsimage=fbase+'.cube.fits')\n"
   ]
  },
  {
   "cell_type": "markdown",
   "id": "7b845ec6",
   "metadata": {},
   "source": [
    "use viewer to check channel maps and spectrum\n",
    "make sure that velocity range is adequate and continuum subtraction ok\n"
   ]
  },
  {
   "cell_type": "code",
   "execution_count": null,
   "id": "671b4beb",
   "metadata": {},
   "outputs": [],
   "source": [
    "imview(raster   = [{'file':'test_f'+str(field)+'_13co32.image'}],\n",
    "        contour = [{'file':'f'+str(field)+'_cont.fits'}])\n"
   ]
  },
  {
   "cell_type": "markdown",
   "id": "35b0daeb",
   "metadata": {},
   "source": [
    "redo moment0 maps (now excluding noisy first channel!!)\n",
    "os.system('rm -rf test_f'+str(field)+'_13co32.mom0*')\n"
   ]
  },
  {
   "cell_type": "code",
   "execution_count": null,
   "id": "67828ba9",
   "metadata": {},
   "outputs": [],
   "source": [
    "immoments(imagename  = 'test_f'+str(field)+'_13co32.image',            # CHANGEME (based on above analysis!!)\n",
    "          outfile    = 'test_f'+str(field)+'_13co32.mom0',\n",
    "          moments    = [0],\n",
    "          includepix = [-10.0,100.0],\n",
    "          chans      = ('range=[1km/s,9km/s]'))\n"
   ]
  },
  {
   "cell_type": "markdown",
   "id": "21759e00",
   "metadata": {},
   "source": [
    "export to fits file    \n"
   ]
  },
  {
   "cell_type": "code",
   "execution_count": null,
   "id": "53af903f",
   "metadata": {},
   "outputs": [],
   "source": [
    "fbase = 'test_f'+str(field)+'_13co32.mom0'\n",
    "os.system('rm -rf '+fbase+'.fits')\n",
    "exportfits(imagename=fbase,\n",
    "           fitsimage=fbase+'.fits')\n"
   ]
  },
  {
   "cell_type": "markdown",
   "id": "514b26a8",
   "metadata": {},
   "source": [
    "###FIRST MOMENT MAP\n"
   ]
  },
  {
   "cell_type": "code",
   "execution_count": null,
   "id": "115d6a7b",
   "metadata": {},
   "outputs": [],
   "source": [
    "sigma = 35e-3  # Jy/beam in peak velocity channel\n",
    "os.system('rm -rf test_f9_13co32_mom1.image')\n",
    "immoments(imagename  = 'test_f9_13co32.cube.fits',\n",
    "          outfile    = 'test_f9_13co32_mom1.image',\n",
    "          moments    = [1],\n",
    "          includepix = [3.0*sigma,100.0],\n",
    "          chans      = ('range=[1km/s,9km/s]'))\n",
    "os.system('rm -rf test_f9_13co32_mom1.fits')\n",
    "exportfits(imagename='test_f9_13co32_mom1.image',fitsimage='test_f9_13co32_mom1.fits')\n",
    "os.system('rm -rf test_f9_13co32_res0.3_mom1.image')\n"
   ]
  },
  {
   "cell_type": "markdown",
   "id": "a85dfb35",
   "metadata": {},
   "source": [
    "###FIRST MOMENT MAP\n"
   ]
  },
  {
   "cell_type": "code",
   "execution_count": null,
   "id": "798a3469",
   "metadata": {},
   "outputs": [],
   "source": [
    "sigma = 35e-3  # Jy/beam in peak velocity channel\n",
    "os.system('rm -rf test_f9_13co32_mom2.image')\n",
    "immoments(imagename  = 'test_f9_13co32.cube.fits',\n",
    "          outfile    = 'test_f9_13co32_mom2.image',\n",
    "          moments    = [2],\n",
    "          includepix = [3.0*sigma,100.0],\n",
    "          chans      = ('range=[1km/s,9km/s]'))\n",
    "os.system('rm -rf test_f9_13co32_mom1.fits')\n",
    "exportfits(imagename='test_f9_13co32_mom1.image',fitsimage='test_f9_13co32_mom1.fits')\n",
    "os.system('rm -rf test_f9_13co32_res0.3_mom1.image')\n"
   ]
  },
  {
   "cell_type": "markdown",
   "id": "7b751d3d",
   "metadata": {},
   "source": [
    "measure flux\n",
    "imview(raster=[{'file':'f'+str(field)+'_13co32.mom0'}])\n"
   ]
  },
  {
   "cell_type": "code",
   "execution_count": null,
   "id": "97dcabe0",
   "metadata": {},
   "outputs": [],
   "source": [
    "im_rms = imstat(imagename = 'f'+str(field)+'_13co32.mom0',\n",
    "                region='annulus[['+str(xc)+'pix,'+str(yc)+'pix],['+str(in_a)+'pix,'+str(out_a)+'pix]]')['rms'][0]\n",
    "im_flux = imstat(imagename = 'f'+str(field)+'_13co32.mom0',\n",
    "                 region='circle[['+str(xc)+'pix,'+str(yc)+'pix],'+str(aper)+'arcsec]')['flux'][0]\n",
    "print 'Flux = {0:.2f} mJy, rms = {1:.2f} mJy, S/N = {2:.1f}'.format(1000*im_flux, 1000*im_rms, im_flux/im_rms)\n"
   ]
  },
  {
   "cell_type": "markdown",
   "id": "b5538ff2",
   "metadata": {},
   "source": [
    "Flux = 6518.87 mJy, rms = 70.36 mJy, S/N = 92.7\n",
    "view continuum and gas\n"
   ]
  },
  {
   "cell_type": "code",
   "execution_count": null,
   "id": "70a95742",
   "metadata": {},
   "outputs": [],
   "source": [
    "imview(raster=[{'file':'f'+str(field)+'_13co32.mom0'}],\n",
    "       contour = [{'file':'f'+str(field)+'_cont.fits'}])\n"
   ]
  },
  {
   "cell_type": "markdown",
   "id": "da56f683",
   "metadata": {},
   "source": [
    "re-center image on source and use measure.py to get COG flux\n",
    "os.system('rm -rf f'+str(field)+'_13co32.mom0_cropped*')\n"
   ]
  },
  {
   "cell_type": "code",
   "execution_count": null,
   "id": "79712181",
   "metadata": {},
   "outputs": [],
   "source": [
    "ia.fromimage(outfile = 'f'+str(field)+'_13co32.mom0_cropped.image',\n",
    "             infile  = 'f'+str(field)+'_13co32.mom0.fits',\n",
    "             region  = box )\n",
    "ia.close() \n",
    "exportfits(imagename = 'f'+str(field)+'_13co32.mom0_cropped.image',\n",
    "           fitsimage = 'f'+str(field)+'_13co32.mom0_cropped.fits')\n"
   ]
  },
  {
   "cell_type": "code",
   "execution_count": null,
   "id": "8d5ea755",
   "metadata": {},
   "outputs": [],
   "source": [
    "Measuring COG for G/f9_13co32.mom0_cropped.fits\n",
    "Assuming object center (300.0,300.0)\n",
    "Background: 0.52 mJy/beam km/s\n",
    "RMS in annulus 4.0-6.0 arcsec = 75.29 mJy/beam km/s\n",
    "   i   radius    flux      err       snr\n",
    "       (asec)    (mJy)     (mJy)\n",
    "   0     0.10   198.79    15.40     12.9\n",
    "   1     0.20   723.28    46.47     15.6\n",
    "   2     0.30  1597.21    76.39     20.9\n",
    "   3     0.40  2578.79   115.67     22.3\n",
    "   4     0.50  3574.32   119.84     29.8\n",
    "   5     0.60  4375.40   166.53     26.3\n",
    "   6     0.70  5058.44   172.47     29.3\n",
    "   7     0.80  5630.33   174.36     32.3\n",
    "   8     0.90  6079.59   207.74     29.3\n",
    "   9     1.00  6449.81   223.62     28.8\n",
    "  10     1.10  6657.41   250.96     26.5\n",
    "  11     1.20  6681.97   261.98     25.5\n",
    "  12     1.30  6626.41   284.84     23.3\n",
    "F = 6681.97 mJy\n",
    "E = 261.98 mJy\n",
    "S = 25.51\n",
    "D = 2.40 arcsec\n"
   ]
  },
  {
   "cell_type": "markdown",
   "id": "621516fc",
   "metadata": {},
   "source": [
    "#  C18O line  "
   ]
  },
  {
   "cell_type": "markdown",
   "id": "30d7b494",
   "metadata": {},
   "source": [
    "don't bother with selfcal as it doesn't help...\n",
    "os.system('rm -rf f'+str(field)+'_c18o32*')\n"
   ]
  },
  {
   "cell_type": "code",
   "execution_count": null,
   "id": "dc647f71",
   "metadata": {},
   "outputs": [],
   "source": [
    "clean(vis           = 'f'+str(field)+'.vis.contsub',\n",
    "      imagename     = 'f'+str(field)+'_c18o32',\n",
    "      mode          = 'velocity',\n",
    "      start         = start,\n",
    "      width         = width,\n",
    "      nchan         = nchan,\n",
    "      outframe      = outframe,\n",
    "      veltype       = veltype,\n",
    "      restfreq      = '329.33055GHz',\n",
    "      niter         = 2000,\n",
    "      threshold     = 0,\n",
    "      interactive   = True,\n",
    "      imsize        = imsize,\n",
    "      cell          = cell,\n",
    "      weighting     ='briggs',\n",
    "      robust        = robust,\n",
    "      imagermode    = imagermode)\n"
   ]
  },
  {
   "cell_type": "markdown",
   "id": "ab2cdac3",
   "metadata": {},
   "source": [
    "could not see line, so just cleaned lightly \n",
    "within continuum region for all channels at once\n",
    "use viewer to check channel maps and spectrum\n",
    "make sure that velocity range is adequate and continuum subtraction ok\n"
   ]
  },
  {
   "cell_type": "code",
   "execution_count": null,
   "id": "40e6dc00",
   "metadata": {},
   "outputs": [],
   "source": [
    "imview(raster   = [{'file':'f'+str(field)+'_c18o32.image'}],\n",
    "        contour = [{'file':'f'+str(field)+'_cont.fits'}])\n"
   ]
  },
  {
   "cell_type": "markdown",
   "id": "d5c64e8e",
   "metadata": {},
   "source": [
    "export cube to fits file    \n"
   ]
  },
  {
   "cell_type": "code",
   "execution_count": null,
   "id": "10e9dae7",
   "metadata": {},
   "outputs": [],
   "source": [
    "fbase = 'f'+str(field)+'_c18o32'\n",
    "os.system('rm -rf '+fbase+'.cube.fits')\n",
    "exportfits(imagename=fbase+'.image',fitsimage=fbase+'.cube.fits')\n"
   ]
  },
  {
   "cell_type": "markdown",
   "id": "1b39cb00",
   "metadata": {},
   "source": [
    "redo moment0 maps (now excluding noisy first channel!!)\n",
    "os.system('rm -rf f'+str(field)+'_c18o32.mom0*')\n"
   ]
  },
  {
   "cell_type": "code",
   "execution_count": null,
   "id": "7f34330a",
   "metadata": {},
   "outputs": [],
   "source": [
    "immoments(imagename  = 'f'+str(field)+'_c18o32.image',            # CHANGEME (based on above analysis!!)\n",
    "          outfile    = 'f'+str(field)+'_c18o32.mom0',\n",
    "          moments    = [0],\n",
    "          includepix = [-10.0,100.0],\n",
    "          chans      = ('range=[1km/s,8km/s]'))\n"
   ]
  },
  {
   "cell_type": "markdown",
   "id": "07d36554",
   "metadata": {},
   "source": [
    "export to fits file    \n"
   ]
  },
  {
   "cell_type": "code",
   "execution_count": null,
   "id": "d621b2a7",
   "metadata": {},
   "outputs": [],
   "source": [
    "fbase = 'f'+str(field)+'_c18o32.mom0'\n",
    "os.system('rm -rf '+fbase+'.fits')\n",
    "exportfits(imagename=fbase,fitsimage=fbase+'.fits')\n"
   ]
  },
  {
   "cell_type": "markdown",
   "id": "b8abef12",
   "metadata": {},
   "source": [
    "measure flux\n"
   ]
  },
  {
   "cell_type": "code",
   "execution_count": null,
   "id": "7385873e",
   "metadata": {},
   "outputs": [],
   "source": [
    "im_rms = imstat(imagename = 'f'+str(field)+'_c18o32.mom0',\n",
    "                region='annulus[['+str(xc)+'pix,'+str(yc)+'pix],['+str(in_a)+'pix,'+str(out_a)+'pix]]')['rms'][0]\n",
    "im_flux = imstat(imagename = 'f'+str(field)+'_c18o32.mom0',\n",
    "                 region='circle[['+str(xc)+'pix,'+str(yc)+'pix],'+str(aper)+'arcsec]')['flux'][0]\n",
    "print 'Flux = {0:.2f} mJy, rms = {1:.2f} mJy, S/N = {2:.1f}'.format(1000*im_flux, 1000*im_rms, im_flux/im_rms)\n"
   ]
  },
  {
   "cell_type": "markdown",
   "id": "ec1bcfb3",
   "metadata": {},
   "source": [
    "Flux = 1573.52 mJy, rms = 74.05 mJy, S/N = 21.2\n",
    "view continuum and gas\n"
   ]
  },
  {
   "cell_type": "code",
   "execution_count": null,
   "id": "685f6574",
   "metadata": {},
   "outputs": [],
   "source": [
    "imview(raster=[{'file':'f'+str(field)+'_c18o32.mom0'}],\n",
    "       contour = [{'file':'f'+str(field)+'_cont.fits'}])\n"
   ]
  },
  {
   "cell_type": "markdown",
   "id": "dc34a74c",
   "metadata": {},
   "source": [
    "re-center image on source and use measure.py to get COG flux\n",
    "os.system('rm -rf f'+str(field)+'_c18o32.mom0_cropped*')\n"
   ]
  },
  {
   "cell_type": "code",
   "execution_count": null,
   "id": "aa945cee",
   "metadata": {},
   "outputs": [],
   "source": [
    "ia.fromimage(outfile = 'f'+str(field)+'_c18o32.mom0_cropped.image',\n",
    "             infile  = 'f'+str(field)+'_c18o32.mom0.fits',\n",
    "             region  = box )\n",
    "ia.close() \n",
    "exportfits(imagename = 'f'+str(field)+'_c18o32.mom0_cropped.image',\n",
    "           fitsimage = 'f'+str(field)+'_c18o32.mom0_cropped.fits')\n"
   ]
  },
  {
   "cell_type": "code",
   "execution_count": null,
   "id": "5d306cd3",
   "metadata": {},
   "outputs": [],
   "source": [
    "Measuring COG for G/f9_c18o32.mom0_cropped.fits\n",
    "Assuming object center (300.0,300.0)\n",
    "Background: 0.14 mJy/beam km/s\n",
    "RMS in annulus 4.0-6.0 arcsec = 76.44 mJy/beam km/s\n",
    "   i   radius    flux      err       snr\n",
    "       (asec)    (mJy)     (mJy)\n",
    "   0     0.10    52.58    20.56      2.6\n",
    "   1     0.20   182.08    56.67      3.2\n",
    "   2     0.30   389.22    99.57      3.9\n",
    "   3     0.40   644.39   112.78      5.7\n",
    "   4     0.50   953.76   142.79      6.7\n",
    "   5     0.60  1208.38   160.18      7.5\n",
    "   6     0.70  1391.54   160.94      8.6\n",
    "   7     0.80  1528.53   188.68      8.1\n",
    "   8     0.90  1635.66   207.19      7.9\n",
    "   9     1.00  1696.71   238.48      7.1 <--- using this where flux levels off\n",
    "  10     1.10  1685.69   254.04      6.6\n",
    "  11     1.20  1689.91   250.73      6.7\n",
    "  12     1.30  1724.29   258.45      6.7\n",
    "F = 1724.29 mJy\n",
    "E = 258.45 mJy\n",
    "S = 6.67\n",
    "D = 2.60 arcsec\n"
   ]
  },
  {
   "cell_type": "markdown",
   "id": "93affb98",
   "metadata": {},
   "source": [
    "#  Image CN  "
   ]
  },
  {
   "cell_type": "markdown",
   "id": "b9b2d3f7",
   "metadata": {},
   "source": [
    "don't bother with selfcal as it doesn't help...\n",
    "os.system('rm -rf f'+str(field)+'_cn32_b4sc*')\n"
   ]
  },
  {
   "cell_type": "code",
   "execution_count": null,
   "id": "4e78c7fd",
   "metadata": {},
   "outputs": [],
   "source": [
    "clean(vis           = 'f'+str(field)+'.vis.contsub',\n",
    "      imagename     = 'f'+str(field)+'_cn32_b4sc',\n",
    "      mode          = 'velocity',\n",
    "      start         = start,\n",
    "      width         = width,\n",
    "      nchan         = nchan,\n",
    "      outframe      = outframe,\n",
    "      veltype       = veltype,\n",
    "      restfreq      = '340.24777GHz',\n",
    "      niter         = 2000,\n",
    "      threshold     = 0,\n",
    "      interactive   = True,\n",
    "      imsize        = imsize,\n",
    "      cell          = cell,\n",
    "      weighting     ='briggs',\n",
    "      robust        = robust,\n",
    "      imagermode    = imagermode)\n"
   ]
  },
  {
   "cell_type": "markdown",
   "id": "1a401c84",
   "metadata": {},
   "source": [
    "could not see line, so just cleaned lightly \n",
    "within continuum region for all channels at once\n",
    "use viewer to check channel maps and spectrum\n",
    "make sure that velocity range is adequate and continuum subtraction ok\n"
   ]
  },
  {
   "cell_type": "code",
   "execution_count": null,
   "id": "28573064",
   "metadata": {},
   "outputs": [],
   "source": [
    "imview(raster   = [{'file':'f'+str(field)+'_cn32_b4sc.image'}],\n",
    "        contour = [{'file':'f'+str(field)+'_cont.fits'}])\n"
   ]
  },
  {
   "cell_type": "markdown",
   "id": "475ed6cf",
   "metadata": {},
   "source": [
    "redo moment0 maps (now excluding noisy first channel!!)\n",
    "os.system('rm -rf f'+str(field)+'_cn32.mom0*')\n"
   ]
  },
  {
   "cell_type": "code",
   "execution_count": null,
   "id": "8ddbb550",
   "metadata": {},
   "outputs": [],
   "source": [
    "immoments(imagename  = 'f'+str(field)+'_cn32_b4sc.image',            # CHANGEME (based on above analysis!!)\n",
    "          outfile    = 'f'+str(field)+'_cn32.mom0',\n",
    "          moments    = [0],\n",
    "          includepix = [-10.0,100.0],\n",
    "          chans      = ('range=[0km/s,10km/s]'))                        # CHANGEME (based on above analysis!!)\n"
   ]
  },
  {
   "cell_type": "markdown",
   "id": "2aeba925",
   "metadata": {},
   "source": [
    "export to fits file    \n"
   ]
  },
  {
   "cell_type": "code",
   "execution_count": null,
   "id": "d4ad9c14",
   "metadata": {},
   "outputs": [],
   "source": [
    "fbase = 'f'+str(field)+'_cn32.mom0'\n",
    "os.system('rm -rf '+fbase+'.fits')\n",
    "exportfits(imagename=fbase,fitsimage=fbase+'.fits')\n"
   ]
  },
  {
   "cell_type": "markdown",
   "id": "0bc80d71",
   "metadata": {},
   "source": [
    "measure flux\n"
   ]
  },
  {
   "cell_type": "code",
   "execution_count": null,
   "id": "2535a1f6",
   "metadata": {},
   "outputs": [],
   "source": [
    "im_rms = imstat(imagename = 'f'+str(field)+'_cn32.mom0',\n",
    "                region='annulus[['+str(xc)+'pix,'+str(yc)+'pix],['+str(in_a)+'pix,'+str(out_a)+'pix]]')['rms'][0]\n",
    "im_flux = imstat(imagename = 'f'+str(field)+'_cn32.mom0',\n",
    "                 region='circle[['+str(xc)+'pix,'+str(yc)+'pix],'+str(aper)+'arcsec]')['flux'][0]\n",
    "print 'Flux = {0:.2f} mJy, rms = {1:.2f} mJy, S/N = {2:.1f}'.format(1000*im_flux, 1000*im_rms, im_flux/im_rms)\n"
   ]
  },
  {
   "cell_type": "markdown",
   "id": "55e60eb3",
   "metadata": {},
   "source": [
    "Flux = 7164.63 mJy, rms = 54.67 mJy, S/N = 131.1\n",
    "view continuum and gas\n"
   ]
  },
  {
   "cell_type": "code",
   "execution_count": null,
   "id": "10d1b188",
   "metadata": {},
   "outputs": [],
   "source": [
    "imview(raster=[{'file':'f'+str(field)+'_cn32.mom0'}],\n",
    "       contour = [{'file':'f'+str(field)+'_cont.fits'}])\n"
   ]
  },
  {
   "cell_type": "markdown",
   "id": "e4bee4de",
   "metadata": {},
   "source": [
    "re-center image on source and use measure.py to get COG flux\n",
    "os.system('rm -rf f'+str(field)+'_cn32.mom0_cropped*')\n"
   ]
  },
  {
   "cell_type": "code",
   "execution_count": null,
   "id": "09e39fc5",
   "metadata": {},
   "outputs": [],
   "source": [
    "ia.fromimage(outfile = 'f'+str(field)+'_cn32.mom0_cropped.image',\n",
    "             infile  = 'f'+str(field)+'_cn32.mom0.fits',\n",
    "             region  = box )\n",
    "ia.close() \n",
    "exportfits(imagename = 'f'+str(field)+'_cn32.mom0_cropped.image',\n",
    "           fitsimage = 'f'+str(field)+'_cn32.mom0_cropped.fits')\n"
   ]
  },
  {
   "cell_type": "code",
   "execution_count": null,
   "id": "dccfe35a",
   "metadata": {},
   "outputs": [],
   "source": [
    "Measuring COG for G/f9_cn32.mom0_cropped.fits\n",
    "Assuming object center (300.0,300.0)\n",
    "Background: 0.16 mJy/beam km/s\n",
    "RMS in annulus 4.0-9.0 arcsec = 55.88 mJy/beam km/s\n",
    "   i   radius    flux      err       snr\n",
    "       (asec)    (mJy)     (mJy)\n",
    "   0      0.1    207.2     13.7     15.2\n",
    "   1      0.2    744.1     34.4     21.7\n",
    "   2      0.3   1626.5     57.1     28.5\n",
    "   3      0.4   2597.2     87.9     29.5\n",
    "   4      0.5   3602.8    115.7     31.1\n",
    "   5      0.6   4458.7    168.4     26.5\n",
    "   6      0.7   5205.0    167.7     31.0\n",
    "   7      0.8   5826.4    246.6     23.6\n",
    "   8      0.9   6364.0    172.3     36.9\n",
    "   9      1.0   6794.1    254.5     26.7\n",
    "  10      1.1   7006.7    294.6     23.8\n",
    "  11      1.2   7111.1    271.7     26.2\n",
    "  12      1.3   7217.5    367.4     19.6\n",
    "  13      1.4   7291.1    371.8     19.6\n",
    "  14      1.5   7267.3    418.3     17.4\n",
    "  15      1.6   7209.4    501.9     14.4\n",
    "  16      1.7   7192.2    474.0     15.2\n",
    "  17      1.8   7220.3    478.0     15.1\n",
    "F = 7291.1 mJy\n",
    "E = 371.8 mJy\n",
    "S = 19.6\n",
    "D = 2.8 arcsec\n"
   ]
  }
 ],
 "metadata": {},
 "nbformat": 4,
 "nbformat_minor": 5
}
