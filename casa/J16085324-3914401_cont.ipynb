{
 "cells": [
  {
   "cell_type": "code",
   "execution_count": null,
   "id": "854636c6",
   "metadata": {},
   "outputs": [],
   "source": [
    "#!/usr/bin/env\n"
   ]
  },
  {
   "cell_type": "markdown",
   "id": "18a99883",
   "metadata": {},
   "source": [
    "\"\"\"\n"
   ]
  },
  {
   "cell_type": "markdown",
   "id": "7921d205",
   "metadata": {},
   "source": []
  },
  {
   "cell_type": "markdown",
   "id": "739a6137",
   "metadata": {},
   "source": [
    "split, clean, and self-cal continuum and line data\n",
    "NOTE: this is intended to be an interactive, iterative process\n",
    "      so this is more a log that should be run by cutting and\n",
    "      pasting into casa rather than as an executable script\n",
    "      search \"CHANGEME\" for variables to be changed\n",
    "10/9/15 MCA\n",
    "\"\"\"\n"
   ]
  },
  {
   "cell_type": "markdown",
   "id": "35d91c9d",
   "metadata": {},
   "source": [
    "#  Setup "
   ]
  },
  {
   "cell_type": "markdown",
   "id": "bd4cb86b",
   "metadata": {},
   "source": [
    "III_68    M1.0      II\n",
    "16:08:53.230 -39:14:40.301'\n",
    "BINARY\n"
   ]
  },
  {
   "cell_type": "code",
   "execution_count": null,
   "id": "086ad374",
   "metadata": {},
   "outputs": [],
   "source": [
    "field = 9                                     # CHANGEME \n",
    "file_ms = '../science_calibrated.ms'\n",
    "contspw   = '2,3,4,7,8,9'                      # continuum spectral windows\n",
    "contspw_w = [128,3840,1920,128,3840,1920]      # continuum spw widths\n",
    "robust     = 0.5                               # CHANGEME\n",
    "imsize     = [640,640]\n",
    "cell       = '0.03arcsec'\n",
    "imagermode = 'csclean'\n",
    "refant     = 'DA52'                            # CHANGEME\n",
    "xc         = 321                               # CHANGEME\n",
    "yc         = 312                               # CHANGEME\n",
    "in_a       = 80\n",
    "out_a      = 120\n",
    "aper       = 0.5\n",
    "boxwidth = 300.\n",
    "box = rg.box([xc-boxwidth,yc-boxwidth],[xc+boxwidth,yc+boxwidth])\n"
   ]
  },
  {
   "cell_type": "markdown",
   "id": "30a95965",
   "metadata": {},
   "source": [
    "#  Split Off Continuum "
   ]
  },
  {
   "cell_type": "markdown",
   "id": "a8fa3a0e",
   "metadata": {},
   "source": [
    "split off field from full ms\n"
   ]
  },
  {
   "cell_type": "code",
   "execution_count": null,
   "id": "6eef4c4d",
   "metadata": {},
   "outputs": [],
   "source": [
    "split(vis = file_ms,\n",
    "      outputvis = 'f'+str(field)+'.vis',\n",
    "      field = field,\n",
    "      datacolumn = 'data')\n"
   ]
  },
  {
   "cell_type": "markdown",
   "id": "475436f7",
   "metadata": {},
   "source": [
    "split off continuum (take the large bw spw and average\n"
   ]
  },
  {
   "cell_type": "code",
   "execution_count": null,
   "id": "bf92a68a",
   "metadata": {},
   "outputs": [],
   "source": [
    "split(vis = 'f'+str(field)+'.vis',\n",
    "      outputvis = 'f'+str(field)+'_cont.vis',\n",
    "      spw = contspw,\n",
    "      width = contspw_w,\n",
    "      datacolumn = 'data')\n"
   ]
  },
  {
   "cell_type": "markdown",
   "id": "ee2b37dd",
   "metadata": {},
   "source": [
    "plot uv-distance vs. amplitude\n"
   ]
  },
  {
   "cell_type": "code",
   "execution_count": null,
   "id": "137a4c7f",
   "metadata": {},
   "outputs": [],
   "source": [
    "plotms(vis='f'+str(field)+'_cont.vis',\n",
    "       xaxis='uvdist',yaxis='amp',\n",
    "       coloraxis='spw')\n",
    "       # plotfile='f'+str(field)+'_ampuv_orig.png'\n",
    "       # showgui=False,\n",
    "       # highres=True,\n",
    "       # overwrite=True)\n"
   ]
  },
  {
   "cell_type": "markdown",
   "id": "b7d2c898",
   "metadata": {},
   "source": [
    "source is unresolved\n",
    "find antenna close to center of configuration\n",
    "check pipeline log that this ant is OK\n"
   ]
  },
  {
   "cell_type": "code",
   "execution_count": null,
   "id": "254de641",
   "metadata": {},
   "outputs": [],
   "source": [
    "plotants(vis='f'+str(field)+'_cont.vis') #, figfile='f'+str(field)+'_ants.png')\n"
   ]
  },
  {
   "cell_type": "markdown",
   "id": "9416ad2f",
   "metadata": {},
   "source": [
    "#  Clean continuum before selfcal "
   ]
  },
  {
   "cell_type": "markdown",
   "id": "855c6ac7",
   "metadata": {},
   "source": [
    "light clean (100 iterations) to set the mask around the main peaks\n",
    "os.system('rm -rf f'+str(field)+'_cont_b4sc*')\n"
   ]
  },
  {
   "cell_type": "code",
   "execution_count": null,
   "id": "0549e6f4",
   "metadata": {},
   "outputs": [],
   "source": [
    "clean(vis = 'f'+str(field)+'_cont.vis',\n",
    "      imagename = 'f'+str(field)+'_cont_b4sc',\n",
    "      mode = 'mfs',\n",
    "      psfmode = 'clark',\n",
    "      niter = 200,\n",
    "      threshold = '0.0mJy',\n",
    "      interactive = True,\n",
    "      mask = '',\n",
    "      cell = cell,\n",
    "      imsize = imsize,\n",
    "      weighting = 'briggs',\n",
    "      robust = robust,\n",
    "      imagermode = imagermode)\n"
   ]
  },
  {
   "cell_type": "markdown",
   "id": "45c5932e",
   "metadata": {},
   "source": [
    "COVERED BOTH SOURCES\n"
   ]
  },
  {
   "cell_type": "code",
   "execution_count": null,
   "id": "c3605467",
   "metadata": {},
   "outputs": [],
   "source": [
    "im_max = imstat(imagename = 'f'+str(field)+'_cont_b4sc.image')['max'][0]\n",
    "im_rms = imstat(imagename = 'f'+str(field)+'_cont_b4sc.image',\n",
    "                region='annulus[['+str(xc)+'pix,'+str(yc)+'pix],['+str(in_a)+'pix,'+str(out_a)+'pix]]')['rms'][0]\n",
    "print 'Peak = {0:.2f} mJy, rms = {1:.2f} mJy, S/N = {2:.1f}'.format(1000*im_max, 1000*im_rms, im_max/im_rms)\n"
   ]
  },
  {
   "cell_type": "markdown",
   "id": "c180b21a",
   "metadata": {},
   "source": [
    "Peak = 17.54 mJy, rms = 0.24 mJy, S/N = 73.8\n"
   ]
  },
  {
   "cell_type": "markdown",
   "id": "c62a7ac7",
   "metadata": {},
   "source": [
    "#  Self-Calibrate 1 "
   ]
  },
  {
   "cell_type": "markdown",
   "id": "0f46e977",
   "metadata": {},
   "source": [
    "first combine all the data by time (solint = inf)\n",
    "i.e., phase self-cal over entire integration time\n"
   ]
  },
  {
   "cell_type": "code",
   "execution_count": null,
   "id": "d560b2fc",
   "metadata": {},
   "outputs": [],
   "source": [
    "gaincal(vis = 'f'+str(field)+'_cont.vis',\n",
    "        caltable = 'f'+str(field)+'_cont_pcal1',\n",
    "        refant = refant,\n",
    "        solint = 'inf',\n",
    "        combine = 'spw',\n",
    "        gaintype = 'T',\n",
    "        spw = '',\n",
    "        calmode = 'p',\n",
    "        minblperant = 4,\n",
    "        minsnr = 3)\n"
   ]
  },
  {
   "cell_type": "markdown",
   "id": "b7af0cb6",
   "metadata": {},
   "source": [
    "plot phase for each antenna\n"
   ]
  },
  {
   "cell_type": "code",
   "execution_count": null,
   "id": "a0b2d976",
   "metadata": {},
   "outputs": [],
   "source": [
    "plotcal(caltable = 'f'+str(field)+'_cont_pcal1',\n",
    "        xaxis = 'time',\n",
    "        yaxis = 'phase',\n",
    "        spw = '',\n",
    "        iteration = 'antenna',\n",
    "        subplot = 421,\n",
    "        plotrange = [0,0,-200,200]) \n"
   ]
  },
  {
   "cell_type": "markdown",
   "id": "aab41ce9",
   "metadata": {},
   "source": [
    "apply calibration to data\n"
   ]
  },
  {
   "cell_type": "code",
   "execution_count": null,
   "id": "12733986",
   "metadata": {},
   "outputs": [],
   "source": [
    "applycal(vis = 'f'+str(field)+'_cont.vis',\n",
    "        spw = '',\n",
    "        gaintable = ['f'+str(field)+'_cont_pcal1'],\n",
    "        spwmap = [0,0,0,0,0,0],\n",
    "        calwt = T,\n",
    "        flagbackup = F)\n"
   ]
  },
  {
   "cell_type": "markdown",
   "id": "5e3a9fe5",
   "metadata": {},
   "source": [
    "clean self-calibrated data\n"
   ]
  },
  {
   "cell_type": "code",
   "execution_count": null,
   "id": "7b4dc816",
   "metadata": {},
   "outputs": [],
   "source": [
    "clean(vis = 'f'+str(field)+'_cont.vis',\n",
    "      imagename = 'f'+str(field)+'_cont_pcal1_clean',\n",
    "      mode = 'mfs',\n",
    "      psfmode = 'clark',\n",
    "      niter = 100,\n",
    "      threshold   = '0.0mJy',\n",
    "      interactive = False,\n",
    "      mask = 'f'+str(field)+'_cont_b4sc.mask',\n",
    "      cell        = cell,\n",
    "      imsize      = imsize,\n",
    "      weighting   = 'briggs',\n",
    "      robust      = robust,\n",
    "      imagermode  = imagermode)\n",
    "im_max = imstat(imagename = 'f'+str(field)+'_cont_pcal1_clean.image')['max'][0]\n",
    "im_rms = imstat(imagename = 'f'+str(field)+'_cont_pcal1_clean.image',\n",
    "                region='annulus[['+str(xc)+'pix,'+str(yc)+'pix],['+str(in_a)+'pix,'+str(out_a)+'pix]]')['rms'][0]\n",
    "print 'Peak = {0:.2f} mJy, rms = {1:.2f} mJy, S/N = {2:.1f}'.format(1000*im_max, 1000*im_rms, im_max/im_rms)\n"
   ]
  },
  {
   "cell_type": "markdown",
   "id": "b2d5dcee",
   "metadata": {},
   "source": [
    "Peak = 17.90 mJy, rms = 0.23 mJy, S/N = 77.2 (same)\n",
    "inspect images\n"
   ]
  },
  {
   "cell_type": "code",
   "execution_count": null,
   "id": "054fc2a0",
   "metadata": {},
   "outputs": [],
   "source": [
    "imview(raster=[{'file':'f'+str(field)+'_cont_b4sc.image'},\n",
    "               {'file':'f'+str(field)+'_cont_pcal1_clean.image'}])\n"
   ]
  },
  {
   "cell_type": "markdown",
   "id": "90b59a85",
   "metadata": {},
   "source": [
    "slightly cleaner image after sc\n"
   ]
  },
  {
   "cell_type": "markdown",
   "id": "062a81f0",
   "metadata": {},
   "source": [
    "#  Self-Calibrate 2 "
   ]
  },
  {
   "cell_type": "markdown",
   "id": "afcf379a",
   "metadata": {},
   "source": [
    "decrease phase self-cal solution interval to a few times integration time\n",
    "int = 6s (from X125.log)\n"
   ]
  },
  {
   "cell_type": "code",
   "execution_count": null,
   "id": "de136d04",
   "metadata": {},
   "outputs": [],
   "source": [
    "gaincal(vis = 'f'+str(field)+'_cont.vis',\n",
    "        caltable = 'f'+str(field)+'_cont_pcal2',\n",
    "        refant = refant,\n",
    "        solint = '20s',                           # CHANGEME\n",
    "        combine = 'spw',\n",
    "        gaintype = 'T',\n",
    "        spw = '',\n",
    "        calmode = 'p',\n",
    "        minblperant = 4,\n",
    "        minsnr = 3)\n",
    "plotcal(caltable = 'f'+str(field)+'_cont_pcal2',\n",
    "        xaxis = 'time',\n",
    "        yaxis = 'phase',\n",
    "        spw = '',\n",
    "        iteration = 'antenna',\n",
    "        subplot = 421,\n",
    "        plotrange = [0,0,-200,200])\n",
    "applycal(vis = 'f'+str(field)+'_cont.vis',\n",
    "        spw = '',\n",
    "        gaintable = ['f'+str(field)+'_cont_pcal2'],\n",
    "        spwmap = [0,0,0,0,0,0],\n",
    "        calwt = T,\n",
    "        flagbackup = F)\n",
    "clean(vis = 'f'+str(field)+'_cont.vis',\n",
    "      imagename = 'f'+str(field)+'_cont_pcal2_clean',\n",
    "      mode = 'mfs',\n",
    "      psfmode = 'clark',\n",
    "      niter = 100,\n",
    "      threshold   = '0.0mJy',\n",
    "      interactive = False,\n",
    "      mask = 'f'+str(field)+'_cont_b4sc.mask',\n",
    "      cell        = cell,\n",
    "      imsize      = imsize,\n",
    "      weighting   = 'briggs',\n",
    "      robust      = robust,\n",
    "      imagermode  = imagermode)\n",
    "im_max = imstat(imagename = 'f'+str(field)+'_cont_pcal2_clean.image')['max'][0]\n",
    "im_rms = imstat(imagename = 'f'+str(field)+'_cont_pcal2_clean.image',\n",
    "                region='annulus[['+str(xc)+'pix,'+str(yc)+'pix],['+str(in_a)+'pix,'+str(out_a)+'pix]]')['rms'][0]\n",
    "print 'Peak = {0:.2f} mJy, rms = {1:.2f} mJy, S/N = {2:.1f}'.format(1000*im_max, 1000*im_rms, im_max/im_rms)\n"
   ]
  },
  {
   "cell_type": "markdown",
   "id": "01091a9b",
   "metadata": {},
   "source": [
    "Peak = 18.18 mJy, rms = 0.23 mJy, S/N = 77.67 (same as pcal1)\n",
    "inspection of the image \n"
   ]
  },
  {
   "cell_type": "code",
   "execution_count": null,
   "id": "5bea9456",
   "metadata": {},
   "outputs": [],
   "source": [
    "imview(raster=[{'file':'f'+str(field)+'_cont_b4sc.image'},\n",
    "               {'file':'f'+str(field)+'_cont_pcal1_clean.image'},\n",
    "               {'file':'f'+str(field)+'_cont_pcal2_clean.image'}])\n"
   ]
  },
  {
   "cell_type": "markdown",
   "id": "80982a2f",
   "metadata": {},
   "source": [
    "pcal2 looks slightly better, will use that\n"
   ]
  },
  {
   "cell_type": "markdown",
   "id": "db0094ea",
   "metadata": {},
   "source": [
    "#  Best Continuum Map "
   ]
  },
  {
   "cell_type": "markdown",
   "id": "297e13f0",
   "metadata": {},
   "source": [
    "so now run the same applycal but with flagbackup = T,\n"
   ]
  },
  {
   "cell_type": "code",
   "execution_count": null,
   "id": "2c7ec79b",
   "metadata": {},
   "outputs": [],
   "source": [
    "applycal(vis = 'f'+str(field)+'_cont.vis',\n",
    "        spw = '',\n",
    "        gaintable = ['f'+str(field)+'_cont_pcal2'],         # CHANGEME\n",
    "        spwmap = [0,0,0,0,0,0],\n",
    "        calwt = T,\n",
    "        flagbackup = T)\n"
   ]
  },
  {
   "cell_type": "markdown",
   "id": "40556720",
   "metadata": {},
   "source": [
    "deep clean, trying different robust weights\n",
    "os.system('rm -rf f'+str(field)+'_cont_best*')\n"
   ]
  },
  {
   "cell_type": "code",
   "execution_count": null,
   "id": "0689fda7",
   "metadata": {},
   "outputs": [],
   "source": [
    "clean(vis = 'f'+str(field)+'_cont.vis',\n",
    "      imagename = 'f'+str(field)+'_cont_best',\n",
    "      mode = 'mfs',\n",
    "      psfmode = 'clark',\n",
    "      niter = 2000,\n",
    "      threshold   = '0.0mJy',\n",
    "      interactive = True,\n",
    "      mask = '',\n",
    "      cell        = cell,\n",
    "      imsize      = imsize,\n",
    "      weighting   = 'briggs',\n",
    "      robust      = 0.5,                                      # CHANGEME\n",
    "      imagermode  = imagermode)\n"
   ]
  },
  {
   "cell_type": "markdown",
   "id": "bf06f701",
   "metadata": {},
   "source": [
    "placed mask around outer continuum contour\n",
    "masked out companion after first 100 iterations when it became clear\n",
    "stopped after 300 iterations once the inside became green\n"
   ]
  },
  {
   "cell_type": "code",
   "execution_count": null,
   "id": "b5ceaa4a",
   "metadata": {},
   "outputs": [],
   "source": [
    "im_max = imstat(imagename = 'f'+str(field)+'_cont_best.image')['max'][0]\n",
    "im_rms = imstat(imagename = 'f'+str(field)+'_cont_best.image',\n",
    "                region='annulus[['+str(xc)+'pix,'+str(yc)+'pix],['+str(in_a)+'pix,'+str(out_a)+'pix]]')['rms'][0]\n",
    "bmaj = imhead(imagename = 'f'+str(field)+'_cont_best.image', mode=\"get\", hdkey=\"beammajor\")\n",
    "bmin = imhead(imagename = 'f'+str(field)+'_cont_best.image', mode=\"get\", hdkey=\"beamminor\")\n",
    "print 'Peak = {0:.2f} mJy, rms = {1:.2f} mJy, S/N = {2:.1f}'.format(1000*im_max, 1000*im_rms, im_max/im_rms)\n",
    "print 'Beam = {0:.2f} x {1:.2f} arcsec'.format(bmaj.get('value'),bmin.get('value'))\n"
   ]
  },
  {
   "cell_type": "markdown",
   "id": "38312976",
   "metadata": {},
   "source": [
    "robust = 0.5\n",
    "Peak = 18.19 mJy, rms = 0.23 mJy, S/N = 77.8\n",
    "Beam = 0.34 x 0.28 arcsec\n",
    "save this to a fits file\n"
   ]
  },
  {
   "cell_type": "code",
   "execution_count": null,
   "id": "56274510",
   "metadata": {},
   "outputs": [],
   "source": [
    "exportfits(imagename='f'+str(field)+'_cont_best.image', fitsimage='f'+str(field)+'_cont.fits')\n"
   ]
  },
  {
   "cell_type": "markdown",
   "id": "b4d2b7fd",
   "metadata": {},
   "source": [
    "compare to before self-cal\n"
   ]
  },
  {
   "cell_type": "code",
   "execution_count": null,
   "id": "239bbcd4",
   "metadata": {},
   "outputs": [],
   "source": [
    "imview(raster=[{'file':'f'+str(field)+'_cont_b4sc.image'},\n",
    "               {'file':'f'+str(field)+'_cont_best.image'}])\n"
   ]
  },
  {
   "cell_type": "markdown",
   "id": "a8de055f",
   "metadata": {},
   "source": [
    "measure flux\n",
    "imview(raster=[{'file':'f'+str(field)+'_cont_best.image'}])\n"
   ]
  },
  {
   "cell_type": "code",
   "execution_count": null,
   "id": "ea8963f0",
   "metadata": {},
   "outputs": [],
   "source": [
    "im_rms = imstat(imagename = 'f'+str(field)+'_cont_best.image',\n",
    "                region='annulus[['+str(xc)+'pix,'+str(yc)+'pix],['+str(in_a)+'pix,'+str(out_a)+'pix]]')['rms'][0]\n",
    "im_flux = imstat(imagename = 'f'+str(field)+'_cont_best.image',\n",
    "                 region='circle[['+str(xc)+'pix,'+str(yc)+'pix],'+str(aper)+'arcsec]')['flux'][0]\n",
    "print 'Flux = {0:.2f} mJy, rms = {1:.2f} mJy, S/N = {2:.1f}'.format(1000*im_flux, 1000*im_rms, im_flux/im_rms)\n"
   ]
  },
  {
   "cell_type": "markdown",
   "id": "79815406",
   "metadata": {},
   "source": [
    "Flux = 20.07 mJy, rms = 0.23 mJy, S/N = 85.5\n",
    "re-center image on source and use get_flux.py to get COG flux\n"
   ]
  },
  {
   "cell_type": "code",
   "execution_count": null,
   "id": "8d3b2435",
   "metadata": {},
   "outputs": [],
   "source": [
    "ia.fromimage(outfile = 'f'+str(field)+'_cont_cropped.image',\n",
    "             infile  = 'f'+str(field)+'_cont.fits',\n",
    "             region  = box )\n",
    "ia.close() \n",
    "exportfits(imagename = 'f'+str(field)+'_cont_cropped.image',\n",
    "           fitsimage = 'f'+str(field)+'_cont_cropped.fits')\n"
   ]
  },
  {
   "cell_type": "markdown",
   "id": "f9cd2945",
   "metadata": {},
   "source": [
    "#  Measure flux with UVMODELFIT "
   ]
  },
  {
   "cell_type": "markdown",
   "id": "317f8a5f",
   "metadata": {},
   "source": [
    "calculate offset from phase center in arcsec\n"
   ]
  },
  {
   "cell_type": "code",
   "execution_count": null,
   "id": "26c78ba4",
   "metadata": {},
   "outputs": [],
   "source": [
    "pixscale = 0.03             # must match 'cell'                 \n",
    "dx = pixscale*(320.0-xc)    # offset to east (left)\n",
    "dy = pixscale*(yc-320.0)    # offset to north (up)\n"
   ]
  },
  {
   "cell_type": "markdown",
   "id": "c5e9604c",
   "metadata": {},
   "source": [
    "measure flux as gaussian\n"
   ]
  },
  {
   "cell_type": "code",
   "execution_count": null,
   "id": "75025a0d",
   "metadata": {},
   "outputs": [],
   "source": [
    "uvmodelfit(vis       = 'f'+str(field)+'_cont.vis',\n",
    "           comptype  = 'G',\n",
    "           sourcepar = [im_flux,dx,dy,0.5,1,0],\n",
    "           varypar   = [T,T,T,T,T,T],\n",
    "           niter     = 10)\n"
   ]
  },
  {
   "cell_type": "code",
   "execution_count": null,
   "id": "a7d465d6",
   "metadata": {},
   "outputs": [],
   "source": [
    "I = 0.0195715 +/- 0.00027738\n",
    "x = -0.0384443 +/- 0.00165615 arcsec\n",
    "y = -0.236653 +/- 0.00138864 arcsec\n",
    "a = 0.0797572 +/- 0.00942551 arcsec\n",
    "r = 1 +/- 0.193515\n",
    "p = 0 +/- 57.2958 deg\n",
    "consistent with aperture and point-source mehtods\n"
   ]
  }
 ],
 "metadata": {},
 "nbformat": 4,
 "nbformat_minor": 5
}
