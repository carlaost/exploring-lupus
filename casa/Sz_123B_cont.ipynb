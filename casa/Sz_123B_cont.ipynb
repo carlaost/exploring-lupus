{
 "cells": [
  {
   "cell_type": "code",
   "execution_count": null,
   "id": "7e7d27b7",
   "metadata": {},
   "outputs": [],
   "source": [
    "#!/usr/bin/env\n"
   ]
  },
  {
   "cell_type": "markdown",
   "id": "dc85de90",
   "metadata": {},
   "source": [
    "\"\"\"\n"
   ]
  },
  {
   "cell_type": "markdown",
   "id": "42359900",
   "metadata": {},
   "source": []
  },
  {
   "cell_type": "markdown",
   "id": "17139e69",
   "metadata": {},
   "source": [
    "split, clean, and self-cal continuum and line data\n",
    "NOTE: this is intended to be an interactive, iterative process\n",
    "      so this is more a log that should be run by cutting and\n",
    "      pasting into casa rather than as an executable script\n",
    "      search \"CHANGEME\" for variables to be changed\n",
    "10/9/15 MCA\n",
    "\"\"\"\n"
   ]
  },
  {
   "cell_type": "markdown",
   "id": "3f6666b6",
   "metadata": {},
   "source": [
    "#  Setup "
   ]
  },
  {
   "cell_type": "markdown",
   "id": "aa2744ff",
   "metadata": {},
   "source": [
    "III_1010 M2.0 II\n",
    "16:10:51.310 -38:53:12.800\n"
   ]
  },
  {
   "cell_type": "code",
   "execution_count": null,
   "id": "82900dde",
   "metadata": {},
   "outputs": [],
   "source": [
    "field = 21                                     # CHANGEME \n",
    "file_ms = '../science_calibrated.ms'\n",
    "contspw   = '2,3,4,7,8,9'                      # continuum spectral windows\n",
    "contspw_w = [128,3840,1920,128,3840,1920]      # continuum spw widths\n",
    "robust     = 0.5                               # CHANGEME\n",
    "imsize     = [640,640]\n",
    "cell       = '0.03arcsec'\n",
    "imagermode = 'csclean'\n",
    "refant     = 'DA52'                            # CHANGEME\n",
    "xc         = 320                               # CHANGEME\n",
    "yc         = 320                               # CHANGEME\n",
    "in_a       = 80\n",
    "out_a      = 120\n",
    "aper       = 0.5\n",
    "boxwidth = 300.\n",
    "box = rg.box([xc-boxwidth,yc-boxwidth],[xc+boxwidth,yc+boxwidth])\n"
   ]
  },
  {
   "cell_type": "markdown",
   "id": "a4dff7d8",
   "metadata": {},
   "source": [
    "#  Split Off Continuum "
   ]
  },
  {
   "cell_type": "markdown",
   "id": "a7edc814",
   "metadata": {},
   "source": [
    "split off field from full ms\n"
   ]
  },
  {
   "cell_type": "code",
   "execution_count": null,
   "id": "68f230f0",
   "metadata": {},
   "outputs": [],
   "source": [
    "split(vis = file_ms,\n",
    "      outputvis = 'f'+str(field)+'.vis',\n",
    "      field = field,\n",
    "      datacolumn = 'data')\n"
   ]
  },
  {
   "cell_type": "markdown",
   "id": "d836847b",
   "metadata": {},
   "source": [
    "split off continuum (take the large bw spw and average\n"
   ]
  },
  {
   "cell_type": "code",
   "execution_count": null,
   "id": "b22bb0fa",
   "metadata": {},
   "outputs": [],
   "source": [
    "split(vis = 'f'+str(field)+'.vis',\n",
    "      outputvis = 'f'+str(field)+'_cont.vis',\n",
    "      spw = contspw,\n",
    "      width = contspw_w,\n",
    "      datacolumn = 'data')\n"
   ]
  },
  {
   "cell_type": "markdown",
   "id": "1651c42e",
   "metadata": {},
   "source": [
    "plot uv-distance vs. amplitude\n"
   ]
  },
  {
   "cell_type": "code",
   "execution_count": null,
   "id": "97d721e5",
   "metadata": {},
   "outputs": [],
   "source": [
    "plotms(vis='f'+str(field)+'_cont.vis',\n",
    "       xaxis='uvdist',yaxis='amp',\n",
    "       coloraxis='spw')\n",
    "       # plotfile='f'+str(field)+'_ampuv_orig.png'\n",
    "       # showgui=False,\n",
    "       # highres=True,\n",
    "       # overwrite=True)\n"
   ]
  },
  {
   "cell_type": "markdown",
   "id": "cb1e87e4",
   "metadata": {},
   "source": [
    "source is unresolved\n",
    "find antenna close to center of configuration\n",
    "check pipeline log that this ant is OK\n"
   ]
  },
  {
   "cell_type": "code",
   "execution_count": null,
   "id": "aea29e0f",
   "metadata": {},
   "outputs": [],
   "source": [
    "plotants(vis='f'+str(field)+'_cont.vis') #, figfile='f'+str(field)+'_ants.png')\n"
   ]
  },
  {
   "cell_type": "markdown",
   "id": "66c19574",
   "metadata": {},
   "source": [
    "#  Clean continuum before selfcal "
   ]
  },
  {
   "cell_type": "markdown",
   "id": "562f6b9b",
   "metadata": {},
   "source": [
    "light clean (100 iterations) to set the mask around the main peaks\n",
    "os.system('rm -rf f'+str(field)+'_cont_best*')\n"
   ]
  },
  {
   "cell_type": "code",
   "execution_count": null,
   "id": "5636c1c0",
   "metadata": {},
   "outputs": [],
   "source": [
    "clean(vis = 'f'+str(field)+'_cont.vis',\n",
    "      imagename = 'f'+str(field)+'_cont_best',\n",
    "      mode = 'mfs',\n",
    "      psfmode = 'clark',\n",
    "      niter = 100,\n",
    "      threshold = '0.0mJy',\n",
    "      interactive = False,\n",
    "      mask = '',\n",
    "      cell = cell,\n",
    "      imsize = imsize,\n",
    "      weighting = 'briggs',\n",
    "      robust = robust,\n",
    "      imagermode = imagermode)\n"
   ]
  },
  {
   "cell_type": "markdown",
   "id": "49e9aeb3",
   "metadata": {},
   "source": [
    "OFFSET. Bright source is binary companion\n",
    "Actual source not seen\n",
    "cleaned in automated mode without mask\n"
   ]
  },
  {
   "cell_type": "code",
   "execution_count": null,
   "id": "2fb516bf",
   "metadata": {},
   "outputs": [],
   "source": [
    "im_max = imstat(imagename = 'f'+str(field)+'_cont_best.image')['max'][0]\n",
    "im_rms = imstat(imagename = 'f'+str(field)+'_cont_best.image',\n",
    "                region='annulus[['+str(xc)+'pix,'+str(yc)+'pix],['+str(in_a)+'pix,'+str(out_a)+'pix]]')['rms'][0]\n",
    "bmaj = imhead(imagename = 'f'+str(field)+'_cont_best.image', mode=\"get\", hdkey=\"beammajor\")\n",
    "bmin = imhead(imagename = 'f'+str(field)+'_cont_best.image', mode=\"get\", hdkey=\"beamminor\")\n",
    "print 'Peak = {0:.2f} mJy, rms = {1:.2f} mJy, S/N = {2:.1f}'.format(1000*im_max, 1000*im_rms, im_max/im_rms)\n",
    "print 'Beam = {0:.2f} x {1:.2f} arcsec'.format(bmaj.get('value'),bmin.get('value'))\n"
   ]
  },
  {
   "cell_type": "markdown",
   "id": "f6d2a514",
   "metadata": {},
   "source": [
    "robust = 0.5\n",
    "Peak = 13.83 mJy, rms = 1.11 mJy, S/N = 12.4\n",
    "Beam = 0.34 x 0.28 arcsec\n",
    "save this to a fits file\n"
   ]
  },
  {
   "cell_type": "code",
   "execution_count": null,
   "id": "dd26ec87",
   "metadata": {},
   "outputs": [],
   "source": [
    "exportfits(imagename='f'+str(field)+'_cont_best.image', fitsimage='f'+str(field)+'_cont.fits')\n"
   ]
  },
  {
   "cell_type": "markdown",
   "id": "b9746252",
   "metadata": {},
   "source": [
    "measure flux\n"
   ]
  },
  {
   "cell_type": "code",
   "execution_count": null,
   "id": "d5c74a26",
   "metadata": {},
   "outputs": [],
   "source": [
    "im_rms = imstat(imagename = 'f'+str(field)+'_cont_best.image',\n",
    "                region='annulus[['+str(xc)+'pix,'+str(yc)+'pix],['+str(in_a)+'pix,'+str(out_a)+'pix]]')['rms'][0]\n",
    "im_flux = imstat(imagename = 'f'+str(field)+'_cont_best.image',\n",
    "                 region='circle[['+str(xc)+'pix,'+str(yc)+'pix],'+str(aper)+'arcsec]')['flux'][0]\n",
    "print 'Flux = {0:.2f} mJy, rms = {1:.2f} mJy, S/N = {2:.1f}'.format(1000*im_flux, 1000*im_rms, im_flux/im_rms)\n"
   ]
  },
  {
   "cell_type": "markdown",
   "id": "b0d6c2b7",
   "metadata": {},
   "source": [
    "Flux = -0.61 mJy, rms = 0.24 mJy\n",
    "measured rms manually in casa to avoid companions\n",
    "re-center image on source and use get_flux.py to get COG flux\n"
   ]
  },
  {
   "cell_type": "code",
   "execution_count": null,
   "id": "8661ca1b",
   "metadata": {},
   "outputs": [],
   "source": [
    "ia.fromimage(outfile = 'f'+str(field)+'_cont_cropped.image',\n",
    "             infile  = 'f'+str(field)+'_cont.fits',\n",
    "             region  = box )\n",
    "ia.close() \n",
    "exportfits(imagename = 'f'+str(field)+'_cont_cropped.image',\n",
    "           fitsimage = 'f'+str(field)+'_cont_cropped.fits')\n"
   ]
  },
  {
   "cell_type": "markdown",
   "id": "3a859f75",
   "metadata": {},
   "source": [
    "#  Measure flux with UVMODELFIT "
   ]
  },
  {
   "cell_type": "markdown",
   "id": "27a8cd0d",
   "metadata": {},
   "source": [
    "calculate offset from phase center in arcsec\n"
   ]
  },
  {
   "cell_type": "code",
   "execution_count": null,
   "id": "1ffbb5ea",
   "metadata": {},
   "outputs": [],
   "source": [
    "pixscale = 0.03             # must match 'cell'                 \n",
    "dx = pixscale*(320.0-xc)    # offset to east (left)\n",
    "dy = pixscale*(yc-320.0)    # offset to north (up)\n"
   ]
  },
  {
   "cell_type": "markdown",
   "id": "9bda3ee3",
   "metadata": {},
   "source": [
    "measure flux as point source\n"
   ]
  },
  {
   "cell_type": "code",
   "execution_count": null,
   "id": "67d7abf3",
   "metadata": {},
   "outputs": [],
   "source": [
    "uvmodelfit(vis       = 'f'+str(field)+'_cont.vis',\n",
    "           comptype  = 'P',\n",
    "           sourcepar = [im_flux,dx,dy],\n",
    "           varypar   = [T,F,F],\n",
    "           niter     = 10)\n"
   ]
  },
  {
   "cell_type": "code",
   "execution_count": null,
   "id": "fe91c53d",
   "metadata": {},
   "outputs": [],
   "source": [
    "reduced chi2=1.49872\n",
    "I = -0.000275606 +/- 0.000192962\n",
    "x = 0 +/- 0 arcsec\n",
    "y = 0 +/- 0 arcsec\n",
    "consistent with than aperture method\n"
   ]
  }
 ],
 "metadata": {},
 "nbformat": 4,
 "nbformat_minor": 5
}
