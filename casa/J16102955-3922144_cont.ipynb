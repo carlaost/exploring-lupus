{
 "cells": [
  {
   "cell_type": "code",
   "execution_count": null,
   "id": "82057e04",
   "metadata": {},
   "outputs": [],
   "source": [
    "#!/usr/bin/env\n"
   ]
  },
  {
   "cell_type": "markdown",
   "id": "571c0538",
   "metadata": {},
   "source": [
    "\"\"\"\n"
   ]
  },
  {
   "cell_type": "markdown",
   "id": "db22ff65",
   "metadata": {},
   "source": []
  },
  {
   "cell_type": "markdown",
   "id": "750a65b9",
   "metadata": {},
   "source": [
    "split, clean, and self-cal continuum and line data\n",
    "NOTE: this is intended to be an interactive, iterative process\n",
    "      so this is more a log that should be run by cutting and\n",
    "      pasting into casa rather than as an executable script\n",
    "      search \"CHANGEME\" for variables to be changed\n",
    "10/9/15 MCA\n",
    "\"\"\"\n"
   ]
  },
  {
   "cell_type": "markdown",
   "id": "d4e91d26",
   "metadata": {},
   "source": [
    "#  Setup "
   ]
  },
  {
   "cell_type": "markdown",
   "id": "c342cf45",
   "metadata": {},
   "source": [
    "III_116 M4.0 II\n",
    "16:10:29.570 -39:22:14.700\n"
   ]
  },
  {
   "cell_type": "code",
   "execution_count": null,
   "id": "a2178103",
   "metadata": {},
   "outputs": [],
   "source": [
    "field = 55                                     # CHANGEME \n",
    "file_ms = '../science_calibrated.ms'\n",
    "contspw   = '2,3,4,7,8,9'                      # continuum spectral windows\n",
    "contspw_w = [128,3840,1920,128,3840,1920]      # continuum spw widths\n",
    "robust     = 0.5                               # CHANGEME\n",
    "imsize     = [640,640]\n",
    "cell       = '0.03arcsec'\n",
    "imagermode = 'csclean'\n",
    "refant     = 'DA52'                            # CHANGEME\n",
    "xc         = 333                               # CHANGEME\n",
    "yc         = 315                               # CHANGEME\n",
    "in_a       = 80\n",
    "out_a      = 120\n",
    "aper       = 1.25\n",
    "boxwidth = 300.\n",
    "box = rg.box([xc-boxwidth,yc-boxwidth],[xc+boxwidth,yc+boxwidth])\n"
   ]
  },
  {
   "cell_type": "markdown",
   "id": "3c405172",
   "metadata": {},
   "source": [
    "#  Split Off Continuum "
   ]
  },
  {
   "cell_type": "markdown",
   "id": "f0454176",
   "metadata": {},
   "source": [
    "split off field from full ms\n"
   ]
  },
  {
   "cell_type": "code",
   "execution_count": null,
   "id": "a03d6462",
   "metadata": {},
   "outputs": [],
   "source": [
    "split(vis = file_ms,\n",
    "      outputvis = 'f'+str(field)+'.vis',\n",
    "      field = field,\n",
    "      datacolumn = 'data')\n"
   ]
  },
  {
   "cell_type": "markdown",
   "id": "00390680",
   "metadata": {},
   "source": [
    "split off continuum (take the large bw spw and average\n"
   ]
  },
  {
   "cell_type": "code",
   "execution_count": null,
   "id": "68aaf523",
   "metadata": {},
   "outputs": [],
   "source": [
    "split(vis = 'f'+str(field)+'.vis',\n",
    "      outputvis = 'f'+str(field)+'_cont.vis',\n",
    "      spw = contspw,\n",
    "      width = contspw_w,\n",
    "      datacolumn = 'data')\n"
   ]
  },
  {
   "cell_type": "markdown",
   "id": "db39af90",
   "metadata": {},
   "source": [
    "plot uv-distance vs. amplitude\n"
   ]
  },
  {
   "cell_type": "code",
   "execution_count": null,
   "id": "e218a21a",
   "metadata": {},
   "outputs": [],
   "source": [
    "plotms(vis='f'+str(field)+'_cont.vis',\n",
    "       xaxis='uvdist',yaxis='amp',\n",
    "       coloraxis='spw')\n",
    "       # plotfile='f'+str(field)+'_ampuv_orig.png'\n",
    "       # showgui=False,\n",
    "       # highres=True,\n",
    "       # overwrite=True)\n"
   ]
  },
  {
   "cell_type": "markdown",
   "id": "0f2d7150",
   "metadata": {},
   "source": [
    "source is unresolved\n",
    "find antenna close to center of configuration\n",
    "check pipeline log that this ant is OK\n"
   ]
  },
  {
   "cell_type": "code",
   "execution_count": null,
   "id": "ce486b90",
   "metadata": {},
   "outputs": [],
   "source": [
    "plotants(vis='f'+str(field)+'_cont.vis') #, figfile='f'+str(field)+'_ants.png')\n"
   ]
  },
  {
   "cell_type": "markdown",
   "id": "57b2ce8d",
   "metadata": {},
   "source": [
    "#  Clean continuum before selfcal "
   ]
  },
  {
   "cell_type": "markdown",
   "id": "c888c605",
   "metadata": {},
   "source": [
    "light clean (100 iterations) to set the mask around the main peaks\n",
    "os.system('rm -rf f'+str(field)+'_cont_b4sc*')\n"
   ]
  },
  {
   "cell_type": "code",
   "execution_count": null,
   "id": "7584a50c",
   "metadata": {},
   "outputs": [],
   "source": [
    "clean(vis = 'f'+str(field)+'_cont.vis',\n",
    "      imagename = 'f'+str(field)+'_cont_b4sc',\n",
    "      mode = 'mfs',\n",
    "      psfmode = 'clark',\n",
    "      niter = 100,\n",
    "      threshold = '0.0mJy',\n",
    "      interactive = True,\n",
    "      mask = '',\n",
    "      cell = cell,\n",
    "      imsize = imsize,\n",
    "      weighting = 'briggs',\n",
    "      robust = robust,\n",
    "      imagermode = imagermode)\n",
    "im_max = imstat(imagename = 'f'+str(field)+'_cont_b4sc.image')['max'][0]\n",
    "im_rms = imstat(imagename = 'f'+str(field)+'_cont_b4sc.image',\n",
    "                region='annulus[['+str(xc)+'pix,'+str(yc)+'pix],['+str(in_a)+'pix,'+str(out_a)+'pix]]')['rms'][0]\n",
    "print 'Peak = {0:.2f} mJy, rms = {1:.2f} mJy, S/N = {2:.1f}'.format(1000*im_max, 1000*im_rms, im_max/im_rms)\n"
   ]
  },
  {
   "cell_type": "markdown",
   "id": "e6570fa0",
   "metadata": {},
   "source": [
    "Peak = 4.36 mJy, rms = 0.22 mJy, S/N = 19.7\n"
   ]
  },
  {
   "cell_type": "markdown",
   "id": "2cf0f26a",
   "metadata": {},
   "source": [
    "#  Self-Calibrate 1 "
   ]
  },
  {
   "cell_type": "markdown",
   "id": "db4f0a9a",
   "metadata": {},
   "source": [
    "first combine all the data by time (solint = inf)\n",
    "i.e., phase self-cal over entire integration time\n"
   ]
  },
  {
   "cell_type": "code",
   "execution_count": null,
   "id": "4f394b99",
   "metadata": {},
   "outputs": [],
   "source": [
    "gaincal(vis = 'f'+str(field)+'_cont.vis',\n",
    "        caltable = 'f'+str(field)+'_cont_pcal1',\n",
    "        refant = refant,\n",
    "        solint = 'inf',\n",
    "        combine = 'spw',\n",
    "        gaintype = 'T',\n",
    "        spw = '',\n",
    "        calmode = 'p',\n",
    "        minblperant = 4,\n",
    "        minsnr = 3)\n"
   ]
  },
  {
   "cell_type": "markdown",
   "id": "90696b68",
   "metadata": {},
   "source": [
    "5 of 32 solutions flagged due to SNR < 3 in spw=0 at 2015/06/15/02:54:01.1\n",
    "4 of 31 solutions flagged due to SNR < 3 in spw=0 at 2015/06/15/05:05:53.0\n"
   ]
  },
  {
   "cell_type": "markdown",
   "id": "d9474b14",
   "metadata": {},
   "source": [
    "#  Best Continuum Map "
   ]
  },
  {
   "cell_type": "markdown",
   "id": "7c62359a",
   "metadata": {},
   "source": [
    "deep clean, trying different robust weights\n",
    "os.system('rm -rf f'+str(field)+'_cont_best*')\n"
   ]
  },
  {
   "cell_type": "code",
   "execution_count": null,
   "id": "07a01836",
   "metadata": {},
   "outputs": [],
   "source": [
    "clean(vis = 'f'+str(field)+'_cont.vis',\n",
    "      imagename = 'f'+str(field)+'_cont_best',\n",
    "      mode = 'mfs',\n",
    "      psfmode = 'clark',\n",
    "      niter = 2000,\n",
    "      threshold   = '0.0mJy',\n",
    "      interactive = True,\n",
    "      mask = '',\n",
    "      cell        = cell,\n",
    "      imsize      = imsize,\n",
    "      weighting   = 'briggs',\n",
    "      robust      = 0.5,                                      # CHANGEME\n",
    "      imagermode  = imagermode)\n"
   ]
  },
  {
   "cell_type": "markdown",
   "id": "3a6c1ae6",
   "metadata": {},
   "source": [
    "placed mask around outer continuum contour\n",
    "stopped after 300 iterations once the inside became green\n"
   ]
  },
  {
   "cell_type": "code",
   "execution_count": null,
   "id": "ec1e9ac3",
   "metadata": {},
   "outputs": [],
   "source": [
    "im_max = imstat(imagename = 'f'+str(field)+'_cont_best.image')['max'][0]\n",
    "im_rms = imstat(imagename = 'f'+str(field)+'_cont_best.image',\n",
    "                region='annulus[['+str(xc)+'pix,'+str(yc)+'pix],['+str(in_a)+'pix,'+str(out_a)+'pix]]')['rms'][0]\n",
    "bmaj = imhead(imagename = 'f'+str(field)+'_cont_best.image', mode=\"get\", hdkey=\"beammajor\")\n",
    "bmin = imhead(imagename = 'f'+str(field)+'_cont_best.image', mode=\"get\", hdkey=\"beamminor\")\n",
    "print 'Peak = {0:.2f} mJy, rms = {1:.2f} mJy, S/N = {2:.1f}'.format(1000*im_max, 1000*im_rms, im_max/im_rms)\n",
    "print 'Beam = {0:.2f} x {1:.2f} arcsec'.format(bmaj.get('value'),bmin.get('value'))\n"
   ]
  },
  {
   "cell_type": "markdown",
   "id": "75d2f8cc",
   "metadata": {},
   "source": [
    "robust = 0.5\n",
    "Peak = 4.36 mJy, rms = 0.22 mJy, S/N = 19.7\n",
    "Beam = 0.35 x 0.28 arcsec\n",
    "save this to a fits file\n"
   ]
  },
  {
   "cell_type": "code",
   "execution_count": null,
   "id": "89a48f3f",
   "metadata": {},
   "outputs": [],
   "source": [
    "exportfits(imagename='f'+str(field)+'_cont_best.image', fitsimage='f'+str(field)+'_cont.fits')\n"
   ]
  },
  {
   "cell_type": "markdown",
   "id": "77e3940a",
   "metadata": {},
   "source": [
    "measure flux\n",
    "imview(raster=[{'file':'f'+str(field)+'_cont_best.image'}])\n"
   ]
  },
  {
   "cell_type": "code",
   "execution_count": null,
   "id": "264ca349",
   "metadata": {},
   "outputs": [],
   "source": [
    "im_rms = imstat(imagename = 'f'+str(field)+'_cont_best.image',\n",
    "                region='annulus[['+str(xc)+'pix,'+str(yc)+'pix],['+str(in_a)+'pix,'+str(out_a)+'pix]]')['rms'][0]\n",
    "im_flux = imstat(imagename = 'f'+str(field)+'_cont_best.image',\n",
    "                 region='circle[['+str(xc)+'pix,'+str(yc)+'pix],'+str(aper)+'arcsec]')['flux'][0]\n",
    "print 'Flux = {0:.2f} mJy, rms = {1:.2f} mJy, S/N = {2:.1f}'.format(1000*im_flux, 1000*im_rms, im_flux/im_rms)\n"
   ]
  },
  {
   "cell_type": "markdown",
   "id": "e3f5c8c6",
   "metadata": {},
   "source": [
    "Flux = 8.52 mJy, rms = 0.22 mJy, S/N = 38.4\n",
    "re-center image on source and use get_flux.py to get COG flux\n"
   ]
  },
  {
   "cell_type": "code",
   "execution_count": null,
   "id": "0b8d6c3d",
   "metadata": {},
   "outputs": [],
   "source": [
    "ia.fromimage(outfile = 'f'+str(field)+'_cont_cropped.image',\n",
    "             infile  = 'f'+str(field)+'_cont.fits',\n",
    "             region  = box )\n",
    "ia.close() \n",
    "exportfits(imagename = 'f'+str(field)+'_cont_cropped.image',\n",
    "           fitsimage = 'f'+str(field)+'_cont_cropped.fits')\n"
   ]
  },
  {
   "cell_type": "markdown",
   "id": "ffe188a6",
   "metadata": {},
   "source": [
    "#  Measure flux with UVMODELFIT "
   ]
  },
  {
   "cell_type": "markdown",
   "id": "30fea10c",
   "metadata": {},
   "source": [
    "calculate offset from phase center in arcsec\n"
   ]
  },
  {
   "cell_type": "code",
   "execution_count": null,
   "id": "d1c9c319",
   "metadata": {},
   "outputs": [],
   "source": [
    "pixscale = 0.03             # must match 'cell'                 \n",
    "dx = pixscale*(320.0-xc)    # offset to east (left)\n",
    "dy = pixscale*(yc-320.0)    # offset to north (up)\n"
   ]
  },
  {
   "cell_type": "markdown",
   "id": "2d056aa0",
   "metadata": {},
   "source": [
    "measure flux as gaussian\n"
   ]
  },
  {
   "cell_type": "code",
   "execution_count": null,
   "id": "c755b409",
   "metadata": {},
   "outputs": [],
   "source": [
    "uvmodelfit(vis       = 'f'+str(field)+'_cont.vis',\n",
    "           comptype  = 'G',\n",
    "           sourcepar = [im_flux,dx,dy,0.5,1,0],\n",
    "           varypar   = [T,T,T,T,T,T],\n",
    "           niter     = 10)\n"
   ]
  },
  {
   "cell_type": "code",
   "execution_count": null,
   "id": "324fffab",
   "metadata": {},
   "outputs": [],
   "source": [
    "reduced chi2=1.39074\n",
    "I = 0.00714386 +/- 0.000345023\n",
    "x = -0.383968 +/- 0.00750964 arcsec\n",
    "y = -0.138048 +/- 0.00668749 arcsec\n",
    "a = 0.23815 +/- 0.0213702 arcsec\n",
    "r = 1 +/- 0.140418\n",
    "p = 0 +/- 57.2958 deg\n",
    "16:10:29.537 -39:22:14.838\n"
   ]
  }
 ],
 "metadata": {},
 "nbformat": 4,
 "nbformat_minor": 5
}
