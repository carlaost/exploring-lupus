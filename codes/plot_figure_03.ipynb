{
 "cells": [
  {
   "cell_type": "code",
   "execution_count": null,
   "id": "a24f2dba",
   "metadata": {
    "lines_to_next_cell": 0
   },
   "outputs": [],
   "source": []
  },
  {
   "cell_type": "markdown",
   "id": "2b8ce4c6",
   "metadata": {},
   "source": [
    "======================== Import Packages =========================="
   ]
  },
  {
   "cell_type": "code",
   "execution_count": null,
   "id": "cc8883a4",
   "metadata": {},
   "outputs": [],
   "source": [
    "import os,sys,pdb\n",
    "import numpy as np\n",
    "import matplotlib.pyplot as plt\n",
    "from astropy.table import Table, join, MaskedColumn\n",
    "from astropy import constants as const\n",
    "import csv\n",
    "import matplotlib as mpl\n",
    "from astropy import constants as const\n",
    "from astroquery.vizier import Vizier\n",
    "import warnings\n",
    "from astropy.logger import AstropyWarning\n",
    "warnings.filterwarnings('ignore', category=AstropyWarning)"
   ]
  },
  {
   "cell_type": "markdown",
   "id": "6d971714",
   "metadata": {},
   "source": [
    "===================== Define Functions ==================="
   ]
  },
  {
   "cell_type": "code",
   "execution_count": null,
   "id": "9812ecd7",
   "metadata": {},
   "outputs": [],
   "source": [
    "def get_data(catalog, join_key='Name', join_type='inner'):\n",
    "\n",
    "    \"\"\"\n",
    "    PURPOSE:    Get data from literature with Vizier\n",
    "\n",
    "    INPUT:      catalog = ctalog name on Vizier (str)\n",
    "                join_key = column header to join tables, if multiple (str; optional)\n",
    "                join_type = way to join tables, if multiple (str; optional)\n",
    "\n",
    "    OUTPUT:     t = data table (AstroPy Table)\n",
    "\n",
    "    \"\"\"\n",
    "\n",
    "    ### GET FULL CATALOG (ALL COLUMNS, ALL ROWS)\n",
    "    viz = Vizier(catalog=catalog, columns=['**'])\n",
    "    viz.ROW_LIMIT = -1\n",
    "    tv = viz.get_catalogs(catalog)\n",
    "\n",
    "    ### IF MULTIPLE TABLES, JOIN THEN\n",
    "    for i, val in enumerate(tv.keys()):\n",
    "        if i == 0:\n",
    "            t = tv[val]\n",
    "        else:\n",
    "            tt = tv[val]\n",
    "            if join_key in tt.columns:\n",
    "                t = join(t, tt, join_type=join_type, keys=join_key)\n",
    "\n",
    "    return t"
   ]
  },
  {
   "cell_type": "markdown",
   "id": "55eba4e4",
   "metadata": {},
   "source": [
    "============================= Code =================================="
   ]
  },
  {
   "cell_type": "code",
   "execution_count": null,
   "id": "0a6c67e3",
   "metadata": {},
   "outputs": [],
   "source": [
    "#### LOAD IN LUPUS DATA\n",
    "T = get_data(\"J/ApJ/828/46\")"
   ]
  },
  {
   "cell_type": "code",
   "execution_count": null,
   "id": "977bc38b",
   "metadata": {},
   "outputs": [],
   "source": [
    "### ONLY KEEP DUST DETECTIONS, CHANGE UNITS TO SOLAR MASSES, AND SORT TABLE BY INCREASING DUST MASS\n",
    "T = T[T['F890']/T['e_F890'] > 3.0]\n",
    "T['MDust'] = T['MDust']*(const.M_earth.cgs/const.M_sun.cgs).value\n",
    "T['e_MDust']  = np.sqrt( (T['e_MDust'])**2 + (0.1*T['e_MDust'])**2 )*(const.M_earth.cgs/const.M_sun.cgs).value\n",
    "T.sort('MDust')"
   ]
  },
  {
   "cell_type": "code",
   "execution_count": null,
   "id": "8e6988d1",
   "metadata": {},
   "outputs": [],
   "source": [
    "### CHANGE GAS MASS UNITS TO SOLAR MASSES\n",
    "T['Mgas'] = T['Mgas'] * (const.M_jup.cgs/const.M_sun.cgs).value\n",
    "T['b_Mgas'] = T['b_Mgas'] * (const.M_jup.cgs/const.M_sun.cgs).value\n",
    "T['B_Mgas'] = T['B_Mgas'] * (const.M_jup.cgs/const.M_sun.cgs).value"
   ]
  },
  {
   "cell_type": "code",
   "execution_count": null,
   "id": "5ca16024",
   "metadata": {},
   "outputs": [],
   "source": [
    "### SETUP PLOT\n",
    "mpl.rc('xtick', labelsize=15) \n",
    "mpl.rc('ytick', labelsize=15)\n",
    "mpl.rc('xtick.major',size=7, pad=7, width=1)\n",
    "mpl.rc('ytick.major',size=7, pad=7, width=1)\n",
    "mpl.rc('axes', linewidth=1)\n",
    "mpl.rc('lines', markersize=5)\n",
    "fig = plt.figure(figsize = (16, 12))"
   ]
  },
  {
   "cell_type": "code",
   "execution_count": null,
   "id": "2134743f",
   "metadata": {},
   "outputs": [],
   "source": [
    "### SET UP DUST MASS SUBPLOT\n",
    "ax1 = fig.add_subplot(311)\n",
    "ax1.set_ylim(1e-7, 1e-3)\n",
    "ax1.set_yscale('log')\n",
    "ax1.set_ylabel('Dust Mass ('+r'$\\mathregular{M_{\\odot}}$'+')', fontsize=17)\n",
    "ax1.set_xlim(-1, len(T))\n",
    "ax1.xaxis.set_ticks(np.arange(-4, len(T),1))\n",
    "fig.canvas.draw()\n",
    "ax1.tick_params(axis='x', which='both', bottom=False, top=False, labelbottom=False)\n",
    "ax1.tick_params(axis='y', which='both', labelsize=12)\n",
    "ax1.grid(color='gray',linewidth=1, linestyle=':', alpha=0.3)\n",
    "plt.axhline(y=3e-06,color='gray',linewidth=1.0)\n",
    "ax1.text(-3.5,4e-06,r'$\\mathregular{1M_{\\oplus}}$',fontsize=12,style='italic',color='gray')\n",
    "plt.axhline(y=3e-05,color='gray',linewidth=1.0)\n",
    "ax1.text(-3.5,4e-05,r'$\\mathregular{10M_{\\oplus}}$',fontsize=12,style='italic',color='gray')\n",
    "ax1.errorbar(-1, 5.68e-05, fmt='*', color='white', ms=12, mec='black', mew=1, zorder=999)\n",
    "ax1.errorbar(-2, 1.20e-05, fmt='*', color='white', ms=12, mec='black', mew=1, zorder=999)\n",
    "ax1.errorbar(-3, 2.26e-07, fmt='*', color='white', ms=12, mec='black', mew=1, zorder=999)\n",
    "ax1.arrow(-3, 2.26e-07, 0.0, -0.4*2.26e-07, head_width=0.3, head_length=2.26e-07*0.1, fc='black', ec='black', linewidth=1, zorder=1)"
   ]
  },
  {
   "cell_type": "code",
   "execution_count": null,
   "id": "74a83dd4",
   "metadata": {},
   "outputs": [],
   "source": [
    "### SET UP GAS MASS SUBPLOT\n",
    "ax2 = fig.add_subplot(312)\n",
    "ax2.set_ylim(1e-5, 1e-1)\n",
    "ax2.set_yscale('log')\n",
    "ax2.set_ylabel('Gas Mass ('+r'$\\mathregular{M_{\\odot}}$'+')', fontsize=17)\n",
    "ax2.set_xlim(-1,len(T))\n",
    "ax2.xaxis.set_ticks(np.arange(-4, len(T), 1))\n",
    "ax2.tick_params(axis='y', which='both', labelsize=12)\n",
    "fig.canvas.draw()\n",
    "ax2.tick_params(axis='x', which='both', bottom=False, top=False, labelbottom=False)\n",
    "ax2.grid(color='gray', linewidth=1, linestyle=':', alpha=0.3)\n",
    "plt.axhline(y=1e-3, color='gray', linewidth=1.0)\n",
    "plt.axhline(y=1e-2, color='gray', linewidth=1.0)\n",
    "ax2.text(-3.5, 1.4e-3, r'$\\mathregular{1M_{Jup}}$', fontsize=12, style='italic', color='gray')\n",
    "ax2.text(-3.5, 1.2e-2,r'$\\mathregular{MMSN}$', fontsize=12, style='italic', color='gray')\n",
    "ax2.errorbar(-1, 3.8e-4, fmt='*', color='white', ms=12, mec='black', mew=1, zorder=999)\n",
    "ax2.errorbar(-2, 1.9e-4, fmt='*', color='white', ms=12, mec='black', mew=1, zorder=999)\n",
    "ax2.arrow(-2, 1.9e-4, 0.0, -0.5 * 1.9e-4, head_width=0.3, head_length=1.9e-4 * 0.1, fc='black', ec='black', linewidth=1, zorder=1)"
   ]
  },
  {
   "cell_type": "code",
   "execution_count": null,
   "id": "c5a392b6",
   "metadata": {},
   "outputs": [],
   "source": [
    "### SET UP GAS-TO-DUST MASS SUBPLOT\n",
    "ax3 = fig.add_subplot(313)\n",
    "ax3.set_ylim(0.1, 1e4)\n",
    "ax3.set_yscale('log')\n",
    "ax3.set_ylabel('Gas-to-Dust Ratio', fontsize=17) \n",
    "ax3.set_xlim(-1,len(T))\n",
    "ax3.xaxis.set_ticks(np.arange(-4, len(T), 1))\n",
    "ax3.tick_params(axis='y', which='both', labelsize=12)\n",
    "fig.canvas.draw()\n",
    "labels = list(np.append([' ', 'Continuum non-det', r'$\\mathregular{^{13}\\!\\hspace{0.1}CO}$' + ' & ' + r'$\\mathregular{C^{18}\\!\\hspace{0.1}O}$' + \n",
    "                         ' non-det', r'$\\mathregular{C^{18}\\!\\hspace{0.1}O}$' + ' non-det'], np.array(T['Name'])))\n",
    "ax3.set_xticklabels(labels, rotation='vertical', size=9)\n",
    "ax3.grid(color='gray',linewidth=1, linestyle=':', alpha=0.3)\n",
    "plt.axhline(y=100, color='gray', linewidth=1.0)\n",
    "ax3.text(-3.5, 1.3e2, 'ISM', fontsize=11, style='italic', color='gray')\n",
    "ax3.errorbar(-1, 7, fmt='*', color='white', ms=12, mec='black', mew=1, zorder=999)\n",
    "ax3.errorbar(-2, 13,fmt='*', color='white', ms=12, mec='black', mew=1, zorder=999)\n",
    "ax3.arrow(-2, 13, 0.0, -0.5 * 13, head_width=0.3, head_length=13 * 0.1, fc='black', ec='black', linewidth=1, zorder=1)"
   ]
  },
  {
   "cell_type": "code",
   "execution_count": null,
   "id": "5e0773c6",
   "metadata": {},
   "outputs": [],
   "source": [
    "### PLOT DUST MASSES\n",
    "ax1.errorbar(np.arange(len(T)), T['MDust'], yerr=T['e_MDust'], \n",
    "             fmt='o', mfc='lightblue', ms=6, mec='black', mew=0.8, ecolor='black', elinewidth=1, zorder=999,capsize=2)"
   ]
  },
  {
   "cell_type": "code",
   "execution_count": null,
   "id": "ac62da9a",
   "metadata": {},
   "outputs": [],
   "source": [
    "### PLOT GAS MASSES AND GAS-TO-DUST RATIOS\n",
    "for i, val in enumerate(T['Name']):\n",
    "\n",
    "    ### PLOT NON-DETECTIONS\n",
    "    if T['l_Mgas'][i] == '<':\n",
    "\n",
    "        ax2.errorbar(i, T['Mgas'][i], fmt='v', color='lightgray', ms=7, mec='black', mew=0.9, zorder=999)\n",
    "        ax3.errorbar(i, int(round(T['Mgas'][i]/T['MDust'][i])), fmt='v', color='lightgray', ms=7, mec='black', mew=0.9, zorder=999)\n",
    "\n",
    "    ### PLOT DETECTIONS WITH ONLY UPPER LIMITS\n",
    "    elif T['b_Mgas'][i] is np.ma.masked:\n",
    "\n",
    "        ax2.arrow(i, T['Mgas'][i], 0.0, -0.5 * T['Mgas'][i], head_width=0.3, head_length=T['Mgas'][i] * 0.1,\n",
    "                 fc='black', ec='black', linewidth=0.9, zorder=1)\n",
    "        ax2.errorbar(i, T['Mgas'][i], yerr=[[0],[T['B_Mgas'][i] - T['Mgas'][i]]],\n",
    "                    fmt='o', mfc='lightblue', ms=7, mec='black', mew=1, ecolor='black', elinewidth=0.9, zorder=999, capsize=3)\n",
    "\n",
    "        g2d = int(round(T['Mgas'][i]/T['MDust'][i]))\n",
    "        g2d_max = int(round(T['B_Mgas'][i]/T['MDust'][i]))\n",
    "        ax3.arrow(i, g2d, 0.0, -0.5 * g2d, head_width=0.3, head_length=g2d * 0.1, fc='black', ec='black', linewidth=1, zorder=1)\n",
    "        ax3.errorbar(i, g2d,yerr=[[0],[g2d_max - g2d]], fmt='o', mfc='lightblue', ms=7, mec='black', mew=1, \n",
    "                     ecolor='black', elinewidth=1, zorder=999, capsize=3)\n",
    "\n",
    "    ### PLOT DETECTIONS WITH BOTH UPPER AND LOWER LIMITS\n",
    "    else:\n",
    "        \n",
    "        ax2.errorbar(i, T['Mgas'][i], yerr=[[T['Mgas'][i] - T['b_Mgas'][i]], [T['B_Mgas'][i] - T['Mgas'][i]]],\n",
    "                    fmt='o', mfc='lightblue', ms=6, mec='black', mew=1, ecolor='black', elinewidth=0.9, zorder=999, capsize=3)\n",
    "        \n",
    "        g2d = int(round(T['Mgas'][i]/T['MDust'][i]))\n",
    "        g2d_max = int(round(T['B_Mgas'][i]/T['MDust'][i]))\n",
    "        g2d_min = int(round(T['b_Mgas'][i]/T['MDust'][i]))\n",
    "        ax3.errorbar(i, g2d, yerr=[[g2d - g2d_min],[g2d_max - g2d]], fmt='o', mfc='lightblue', \n",
    "                     ms=6, mec='black', mew=0.9, ecolor='black', elinewidth=1, zorder=999, capsize=3)"
   ]
  },
  {
   "cell_type": "code",
   "execution_count": null,
   "id": "38f1fb24",
   "metadata": {},
   "outputs": [],
   "source": [
    "### SAVE PLOT\n",
    "fig.savefig('../output/figure_03.pdf', bbox_inches='tight', dpi=100)\n",
    "plt.close('all')"
   ]
  }
 ],
 "metadata": {
  "jupytext": {
   "cell_metadata_filter": "-all",
   "main_language": "python",
   "notebook_metadata_filter": "-all"
  }
 },
 "nbformat": 4,
 "nbformat_minor": 5
}
