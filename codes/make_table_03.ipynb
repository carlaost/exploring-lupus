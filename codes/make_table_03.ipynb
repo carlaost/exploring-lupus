{
 "cells": [
  {
   "cell_type": "markdown",
   "id": "ad466cce",
   "metadata": {},
   "source": [
    "======================== Import Packages =========================="
   ]
  },
  {
   "cell_type": "code",
   "execution_count": null,
   "id": "53557a3b",
   "metadata": {},
   "outputs": [],
   "source": [
    "import sys, pdb, glob\n",
    "import numpy as np\n",
    "from astropy.table import Table, join\n",
    "from astroquery.vizier import Vizier\n",
    "import warnings\n",
    "from astropy.logger import AstropyWarning\n",
    "warnings.filterwarnings('ignore', category=AstropyWarning)"
   ]
  },
  {
   "cell_type": "markdown",
   "id": "a1b1fd47",
   "metadata": {},
   "source": [
    "===================== Define Functions ==================="
   ]
  },
  {
   "cell_type": "code",
   "execution_count": null,
   "id": "30c65bd2",
   "metadata": {},
   "outputs": [],
   "source": [
    "def get_data(catalog, join_key='Name'):\n",
    "\n",
    "    \"\"\"\n",
    "    PURPOSE:    Get data from literature with Vizier\n",
    "\n",
    "    INPUT:      catalog = ctalog name on Vizier (str)\n",
    "                join_key = column header to join tables, if multiple (str; optional)\n",
    "\n",
    "    OUTPUT:     t = data table (AstroPy Table)\n",
    "\n",
    "    \"\"\"\n",
    "\n",
    "    ### GET FULL CATALOG (ALL COLUMNS, ALL ROWS)\n",
    "    viz = Vizier(catalog=catalog, columns=['**'])\n",
    "    viz.ROW_LIMIT = -1\n",
    "    tv = viz.get_catalogs(catalog)\n",
    "\n",
    "    ### IF MULTIPLE TABLES, JOIN THEN\n",
    "    for i, val in enumerate(tv.keys()):\n",
    "        if i == 0:\n",
    "            t = tv[val]\n",
    "        else:\n",
    "            tt = tv[val]\n",
    "            if join_key in tt.columns:\n",
    "                t = join(t, tt, join_type='inner', keys=join_key)\n",
    "\n",
    "    return t"
   ]
  },
  {
   "cell_type": "markdown",
   "id": "e7fec8c1",
   "metadata": {},
   "source": [
    "========================== Code =========================="
   ]
  },
  {
   "cell_type": "code",
   "execution_count": null,
   "id": "b91e7fac",
   "metadata": {},
   "outputs": [],
   "source": [
    "### LOAD IN LUPUS DATA\n",
    "T = get_data(\"J/ApJ/828/46\")\n",
    "T.sort('RAJ2000')"
   ]
  },
  {
   "cell_type": "code",
   "execution_count": null,
   "id": "a95b352a",
   "metadata": {
    "lines_to_next_cell": 2
   },
   "outputs": [],
   "source": [
    "### WRITE HEADER INFO\n",
    "f = open('../output/table_03.tex', 'w')\n",
    "f.write(r'\\capstartfalse'                                  + ' \\n')\n",
    "f.write(r'\\begin{deluxetable*}{lrrrrrrr}'                    + ' \\n')\n",
    "f.write(r'\\tabletypesize{\\footnotesize}'                   + ' \\n')\n",
    "f.write(r'\\centering'                                      + ' \\n')\n",
    "f.write(r'\\tablewidth{500pt}'                              + ' \\n')\n",
    "f.write(r'\\tablecaption{Gas Properties \\label{tab-gas}}'   + ' \\n')\n",
    "f.write(r'\\tablecolumns{8} '                               + ' \\n')\n",
    "f.write(r'\\tablehead{'                                     + ' \\n')\n",
    "f.write(r' \\colhead{Source}'                               + ' \\n')\n",
    "f.write(r'&\\colhead{$F_{\\rm 13CO}$}'                       + ' \\n')\n",
    "f.write(r'&\\colhead{$E_{\\rm 13CO}$}'                       + ' \\n')\n",
    "f.write(r'&\\colhead{$F_{\\rm C18O}$}'                       + ' \\n')\n",
    "f.write(r'&\\colhead{$E_{\\rm C18O}$}'                       + ' \\n')\n",
    "f.write(r'&\\colhead{$M_{\\rm gas}$}'                        + ' \\n')\n",
    "f.write(r'&\\colhead{$M_{\\rm gas,min}$}'                    + ' \\n')\n",
    "f.write(r'&\\colhead{$M_{\\rm gas,max}$} \\\\'                 + ' \\n')\n",
    "f.write(r' \\colhead{}'                                     + ' \\n')\n",
    "f.write(r'&\\colhead{(mJy~km~s$^{-1}$)}'                    + ' \\n')\n",
    "f.write(r'&\\colhead{(mJy~km~s$^{-1}$)}'                    + ' \\n')\n",
    "f.write(r'&\\colhead{(mJy~km~s$^{-1}$)}'                    + ' \\n')\n",
    "f.write(r'&\\colhead{(mJy~km~s$^{-1}$)}'                    + ' \\n')\n",
    "f.write(r'&\\colhead{($M_{\\rm Jup}$)}'                      + ' \\n')\n",
    "f.write(r'&\\colhead{($M_{\\rm Jup}$)}'                      + ' \\n')\n",
    "f.write(r'&\\colhead{($M_{\\rm Jup}$)}'                      + ' \\n')\n",
    "f.write(r'}'                                               + ' \\n')\n",
    "f.write(r'\\startdata'                                      + ' \\n')"
   ]
  },
  {
   "cell_type": "code",
   "execution_count": null,
   "id": "d3265e36",
   "metadata": {},
   "outputs": [],
   "source": [
    "lim = 10\n",
    "for i, val in enumerate(np.zeros(lim)):\n",
    "\n",
    "    source = T['Name'][i]\n",
    "\n",
    "    if T['l_Mgas'][i] != '<':\n",
    "        mgas = \"{0:0.1f}\".format(T['Mgas'][i])\n",
    "\n",
    "    else:\n",
    "        mgas = r'$' + str(T['l_Mgas'][i]) + \"{0:0.1f}\".format(T['Mgas'][i]) + r'$'\n",
    "\n",
    "    if np.ma.is_masked(T['b_Mgas'][i]) is True:\n",
    "        b_mgas = '...'\n",
    "    else:\n",
    "        b_mgas = r'$' + \"{0:0.1f}\".format(T['b_Mgas'][i]) + r'$'\n",
    "\n",
    "    if np.ma.is_masked(T['B_Mgas'][i]) is True:\n",
    "        B_mgas = '...'\n",
    "    else:\n",
    "        B_mgas = r'$' + \"{0:0.1f}\".format(T['B_Mgas'][i]) + r'$'\n",
    "\n",
    "\n",
    "    if T['l_F13CO'][i] != '<':\n",
    "        f13 = \"{0:01}\".format(T['F13CO'][i])\n",
    "        e13 = \"{0:01}\".format(T['e_F13CO'][i])\n",
    "    else:\n",
    "        f13 = r'$' + str(T['l_F13CO'][i]) + \"{0:01}\".format(T['F13CO'][i]) + r'$'\n",
    "        e13 = '...'\n",
    "\n",
    "\n",
    "    if T['l_F18CO'][i] != '<':\n",
    "        f18 = \"{0:01}\".format(T['F18CO'][i])\n",
    "        e18 = \"{0:01}\".format(T['e_F18CO'][i])\n",
    "    else:\n",
    "        f18 = r'$' + str(T['l_F18CO'][i]) + \"{0:01}\".format(T['F18CO'][i]) + r'$'\n",
    "        e18 = '...'\n",
    "\n",
    "    if (i < lim - 1):\n",
    "        end = r' \\\\' + '\\n'\n",
    "    else:\n",
    "        end = '\\n'\n",
    "\n",
    "    f.write(source + ' & ' + f13 + ' & ' + e13 + ' & ' + f18 + ' & ' + e18 + ' & ' + \n",
    "            mgas + ' & ' + b_mgas + ' & ' + B_mgas + end)"
   ]
  },
  {
   "cell_type": "code",
   "execution_count": null,
   "id": "30f57b24",
   "metadata": {},
   "outputs": [],
   "source": [
    "f.write(r'\\enddata' + ' \\n')\n",
    "f.write(r'\\tablenotetext{}{(This table is available in its entirety in machine-readible form.)}' + ' \\n')\n",
    "f.write(r'\\end{deluxetable*}' + ' \\n')\n",
    "f.write(r'\\capstartfalse' + ' \\n')\n",
    "f.close()"
   ]
  }
 ],
 "metadata": {
  "jupytext": {
   "cell_metadata_filter": "-all",
   "main_language": "python",
   "notebook_metadata_filter": "-all"
  }
 },
 "nbformat": 4,
 "nbformat_minor": 5
}
