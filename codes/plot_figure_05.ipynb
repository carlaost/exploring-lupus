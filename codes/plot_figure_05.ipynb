{
 "cells": [
  {
   "cell_type": "markdown",
   "id": "aa29e3c4",
   "metadata": {},
   "source": [
    "======================== Import Packages =========================="
   ]
  },
  {
   "cell_type": "code",
   "execution_count": null,
   "id": "f5b4199e",
   "metadata": {},
   "outputs": [],
   "source": [
    "import sys, os, pdb, glob\n",
    "import numpy as np\n",
    "import matplotlib as mpl\n",
    "import matplotlib.pyplot as plt\n",
    "from astropy.io import fits"
   ]
  },
  {
   "cell_type": "markdown",
   "id": "74d06e1c",
   "metadata": {},
   "source": [
    "===================== Define Functions ==================="
   ]
  },
  {
   "cell_type": "code",
   "execution_count": null,
   "id": "4bfa268b",
   "metadata": {},
   "outputs": [],
   "source": [
    "def readfits(file):\n",
    "\n",
    "    \"\"\"\n",
    "    PURPOSE:    Read in FITS file and header info\n",
    "    INPUT:      file = path to FITS file (str)\n",
    "    OUTPUT:     data = image data (2x2 float arr)\n",
    "\n",
    "    \"\"\"\n",
    "\n",
    "    hdulist = fits.open(file)\n",
    "    data = hdulist[0].data\n",
    "    hdulist.close()\n",
    "    \n",
    "    return(data)"
   ]
  },
  {
   "cell_type": "code",
   "execution_count": null,
   "id": "85032184",
   "metadata": {},
   "outputs": [],
   "source": [
    "def crop_img(img, width_pix):\n",
    "\n",
    "    \"\"\"\n",
    "    PURPOSE:    Crop image to size for plotting\n",
    "\n",
    "    INPUT:      img = image to plot (2x2 float array)\n",
    "                width_pix = width to crop to in pixel units (int)\n",
    "\n",
    "    OUTPUT:     Cropped image (2x2 float array)\n",
    "\n",
    "    \"\"\"\n",
    "\n",
    "    xcen,ycen = int(img.shape[0]/2),int(img.shape[1]/2)\n",
    "    img_crop = img[ycen-width_pix:ycen+width_pix,xcen-width_pix:xcen+width_pix]\n",
    "    \n",
    "    return img_crop"
   ]
  },
  {
   "cell_type": "code",
   "execution_count": null,
   "id": "a5d783b4",
   "metadata": {},
   "outputs": [],
   "source": [
    "def plotgas(file):\n",
    "\n",
    "    \"\"\"\n",
    "    PURPOSE:    Plot stacked images\n",
    "\n",
    "    INPUT:      file = path to file for plotting (str)\n",
    "\n",
    "    OUTPUT:     None\n",
    "\n",
    "    \"\"\"\n",
    "\n",
    "    img = readfits(file)\n",
    "    img = crop_img(img, width_pix)\n",
    "\n",
    "    if file == '../output/stack_nd_13CO_1.fits':\n",
    "        ax = fig.add_subplot(222)\n",
    "        ax.set_title(r'$\\mathregular{^{13}\\!\\hspace{0.1}CO}$' + ' & ' + r'$\\mathregular{C^{18}\\!\\hspace{0.1}O}$' + ' Non-detections',\n",
    "                      y=1.05, fontsize=14, fontweight=\"bold\", fontstyle='italic')\n",
    "        vmin,vmax = -15, 50\n",
    "        cbarlabel = r'$\\mathregular{F}$' + ' (mJy/beam km/s)'\n",
    "        clabels = np.arange(vmin, vmax + 1,10)\n",
    "        ax.text(-1.1, -1.1, r'$\\mathregular{^{13}\\!\\hspace{0.1}CO}$', fontsize=13, fontweight='medium', color='white')\n",
    "        ax.set_ylabel(r'$\\Delta\\delta$' + ' (' + r'$^{\\prime\\prime}$'+')', fontsize=12)\n",
    "        ax.tick_params(labelbottom=False)\n",
    "\n",
    "    if file == '../output/stack_nd_C18O_1.fits':\n",
    "        ax = fig.add_subplot(224)\n",
    "        vmin,vmax = -15, 50\n",
    "        cbarlabel = r'$\\mathregular{F}$' + ' (mJy/beam km/s)'\n",
    "        clabels = np.arange(vmin, vmax + 1, 10)\n",
    "        ax.text(-1.1, -1.1, r'$\\mathregular{C^{18}\\!\\hspace{0.1}O}$', fontsize=13, fontweight='medium', color='white')\n",
    "        ax.set_xlabel(r'$\\Delta\\alpha$' + ' ('+r'$^{\\prime\\prime}$' + ')', fontsize=12, labelpad=2)\n",
    "        ax.set_ylabel(r'$\\Delta\\delta$' + ' ('+r'$^{\\prime\\prime}$' + ')', fontsize=12)\n",
    "        \n",
    "    if file == '../output/stack_nd_13CO_2.fits':\n",
    "        ax = fig.add_subplot(221)\n",
    "        ax.set_title(r'$\\mathregular{C^{18}\\!\\hspace{0.1}O}$' + ' Non-detections', y=1.05,\n",
    "                     fontsize=14, fontweight=\"bold\", fontstyle='italic')\n",
    "        vmin,vmax = -20, 130\n",
    "        cbarlabel = r'$\\mathregular{F}$' + ' (mJy/beam km/s)'\n",
    "        clabels = np.arange(vmin, vmax + 1, 20)\n",
    "        ax.text(-1.1, -1.1, r'$\\mathregular{^{13}\\!\\hspace{0.1}CO}$', fontsize=13, fontweight='medium', color='white')\n",
    "        ax.tick_params(labelbottom=False)\n",
    "        ax.set_ylabel(r'$\\Delta\\delta$' + ' ('+r'$^{\\prime\\prime}$' + ')', fontsize=12)\n",
    "\n",
    "    if file == '../output/stack_nd_C18O_2.fits':\n",
    "        ax = fig.add_subplot(223)\n",
    "        vmin,vmax = -15, 70\n",
    "        cbarlabel = r'$\\mathregular{F}$' + ' (mJy/beam km/s)'\n",
    "        clabels = np.arange(vmin, vmax + 1, 10)\n",
    "        ax.text(-1.1, -1.1, r'$\\mathregular{C^{18}\\!\\hspace{0.1}O}$', fontsize=13, fontweight='medium', color='white')\n",
    "        ax.set_xlabel(r'$\\Delta\\alpha$' + ' ('+r'$^{\\prime\\prime}$' + ')', fontsize=12, labelpad=2)\n",
    "        ax.set_ylabel(r'$\\Delta\\delta$' + ' ('+r'$^{\\prime\\prime}$' + ')', fontsize=12)\n",
    "\n",
    "    test = ax.imshow(img, extent=[-1.0 * width_as,1.0 * width_as, -1.0 * width_as, 1.0 * width_as],\n",
    "                     interpolation='none', cmap='gnuplot2',vmin=vmin, vmax=vmax, origin='lower')\n",
    "    \n",
    "    ax.contour(img, levels=[3.0 * np.std(img), 5.0 * np.std(img)], colors='black',\n",
    "               extent=[-1.0 * width_as, 1.0 * width_as, -1.0 * width_as, 1.0 * width_as])\n",
    "    \n",
    "    cbar = plt.colorbar(test)\n",
    "    cbar.ax.tick_params(labelsize=9, labelright=True)\n",
    "    cbar.ax.set_ylabel(cbarlabel, fontsize=11, rotation=270, labelpad=20)\n",
    "    cbar.set_ticks(clabels)\n",
    "    cbar.set_ticklabels(clabels)"
   ]
  },
  {
   "cell_type": "markdown",
   "id": "6533e6a6",
   "metadata": {},
   "source": [
    "========================== Code =========================="
   ]
  },
  {
   "cell_type": "code",
   "execution_count": null,
   "id": "67f68080",
   "metadata": {},
   "outputs": [],
   "source": [
    "### SET UP PLOT\n",
    "width_pix = 50\n",
    "width_as  = 50 * 0.03\n",
    "mpl.rc('xtick', labelsize=9) \n",
    "mpl.rc('ytick', labelsize=9)\n",
    "mpl.rc('xtick.major', size=3, pad=5, width=1)\n",
    "mpl.rc('ytick.major', size=3, pad=5, width=1)\n",
    "mpl.rc('axes', linewidth=1)\n",
    "mpl.rc('lines', markersize=5)\n",
    "fig = plt.figure(figsize = (12, 7))"
   ]
  },
  {
   "cell_type": "code",
   "execution_count": null,
   "id": "2ebccb4a",
   "metadata": {},
   "outputs": [],
   "source": [
    "### PLOT STACKS\n",
    "plotgas('../output/stack_nd_13CO_1.fits')\n",
    "plotgas('../output/stack_nd_13CO_2.fits')\n",
    "plotgas('../output/stack_nd_C18O_1.fits')\n",
    "plotgas('../output/stack_nd_C18O_2.fits')"
   ]
  },
  {
   "cell_type": "code",
   "execution_count": null,
   "id": "b317b252",
   "metadata": {},
   "outputs": [],
   "source": [
    "### SAVE PLOT\n",
    "fig.subplots_adjust(hspace=0.1)\n",
    "fig.savefig('../output/figure_05.pdf', bbox_inches='tight', dpi=100)\n",
    "plt.close('all')"
   ]
  }
 ],
 "metadata": {
  "jupytext": {
   "cell_metadata_filter": "-all",
   "main_language": "python",
   "notebook_metadata_filter": "-all"
  }
 },
 "nbformat": 4,
 "nbformat_minor": 5
}
