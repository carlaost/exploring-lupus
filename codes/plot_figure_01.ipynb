{
 "cells": [
  {
   "cell_type": "markdown",
   "id": "57790656",
   "metadata": {},
   "source": [
    "===================== Import Packages ===================="
   ]
  },
  {
   "cell_type": "code",
   "execution_count": null,
   "id": "6fb97792",
   "metadata": {},
   "outputs": [],
   "source": [
    "import sys, os, pdb, glob\n",
    "import numpy as np\n",
    "import matplotlib as mpl\n",
    "import matplotlib.pyplot as plt\n",
    "from astropy.table import Table, join, MaskedColumn\n",
    "from astroquery.vizier import Vizier\n",
    "import warnings\n",
    "from astropy.logger import AstropyWarning\n",
    "warnings.filterwarnings('ignore', category=AstropyWarning)"
   ]
  },
  {
   "cell_type": "markdown",
   "id": "381042a6",
   "metadata": {},
   "source": [
    "===================== Define Functions ==================="
   ]
  },
  {
   "cell_type": "code",
   "execution_count": null,
   "id": "d60ff663",
   "metadata": {},
   "outputs": [],
   "source": [
    "def get_data(catalog, join_key='Name', join_type='inner'):\n",
    "\n",
    "    \"\"\"\n",
    "    PURPOSE:    Get data from literature with Vizier\n",
    "\n",
    "    INPUT:      catalog = ctalog name on Vizier (str)\n",
    "                join_key = column header to join tables, if multiple (str; optional)\n",
    "                join_type = way to join tables, if multiple (str; optional)\n",
    "\n",
    "    OUTPUT:     t = data table (AstroPy Table)\n",
    "\n",
    "    \"\"\"\n",
    "\n",
    "    ### GET FULL CATALOG (ALL COLUMNS, ALL ROWS)\n",
    "    viz = Vizier(catalog=catalog, columns=['**'])\n",
    "    viz.ROW_LIMIT = -1\n",
    "    tv = viz.get_catalogs(catalog)\n",
    "\n",
    "    ### IF MULTIPLE TABLES, JOIN THEN\n",
    "    for i, val in enumerate(tv.keys()):\n",
    "        if i == 0:\n",
    "            t = tv[val]\n",
    "        else:\n",
    "            tt = tv[val]\n",
    "            if join_key in tt.columns:\n",
    "                t = join(t, tt, join_type=join_type, keys=join_key)\n",
    "\n",
    "    return t"
   ]
  },
  {
   "cell_type": "code",
   "execution_count": null,
   "id": "cb5eec0f",
   "metadata": {},
   "outputs": [],
   "source": [
    "def spt_coding(spt):\n",
    "\n",
    "    \"\"\"\n",
    "    PURPOSE:    Translate spectral type (e.g., M7) into numerical value\n",
    "                that can be used for plotting a histogram\n",
    "\n",
    "                Scale is 0 at M0, -1 at K7, -8 at K0, -18 at G0\n",
    "                (K8 is counted as M0)\n",
    "\n",
    "    INPUT:      spt = numpy array of spectral types (str, masked)\n",
    "                (masked values are unknonw spectral types)\n",
    "\n",
    "    OUTPUT:     spt_num = numpy array of numerical spectral types (obj, masked)\n",
    "                (returns -99. if unknown spectral type)\n",
    "    \n",
    "    \"\"\"\n",
    "\n",
    "    spt_num = np.empty(len(spt), dtype=object)\n",
    "    for i, val in enumerate(spt):\n",
    "\n",
    "        if val == '':\n",
    "            spt_num[i] = -99.\n",
    "\n",
    "        else:\n",
    "\n",
    "            if val == 'M1+M2':\n",
    "                val = 'M1.5'\n",
    "            if val[0] == 'M':\n",
    "                spt_num[i] = float(val[1:])\n",
    "            if val[0] == 'K':\n",
    "                spt_num[i] = float(val[1:]) - 8.\n",
    "            if val[0] == 'G':\n",
    "                spt_num[i] = float(val[1:]) - 18.\n",
    "            if val[0] == 'F':\n",
    "                spt_num[i] = float(val[1:]) - 28.\n",
    "            if val[0] == 'A':\n",
    "                spt_num[i] = float(val[1:]) - 38.\n",
    " \n",
    "    return spt_num"
   ]
  },
  {
   "cell_type": "markdown",
   "id": "025efb7f",
   "metadata": {},
   "source": [
    "========================== Code =========================="
   ]
  },
  {
   "cell_type": "code",
   "execution_count": null,
   "id": "8bc26ef6",
   "metadata": {},
   "outputs": [],
   "source": [
    "### LOAD IN LUPUS DATA\n",
    "T = get_data(\"J/ApJ/828/46\", join_type='outer')"
   ]
  },
  {
   "cell_type": "code",
   "execution_count": null,
   "id": "e82d59db",
   "metadata": {},
   "outputs": [],
   "source": [
    "### FLAG UNDETECTED SOURCES\n",
    "T.add_column(MaskedColumn(name='Detected', data=T['F890']/T['e_F890'] > 3.0))"
   ]
  },
  {
   "cell_type": "code",
   "execution_count": null,
   "id": "24ab8c38",
   "metadata": {},
   "outputs": [],
   "source": [
    "### GET SPECTRAL TYPE CODING FOR PLOTTING (ALL, NON-DETECTIONS, UNOBSERVED)\n",
    "Spt_All = spt_coding(T['SpT'])\n",
    "Spt_Ndt = spt_coding(T['SpT'][np.where(~T['Detected'])])\n",
    "Spt_Obs = spt_coding(T['SpT'][~T['F890'].mask])"
   ]
  },
  {
   "cell_type": "code",
   "execution_count": null,
   "id": "f64fb2a5",
   "metadata": {},
   "outputs": [],
   "source": [
    "### SETUP PLOT\n",
    "mpl.rc('xtick', labelsize=15)\n",
    "mpl.rc('ytick', labelsize=15)\n",
    "mpl.rc('xtick.major', size=3, pad=7, width=1.5)\n",
    "mpl.rc('ytick.major', size=3, pad=7, width=1.5)\n",
    "mpl.rc('axes', linewidth=1.5)\n",
    "mpl.rc('lines', markersize=5)\n",
    "fig = plt.figure(figsize=(8, 6))\n",
    "ax = fig.add_subplot(111)\n",
    "ax.set_xlabel('Spectral Type', fontsize=17)\n",
    "ax.set_ylabel(\"Number of Sources\", fontsize=17)\n",
    "ax.xaxis.set_ticks_position('bottom')\n",
    "ax.yaxis.set_ticks_position('left')\n",
    "nxticks    = np.arange(-33, 9, 1)\n",
    "ticklabels = np.array(['A5', '', '', '', '', 'F0', '', '', '', '', 'F5', '', '', '', '', 'G0', '', '', '', '', 'G5', '', '', '', '',\n",
    "                        'K0', '', '', '', '', 'K5', '', '', 'M0', '', '', 'M3', '', '', '', 'M7', ''])\n",
    "ax.set_xticks(nxticks)\n",
    "ax.set_xticklabels(ticklabels)\n",
    "ax.set_xlim(np.min(nxticks), np.max(nxticks))\n",
    "ax.set_ylim(0, 25)"
   ]
  },
  {
   "cell_type": "code",
   "execution_count": null,
   "id": "1eb5b0cf",
   "metadata": {},
   "outputs": [],
   "source": [
    "### PLOT DIFFERENT SAMPLES\n",
    "bins_spt = np.arange(-33, 9, 2)\n",
    "ax.hist(Spt_All, bins_spt, align='left', lw=2, histtype='step', color='black', label='All Sources')\n",
    "ax.hist(Spt_Obs, bins_spt, align='left', facecolor='lightblue', hatch='//', lw=2, histtype='stepfilled', label='Observed', edgecolor='black')\n",
    "ax.hist(Spt_Ndt, bins_spt, align='left', color='red', lw=2, histtype='step', label='Undetected')\n",
    "ax.legend(loc='upper left', prop={'size': 16}, edgecolor='black')"
   ]
  },
  {
   "cell_type": "code",
   "execution_count": null,
   "id": "aaadd125",
   "metadata": {},
   "outputs": [],
   "source": [
    "### SAVE FIGURE\n",
    "fig.savefig('../output/figure_01.pdf', bbox_inches='tight', dpi=100)\n",
    "plt.close('all')"
   ]
  },
  {
   "cell_type": "code",
   "execution_count": null,
   "id": "34946fc0",
   "metadata": {},
   "outputs": [],
   "source": []
  }
 ],
 "metadata": {
  "jupytext": {
   "cell_metadata_filter": "-all",
   "main_language": "python",
   "notebook_metadata_filter": "-all"
  }
 },
 "nbformat": 4,
 "nbformat_minor": 5
}
