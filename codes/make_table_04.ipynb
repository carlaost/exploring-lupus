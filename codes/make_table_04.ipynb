{
 "cells": [
  {
   "cell_type": "markdown",
   "id": "03233517",
   "metadata": {},
   "source": [
    "======================== Import Packages =========================="
   ]
  },
  {
   "cell_type": "code",
   "execution_count": null,
   "id": "9eba19ee",
   "metadata": {},
   "outputs": [],
   "source": [
    "import sys, pdb, glob\n",
    "import numpy as np\n",
    "from astropy.table import Table\n",
    "import csv"
   ]
  },
  {
   "cell_type": "markdown",
   "id": "6ad1d759",
   "metadata": {},
   "source": [
    "========================== Code =========================="
   ]
  },
  {
   "cell_type": "code",
   "execution_count": null,
   "id": "25d72be3",
   "metadata": {},
   "outputs": [],
   "source": [
    "### REJECTED TARGET INFO\n",
    "name = np.array(['Sz78', 'Sz79', 'J15594528-4154572', 'J16000742-4149484', 'J16070863-3947219', 'J16080618-3912225', 'J16114865-3817580', 'J16122269-3713276'])\n",
    "ra = np.array(['15:53:41.18', '15:53:42.68', '15:59:45.28', '16:00:07.43', '16:07:08.64', '16:08:06.17', '16:11:48.67', '16:12:22.73'])\n",
    "de = np.array(['-39:00:37.10', '-38:08:10.40', '-41:54:57.20', '-41:49:48.90', '-39:47:22.70', '-39:12:22.50', '-38:17:58.30', '-37:13:27.60'])\n",
    "cont = np.array(['0.00 +or- 0.28', '-0.55 +or- 0.27', '0.12 +or- 0.19', '-0.10 +or- 0.18', '0.38 +or- 0.30', '0.34 +or- 0.23', '0.12 +or- 0.30', '-0.04 +or- 0.59'])\n",
    "gas13 = np.array(['$\\\\lt 180$', '$\\\\lt 168$', '$\\\\lt 105$', '$\\\\lt 102$', '$\\\\lt 189$', '$\\\\lt 102$', '$\\\\lt 189$', '$\\\\lt 171$'])\n",
    "gas18 = np.array(['$\\\\lt 207$', '$\\\\lt 198$', '$\\\\lt 120$', '$\\\\lt 120$', '$\\\\lt 219$', '$\\\\lt 120$', '$\\\\lt 234$', '$\\\\lt 204$'])"
   ]
  },
  {
   "cell_type": "code",
   "execution_count": null,
   "id": "9759a987",
   "metadata": {},
   "outputs": [],
   "source": [
    "### WRITE HEADER INFO\n",
    "f = open('../output/table_04.tex', 'w')\n",
    "f.write(r'\\begin{table}[!htb]'                        + ' \\n')\n",
    "f.write(r'\\caption{Rejected Targets}'                 + ' \\n')\n",
    "f.write(r'\\label{tab-rejected}'                       + ' \\n')\n",
    "f.write(r'\\centering  '                               + ' \\n')\n",
    "f.write(r'\\begin{tabular}{lccrcc}'                    + ' \\n')\n",
    "f.write(r'\\hline\\hline'                               + ' \\n')\n",
    "f.write(r'Source & RA$_{\\rm J2000}$ & Dec$_{\\rm J2000}$ & $F_{\\rm cont}$ & $F_{\\rm 13CO}$} & $F_{\\rm C18O}$ \\\\' + ' \\n')\n",
    "f.write(r' &  &  & (mJy) & (mJy~km~s$^{-1}$) & (mJy~km~s$^{-1}$) \\\\' + ' \\n')\n",
    "f.write(r'\\hline' + ' \\n')"
   ]
  },
  {
   "cell_type": "code",
   "execution_count": null,
   "id": "5343ea23",
   "metadata": {
    "lines_to_next_cell": 2
   },
   "outputs": [],
   "source": [
    "### WRITE DATA\n",
    "for i, val in enumerate(name):\n",
    "    if (i < len(name)):\n",
    "        end = r' \\\\' + '\\n'\n",
    "    else:\n",
    "        end = '\\n'\n",
    "    f.write(name[i] + ' & ' + ra[i] + ' & ' + de[i] + ' & ' + cont[i].replace('+or-', '$\\pm$') + ' & ' +  \n",
    "            gas13[i].replace('\\\\lt', '<') + ' & ' + gas18[i].replace('\\\\lt', '<') + end)\n",
    "f.write(r'\\hline'         + ' \\n')\n",
    "f.write(r'\\end{tabular}'  + ' \\n')\n",
    "f.write(r'\\end{table}'   + ' \\n')\n",
    "f.close()"
   ]
  }
 ],
 "metadata": {
  "jupytext": {
   "cell_metadata_filter": "-all",
   "main_language": "python",
   "notebook_metadata_filter": "-all"
  }
 },
 "nbformat": 4,
 "nbformat_minor": 5
}
