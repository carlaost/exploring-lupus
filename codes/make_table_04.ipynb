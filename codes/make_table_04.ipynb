{
 "cells": [
  {
   "cell_type": "markdown",
   "id": "03233517",
   "metadata": {},
   "source": [
    "======================== Import Packages =========================="
   ]
  },
  {
   "cell_type": "code",
   "execution_count": 1,
   "id": "9eba19ee",
   "metadata": {},
   "outputs": [],
   "source": [
    "import sys, pdb, glob\n",
    "import numpy as np\n",
    "from astropy.table import Table\n",
    "import csv\n",
    "from IPython.display import display, HTML\n",
    "from tabulate import tabulate"
   ]
  },
  {
   "cell_type": "markdown",
   "id": "6ad1d759",
   "metadata": {},
   "source": [
    "========================== Code =========================="
   ]
  },
  {
   "cell_type": "code",
   "execution_count": 2,
   "id": "25d72be3",
   "metadata": {},
   "outputs": [],
   "source": [
    "### REJECTED TARGET INFO\n",
    "name = np.array(['Sz78', 'Sz79', 'J15594528-4154572', 'J16000742-4149484', 'J16070863-3947219', 'J16080618-3912225', 'J16114865-3817580', 'J16122269-3713276'])\n",
    "ra = np.array(['15:53:41.18', '15:53:42.68', '15:59:45.28', '16:00:07.43', '16:07:08.64', '16:08:06.17', '16:11:48.67', '16:12:22.73'])\n",
    "de = np.array(['-39:00:37.10', '-38:08:10.40', '-41:54:57.20', '-41:49:48.90', '-39:47:22.70', '-39:12:22.50', '-38:17:58.30', '-37:13:27.60'])\n",
    "cont = np.array(['0.00 +or- 0.28', '-0.55 +or- 0.27', '0.12 +or- 0.19', '-0.10 +or- 0.18', '0.38 +or- 0.30', '0.34 +or- 0.23', '0.12 +or- 0.30', '-0.04 +or- 0.59'])\n",
    "gas13 = np.array(['$\\\\lt 180$', '$\\\\lt 168$', '$\\\\lt 105$', '$\\\\lt 102$', '$\\\\lt 189$', '$\\\\lt 102$', '$\\\\lt 189$', '$\\\\lt 171$'])\n",
    "gas18 = np.array(['$\\\\lt 207$', '$\\\\lt 198$', '$\\\\lt 120$', '$\\\\lt 120$', '$\\\\lt 219$', '$\\\\lt 120$', '$\\\\lt 234$', '$\\\\lt 204$'])"
   ]
  },
  {
   "cell_type": "code",
   "execution_count": 3,
   "id": "9759a987",
   "metadata": {},
   "outputs": [
    {
     "data": {
      "text/plain": [
       "8"
      ]
     },
     "execution_count": 3,
     "metadata": {},
     "output_type": "execute_result"
    }
   ],
   "source": [
    "### WRITE HEADER INFO\n",
    "f = open('../output/table_04.tex', 'w')\n",
    "f.write(r'\\begin{table}[!htb]'                        + ' \\n')\n",
    "f.write(r'\\caption{Rejected Targets}'                 + ' \\n')\n",
    "f.write(r'\\label{tab-rejected}'                       + ' \\n')\n",
    "f.write(r'\\centering  '                               + ' \\n')\n",
    "f.write(r'\\begin{tabular}{lccrcc}'                    + ' \\n')\n",
    "f.write(r'\\hline\\hline'                               + ' \\n')\n",
    "f.write(r'Source & RA$_{\\rm J2000}$ & Dec$_{\\rm J2000}$ & $F_{\\rm cont}$ & $F_{\\rm 13CO}$} & $F_{\\rm C18O}$ \\\\' + ' \\n')\n",
    "f.write(r' &  &  & (mJy) & (mJy~km~s$^{-1}$) & (mJy~km~s$^{-1}$) \\\\' + ' \\n')\n",
    "f.write(r'\\hline' + ' \\n')"
   ]
  },
  {
   "cell_type": "code",
   "execution_count": 4,
   "id": "5343ea23",
   "metadata": {
    "lines_to_next_cell": 2
   },
   "outputs": [],
   "source": [
    "### WRITE DATA\n",
    "table_body = ''\n",
    "for i, val in enumerate(name):\n",
    "    if (i < len(name)):\n",
    "        end = r' \\\\' + '\\n'\n",
    "    else:\n",
    "        end = '\\n'\n",
    "    f.write(name[i] + ' & ' + ra[i] + ' & ' + de[i] + ' & ' + cont[i].replace('+or-', '$\\pm$') + ' & ' +  \n",
    "            gas13[i].replace('\\\\lt', '<') + ' & ' + gas18[i].replace('\\\\lt', '<') + end)\n",
    "    \n",
    "    table_body += name[i] + ' & ' + ra[i] + ' & ' + de[i] + ' & ' + cont[i].replace('+or-', '$\\pm$') + ' & ' +  gas13[i].replace('\\\\lt', '<') + ' & ' + gas18[i].replace('\\\\lt', '<') + end\n",
    "\n",
    "f.write(r'\\hline'         + ' \\n')\n",
    "f.write(r'\\end{tabular}'  + ' \\n')\n",
    "f.write(r'\\end{table}'   + ' \\n')\n",
    "f.close()"
   ]
  },
  {
   "cell_type": "code",
   "execution_count": 5,
   "id": "64d9e396",
   "metadata": {},
   "outputs": [
    {
     "data": {
      "text/html": [
       "<table>\n",
       "<thead>\n",
       "<tr><th>Name             </th><th>RA_J2000   </th><th>Dec_J2000   </th><th>F_cont (mJy)    </th><th>F_13CO (mJy km s-1)  </th><th>F_18CO (mJy km s-1)  </th></tr>\n",
       "</thead>\n",
       "<tbody>\n",
       "<tr><td>Sz78             </td><td>15:53:41.18</td><td>-39:00:37.10</td><td>0.00 $\\pm$ 0.28 </td><td>$&lt; 180$              </td><td>$&lt; 207$ \\            </td></tr>\n",
       "<tr><td>Sz79             </td><td>15:53:42.68</td><td>-38:08:10.40</td><td>-0.55 $\\pm$ 0.27</td><td>$&lt; 168$              </td><td>$&lt; 198$ \\            </td></tr>\n",
       "<tr><td>J15594528-4154572</td><td>15:59:45.28</td><td>-41:54:57.20</td><td>0.12 $\\pm$ 0.19 </td><td>$&lt; 105$              </td><td>$&lt; 120$ \\            </td></tr>\n",
       "<tr><td>J16000742-4149484</td><td>16:00:07.43</td><td>-41:49:48.90</td><td>-0.10 $\\pm$ 0.18</td><td>$&lt; 102$              </td><td>$&lt; 120$ \\            </td></tr>\n",
       "<tr><td>J16070863-3947219</td><td>16:07:08.64</td><td>-39:47:22.70</td><td>0.38 $\\pm$ 0.30 </td><td>$&lt; 189$              </td><td>$&lt; 219$ \\            </td></tr>\n",
       "<tr><td>J16080618-3912225</td><td>16:08:06.17</td><td>-39:12:22.50</td><td>0.34 $\\pm$ 0.23 </td><td>$&lt; 102$              </td><td>$&lt; 120$ \\            </td></tr>\n",
       "<tr><td>J16114865-3817580</td><td>16:11:48.67</td><td>-38:17:58.30</td><td>0.12 $\\pm$ 0.30 </td><td>$&lt; 189$              </td><td>$&lt; 234$ \\            </td></tr>\n",
       "<tr><td>J16122269-3713276</td><td>16:12:22.73</td><td>-37:13:27.60</td><td>-0.04 $\\pm$ 0.59</td><td>$&lt; 171$              </td><td>$&lt; 204$ \\            </td></tr>\n",
       "<tr><td>                 </td><td>           </td><td>            </td><td>                </td><td>                     </td><td>                     </td></tr>\n",
       "</tbody>\n",
       "</table>"
      ],
      "text/plain": [
       "<IPython.core.display.HTML object>"
      ]
     },
     "metadata": {},
     "output_type": "display_data"
    }
   ],
   "source": [
    "headers = [\n",
    "    \"Name\",\n",
    "    \"RA_J2000\",\n",
    "    \"Dec_J2000\",\n",
    "    \"F_cont (mJy)\",\n",
    "    \"F_13CO (mJy km s-1)\",\n",
    "    \"F_18CO (mJy km s-1)\"\n",
    "]\n",
    "\n",
    "table_data = []\n",
    "for row in table_body.split('\\\\\\n'):\n",
    "    table_data.append(row.split(' & '))\n",
    "\n",
    "display(HTML(tabulate(table_data, headers=headers, tablefmt='html')))"
   ]
  }
 ],
 "metadata": {
  "jupytext": {
   "cell_metadata_filter": "-all",
   "main_language": "python",
   "notebook_metadata_filter": "-all"
  },
  "kernelspec": {
   "display_name": "Python 3",
   "language": "python",
   "name": "python3"
  },
  "language_info": {
   "codemirror_mode": {
    "name": "ipython",
    "version": 3
   },
   "file_extension": ".py",
   "mimetype": "text/x-python",
   "name": "python",
   "nbconvert_exporter": "python",
   "pygments_lexer": "ipython3",
   "version": "3.9.13"
  }
 },
 "nbformat": 4,
 "nbformat_minor": 5
}
