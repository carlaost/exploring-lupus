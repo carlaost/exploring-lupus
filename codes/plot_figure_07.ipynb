{
 "cells": [
  {
   "cell_type": "code",
   "execution_count": null,
   "id": "91d30e4e",
   "metadata": {
    "lines_to_next_cell": 0
   },
   "outputs": [],
   "source": []
  },
  {
   "cell_type": "markdown",
   "id": "48f08fdc",
   "metadata": {},
   "source": [
    "======================== Import Packages =========================="
   ]
  },
  {
   "cell_type": "code",
   "execution_count": null,
   "id": "8cb36591",
   "metadata": {},
   "outputs": [],
   "source": [
    "import os,sys,pdb\n",
    "import numpy as np\n",
    "import matplotlib.pyplot as plt\n",
    "from astropy.table import Table, join, MaskedColumn\n",
    "from astropy import constants as const\n",
    "import csv\n",
    "import matplotlib as mpl\n",
    "from matplotlib.ticker import MaxNLocator\n",
    "from astroquery.vizier import Vizier\n",
    "import warnings\n",
    "from astropy.logger import AstropyWarning\n",
    "warnings.filterwarnings('ignore', category=AstropyWarning)"
   ]
  },
  {
   "cell_type": "markdown",
   "id": "84278d69",
   "metadata": {},
   "source": [
    "===================== Define Functions ==================="
   ]
  },
  {
   "cell_type": "code",
   "execution_count": null,
   "id": "fddd834c",
   "metadata": {},
   "outputs": [],
   "source": [
    "def get_data(catalog, join_key='Name', join_type='inner'):\n",
    "\n",
    "    \"\"\"\n",
    "    PURPOSE:    Get data from literature with Vizier\n",
    "\n",
    "    INPUT:      catalog = ctalog name on Vizier (str)\n",
    "                join_key = column header to join tables, if multiple (str; optional)\n",
    "                join_type = way to join tables, if multiple (str; optional)\n",
    "\n",
    "    OUTPUT:     t = data table (AstroPy Table)\n",
    "\n",
    "    \"\"\"\n",
    "\n",
    "    ### GET FULL CATALOG (ALL COLUMNS, ALL ROWS)\n",
    "    viz = Vizier(catalog=catalog, columns=['**'])\n",
    "    viz.ROW_LIMIT = -1\n",
    "    tv = viz.get_catalogs(catalog)\n",
    "\n",
    "    ### IF MULTIPLE TABLES, JOIN THEN\n",
    "    for i, val in enumerate(tv.keys()):\n",
    "        if i == 0:\n",
    "            t = tv[val]\n",
    "        else:\n",
    "            tt = tv[val]\n",
    "            if join_key in tt.columns:\n",
    "                t = join(t, tt, join_type=join_type, keys=join_key)\n",
    "\n",
    "    return t"
   ]
  },
  {
   "cell_type": "markdown",
   "id": "40ba2729",
   "metadata": {},
   "source": [
    "============================= Code =================================="
   ]
  },
  {
   "cell_type": "code",
   "execution_count": null,
   "id": "aa689d0e",
   "metadata": {},
   "outputs": [],
   "source": [
    "#### LOAD IN LUPUS DATA\n",
    "T = get_data(\"J/ApJ/828/46\")"
   ]
  },
  {
   "cell_type": "code",
   "execution_count": null,
   "id": "3bb940db",
   "metadata": {},
   "outputs": [],
   "source": [
    "### REMOVE SOURCES WITH UNKNOWN STELLAR MASSES\n",
    "T = T[~T['Mass'].mask]"
   ]
  },
  {
   "cell_type": "code",
   "execution_count": null,
   "id": "fab58e76",
   "metadata": {},
   "outputs": [],
   "source": [
    "### DEFINE PLOT VARIABLES\n",
    "x_data = np.ma.log10(T['Mass'])\n",
    "x_err  = np.ma.array(0.434*(T['e_Mass'] / T['Mass']))\n",
    "y_data = np.ma.log10(T['Mgas'])\n",
    "y_max  = np.ma.log10(T['B_Mgas'])\n",
    "y_min  = np.ma.log10(T['b_Mgas'])"
   ]
  },
  {
   "cell_type": "code",
   "execution_count": null,
   "id": "5b8cfd14",
   "metadata": {},
   "outputs": [],
   "source": [
    "### SETUP PLOT\n",
    "mpl.rc('xtick', labelsize=15) \n",
    "mpl.rc('ytick', labelsize=15)\n",
    "mpl.rc('xtick.major', size=7, pad=7, width=1)\n",
    "mpl.rc('ytick.major', size=7, pad=7, width=1)\n",
    "mpl.rc('axes', linewidth=1)\n",
    "mpl.rc('lines', markersize=5)\n",
    "fig = plt.figure(figsize = (8, 6))\n",
    "ax = fig.add_subplot(111)\n",
    "ax.set_xlim([-1.3, 0.7])\n",
    "ax.set_ylim([-2.0, 2.0])\n",
    "ax.yaxis.set_major_locator(MaxNLocator(5, integer=True))\n",
    "ax.xaxis.set_major_locator(MaxNLocator(4))\n",
    "ax.set_xlabel(r'$\\mathregular{log(M_{\\ast})}$' + ' ' + r'$\\mathregular{[M_{\\odot}]}$', fontsize=17)\n",
    "ax.set_ylabel(r'$\\mathregular{log(M_{gas})}$' + ' ' + r'$\\mathregular{[M_{Jup}]}$', fontsize=17)\n",
    "ax.tick_params(which='minor', axis='x', length=3, color='k', width=1)\n",
    "ax.tick_params(which='minor', axis='y', length=3, color='k', width=1)\n",
    "ax.minorticks_on()"
   ]
  },
  {
   "cell_type": "code",
   "execution_count": null,
   "id": "eb476d16",
   "metadata": {},
   "outputs": [],
   "source": [
    "### PLOT DATA \n",
    "for i, val in enumerate(T['Name']):\n",
    "\n",
    "    ### PLOT NON-DETECTIONS\n",
    "    if T['l_Mgas'][i] == '<':\n",
    "        ax.errorbar(x_data[i], y_data[i], fmt='v', color='lightgray', ms=6, mec='black', mew=0.9, zorder=2)\n",
    "\n",
    "    ### PLOT DETECTIONS WITH ONLY UPPER LIMITS\n",
    "    elif T['b_Mgas'][i] is np.ma.masked:\n",
    "        ax.scatter(x_data[i], y_data[i], marker='o', facecolor='lightblue', s=60, edgecolor='darkslategray', zorder=3, linewidth=1)\n",
    "        ax.arrow(x_data[i], y_data[i], 0.0, -0.3, head_width=0.02, head_length=0.04, fc='lightgray', ec='lightgray', linewidth=1, zorder=1)\n",
    "        ax.errorbar(x_data[i], y_data[i], yerr=[[0], [y_max[i] - y_data[i]]], xerr=[x_err[i]],\n",
    "                    fmt='o', mfc='lightblue', ms=0, mec='black', mew=1, ecolor='lightgray', elinewidth=1, zorder=1, capsize=3)\n",
    "        \n",
    "    ### PLOT DETECTIONS WITH BOTH UPPER AND LOWER LIMITS\n",
    "    else:        \n",
    "        ax.errorbar(x_data[i], y_data[i], yerr=[[y_data[i] - y_min[i]], [y_max[i] - y_data[i]]], xerr=[x_err[i]],\n",
    "                    fmt='o', mfc='lightblue', ms=0, mec='black', mew=1, ecolor='lightgray', elinewidth=1, zorder=1, capsize=3)\n",
    "        ax.scatter(x_data[i], y_data[i], marker='o', facecolor='lightblue', s=60, edgecolor='darkslategray', zorder=3, linewidth=1)"
   ]
  },
  {
   "cell_type": "code",
   "execution_count": null,
   "id": "6308a88b",
   "metadata": {},
   "outputs": [],
   "source": [
    "### SAVE FIGURE\n",
    "fig.savefig('../output/figure_07.pdf', bbox_inches='tight', dpi=100)\n",
    "plt.close('all')"
   ]
  }
 ],
 "metadata": {
  "jupytext": {
   "cell_metadata_filter": "-all",
   "main_language": "python",
   "notebook_metadata_filter": "-all"
  }
 },
 "nbformat": 4,
 "nbformat_minor": 5
}
