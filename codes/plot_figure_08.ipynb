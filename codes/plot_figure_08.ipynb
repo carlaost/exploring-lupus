{
 "cells": [
  {
   "cell_type": "markdown",
   "id": "dbb672ce",
   "metadata": {},
   "source": [
    "======================== Import Packages =========================="
   ]
  },
  {
   "cell_type": "code",
   "execution_count": null,
   "id": "68957f4d",
   "metadata": {},
   "outputs": [],
   "source": [
    "import sys, os, pdb\n",
    "import numpy as np\n",
    "import matplotlib as mpl\n",
    "import matplotlib.pyplot as plt\n",
    "from astropy.table import Table, join\n",
    "from lifelines import KaplanMeierFitter\n",
    "from lifelines.statistics import logrank_test\n",
    "import csv"
   ]
  },
  {
   "cell_type": "markdown",
   "id": "10b6a675",
   "metadata": {},
   "source": [
    "========================== Define Fuctions =========================="
   ]
  },
  {
   "cell_type": "code",
   "execution_count": null,
   "id": "a26c3ef9",
   "metadata": {},
   "outputs": [],
   "source": [
    "def calc_KME(region, mdust, ddet):\n",
    "\n",
    "   \"\"\"\n",
    "    PURPOSE:    Calculate the KME\n",
    "\n",
    "    INPUT:      region = region name (str)\n",
    "                mdust = dust mass; non-detections are 3-sigma upper limits (array of floats)\n",
    "                ddet = detection flag; 1=detected, 0=undetected (array of floats)\n",
    "\n",
    "    OUTPUT:     KME output for plotting\n",
    "\n",
    "    \"\"\"\n",
    "   \n",
    "   dfrac = float(len(ddet[ddet==1]) )/ len(ddet)\n",
    "   kmf = KaplanMeierFitter()\n",
    "   kmf.fit(mdust, ddet)\n",
    "   \n",
    "   k = kmf.survival_function_\n",
    "   x = np.array(k.index)\n",
    "   y = dfrac * np.array(k.values[:,0])\n",
    "   \n",
    "   kc = kmf.confidence_interval_\n",
    "   yu = dfrac * kc.values[:,0]\n",
    "   yl = dfrac * kc.values[:,1]\n",
    "   \n",
    "   print('\\n>>> ' + region)\n",
    "   print('     median = {0:.2f} '.format(dfrac * kmf.median_survival_time_))\n",
    "   print('     mean   = {0:.2f} '.format(np.trapz(y, x=x)))\n",
    "   \n",
    "   return x, y, yu, yl"
   ]
  },
  {
   "cell_type": "markdown",
   "id": "c4297228",
   "metadata": {},
   "source": [
    "============================= Code =================================="
   ]
  },
  {
   "cell_type": "code",
   "execution_count": null,
   "id": "31500f7f",
   "metadata": {},
   "outputs": [],
   "source": [
    "#### LOAD IN TABLES \n",
    "TL = Table.read('../output/data_lup.txt', format='ascii.ipac')\n",
    "TT = Table.read('../output/data_tau.txt', format='ascii.ipac')\n",
    "TU = Table.read('../output/data_usc.txt', format='ascii.ipac')"
   ]
  },
  {
   "cell_type": "code",
   "execution_count": null,
   "id": "57c793c6",
   "metadata": {},
   "outputs": [],
   "source": [
    "### GET KME \n",
    "x_lup, y_lup, yl_lup, yu_lup = calc_KME('lup', TL['MDust'], TL['Det'])\n",
    "x_usc, y_usc, yl_usc, yu_usc = calc_KME('usc', TU['MDust'], TU['Det'])\n",
    "x_tau, y_tau, yl_tau, yu_tau = calc_KME('tau', TT['MDust'], TT['Det'])"
   ]
  },
  {
   "cell_type": "code",
   "execution_count": null,
   "id": "c835d610",
   "metadata": {},
   "outputs": [],
   "source": [
    "### PLOT KME DISTRIBUTIONS\n",
    "plt.close('all')\n",
    "mpl.rc('xtick',labelsize=15) \n",
    "mpl.rc('ytick',labelsize=15)\n",
    "mpl.rc('xtick.major',size=5,pad=7,width=1)\n",
    "mpl.rc('ytick.major',size=5,pad=7,width=1)\n",
    "mpl.rc('axes',linewidth=1)\n",
    "mpl.rc('lines',markersize=5)    \n",
    "fig = plt.figure(figsize = (8,6))\n",
    "ax = fig.add_subplot(111)\n",
    "ax.set_xscale('log')\n",
    "ax.set_xlim(0.03,200)\n",
    "ax.set_ylim(0.0,1.0)\n",
    "ax.set_ylabel(r'$\\mathregular{P \\geq M_{dust}}$',fontsize=17)\n",
    "ax.set_xlabel(r'$\\mathregular{M_{dust}}$'+' '+r'$\\mathregular{[M_{\\oplus}]}$',fontsize=17)\n",
    "ax.fill_between(x_lup,yl_lup,yu_lup,facecolor='dodgerblue',alpha=0.3,lw=0,label='Lupus')\n",
    "ax.fill_between(x_tau,yl_tau,yu_tau,facecolor='purple',alpha=0.3,lw=0,label='Taurus')\n",
    "ax.fill_between(x_usc,yl_usc,yu_usc,facecolor='green',alpha=0.3,lw=0,label='Upper Sco')\n",
    "ax.legend(loc=1, prop={'size': 16})\n",
    "fig.savefig('../output/figure_08.pdf',bbox_inches='tight',dpi=100)"
   ]
  },
  {
   "cell_type": "code",
   "execution_count": null,
   "id": "1e5876ca",
   "metadata": {},
   "outputs": [],
   "source": []
  }
 ],
 "metadata": {
  "jupytext": {
   "cell_metadata_filter": "-all",
   "main_language": "python",
   "notebook_metadata_filter": "-all"
  }
 },
 "nbformat": 4,
 "nbformat_minor": 5
}
