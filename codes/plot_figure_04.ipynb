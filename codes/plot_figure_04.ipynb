{
 "cells": [
  {
   "cell_type": "code",
   "execution_count": null,
   "id": "1cd41b29",
   "metadata": {
    "lines_to_next_cell": 0
   },
   "outputs": [],
   "source": []
  },
  {
   "cell_type": "markdown",
   "id": "3aa80caa",
   "metadata": {},
   "source": [
    "======================== Import Packages =========================="
   ]
  },
  {
   "cell_type": "code",
   "execution_count": null,
   "id": "bcf9e6bf",
   "metadata": {},
   "outputs": [],
   "source": [
    "import os, sys, pdb\n",
    "import numpy as np\n",
    "import matplotlib.pyplot as plt\n",
    "from astropy.table import Table, join\n",
    "import csv\n",
    "import matplotlib as mpl\n",
    "from matplotlib.ticker import MaxNLocator\n",
    "import matplotlib.patches as mpatches\n",
    "from matplotlib.patches import FancyBboxPatch\n",
    "from astroquery.vizier import Vizier\n",
    "import warnings\n",
    "from astropy.logger import AstropyWarning\n",
    "warnings.filterwarnings('ignore', category=AstropyWarning)"
   ]
  },
  {
   "cell_type": "markdown",
   "id": "b74c7fa1",
   "metadata": {},
   "source": [
    "========================== Define Functions =========================="
   ]
  },
  {
   "cell_type": "code",
   "execution_count": null,
   "id": "bd20c477",
   "metadata": {},
   "outputs": [],
   "source": [
    "def get_data(catalog, join_key='Name', join_type='inner'):\n",
    "\n",
    "    \"\"\"\n",
    "    PURPOSE:    Get data from literature with Vizier\n",
    "\n",
    "    INPUT:      catalog = ctalog name on Vizier (str)\n",
    "                join_key = column header to join tables, if multiple (str; optional)\n",
    "                join_type = way to join tables, if multiple (str; optional)\n",
    "\n",
    "    OUTPUT:     t = data table (AstroPy Table)\n",
    "\n",
    "    \"\"\"\n",
    "\n",
    "    ### GET FULL CATALOG (ALL COLUMNS, ALL ROWS)\n",
    "    viz = Vizier(catalog=catalog, columns=['**'])\n",
    "    viz.ROW_LIMIT = -1\n",
    "    tv = viz.get_catalogs(catalog)\n",
    "\n",
    "    ### IF MULTIPLE TABLES, JOIN THEN\n",
    "    for i, val in enumerate(tv.keys()):\n",
    "        if i == 0:\n",
    "            t = tv[val]\n",
    "        else:\n",
    "            tt = tv[val]\n",
    "            if join_key in tt.columns:\n",
    "                t = join(t, tt, join_type=join_type, keys=join_key)\n",
    "\n",
    "    return t"
   ]
  },
  {
   "cell_type": "code",
   "execution_count": null,
   "id": "1cbfa4ec",
   "metadata": {},
   "outputs": [],
   "source": [
    "def plot_grid(ax, gasgrid, low18=False):\n",
    "\n",
    "    ### GET GAS MASSES FROM GRID\n",
    "    mgas = gasgrid['M_gas']\n",
    "\n",
    "    ### GET FLUXES FROM GRID & CONVERT TO LUMINOSITY\n",
    "    ### FOR C180, SELECT ABUNDANCE LEVEL BASED ON INPUT (low18)\n",
    "    Lscale = 4 * np.pi * 140.**2\n",
    "    xplot = Lscale * gasgrid['f_3-2_13co']\n",
    "    if low18: \n",
    "        yplot = Lscale * gasgrid['f_3-2_c18o_low']\n",
    "    else:     \n",
    "        yplot = Lscale * gasgrid['f_3-2_c18o']\n",
    "\n",
    "    ### PLOT GRID POINTS\n",
    "    mgas_list = ['3e-2', '1e-2', '3e-3', '1e-3', '3e-4', '1e-4']\n",
    "    mgas_col  = ['red', 'gold', 'c', 'b', 'm', 'k']\n",
    "    labels = np.chararray(len(mgas_list))\n",
    "    for i,val in enumerate(mgas_list):\n",
    "        indx = (mgas == float(val))\n",
    "        x,y = xplot[indx], yplot[indx]\n",
    "        ax.plot(x, y, 'o', alpha=0.25, mec='none', color=mgas_col[i], ms=8)\n",
    "\n",
    "    ### PLOT LEGENDS\n",
    "    ax.text(8e4, 1.3e6, 'Gas Masses', ha='right')\n",
    "    ax.text(1.03e5, 1.02e6, mgas_list[0][0] + r'$\\mathregular{\\times 10^{-}}$' + r'$^{}$'.format(mgas_list[0][3]) + r'$\\mathregular{M_{\\odot}}$', fontsize=12, ha='right')\n",
    "    ax.plot(3.5e4, 1.08e6, 'o', alpha=0.8, mec='none', color=mgas_col[0], ms=7)\n",
    "    ax.text(1.03e5, 8.3e5, mgas_list[1][0] + r'$\\mathregular{\\times 10^{-}}$'+ r'$^{}$'.format(mgas_list[1][3]) + r'$\\mathregular{M_{\\odot}}$', fontsize=12, ha='right')\n",
    "    ax.plot(3.5e4, 8.8e5, 'o', alpha=0.8, mec='none', color=mgas_col[1], ms=8)\n",
    "    ax.text(1.03e5, 6.7e5, mgas_list[2][0] + r'$\\mathregular{\\times 10^{-}}$'+ r'$^{}$'.format(mgas_list[2][3]) + r'$\\mathregular{M_{\\odot}}$', fontsize=12, ha='right')\n",
    "    ax.plot(3.5e4, 7.15e5, 'o', alpha=0.8, mec='none', color=mgas_col[2], ms=8)\n",
    "    ax.text(1.03e5, 5.43e5, mgas_list[3][0] + r'$\\mathregular{\\times 10^{-}}$'+ r'$^{}$'.format(mgas_list[3][3]) + r'$\\mathregular{M_{\\odot}}$', fontsize=12, ha='right')\n",
    "    ax.plot(3.5e4, 5.755e5, 'o', alpha=0.8, mec='none', color=mgas_col[3], ms=8)\n",
    "    ax.text(1.03e5, 4.4e5, mgas_list[4][0] + r'$\\mathregular{\\times 10^{-}}$'+ r'$^{}$'.format(mgas_list[4][3]) + r'$\\mathregular{M_{\\odot}}$', fontsize=12, ha='right')\n",
    "    ax.plot(3.5e4, 4.7e5,'o', alpha=0.8 ,mec='none', color=mgas_col[4], ms=8)\n",
    "    ax.text(1.03e5, 3.548e5, mgas_list[5][0] + r'$\\mathregular{\\times 10^{-}}$'+ r'$^{}$'.format(mgas_list[5][3]) + r'$\\mathregular{M_{\\odot}}$', fontsize=12, ha='right')\n",
    "    ax.plot(3.5e4, 3.8e5, 'o', alpha=0.8, mec='none', color=mgas_col[5], ms=8)\n",
    "    box = FancyBboxPatch((3e4, 3.2e5), 8e4, 13e5, boxstyle=mpatches.BoxStyle(\"Round\", pad=0.02), fc=\"none\", ec=\"k\")\n",
    "    ax.add_patch(box)\n",
    "\n",
    "    ### PLOT ABUNDANCES\n",
    "    if low18:\n",
    "        ax.text(6e6, 1e4, r'$\\mathregular{C^{18}\\!\\hspace{0.1}O}$' + ' Photodissociated', fontsize=12, fontweight=\"bold\", fontstyle='italic', ha='right')\n",
    "        ax.text(6e6, 7.5e3, r'$\\mathregular{[CO]/[C^{18}\\!\\hspace{0.1}O] = 1650}$', fontsize=15, ha='right')\n",
    "    else:\n",
    "        ax.text(6e6, 7.5e3, r'$\\mathregular{[CO]/[C^{18}\\!\\hspace{0.1}O] = 550}$', fontsize=15, ha='right')\n",
    "        ax.text(6e6, 1e4, 'ISM '+r'$\\mathregular{C^{18}\\!\\hspace{0.1}O}$' + ' Abundance', fontsize=12, fontweight=\"bold\", fontstyle='italic', ha='right')"
   ]
  },
  {
   "cell_type": "code",
   "execution_count": null,
   "id": "080f5ca0",
   "metadata": {},
   "outputs": [],
   "source": [
    "def plot_data(ax, dist, l13, f13, e13, l18, f18, e18):\n",
    "\n",
    "    \"\"\"\n",
    "    PURPOSE:    Plot the gas data\n",
    "\n",
    "    INPUT:      ax = matplotlib ax for plotting \n",
    "                dist = distance to source in pc (float arr)\n",
    "                l13/18 = limit flag for 13CO/C180 flux (str arr)\n",
    "                f13/18 = flux for 13CO/C18O flux (float arr)\n",
    "                e13/18 = flux error for 13CO/C18O flux (float arr)\n",
    "\n",
    "    OUTPUT:     None\n",
    "\n",
    "    \"\"\"\n",
    "\n",
    "    ### SCALE FLUXES TO LUMINOSITIES\n",
    "    Lscale = np.array([4.*np.pi*(x**2) for x in dist])\n",
    "    L13   = Lscale * f13 / 1000.0\n",
    "    L18   = Lscale * f18 / 1000.0\n",
    "\n",
    "    ### SCALE FLUX ERRORS TO LUMINOSITIES AND INCLUDE CALIBRATION ERROR\n",
    "    calerr = 0.10 \n",
    "    e_L13  = Lscale * np.sqrt( (calerr * f13 / 1000.0)**2 + (e13 / 1000.0)**2 )\n",
    "    e_L18  = Lscale * np.sqrt( (calerr * f18 / 1000.0)**2 + (e18 / 1000.0)**2 )\n",
    "\n",
    "    ### SET FLUXES FROM IMAGE STACKS\n",
    "    ### SCALE TO LUMINOSITY ASSUMING 200 pc DISTANCE\n",
    "    Lscale_lim = 4 * np.pi * 200.0**2\n",
    "    L_13_lim1  = Lscale_lim * 54.0 / 1e3\n",
    "    L_18_lim1  = Lscale_lim * (8.0 * 3) / 1e3\n",
    "    L_13_lim2  = Lscale_lim * 553.0 / 1e3\n",
    "    L_18_lim2  = Lscale_lim * 132.0 / 1e3\n",
    "    \n",
    "    ### PLOT DATA\n",
    "    for i, val in enumerate(dist):\n",
    "\n",
    "        ### PLOT STACKING RESULTS\n",
    "        ax.arrow(L_13_lim1, L_18_lim1, 0.0, -0.2 * L_18_lim1, head_width=L_13_lim1 * 0.1, \n",
    "                 head_length=L_18_lim1 * 0.05, fc='black', ec='black', linewidth=2, zorder=999)\n",
    "        ax.plot(L_13_lim1, L_18_lim1, '*', ms=20, mec='black', mfc='white', mew=2, zorder=1000)\n",
    "        ax.plot(L_13_lim2, L_18_lim2, '*', ms=20, mec='black', mfc='white', mew=2, zorder=1000)\n",
    "        \n",
    "        ### DO NOT PLOT NON-DETECTIONS IN BOTH LINES\n",
    "        if (l13[i] == '<') and (l18[i] == '<'):\n",
    "            continue\n",
    "            # ax.errorbar(L13[i], L18[i], fmt='o', mfc='silver', ms=3, mec='silver', mew=1, ecolor='silver', elinewidth=1, zorder=999)\n",
    "\n",
    "        ### PLOT NON-DET IN JUST C18O\n",
    "        elif l18[i] == '<':\n",
    "            ax.errorbar(L13[i], L18[i], xerr=e_L13[i], fmt='o', mfc='black', ms=3, mec='black', mew=1, ecolor='black', elinewidth=1, zorder=999, capsize=3)\n",
    "            ax.arrow(L13[i], L18[i], 0.0, -0.2 * L18[i], head_width=L13[i] * 0.05, head_length=L18[i] * 0.05, fc='black', ec='black', linewidth=1, zorder=999)\n",
    "\n",
    "        ### PLOT DETECTIONS IN BOTH LINES\n",
    "        else:\n",
    "            ax.errorbar(L13[i], L18[i], xerr=e_L13[i], yerr=e_L18[i], fmt='o', mfc='white', ms=8,\n",
    "                        mec='black', mew=2, ecolor='black', elinewidth=2, zorder=999, capsize=3)"
   ]
  },
  {
   "cell_type": "markdown",
   "id": "2aefebda",
   "metadata": {},
   "source": [
    "============================= Code =================================="
   ]
  },
  {
   "cell_type": "code",
   "execution_count": null,
   "id": "83f0107f",
   "metadata": {},
   "outputs": [],
   "source": [
    "#### LOAD IN LUPUS DATA\n",
    "T = get_data(\"J/ApJ/828/46\")"
   ]
  },
  {
   "cell_type": "code",
   "execution_count": null,
   "id": "0ae2ac03",
   "metadata": {},
   "outputs": [],
   "source": [
    "### GET GAS GRID FROM WILLIAMS & BEST (2014)\n",
    "gasgrid = Table.read('../data/gasgrid.csv', format='ascii.csv')"
   ]
  },
  {
   "cell_type": "code",
   "execution_count": null,
   "id": "87ffd675",
   "metadata": {},
   "outputs": [],
   "source": [
    "### SETUP PLOT\n",
    "mpl.rc('xtick', labelsize=15) \n",
    "mpl.rc('ytick', labelsize=15)\n",
    "mpl.rc('xtick.major', size=7, pad=7, width=1)\n",
    "mpl.rc('ytick.major', size=7, pad=7, width=1)\n",
    "mpl.rc('axes', linewidth=1)\n",
    "mpl.rc('lines', markersize=5)\n",
    "mpl.rc('xtick.minor', size=3, width=1)\n",
    "mpl.rc('ytick.minor', size=3, width=1)\n",
    "fig = plt.figure(figsize = (16, 8))\n",
    "xlim = (2e4, 1e7)\n",
    "ylim = (xlim[0]/4, xlim[1]/4)\n",
    "lxlim = np.log10(xlim)\n",
    "lylim = np.log10(ylim)"
   ]
  },
  {
   "cell_type": "code",
   "execution_count": null,
   "id": "0bf62af5",
   "metadata": {},
   "outputs": [],
   "source": [
    "### PLOT ISM ABUNDANCE\n",
    "ax = fig.add_subplot(121)\n",
    "ax.set_xlim(xlim)\n",
    "ax.set_xscale('log')\n",
    "ax.set_ylim(ylim)\n",
    "ax.set_yscale('log')\n",
    "ax.set_xlabel(r'$\\mathregular{L(^{13}CO}$' + ' 3-2) [Jy km/s ' + r'$\\mathregular{pc^{2}]}$', fontsize=17)\n",
    "ax.set_ylabel(r'$\\mathregular{L(C^{18}O}$' + ' 3-2) [Jy km/s ' + r'$\\mathregular{pc^{2}]}$', fontsize=17)\n",
    "plot_grid(ax, gasgrid, low18=False)\n",
    "plot_data(ax, T['Dist'], T['l_F13CO'], T['F13CO'], T['e_F13CO'], T['l_F18CO'], T['F18CO'], T['e_F18CO'])"
   ]
  },
  {
   "cell_type": "code",
   "execution_count": null,
   "id": "f530ed25",
   "metadata": {},
   "outputs": [],
   "source": [
    "### PLOT PHOTODISSOCIATED ABUNDANCE\n",
    "ax = fig.add_subplot(122)\n",
    "ax.set_xlim(xlim)\n",
    "ax.set_xscale('log')\n",
    "ax.set_ylim(ylim)\n",
    "ax.set_yscale('log')\n",
    "ax.set_xlabel(r'$\\mathregular{L(^{13}CO}$' + ' 3-2) [Jy km/s ' +r'$\\mathregular{pc^{2}]}$', fontsize=15)\n",
    "plot_grid(ax, gasgrid, low18=True)\n",
    "plot_data(ax, T['Dist'], T['l_F13CO'], T['F13CO'], T['e_F13CO'], T['l_F18CO'], T['F18CO'], T['e_F18CO'])"
   ]
  },
  {
   "cell_type": "code",
   "execution_count": null,
   "id": "7e871d72",
   "metadata": {
    "lines_to_next_cell": 2
   },
   "outputs": [],
   "source": [
    "### SAVE FIGURE\n",
    "fig.savefig('../output/figure_04.pdf', bbox_inches='tight', dpi=100)\n",
    "plt.close('all')"
   ]
  }
 ],
 "metadata": {
  "jupytext": {
   "cell_metadata_filter": "-all",
   "main_language": "python",
   "notebook_metadata_filter": "-all"
  }
 },
 "nbformat": 4,
 "nbformat_minor": 5
}
