{
 "cells": [
  {
   "cell_type": "code",
   "execution_count": null,
   "id": "8368b636",
   "metadata": {
    "lines_to_next_cell": 0
   },
   "outputs": [],
   "source": []
  },
  {
   "cell_type": "markdown",
   "id": "4cf2a79f",
   "metadata": {},
   "source": [
    "======================== Import Packages =========================="
   ]
  },
  {
   "cell_type": "code",
   "execution_count": null,
   "id": "c82af0d6",
   "metadata": {},
   "outputs": [],
   "source": [
    "import sys, pdb, glob\n",
    "import numpy as np\n",
    "from astropy.table import Table, join\n",
    "from astroquery.vizier import Vizier\n",
    "import warnings\n",
    "from astropy.logger import AstropyWarning\n",
    "warnings.filterwarnings('ignore', category=AstropyWarning)"
   ]
  },
  {
   "cell_type": "markdown",
   "id": "a30cbb90",
   "metadata": {},
   "source": [
    "===================== Define Functions ==================="
   ]
  },
  {
   "cell_type": "code",
   "execution_count": null,
   "id": "d53d3b5d",
   "metadata": {},
   "outputs": [],
   "source": [
    "def get_data(catalog, join_key='Name'):\n",
    "\n",
    "    \"\"\"\n",
    "    PURPOSE:    Get data from literature with Vizier\n",
    "\n",
    "    INPUT:      catalog = ctalog name on Vizier (str)\n",
    "                join_key = column header to join tables, if multiple (str; optional)\n",
    "\n",
    "    OUTPUT:     t = data table (AstroPy Table)\n",
    "\n",
    "    \"\"\"\n",
    "\n",
    "    ### GET FULL CATALOG (ALL COLUMNS, ALL ROWS)\n",
    "    viz = Vizier(catalog=catalog, columns=['**'])\n",
    "    viz.ROW_LIMIT = -1\n",
    "    tv = viz.get_catalogs(catalog)\n",
    "\n",
    "    ### IF MULTIPLE TABLES, JOIN THEN\n",
    "    for i, val in enumerate(tv.keys()):\n",
    "        if i == 0:\n",
    "            t = tv[val]\n",
    "        else:\n",
    "            tt = tv[val]\n",
    "            if join_key in tt.columns:\n",
    "                t = join(t, tt, join_type='inner', keys=join_key)\n",
    "\n",
    "    return t"
   ]
  },
  {
   "cell_type": "markdown",
   "id": "ded942d1",
   "metadata": {},
   "source": [
    "========================== Code =========================="
   ]
  },
  {
   "cell_type": "code",
   "execution_count": null,
   "id": "4e1965bc",
   "metadata": {},
   "outputs": [],
   "source": [
    "### LOAD IN LUPUS DATA\n",
    "T = get_data(\"J/ApJ/828/46\")\n",
    "T.sort('RAJ2000')"
   ]
  },
  {
   "cell_type": "code",
   "execution_count": null,
   "id": "251f2726",
   "metadata": {},
   "outputs": [],
   "source": [
    "### WRITE HEADER INFO\n",
    "f = open('../output/table_02.tex', 'w')\n",
    "f.write(r'\\capstartfalse'                                  + ' \\n')\n",
    "f.write(r'\\begin{deluxetable*}{lrrrccccr}'                 + ' \\n')\n",
    "f.write(r'\\tabletypesize{\\footnotesize}'                   + ' \\n')\n",
    "f.write(r'\\centering'                                      + ' \\n')\n",
    "f.write(r'\\tablewidth{500pt}'                              + ' \\n')\n",
    "f.write(r'\\tablecaption{$890~\\mu$m Continuum Properties \\label{tab-cont}}' + ' \\n')\n",
    "f.write(r'\\tablecolumns{9} '                               + ' \\n')\n",
    "f.write(r'\\tablehead{'                                     + ' \\n')\n",
    "f.write(r' \\colhead{Source}'                               + ' \\n')\n",
    "f.write(r'&\\colhead{RA$_{\\rm J2000}$}'                     + ' \\n')\n",
    "f.write(r'&\\colhead{Dec$_{\\rm J2000}$}'                    + ' \\n')\n",
    "f.write(r'&\\colhead{$F_{\\rm cont}$}'                       + ' \\n')\n",
    "f.write(r'&\\colhead{rms}'                                  + ' \\n')\n",
    "f.write(r'&\\colhead{$a$}'                                  + ' \\n')\n",
    "f.write(r'&\\colhead{$i$}'                                  + ' \\n')\n",
    "f.write(r'&\\colhead{PA}'                                   + ' \\n')\n",
    "f.write(r'&\\colhead{$M_{\\rm dust}$} \\\\'                    + ' \\n')\n",
    "f.write(r' \\colhead{}'                                     + ' \\n')\n",
    "f.write(r'&\\colhead{}'                                     + ' \\n')\n",
    "f.write(r'&\\colhead{}'                                     + ' \\n')\n",
    "f.write(r'&\\colhead{(mJy)}'                                + ' \\n')\n",
    "f.write(r'&\\colhead{(mJy beam$^{-1}$)}'                    + ' \\n')\n",
    "f.write(r'&\\colhead{arcsec}'                               + ' \\n')\n",
    "f.write(r'&\\colhead{deg}'                                  + ' \\n')\n",
    "f.write(r'&\\colhead{(deg)}'                                + ' \\n')\n",
    "f.write(r'&\\colhead{($M_{\\oplus}$)}'                       + ' \\n')\n",
    "f.write(r'}'                                               + ' \\n')\n",
    "f.write(r'\\startdata'                                      + ' \\n')"
   ]
  },
  {
   "cell_type": "code",
   "execution_count": null,
   "id": "427cf5ef",
   "metadata": {},
   "outputs": [],
   "source": [
    "### WRITE FIRST 10 LINES\n",
    "lim = 10\n",
    "for i, val in enumerate(np.zeros(lim)):\n",
    "\n",
    "    source = T['Name'][i]\n",
    "    de =  T['DEJ2000'][i].replace(' ', ':')\n",
    "    ra = T['RAJ2000'][i].replace(' ', ':')\n",
    "    flx = \"{0:.2f}\".format(T['F890'][i]) + r' $\\pm$ ' + \"{0:.2f}\".format(T['e_F890'][i])\n",
    "    rms = \"{0:.2f}\".format(T['rms'][i])\n",
    "    mdust = str(T['MDust'][i]) + r' $\\pm$ ' + str(T['e_MDust'][i])\n",
    "\n",
    "    if np.ma.is_masked(T['a'][i]) is True:\n",
    "        bmaj = '...'\n",
    "    else:\n",
    "        bmaj  = str(T['a'][i]) + r' $\\pm$ ' + str(T['e_a'][i])\n",
    "\n",
    "    if np.ma.is_masked(T['i'][i]) is True:\n",
    "        incl = '...'\n",
    "    elif np.ma.is_masked(T['e_i'][i]) is True:\n",
    "        incl = str(T['i'][i])\n",
    "    else:\n",
    "        incl  = str(T['i'][i]) + r' $\\pm$ ' + str(T['e_i'][i])\n",
    "\n",
    "    if np.ma.is_masked(T['PA'][i]) is True:\n",
    "        pang = '...'\n",
    "    elif np.ma.is_masked(T['e_PA'][i]) is True:\n",
    "        pang = str(T['PA'][i])\n",
    "    else:\n",
    "        pang  = str(T['PA'][i]) + r' $\\pm$ ' + str(T['e_PA'][i])\n",
    "\n",
    "    ### END OF LINE\n",
    "    if (i < lim - 1):\n",
    "        end = r' \\\\' + '\\n'\n",
    "    else:\n",
    "        end = '\\n'\n",
    "\n",
    "    f.write(source + ' & ' + ra + ' & ' + de + ' & ' + flx + ' & ' + rms + ' & ' + \n",
    "            bmaj + ' & ' + incl + ' & ' + pang + ' & ' + mdust + end)"
   ]
  },
  {
   "cell_type": "code",
   "execution_count": null,
   "id": "c1a7f1e4",
   "metadata": {
    "lines_to_next_cell": 2
   },
   "outputs": [],
   "source": [
    "f.write(r'\\enddata' + ' \\n')\n",
    "f.write(r'\\tablenotetext{}{(This table is available in its entirety in machine-readible form.)}' + ' \\n')\n",
    "f.write(r'\\end{deluxetable*}' + ' \\n')\n",
    "f.write(r'\\capstartfalse' + ' \\n')\n",
    "f.close()"
   ]
  }
 ],
 "metadata": {
  "jupytext": {
   "cell_metadata_filter": "-all",
   "main_language": "python",
   "notebook_metadata_filter": "-all"
  }
 },
 "nbformat": 4,
 "nbformat_minor": 5
}
