{
 "cells": [
  {
   "cell_type": "markdown",
   "id": "4a76a86a",
   "metadata": {},
   "source": [
    "===================== Import Packages ===================="
   ]
  },
  {
   "cell_type": "code",
   "execution_count": null,
   "id": "286ea960",
   "metadata": {},
   "outputs": [],
   "source": [
    "import sys, os, pdb, glob\n",
    "import math\n",
    "import numpy as np\n",
    "import matplotlib as mpl\n",
    "import matplotlib.pyplot as plt\n",
    "from matplotlib.ticker import MaxNLocator\n",
    "from astropy.table import Table, join\n",
    "import linmix\n",
    "from astroquery.vizier import Vizier\n",
    "import warnings\n",
    "from astropy.logger import AstropyWarning\n",
    "warnings.filterwarnings('ignore', category=AstropyWarning)"
   ]
  },
  {
   "cell_type": "markdown",
   "id": "6868c611",
   "metadata": {},
   "source": [
    "===================== Define Functions ==================="
   ]
  },
  {
   "cell_type": "code",
   "execution_count": null,
   "id": "08433f82",
   "metadata": {},
   "outputs": [],
   "source": [
    "def get_data(catalog, join_key='Name', join_type='inner'):\n",
    "\n",
    "    \"\"\"\n",
    "    PURPOSE:    Get data from literature with Vizier\n",
    "\n",
    "    INPUT:      catalog = ctalog name on Vizier (str)\n",
    "                join_key = column header to join tables, if multiple (str; optional)\n",
    "                join_type = way to join tables, if multiple (str; optional)\n",
    "\n",
    "    OUTPUT:     t = data table (AstroPy Table)\n",
    "\n",
    "    \"\"\"\n",
    "\n",
    "    ### GET FULL CATALOG (ALL COLUMNS, ALL ROWS)\n",
    "    viz = Vizier(catalog=catalog, columns=['**'])\n",
    "    viz.ROW_LIMIT = -1\n",
    "    tv = viz.get_catalogs(catalog)\n",
    "\n",
    "    ### IF MULTIPLE TABLES, JOIN THEN\n",
    "    for i, val in enumerate(tv.keys()):\n",
    "        if i == 0:\n",
    "            t = tv[val]\n",
    "        else:\n",
    "            tt = tv[val]\n",
    "            if join_key in tt.columns:\n",
    "                t = join(t, tt, join_type=join_type, keys=join_key)\n",
    "\n",
    "    return t"
   ]
  },
  {
   "cell_type": "code",
   "execution_count": null,
   "id": "83cfe569",
   "metadata": {},
   "outputs": [],
   "source": [
    "def do_mc(x_data, x_err, y_data, y_err, ind_dd):\n",
    "\n",
    "    ### MAKE DETECTION ARRAY (1=DET, 0=NON-DET)\n",
    "    ddet = np.repeat(1, len(y_data))\n",
    "    ddet[~ind_dd] = 0\n",
    "\n",
    "    ### calculate linmix\n",
    "    lmcens  = linmix.LinMix(x_data, y_data, x_err, y_err, delta=ddet, K=3)\n",
    "    lmcens.run_mcmc(silent=True)\n",
    "    A, Ae = np.mean(lmcens.chain['alpha']), np.std(lmcens.chain['alpha'])\n",
    "    B, Be = np.mean(lmcens.chain['beta']), np.std(lmcens.chain['beta'])\n",
    "    D, De = np.mean(np.sqrt(lmcens.chain['sigsqr'])), np.std(np.sqrt(lmcens.chain['sigsqr']))\n",
    "\n",
    "    print('\\n =====================================')\n",
    "    print(\"\\n LinMix_Err terms:\")\n",
    "    print(\"    A  = {0:.2f}\".format(A) + \"+/- {0:.2f}\".format(Ae))\n",
    "    print(\"    B  = {0:.2f}\".format(B) + \"+/- {0:.2f}\".format(Be))\n",
    "    print(\"    D  = {0:.2f}\".format(D) + \"+/- {0:.2f}\\n\".format(De))\n",
    "\n",
    "    ### print to file\n",
    "    # pname = '../mcdust/B' + str(Band) + '_D' + str(DistLup3) + '_b' + str(BetaDust)\n",
    "    # rn = len(glob.glob(pname + '/*rn.out'))\n",
    "    # fname = pname + \"/\" + \"{0:02d}\".format(rn) + '_rn.out'\n",
    "    # np.savetxt(fname, np.c_[lmcens.chain['alpha'], lmcens.chain['beta'], lmcens.chain['sigsqr']], fmt='%1.2e')\n",
    "\n",
    "    pars = np.array([A, Ae, B, Be, D, De])\n",
    "\n",
    "    return pars, x_data, x_err"
   ]
  },
  {
   "cell_type": "code",
   "execution_count": null,
   "id": "dae84fab",
   "metadata": {},
   "outputs": [],
   "source": [
    "def assign_mstar(ms, e_ms):\n",
    "\n",
    "    # INDEX STARS WITHOUT MASS MEASUREMENTS\n",
    "    f_ms = np.copy(ms.mask)\n",
    "    ind_nomass = np.where(ms.mask == True)\n",
    "\n",
    "    ### DISTRIBUTION OF LUPUS STELLAR MASSES\n",
    "    ### FROM Mortier+2011 (2011MNRAS.418.1194M) FIGURE 9\n",
    "    hist_values = np.array([ 5., 5., 12., 12., 12., 9., 9., 9., 1., 1., 1., 1., 1., 1.])\n",
    "    log_mstar_bins = np.array([-1.05, -0.95, -0.85, -0.75, -0.65, -0.55, -0.45, \n",
    "                               -0.35, -0.25, -0.15, -0.05,  0.05,  0.15,  0.25])\n",
    "    \n",
    "    ### RANDOMLY ASSIGN VALUE FROM RANGE SEEN IN LUPUS (MORTIER+2011)\n",
    "    ### USE MEDIAN FRACTIONAL ERROR OF MSTAR FOR LUPUS SOURCES WITH KNOWN MSTAR \n",
    "    mstar_probs = hist_values / np.sum(hist_values)\n",
    "    randm = 10**(np.random.choice(log_mstar_bins, len(ind_nomass[0]), p=list(mstar_probs)))\n",
    "    for i, val in enumerate(ind_nomass[0]):\n",
    "        ms[val] = \"{0:.2f}\".format(randm[i])\n",
    "        e_ms[val] = \"{0:.2f}\".format(randm[i] * .20) \n",
    "\n",
    "    return ms, e_ms, ~f_ms"
   ]
  },
  {
   "cell_type": "markdown",
   "id": "ac129a52",
   "metadata": {},
   "source": [
    "========================== Code =========================="
   ]
  },
  {
   "cell_type": "code",
   "execution_count": null,
   "id": "42eabfdc",
   "metadata": {},
   "outputs": [],
   "source": [
    "#### LOAD IN LUPUS DATA\n",
    "T = get_data(\"J/ApJ/828/46\")"
   ]
  },
  {
   "cell_type": "code",
   "execution_count": null,
   "id": "35f9e31c",
   "metadata": {},
   "outputs": [],
   "source": [
    "#### GET STELLAR MASSES FOR THOSE WITH UNKNOWN VALUES\n",
    "mstar, e_mstar, ind_mstar = assign_mstar(T['Mass'], T['e_Mass'])\n",
    "T['Mass'], T['e_Mass'] = mstar, e_mstar"
   ]
  },
  {
   "cell_type": "code",
   "execution_count": null,
   "id": "b9824f13",
   "metadata": {},
   "outputs": [],
   "source": [
    "### INDEX (NON-)DETECTIONS\n",
    "ind_dd = T['F890'] / T['e_F890'] >= 3.0\n",
    "ind_nd = T['F890'] / T['e_F890'] < 3.0"
   ]
  },
  {
   "cell_type": "code",
   "execution_count": null,
   "id": "f263f58e",
   "metadata": {},
   "outputs": [],
   "source": [
    "### DEFINE PLOT VARIABLES\n",
    "x_data_lin = np.copy(T['Mass'])\n",
    "y_data_lin = np.copy(T['MDust'])\n",
    "y_data_lin[ind_nd] = 3.0 * np.copy(T['e_MDust'][ind_nd])\n",
    "y_err_lin = np.sqrt((T['e_MDust'])**2 + (0.1 * T['e_MDust'])**2)\n",
    "x_err_lin = np.copy(T['e_Mass'])"
   ]
  },
  {
   "cell_type": "code",
   "execution_count": null,
   "id": "626d29fa",
   "metadata": {},
   "outputs": [],
   "source": [
    "### CONVERT TO LOG SCALE\n",
    "x_data = np.log10(x_data_lin)\n",
    "y_data = np.log10(y_data_lin)\n",
    "y_err  = np.array(0.434 * (y_err_lin / y_data_lin))\n",
    "x_err  = np.array(0.434 * (x_err_lin / x_data_lin))"
   ]
  },
  {
   "cell_type": "markdown",
   "id": "d1aa1899",
   "metadata": {},
   "source": [
    "## GET MCMC FIT WITH LINMIX\n",
    "pars, x_data, x_err = do_mc(x_data, x_err, y_data, y_err, ind_dd)\n",
    "A, Ae, B, Be, D, De = pars[0], pars[1], pars[2], pars[3], pars[4], pars[5]\n",
    "yfit = A + B * xfit"
   ]
  },
  {
   "cell_type": "code",
   "execution_count": null,
   "id": "471e2d7b",
   "metadata": {},
   "outputs": [],
   "source": [
    "### SET UP PLOT\n",
    "mpl.rc('xtick', labelsize=15)\n",
    "mpl.rc('ytick', labelsize=15)\n",
    "mpl.rc('xtick.major', size=5, pad=7, width=1)\n",
    "mpl.rc('ytick.major', size=5, pad=7, width=1)\n",
    "mpl.rc('axes', linewidth=1)\n",
    "mpl.rc('lines', markersize=5)\n",
    "fig = plt.figure(figsize=(8, 6))\n",
    "ax = fig.add_subplot(111)\n",
    "xmin, xmax, ymin, ymax = -1.3, 0.6, -1.6, 2.8\n",
    "ax.set_xlim([xmin, xmax])\n",
    "ax.set_ylim([ymin, ymax])\n",
    "ax.tick_params(which='minor', axis='x', length=2.5, color='k', width=1)\n",
    "ax.tick_params(which='minor', axis='y', length=2.5, color='k', width=1)\n",
    "ax.minorticks_on()\n",
    "ax.set_xlabel(r'$\\mathregular{log(M_{\\star})}$' + ' ' + r'$\\mathregular{[M_{\\odot}]}$', fontsize=17)\n",
    "ax.set_ylabel(r'$\\mathregular{log(M_{dust})}$' + ' ' + r'$\\mathregular{[M_{\\oplus}]}$', fontsize=17)\n",
    "ax.yaxis.set_major_locator(MaxNLocator(integer=True))\n",
    "plt.xticks(np.arange(-1, 0.5+1, 0.5))\n",
    "plt.yticks(np.arange(-1, 2+1, 1.0))"
   ]
  },
  {
   "cell_type": "code",
   "execution_count": null,
   "id": "606121da",
   "metadata": {},
   "outputs": [],
   "source": [
    "### PLOT DETECTIONS WITH ERROR BARS\n",
    "### ONLY PLOT THOSE WITH KNOWN STELLAR MASSES\n",
    "ax.errorbar(x_data[ind_dd & ind_mstar], y_data[ind_dd & ind_mstar], yerr=y_err[ind_dd & ind_mstar], xerr=x_err[ind_dd & ind_mstar], ms=0, ecolor='lightgray', zorder=3, elinewidth=0.5, ls='none', capsize=2)\n",
    "ax.scatter(x_data[ind_dd & ind_mstar], y_data[ind_dd & ind_mstar], marker='o', facecolor='lightblue', s=40, edgecolor='black', lw=1, zorder=4)"
   ]
  },
  {
   "cell_type": "code",
   "execution_count": null,
   "id": "72b4dcef",
   "metadata": {},
   "outputs": [],
   "source": [
    "### PLOT NON-DETECTIONS\n",
    "### ONLY PLOT THOSE WITH KNOWN STELLAR MASSES\n",
    "ax.scatter(x_data[ind_nd & ind_mstar], y_data[ind_nd & ind_mstar], marker='v', facecolor='lightgray', s=40, edgecolor='gray', lw=1, zorder=3)"
   ]
  },
  {
   "cell_type": "code",
   "execution_count": null,
   "id": "9b02e4a2",
   "metadata": {},
   "outputs": [],
   "source": [
    "### PLOT LINE FITS TO POPULATIONS\n",
    "xfit = np.log10(np.arange(10, 1e4) / 1e3)\n",
    "ax.plot(xfit, 1.20 + 1.80 * xfit,color='lightblue', linewidth=2, zorder=2, label='Lupus')\n",
    "ax.plot(xfit, 1.20 + 1.70 * xfit, color='darkviolet', linewidth=2, alpha=0.3, zorder=1, label='Taurus')\n",
    "ax.plot(xfit, 0.80 + 2.40 * xfit, color='green', linewidth=2, alpha=0.3, zorder=1, label='Upper Sco')\n",
    "# ax.plot(xfit, 1.45 + 1.80 * xfit,color='lightblue',linewidth=2, alpha=0.3, zorder=1, label='Lupus - Only Known Stellar Masses')"
   ]
  },
  {
   "cell_type": "code",
   "execution_count": null,
   "id": "b4cf8253",
   "metadata": {},
   "outputs": [],
   "source": [
    "### SAVE FIGURE\n",
    "fig.savefig('../output/figure_06.pdf', bbox_inches='tight', dpi=100)\n",
    "plt.close('all')"
   ]
  }
 ],
 "metadata": {
  "jupytext": {
   "cell_metadata_filter": "-all",
   "main_language": "python",
   "notebook_metadata_filter": "-all"
  }
 },
 "nbformat": 4,
 "nbformat_minor": 5
}
