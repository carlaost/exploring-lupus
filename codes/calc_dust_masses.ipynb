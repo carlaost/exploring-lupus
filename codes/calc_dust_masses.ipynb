{
 "cells": [
  {
   "cell_type": "markdown",
   "id": "8fab8521",
   "metadata": {},
   "source": [
    "======================== Import Packages =========================="
   ]
  },
  {
   "cell_type": "code",
   "execution_count": 1,
   "id": "38beb221",
   "metadata": {},
   "outputs": [
    {
     "ename": "ModuleNotFoundError",
     "evalue": "No module named 'astropy'",
     "output_type": "error",
     "traceback": [
      "\u001b[0;31m---------------------------------------------------------------------------\u001b[0m",
      "\u001b[0;31mModuleNotFoundError\u001b[0m                       Traceback (most recent call last)",
      "Cell \u001b[0;32mIn[1], line 3\u001b[0m\n\u001b[1;32m      1\u001b[0m \u001b[39mimport\u001b[39;00m \u001b[39msys\u001b[39;00m\u001b[39m,\u001b[39m\u001b[39mos\u001b[39;00m\u001b[39m,\u001b[39m\u001b[39mpdb\u001b[39;00m\u001b[39m,\u001b[39m\u001b[39mglob\u001b[39;00m\n\u001b[1;32m      2\u001b[0m \u001b[39mimport\u001b[39;00m \u001b[39mnumpy\u001b[39;00m \u001b[39mas\u001b[39;00m \u001b[39mnp\u001b[39;00m\n\u001b[0;32m----> 3\u001b[0m \u001b[39mfrom\u001b[39;00m \u001b[39mastropy\u001b[39;00m \u001b[39mimport\u001b[39;00m constants \u001b[39mas\u001b[39;00m const\n\u001b[1;32m      4\u001b[0m \u001b[39mfrom\u001b[39;00m \u001b[39mastropy\u001b[39;00m \u001b[39mimport\u001b[39;00m units \u001b[39mas\u001b[39;00m u\n\u001b[1;32m      5\u001b[0m \u001b[39mfrom\u001b[39;00m \u001b[39mastropy\u001b[39;00m\u001b[39m.\u001b[39;00m\u001b[39mtable\u001b[39;00m \u001b[39mimport\u001b[39;00m Table, join, MaskedColumn\n",
      "\u001b[0;31mModuleNotFoundError\u001b[0m: No module named 'astropy'"
     ]
    }
   ],
   "source": [
    "import sys,os,pdb,glob\n",
    "import numpy as np\n",
    "from astropy import constants as const\n",
    "from astropy import units as u\n",
    "from astropy.table import Table, join, MaskedColumn\n",
    "from astroquery.vizier import Vizier\n",
    "import warnings\n",
    "from astropy.logger import AstropyWarning\n",
    "warnings.filterwarnings('ignore', category=AstropyWarning)"
   ]
  },
  {
   "cell_type": "markdown",
   "id": "da5042d3",
   "metadata": {},
   "source": [
    "===================== Define Functions ==================="
   ]
  },
  {
   "cell_type": "code",
   "execution_count": null,
   "id": "571ead0b",
   "metadata": {},
   "outputs": [],
   "source": [
    "def get_data(catalog, join_key='Name', join_type='inner'):\n",
    "\n",
    "    \"\"\"\n",
    "    PURPOSE:    Get data from literature with Vizier\n",
    "\n",
    "    INPUT:      catalog = ctalog name on Vizier (str)\n",
    "                join_key = column header to join tables, if multiple (str; optional)\n",
    "                join_type = way to join tables, if multiple (str; optional)\n",
    "\n",
    "    OUTPUT:     t = data table (AstroPy Table)\n",
    "\n",
    "    \"\"\"\n",
    "\n",
    "    ### GET FULL CATALOG (ALL COLUMNS, ALL ROWS)\n",
    "    viz = Vizier(catalog=catalog, columns=['**'])\n",
    "    viz.ROW_LIMIT = -1\n",
    "    tv = viz.get_catalogs(catalog)\n",
    "\n",
    "    ### IF MULTIPLE TABLES, JOIN THEN\n",
    "    for i, val in enumerate(tv.keys()):\n",
    "        if i == 0:\n",
    "            t = tv[val]\n",
    "        else:\n",
    "            tt = tv[val]\n",
    "            if join_key in tt.columns:\n",
    "                t = join(t, tt, join_type=join_type, keys=join_key)\n",
    "\n",
    "    return t"
   ]
  },
  {
   "cell_type": "code",
   "execution_count": null,
   "id": "ebd8e8f8",
   "metadata": {},
   "outputs": [],
   "source": [
    "def fix_units(b, l, f, d, t):\n",
    "    \n",
    "    \"\"\"\n",
    "    PURPOSE:    Change units of inputs to work with\n",
    "                dust mass calculations\n",
    "\n",
    "    INPUT:      b = dust opacity power-law index (unitless; float)\n",
    "                l = wavelength of observations (microns; float)\n",
    "                f = observed flux (mJy; float)\n",
    "                d = istance to disk (pc; float)\n",
    "                t = isk temperature (K; float)\n",
    "\n",
    "    OUTPUT:     Inputs but now with correct units\n",
    "\n",
    "    \"\"\"\n",
    "\n",
    "    b = float(b) \n",
    "    t = float(t) * u.K \n",
    "    d = float(d) * u.pc.to(u.cm) * u.cm\n",
    "    l = float(l) * u.um.to(u.cm) * u.cm \n",
    "    f = float(f) * u.mJy\n",
    "\n",
    "    return b, l, f, d, t"
   ]
  },
  {
   "cell_type": "code",
   "execution_count": null,
   "id": "a7eccf9a",
   "metadata": {},
   "outputs": [],
   "source": []
  },
  {
   "cell_type": "code",
   "execution_count": null,
   "id": "05b3faa0",
   "metadata": {},
   "outputs": [],
   "source": [
    "def get_planck(l, t):\n",
    "\n",
    "    \"\"\"\n",
    "    PURPOSE:    Calculate Planck function\n",
    "\n",
    "    INPUT:      l = wavelength of observations in cm (float)\n",
    "                t = disk temperature in K (float)\n",
    "\n",
    "    OUTPUT:     planck = Planck function (float)\n",
    "\n",
    "    \"\"\"\n",
    "\n",
    "    ### CONVERT WAVELENGTH TO FREQUENCY\n",
    "    nu = (const.c.cgs / l)\n",
    "\n",
    "    ### CALCULATE PLANCK FUNCTION\n",
    "    plank = 2 * const.h.cgs * nu**3 / const.c.cgs**2 / (np.exp(const.h.cgs *nu / (const.k_B.cgs * t)) -1)\n",
    "\n",
    "    return plank"
   ]
  },
  {
   "cell_type": "code",
   "execution_count": null,
   "id": "063bf06b",
   "metadata": {},
   "outputs": [],
   "source": [
    "def get_kappa(l, b):\n",
    "\n",
    "    \"\"\"\n",
    "    PURPOSE:    Calculate kappa parameter for dust mass calculation\n",
    "\n",
    "    INPUT:      l = wavelength of observations in cm (float)\n",
    "                b = dust opacity power-law index (float)\n",
    "\n",
    "    OUTPUT:     kappa = kappa parameter for dust mass calculation (float)\n",
    "\n",
    "    \"\"\"\n",
    "\n",
    "    ### CONVERT WAVELENGTH TO FREQUENCY\n",
    "    nu = (const.c.cgs / l)\n",
    "\n",
    "    ### ASSUMES NORMALIZATION OF 2.3 cm^2/g at 230 GHz\n",
    "    nf = 2.3 / ( (230. / 1000.)**b )\n",
    "\n",
    "    ### CALCULATE KAPPA PARAMETER\n",
    "    kappa = (nf * (nu / (1e9 * 1000 * u.Hz))**b ) * ((u.cm**2)/(u.g))\n",
    "        \n",
    "    return kappa "
   ]
  },
  {
   "cell_type": "code",
   "execution_count": null,
   "id": "451718d5",
   "metadata": {},
   "outputs": [],
   "source": [
    "def get_mult(d, kappa, b_nu):\n",
    "\n",
    "    \"\"\"\n",
    "    PURPOSE:    Calculate multiplication factor that produces dust mass\n",
    "                when applied to source flux in mJy\n",
    "                (matches Eq. 1 in Ansdell+2016 when d=150pc)\n",
    "\n",
    "    INPUT:      d = distance to source in cm (float)\n",
    "                kappa = kappa parameter from get_kappa() (float)\n",
    "                b_nu = Planck function from get_planck() (float)\n",
    "\n",
    "    OUTPUT:     mult = mltiplication factor that produces dust mass\n",
    "                       when applied to source flux in mJy (float)\n",
    "\n",
    "    \"\"\"\n",
    "\n",
    "    mult = (1e-26) * (d**2) / (kappa * b_nu) / const.M_sun.cgs\n",
    "        \n",
    "    return mult"
   ]
  },
  {
   "cell_type": "code",
   "execution_count": null,
   "id": "de7c3fb7",
   "metadata": {},
   "outputs": [],
   "source": [
    "def get_dustmass(b, l, f, d, t):\n",
    "    \n",
    "    \"\"\"\n",
    "    PURPOSE:    Calculate disk dust mass using prescription from\n",
    "                Hildebrand 1983 (1983QJRAS..24..267H)\n",
    "\n",
    "    INPUT:      b = dust opacity power-law index (unitless; float)\n",
    "                l = wavelength of observations (microns; float)\n",
    "                f = observed flux (mJy; float)\n",
    "                d = distance to disk (pc; float)\n",
    "                t = disk temperature (K; float)\n",
    "\n",
    "    OUTPUT:     Disk dust mass in Earth masses (float)\n",
    "\n",
    "    \"\"\"\n",
    "\n",
    "    b, l, f, d, t = fix_units(b, l, f, d, t)\n",
    "    k_nu = get_kappa(l, b)\n",
    "    b_nu = get_planck(l, t)\n",
    "    mult = get_mult(d, k_nu, b_nu)\n",
    "    mdust = mult * f * (const.M_sun.cgs / const.M_earth.cgs)\n",
    "\n",
    "    return round(mdust.value, 5)"
   ]
  },
  {
   "cell_type": "markdown",
   "id": "be496c78",
   "metadata": {},
   "source": [
    "============================= Code =================================="
   ]
  },
  {
   "cell_type": "code",
   "execution_count": null,
   "id": "a3332e0f",
   "metadata": {},
   "outputs": [],
   "source": [
    "#### LOAD IN LUPUS DATA\n",
    "T = get_data(\"J/ApJ/828/46\")"
   ]
  },
  {
   "cell_type": "code",
   "execution_count": null,
   "id": "b1ae113a",
   "metadata": {},
   "outputs": [],
   "source": [
    "### GET DUST MASSES\n",
    "DM, e_DM = [], []\n",
    "for i, val in enumerate(T['Name']):\n",
    "\n",
    "    ### SET INPUTS TO DUST MASS CALCULATION\n",
    "    Beta_Index = 1.                   # DUST OPACITY POWER-LAW INDEX (UNITLESS)\n",
    "    Lambda_Obs = 890.                 # WAVELENGTH OF OBSERVATIONS (MICRONS)\n",
    "    Temp_Disk = 20.                   # DISK TEMPERATURE (KELVIN)\n",
    "    Dist_Disk = T['Dist'][i]           # DISTANCE TO DISK (PC)\n",
    "    Flux_Disk = T['F890'][i]         # OBSERVED FLUX (mJy)\n",
    "    e_Flux_Disk = T['e_F890'][i]     # ERROR ON OBSERVED FLUX (mJy)\n",
    "\n",
    "    ### CALCULATE DUST MASS\n",
    "    DM.append(get_dustmass(Beta_Index, Lambda_Obs, Flux_Disk, Dist_Disk, Temp_Disk))\n",
    "    e_DM.append(get_dustmass(Beta_Index, Lambda_Obs, e_Flux_Disk, Dist_Disk, Temp_Disk))"
   ]
  },
  {
   "cell_type": "code",
   "execution_count": null,
   "id": "ced753fd",
   "metadata": {},
   "outputs": [],
   "source": [
    "TD = Table()\n",
    "TD['Name'] = np.copy(T['Name'])\n",
    "TD.add_column(MaskedColumn(name='MDust', data=DM))\n",
    "TD.add_column(MaskedColumn(name='e_MDust', data=e_DM))\n",
    "TD.write('../output/dustmasses.txt', format='ascii.ipac')"
   ]
  }
 ],
 "metadata": {
  "jupytext": {
   "cell_metadata_filter": "-all",
   "main_language": "python",
   "notebook_metadata_filter": "-all"
  },
  "kernelspec": {
   "display_name": "Python 3",
   "language": "python",
   "name": "python3"
  },
  "language_info": {
   "codemirror_mode": {
    "name": "ipython",
    "version": 3
   },
   "file_extension": ".py",
   "mimetype": "text/x-python",
   "name": "python",
   "nbconvert_exporter": "python",
   "pygments_lexer": "ipython3",
   "version": "3.9.2"
  }
 },
 "nbformat": 4,
 "nbformat_minor": 5
}
