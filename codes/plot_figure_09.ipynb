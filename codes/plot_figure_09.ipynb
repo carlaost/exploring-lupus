{
 "cells": [
  {
   "cell_type": "markdown",
   "id": "5acb6c5e",
   "metadata": {},
   "source": [
    "======================== Import Packages ==========================="
   ]
  },
  {
   "cell_type": "code",
   "execution_count": null,
   "id": "6d06bd06",
   "metadata": {},
   "outputs": [],
   "source": [
    "import sys, os, pdb, glob\n",
    "import numpy as np\n",
    "from astropy.io import ascii\n",
    "import matplotlib as mpl\n",
    "import matplotlib.pyplot as plt\n",
    "import matplotlib.ticker as mtick"
   ]
  },
  {
   "cell_type": "markdown",
   "id": "ebac2bbf",
   "metadata": {},
   "source": [
    "========================== Define Fuctions ========================="
   ]
  },
  {
   "cell_type": "code",
   "execution_count": null,
   "id": "139b88b5",
   "metadata": {},
   "outputs": [],
   "source": [
    "def plot_twosample(file, ax, color, region, xpos, ypos):\n",
    "\n",
    "    \"\"\"\n",
    "    PURPOSE:    Plot the results of the two-sample tests\n",
    "                Ouput from calc_twosample_test.py\n",
    "\n",
    "    INPUT:      file = file name of two-sample test results (str)\n",
    "                ax = plot axis (matplotlib ax)\n",
    "                color = color for plotting this region (str)\n",
    "                region = region name (str)\n",
    "                xpos = x position to plot region name (float)\n",
    "                ypos = y position to plot region name (float)\n",
    "\n",
    "    OUTPUT:     Updated plot axis (matplotlib ax)\n",
    "                Prints median probability to terminal\n",
    "    \n",
    "    \"\"\"\n",
    "\n",
    "    ### PLOT REGIONS NAME\n",
    "    plt.text(xpos, ypos, region, size=15, color=color, alpha=0.8)\n",
    "\n",
    "    ### PLOT TWO-SAMPLE RESULTS\n",
    "    t = ascii.read(file)\n",
    "    xv = np.sort(t['col1'])\n",
    "    yv = np.arange(len(xv)) / float(len(xv))\n",
    "    ax.plot(xv, yv, color=color, linewidth=5, alpha=0.5)\n",
    "\n",
    "    ### PRINT MEDIAN PROBABILITY\n",
    "    ind = np.where(yv == 0.5)\n",
    "\n",
    "    print(\" \\tMedian p_phi for \" + region + \" = \" + str(xv[ind][0]))\n",
    "\n",
    "    return ax"
   ]
  },
  {
   "cell_type": "markdown",
   "id": "9c055da3",
   "metadata": {},
   "source": [
    "============================== Code ================================"
   ]
  },
  {
   "cell_type": "code",
   "execution_count": null,
   "id": "c60b1966",
   "metadata": {},
   "outputs": [],
   "source": [
    "### SETUP PLOT\n",
    "mpl.rc('xtick', labelsize=12) \n",
    "mpl.rc('ytick', labelsize=12)\n",
    "mpl.rc('xtick.major', size=5, pad=10, width=1)\n",
    "mpl.rc('ytick.major', size=5, pad=10, width=1)\n",
    "mpl.rc('axes', linewidth=1)\n",
    "mpl.rc('lines', markersize=5)\n",
    "fig = plt.figure(figsize=(8, 6))\n",
    "ax = fig.add_subplot(111)\n",
    "ax.set_ylabel(r'$\\mathregular{f(\\leq p_{\\phi})}$', fontsize=17, labelpad=10)\n",
    "ax.set_xlabel(r'$\\mathregular{p_{\\phi}}$', fontsize=17, labelpad=10)\n",
    "ax.set_xlim([1e-5, 1])\n",
    "ax.set_ylim([0, 1])\n",
    "ax.set_xscale('log')\n",
    "fig.canvas.draw()\n",
    "ax.xaxis.set_major_locator(mtick.FixedLocator((ax.get_xticks()/10).tolist()[1:]))\n",
    "labels = list(['', '0.00001', '0.0001', '0.001', '0.01', '0.1', '1.0'])\n",
    "ax.set_xticklabels(labels, size=12)"
   ]
  },
  {
   "cell_type": "code",
   "execution_count": null,
   "id": "ab11207e",
   "metadata": {},
   "outputs": [],
   "source": [
    "### PLOT SIGMA LIMITS\n",
    "plt.axvline(x=0.0455, color='red', linestyle='-', linewidth=10, alpha=0.2)\n",
    "plt.text(0.033, 0.52, r'$\\mathregular{2\\sigma}$', size=17, color='red', alpha=0.8)\n",
    "plt.axvline(x=0.0027, color='red', linestyle='-', linewidth=10, alpha=0.2)\n",
    "plt.text(0.00195, 0.52, r'$\\mathregular{3\\sigma}$', size=17, color='red', alpha=0.8)\n",
    "plt.axhline(y=0.5, color='gray', linestyle=':', linewidth=1, alpha=0.8)"
   ]
  },
  {
   "cell_type": "code",
   "execution_count": null,
   "id": "c58d4df6",
   "metadata": {},
   "outputs": [],
   "source": [
    "### PLOT TWO-SAMPLE TEST RESULTS\n",
    "### OUTPUT FROM calc_twosample.py)\n",
    "ax = plot_twosample('../output/twosample_test_usc.txt', ax, 'green', 'Upper Sco', 0.00015, 0.9)\n",
    "ax = plot_twosample('../output/twosample_test_tau.txt', ax, 'darkviolet', 'Taurus', 0.07, 0.1)"
   ]
  },
  {
   "cell_type": "code",
   "execution_count": null,
   "id": "e04be901",
   "metadata": {},
   "outputs": [],
   "source": [
    "### SAVE FIGURE\n",
    "fig.savefig('../output/figure_09.pdf', bbox_inches='tight', dpi=100)\n",
    "plt.close('all')"
   ]
  }
 ],
 "metadata": {
  "jupytext": {
   "cell_metadata_filter": "-all",
   "main_language": "python",
   "notebook_metadata_filter": "-all"
  }
 },
 "nbformat": 4,
 "nbformat_minor": 5
}
